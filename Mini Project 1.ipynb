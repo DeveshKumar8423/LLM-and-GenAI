{
 "cells": [
  {
   "cell_type": "markdown",
   "metadata": {
    "id": "bU1SCVj6dyi1"
   },
   "source": [
    "\n",
    "  \n",
    "<h1><center><font size=10>Introduction to LLMs and GenAI</center></font></h1>\n",
    "<h1><center>Mini Project 1 : Basics of NLP: Text Cleaning & Vectorization</center></h1>"
   ]
  },
  {
   "cell_type": "markdown",
   "metadata": {
    "id": "MjncuDf2qugI"
   },
   "source": [
    "## Problem Statement"
   ]
  },
  {
   "cell_type": "markdown",
   "metadata": {
    "id": "x9VSf2D_F5iU"
   },
   "source": [
    "### Business Context"
   ]
  },
  {
   "cell_type": "markdown",
   "metadata": {
    "id": "dense-medicaid"
   },
   "source": [
    "In today’s fast-paced e-commerce landscape, customer reviews significantly influence product perception and buying decisions. Businesses must actively monitor customer sentiment to extract insights and maintain a competitive edge. Ignoring negative feedback can lead to serious issues, such as:\n",
    "\n",
    "* Customer Churn: Unresolved complaints drive loyal customers away, reducing retention and future revenue.\n",
    "\n",
    "* Reputation Damage: Persistent negative sentiment can erode brand trust and deter new buyers.\n",
    "\n",
    "* Financial Loss: Declining sales and shifting customer preference toward competitors directly impact profitability.\n",
    "\n",
    "Actively tracking and addressing customer sentiment is essential for sustained growth and brand strength."
   ]
  },
  {
   "cell_type": "markdown",
   "metadata": {
    "id": "lJ6qUJ3EqxW2"
   },
   "source": [
    "### Problem Definition"
   ]
  },
  {
   "cell_type": "markdown",
   "metadata": {
    "id": "RkjASpFDeR4m"
   },
   "source": [
    "A growing e-commerce platform specializing in electronic gadgets collects customer feedback from product reviews, surveys, and social media. With a 200% increase in their customer base over three years and a recent 25% spike in feedback volume, their manual review process is no longer sustainable.\n",
    "\n",
    "To address this, the company aims to implement an AI-driven solution to automatically classify customer sentiments (positive, negative, or neutral).\n",
    "\n",
    "As a Data Scientist, your task is to analyze the provided customer reviews—along with their labeled sentiments—and build a predictive model for sentiment classification."
   ]
  },
  {
   "cell_type": "markdown",
   "metadata": {
    "id": "saFx1pbT_zTP"
   },
   "source": [
    "### Data Dictionary"
   ]
  },
  {
   "cell_type": "markdown",
   "metadata": {
    "id": "-xA7JZQ9_2SO"
   },
   "source": [
    "- **Product ID**: An exclusive identification number for each product\n",
    "\n",
    "- **Product Review**: Insights and opinions shared by customers about the product\n",
    "\n",
    "- **Sentiment**: Sentiment associated with the product review, indicating whether the review expresses a positive, negative, or neutral sentiment"
   ]
  },
  {
   "cell_type": "markdown",
   "metadata": {
    "id": "tqfNqaJCQeEE"
   },
   "source": [
    "## Importing the necessary libraries"
   ]
  },
  {
   "cell_type": "code",
   "execution_count": 1,
   "metadata": {
    "colab": {
     "base_uri": "https://localhost:8080/"
    },
    "executionInfo": {
     "elapsed": 49,
     "status": "ok",
     "timestamp": 1753241900956,
     "user": {
      "displayName": "Mr. Ashwani Balyan (SU Training Delivery Manager)",
      "userId": "10495710902595717956"
     },
     "user_tz": -330
    },
    "id": "xhZUQ78gzw8H",
    "outputId": "abd06d8a-d683-4909-ec37-a71d8c43c885"
   },
   "outputs": [],
   "source": [
    "# to read and manipulate the data\n",
    "import pandas as pd\n",
    "import numpy as np\n",
    "pd.set_option('max_colwidth', None)    # setting column to the maximum column width as per the data\n",
    "\n",
    "# to visualise data\n",
    "import matplotlib.pyplot as plt\n",
    "import seaborn as sns\n",
    "\n",
    "# to use regular expressions for manipulating text data\n",
    "import re\n",
    "\n",
    "# to load the natural language toolkit\n",
    "# loading the wordnet module that is used in stemming\n",
    "\n",
    "# to remove common stop words\n",
    "from nltk.corpus import stopwords\n",
    "\n",
    "# to perform stemming\n",
    "from nltk.stem.porter import PorterStemmer\n",
    "\n",
    "# to create Bag of Words\n",
    "from sklearn.feature_extraction.text import CountVectorizer\n",
    "\n",
    "# to split data into train and test sets\n",
    "from sklearn.model_selection import train_test_split\n",
    "\n",
    "# to build a Random Forest model\n",
    "from sklearn.ensemble import RandomForestClassifier\n",
    "\n",
    "# to compute metrics to evaluate the model\n",
    "from sklearn import metrics\n",
    "from sklearn.metrics import accuracy_score, classification_report, confusion_matrix\n",
    "\n",
    "# To tune different models\n",
    "from sklearn.model_selection import GridSearchCV"
   ]
  },
  {
   "cell_type": "code",
   "execution_count": 2,
   "metadata": {
    "colab": {
     "base_uri": "https://localhost:8080/",
     "height": 1000
    },
    "executionInfo": {
     "elapsed": 268,
     "status": "ok",
     "timestamp": 1753242240722,
     "user": {
      "displayName": "Mr. Ashwani Balyan (SU Training Delivery Manager)",
      "userId": "10495710902595717956"
     },
     "user_tz": -330
    },
    "id": "23wuOFYLYUcj",
    "outputId": "f5d02dbc-d911-479c-a009-f1f0a9fb09d0"
   },
   "outputs": [
    {
     "data": {
      "application/vnd.microsoft.datawrangler.viewer.v0+json": {
       "columns": [
        {
         "name": "index",
         "rawType": "int64",
         "type": "integer"
        },
        {
         "name": "Product ID",
         "rawType": "object",
         "type": "string"
        },
        {
         "name": "Product Review",
         "rawType": "object",
         "type": "string"
        },
        {
         "name": "Sentiment",
         "rawType": "object",
         "type": "string"
        }
       ],
       "ref": "6a910178-ae9d-4d45-93c2-f7d5d69e89ec",
       "rows": [
        [
         "0",
         "AVpe7AsMilAPnD_xQ78G",
         "I initially had trouble deciding between the paperwhite and the voyage because reviews more or less said the same thing: the paperwhite is great, but if you have spending money, go for the voyage.Fortunately, I had friends who owned each, so I ended up buying the paperwhite on this basis: both models now have 300 ppi, so the 80 dollar jump turns out pricey the voyage's page press isn't always sensitive, and if you are fine with a specific setting, you don't need auto light adjustment).It's been a week and I am loving my paperwhite, no regrets! The touch screen is receptive and easy to use, and I keep the light at a specific setting regardless of the time of day. (In any case, it's not hard to change the setting either, as you'll only be changing the light level at a certain time of day, not every now and then while reading).Also glad that I went for the international shipping option with Amazon. Extra expense, but delivery was on time, with tracking, and I didnt need to worry about customs, which I may have if I used a third party shipping service.",
         "POSITIVE"
        ],
        [
         "1",
         "AVpe7AsMilAPnD_xQ78G",
         "Allow me to preface this with a little history. I am (was) a casual reader who owned a Nook Simple Touch from 2011. I've read the Harry Potter series, Girl with the Dragon Tattoo series, 1984, Brave New World, and a few other key titles. Fair to say my Nook did not get as much use as many others may have gotten from theirs.Fast forward to today. I have had a full week with my new Kindle Paperwhite and I have to admit, I'm in love. Not just with the Kindle, but with reading all over again! Now let me relate this review, love, and reading all back to the Kindle. The investment of 139.00 is in the experience you will receive when you buy a Kindle. You are not simply paying for a screen there is an entire experience included in buying from Amazon.I have been reading The Hunger Games trilogy and shall be moving onto the Divergent series soon after. Here is the thing with the Nook that hindered me for the past 4 years: I was never inspired to pick it up, get it into my hands, and just dive in. There was never that feeling of oh man, reading on this thing is so awesome. However, with my Paperwhite, I now have that feeling! That desire is back and I simply adore my Kindle. If you are considering purchasing one, stop thinking about it simply go for it. After a full week, 3 downloaded books, and a ton of reading, I still have half of my battery left as well.Make yourself happy. Inspire the reader inside of you.",
         "POSITIVE"
        ],
        [
         "2",
         "AVpe7AsMilAPnD_xQ78G",
         "I am enjoying it so far. Great for reading. Had the original Fire since 2012. The Fire used to make my eyes hurt if I read too long. Haven't experienced that with the Paperwhite yet.",
         "POSITIVE"
        ],
        [
         "3",
         "AVpe7AsMilAPnD_xQ78G",
         "I bought one of the first Paperwhites and have been very pleased with it its been a constant companion and I suppose Ive read, on average, a book every three days for the past however many years on it. I wouldnt give it up youd have to pry it from my cold dead fingers.For sundry logistical reasons, Ive also made good use of Amazons Kindle app on my iPhone. No Paperwhite screen, naturally, and all the cool usability that delivers, but it works well and has its own attractions as a companion to the Kindle.Of course, there are aspects of the Paperwhite which I would like to critique. Ah you knew that was coming somewhere, didnt you.As a member of BookBub, I get a daily list of alerts and book deals in my chosen genres. I take on many of them, however, Ive found that, even with the best will in the world, I cant keep up. Some days it seems that for every book I read, Ive bought two. Theres just so much good stuff out there! The accumulative effect of this is that the number of books actually on my Paperwhite has been creeping ever upward for some time. Its now at about 400.With this in mind, Ive noticed that while page-turning has remained exactly the same, just about every other action on the Kindle has become positively glacial. Not just very slow, but so slow you think its malfunctioning. The general consensus appears to be that its to be expected once one has that many books downloaded onto a Kindle, it will begin to behave in a flakey manner. This drives me mad. Amazon states it can hold thousands of books. I believe them. But I figure I would need a second Paperwhite to read while Im waiting for actions to complete on the first one.Read more",
         "POSITIVE"
        ],
        [
         "4",
         "AVpe7AsMilAPnD_xQ78G",
         "I have to say upfront - I don't like coroporate, hermetically closed stuff like anything by Apple or in this case, Amazon. I like having devices on which I can put anything I want and use it. But...I was a fairly happy user of a Nook Touch for several years, but couldn't use all its functionalities since I live in Serbia. Then I lost the Nook and since no other devices can actually be fully used in Serbia (buying books with them, using their online capabilities) except the Kindle, and since no one except Amazon ships to Serbia, and since I've actually been a happy Amazon customer since 2005 over friends' accounts and since 2007 through my own, and since the Kindle definitely has the best technology - why not buy itSo I did. What I read in many reviews about the screen/light of the Paperwhite and similar devices was no problem with mine. The light disperses just fine, except a few black blotches (maybe you can see it in the picture) at the bottom of the screen, which are actually shadows of the black plastic casing and thus can't really be avoided. As you can see in the picture without the light - there are no blotches with light out.The Paperwhite's screen is just marvelous at 300 ppi, the touchscreen works just fine, the store works here in Serbia, and in these two days I've been using it, I'm a happy guy.I had to get the hang on how to make sideloaded books behave at least almost like Amazon books, but that's fine. That's the one thing I'd like to see Amazon do in some future upgrades: make the Kindle treat sideloaded books just like the ones bought from them directly, with sharing funcion (quotes and Goodreads) enabled and so on.The size is perfect, it sits very well in the hand, the light doesn't hurt the eyes in the dark (like the light on a tab does)... the packaging was fine, no problems there and what remains to be seen now is the battery life.So far, I can only recommend it.",
         "POSITIVE"
        ]
       ],
       "shape": {
        "columns": 3,
        "rows": 5
       }
      },
      "text/html": [
       "<div>\n",
       "<style scoped>\n",
       "    .dataframe tbody tr th:only-of-type {\n",
       "        vertical-align: middle;\n",
       "    }\n",
       "\n",
       "    .dataframe tbody tr th {\n",
       "        vertical-align: top;\n",
       "    }\n",
       "\n",
       "    .dataframe thead th {\n",
       "        text-align: right;\n",
       "    }\n",
       "</style>\n",
       "<table border=\"1\" class=\"dataframe\">\n",
       "  <thead>\n",
       "    <tr style=\"text-align: right;\">\n",
       "      <th></th>\n",
       "      <th>Product ID</th>\n",
       "      <th>Product Review</th>\n",
       "      <th>Sentiment</th>\n",
       "    </tr>\n",
       "  </thead>\n",
       "  <tbody>\n",
       "    <tr>\n",
       "      <th>0</th>\n",
       "      <td>AVpe7AsMilAPnD_xQ78G</td>\n",
       "      <td>I initially had trouble deciding between the paperwhite and the voyage because reviews more or less said the same thing: the paperwhite is great, but if you have spending money, go for the voyage.Fortunately, I had friends who owned each, so I ended up buying the paperwhite on this basis: both models now have 300 ppi, so the 80 dollar jump turns out pricey the voyage's page press isn't always sensitive, and if you are fine with a specific setting, you don't need auto light adjustment).It's been a week and I am loving my paperwhite, no regrets! The touch screen is receptive and easy to use, and I keep the light at a specific setting regardless of the time of day. (In any case, it's not hard to change the setting either, as you'll only be changing the light level at a certain time of day, not every now and then while reading).Also glad that I went for the international shipping option with Amazon. Extra expense, but delivery was on time, with tracking, and I didnt need to worry about customs, which I may have if I used a third party shipping service.</td>\n",
       "      <td>POSITIVE</td>\n",
       "    </tr>\n",
       "    <tr>\n",
       "      <th>1</th>\n",
       "      <td>AVpe7AsMilAPnD_xQ78G</td>\n",
       "      <td>Allow me to preface this with a little history. I am (was) a casual reader who owned a Nook Simple Touch from 2011. I've read the Harry Potter series, Girl with the Dragon Tattoo series, 1984, Brave New World, and a few other key titles. Fair to say my Nook did not get as much use as many others may have gotten from theirs.Fast forward to today. I have had a full week with my new Kindle Paperwhite and I have to admit, I'm in love. Not just with the Kindle, but with reading all over again! Now let me relate this review, love, and reading all back to the Kindle. The investment of 139.00 is in the experience you will receive when you buy a Kindle. You are not simply paying for a screen there is an entire experience included in buying from Amazon.I have been reading The Hunger Games trilogy and shall be moving onto the Divergent series soon after. Here is the thing with the Nook that hindered me for the past 4 years: I was never inspired to pick it up, get it into my hands, and just dive in. There was never that feeling of oh man, reading on this thing is so awesome. However, with my Paperwhite, I now have that feeling! That desire is back and I simply adore my Kindle. If you are considering purchasing one, stop thinking about it simply go for it. After a full week, 3 downloaded books, and a ton of reading, I still have half of my battery left as well.Make yourself happy. Inspire the reader inside of you.</td>\n",
       "      <td>POSITIVE</td>\n",
       "    </tr>\n",
       "    <tr>\n",
       "      <th>2</th>\n",
       "      <td>AVpe7AsMilAPnD_xQ78G</td>\n",
       "      <td>I am enjoying it so far. Great for reading. Had the original Fire since 2012. The Fire used to make my eyes hurt if I read too long. Haven't experienced that with the Paperwhite yet.</td>\n",
       "      <td>POSITIVE</td>\n",
       "    </tr>\n",
       "    <tr>\n",
       "      <th>3</th>\n",
       "      <td>AVpe7AsMilAPnD_xQ78G</td>\n",
       "      <td>I bought one of the first Paperwhites and have been very pleased with it its been a constant companion and I suppose Ive read, on average, a book every three days for the past however many years on it. I wouldnt give it up youd have to pry it from my cold dead fingers.For sundry logistical reasons, Ive also made good use of Amazons Kindle app on my iPhone. No Paperwhite screen, naturally, and all the cool usability that delivers, but it works well and has its own attractions as a companion to the Kindle.Of course, there are aspects of the Paperwhite which I would like to critique. Ah you knew that was coming somewhere, didnt you.As a member of BookBub, I get a daily list of alerts and book deals in my chosen genres. I take on many of them, however, Ive found that, even with the best will in the world, I cant keep up. Some days it seems that for every book I read, Ive bought two. Theres just so much good stuff out there! The accumulative effect of this is that the number of books actually on my Paperwhite has been creeping ever upward for some time. Its now at about 400.With this in mind, Ive noticed that while page-turning has remained exactly the same, just about every other action on the Kindle has become positively glacial. Not just very slow, but so slow you think its malfunctioning. The general consensus appears to be that its to be expected once one has that many books downloaded onto a Kindle, it will begin to behave in a flakey manner. This drives me mad. Amazon states it can hold thousands of books. I believe them. But I figure I would need a second Paperwhite to read while Im waiting for actions to complete on the first one.Read more</td>\n",
       "      <td>POSITIVE</td>\n",
       "    </tr>\n",
       "    <tr>\n",
       "      <th>4</th>\n",
       "      <td>AVpe7AsMilAPnD_xQ78G</td>\n",
       "      <td>I have to say upfront - I don't like coroporate, hermetically closed stuff like anything by Apple or in this case, Amazon. I like having devices on which I can put anything I want and use it. But...I was a fairly happy user of a Nook Touch for several years, but couldn't use all its functionalities since I live in Serbia. Then I lost the Nook and since no other devices can actually be fully used in Serbia (buying books with them, using their online capabilities) except the Kindle, and since no one except Amazon ships to Serbia, and since I've actually been a happy Amazon customer since 2005 over friends' accounts and since 2007 through my own, and since the Kindle definitely has the best technology - why not buy itSo I did. What I read in many reviews about the screen/light of the Paperwhite and similar devices was no problem with mine. The light disperses just fine, except a few black blotches (maybe you can see it in the picture) at the bottom of the screen, which are actually shadows of the black plastic casing and thus can't really be avoided. As you can see in the picture without the light - there are no blotches with light out.The Paperwhite's screen is just marvelous at 300 ppi, the touchscreen works just fine, the store works here in Serbia, and in these two days I've been using it, I'm a happy guy.I had to get the hang on how to make sideloaded books behave at least almost like Amazon books, but that's fine. That's the one thing I'd like to see Amazon do in some future upgrades: make the Kindle treat sideloaded books just like the ones bought from them directly, with sharing funcion (quotes and Goodreads) enabled and so on.The size is perfect, it sits very well in the hand, the light doesn't hurt the eyes in the dark (like the light on a tab does)... the packaging was fine, no problems there and what remains to be seen now is the battery life.So far, I can only recommend it.</td>\n",
       "      <td>POSITIVE</td>\n",
       "    </tr>\n",
       "  </tbody>\n",
       "</table>\n",
       "</div>"
      ],
      "text/plain": [
       "             Product ID  \\\n",
       "0  AVpe7AsMilAPnD_xQ78G   \n",
       "1  AVpe7AsMilAPnD_xQ78G   \n",
       "2  AVpe7AsMilAPnD_xQ78G   \n",
       "3  AVpe7AsMilAPnD_xQ78G   \n",
       "4  AVpe7AsMilAPnD_xQ78G   \n",
       "\n",
       "                                                                                                                                                                                                                                                                                                                                                                                                                                                                                                                                                                                                                                                                                                                                                                                                                                                                                                                                                                                                                                                                                                                                                                                                                                                                                                                                                                                                                                                                                                                                                                                                                                                                                                                                                                                                                                                                                                                                                                                 Product Review  \\\n",
       "0                                                                                                                                                                                                                                                                                                                                                                                                                                                                                                                                                                                                                                                                                                                                                                                                                                                                                      I initially had trouble deciding between the paperwhite and the voyage because reviews more or less said the same thing: the paperwhite is great, but if you have spending money, go for the voyage.Fortunately, I had friends who owned each, so I ended up buying the paperwhite on this basis: both models now have 300 ppi, so the 80 dollar jump turns out pricey the voyage's page press isn't always sensitive, and if you are fine with a specific setting, you don't need auto light adjustment).It's been a week and I am loving my paperwhite, no regrets! The touch screen is receptive and easy to use, and I keep the light at a specific setting regardless of the time of day. (In any case, it's not hard to change the setting either, as you'll only be changing the light level at a certain time of day, not every now and then while reading).Also glad that I went for the international shipping option with Amazon. Extra expense, but delivery was on time, with tracking, and I didnt need to worry about customs, which I may have if I used a third party shipping service.   \n",
       "1                                                                                                                                                                                                                                                                                                                                                                                                                                                                                                              Allow me to preface this with a little history. I am (was) a casual reader who owned a Nook Simple Touch from 2011. I've read the Harry Potter series, Girl with the Dragon Tattoo series, 1984, Brave New World, and a few other key titles. Fair to say my Nook did not get as much use as many others may have gotten from theirs.Fast forward to today. I have had a full week with my new Kindle Paperwhite and I have to admit, I'm in love. Not just with the Kindle, but with reading all over again! Now let me relate this review, love, and reading all back to the Kindle. The investment of 139.00 is in the experience you will receive when you buy a Kindle. You are not simply paying for a screen there is an entire experience included in buying from Amazon.I have been reading The Hunger Games trilogy and shall be moving onto the Divergent series soon after. Here is the thing with the Nook that hindered me for the past 4 years: I was never inspired to pick it up, get it into my hands, and just dive in. There was never that feeling of oh man, reading on this thing is so awesome. However, with my Paperwhite, I now have that feeling! That desire is back and I simply adore my Kindle. If you are considering purchasing one, stop thinking about it simply go for it. After a full week, 3 downloaded books, and a ton of reading, I still have half of my battery left as well.Make yourself happy. Inspire the reader inside of you.   \n",
       "2                                                                                                                                                                                                                                                                                                                                                                                                                                                                                                                                                                                                                                                                                                                                                                                                                                                                                                                                                                                                                                                                                                                                                                                                                                                                                                                                                                                                                                                                                                                                                                                                                                                                                                                                                                                                        I am enjoying it so far. Great for reading. Had the original Fire since 2012. The Fire used to make my eyes hurt if I read too long. Haven't experienced that with the Paperwhite yet.   \n",
       "3                                                                                                                                                                                                                                                       I bought one of the first Paperwhites and have been very pleased with it its been a constant companion and I suppose Ive read, on average, a book every three days for the past however many years on it. I wouldnt give it up youd have to pry it from my cold dead fingers.For sundry logistical reasons, Ive also made good use of Amazons Kindle app on my iPhone. No Paperwhite screen, naturally, and all the cool usability that delivers, but it works well and has its own attractions as a companion to the Kindle.Of course, there are aspects of the Paperwhite which I would like to critique. Ah you knew that was coming somewhere, didnt you.As a member of BookBub, I get a daily list of alerts and book deals in my chosen genres. I take on many of them, however, Ive found that, even with the best will in the world, I cant keep up. Some days it seems that for every book I read, Ive bought two. Theres just so much good stuff out there! The accumulative effect of this is that the number of books actually on my Paperwhite has been creeping ever upward for some time. Its now at about 400.With this in mind, Ive noticed that while page-turning has remained exactly the same, just about every other action on the Kindle has become positively glacial. Not just very slow, but so slow you think its malfunctioning. The general consensus appears to be that its to be expected once one has that many books downloaded onto a Kindle, it will begin to behave in a flakey manner. This drives me mad. Amazon states it can hold thousands of books. I believe them. But I figure I would need a second Paperwhite to read while Im waiting for actions to complete on the first one.Read more   \n",
       "4  I have to say upfront - I don't like coroporate, hermetically closed stuff like anything by Apple or in this case, Amazon. I like having devices on which I can put anything I want and use it. But...I was a fairly happy user of a Nook Touch for several years, but couldn't use all its functionalities since I live in Serbia. Then I lost the Nook and since no other devices can actually be fully used in Serbia (buying books with them, using their online capabilities) except the Kindle, and since no one except Amazon ships to Serbia, and since I've actually been a happy Amazon customer since 2005 over friends' accounts and since 2007 through my own, and since the Kindle definitely has the best technology - why not buy itSo I did. What I read in many reviews about the screen/light of the Paperwhite and similar devices was no problem with mine. The light disperses just fine, except a few black blotches (maybe you can see it in the picture) at the bottom of the screen, which are actually shadows of the black plastic casing and thus can't really be avoided. As you can see in the picture without the light - there are no blotches with light out.The Paperwhite's screen is just marvelous at 300 ppi, the touchscreen works just fine, the store works here in Serbia, and in these two days I've been using it, I'm a happy guy.I had to get the hang on how to make sideloaded books behave at least almost like Amazon books, but that's fine. That's the one thing I'd like to see Amazon do in some future upgrades: make the Kindle treat sideloaded books just like the ones bought from them directly, with sharing funcion (quotes and Goodreads) enabled and so on.The size is perfect, it sits very well in the hand, the light doesn't hurt the eyes in the dark (like the light on a tab does)... the packaging was fine, no problems there and what remains to be seen now is the battery life.So far, I can only recommend it.   \n",
       "\n",
       "  Sentiment  \n",
       "0  POSITIVE  \n",
       "1  POSITIVE  \n",
       "2  POSITIVE  \n",
       "3  POSITIVE  \n",
       "4  POSITIVE  "
      ]
     },
     "execution_count": 2,
     "metadata": {},
     "output_type": "execute_result"
    }
   ],
   "source": [
    "df= pd.read_csv('data/Product_Reviews.csv')\n",
    "df.head()"
   ]
  },
  {
   "cell_type": "markdown",
   "metadata": {
    "id": "fantastic-rebel"
   },
   "source": [
    "## Loading the dataset"
   ]
  },
  {
   "cell_type": "code",
   "execution_count": 3,
   "metadata": {
    "id": "CThCS4NJzw8S"
   },
   "outputs": [],
   "source": [
    "# loading data into a pandas dataframe\n",
    "reviews = pd.read_csv(\"data/Product_Reviews.csv\")"
   ]
  },
  {
   "cell_type": "code",
   "execution_count": 4,
   "metadata": {
    "id": "qEvz0b9gzw8U"
   },
   "outputs": [],
   "source": [
    "# creating a copy of the data\n",
    "data = reviews.copy()"
   ]
  },
  {
   "cell_type": "markdown",
   "metadata": {
    "id": "vvlzvKeqAH-i"
   },
   "source": [
    "## Data Overview"
   ]
  },
  {
   "cell_type": "markdown",
   "metadata": {
    "id": "cIH4md8nAL4v"
   },
   "source": [
    "### Checking the first five rows of the data"
   ]
  },
  {
   "cell_type": "code",
   "execution_count": 5,
   "metadata": {
    "colab": {
     "base_uri": "https://localhost:8080/",
     "height": 1000
    },
    "executionInfo": {
     "elapsed": 164,
     "status": "ok",
     "timestamp": 1753242322190,
     "user": {
      "displayName": "Mr. Ashwani Balyan (SU Training Delivery Manager)",
      "userId": "10495710902595717956"
     },
     "user_tz": -330
    },
    "id": "bj4-QHJ6BiCS",
    "outputId": "9267dd76-80c1-444f-edd4-c4f0f6233e1d"
   },
   "outputs": [
    {
     "data": {
      "application/vnd.microsoft.datawrangler.viewer.v0+json": {
       "columns": [
        {
         "name": "index",
         "rawType": "int64",
         "type": "integer"
        },
        {
         "name": "Product ID",
         "rawType": "object",
         "type": "string"
        },
        {
         "name": "Product Review",
         "rawType": "object",
         "type": "string"
        },
        {
         "name": "Sentiment",
         "rawType": "object",
         "type": "string"
        }
       ],
       "ref": "31b9a5d2-da62-4f99-84d5-a103fc0255ac",
       "rows": [
        [
         "0",
         "AVpe7AsMilAPnD_xQ78G",
         "I initially had trouble deciding between the paperwhite and the voyage because reviews more or less said the same thing: the paperwhite is great, but if you have spending money, go for the voyage.Fortunately, I had friends who owned each, so I ended up buying the paperwhite on this basis: both models now have 300 ppi, so the 80 dollar jump turns out pricey the voyage's page press isn't always sensitive, and if you are fine with a specific setting, you don't need auto light adjustment).It's been a week and I am loving my paperwhite, no regrets! The touch screen is receptive and easy to use, and I keep the light at a specific setting regardless of the time of day. (In any case, it's not hard to change the setting either, as you'll only be changing the light level at a certain time of day, not every now and then while reading).Also glad that I went for the international shipping option with Amazon. Extra expense, but delivery was on time, with tracking, and I didnt need to worry about customs, which I may have if I used a third party shipping service.",
         "POSITIVE"
        ],
        [
         "1",
         "AVpe7AsMilAPnD_xQ78G",
         "Allow me to preface this with a little history. I am (was) a casual reader who owned a Nook Simple Touch from 2011. I've read the Harry Potter series, Girl with the Dragon Tattoo series, 1984, Brave New World, and a few other key titles. Fair to say my Nook did not get as much use as many others may have gotten from theirs.Fast forward to today. I have had a full week with my new Kindle Paperwhite and I have to admit, I'm in love. Not just with the Kindle, but with reading all over again! Now let me relate this review, love, and reading all back to the Kindle. The investment of 139.00 is in the experience you will receive when you buy a Kindle. You are not simply paying for a screen there is an entire experience included in buying from Amazon.I have been reading The Hunger Games trilogy and shall be moving onto the Divergent series soon after. Here is the thing with the Nook that hindered me for the past 4 years: I was never inspired to pick it up, get it into my hands, and just dive in. There was never that feeling of oh man, reading on this thing is so awesome. However, with my Paperwhite, I now have that feeling! That desire is back and I simply adore my Kindle. If you are considering purchasing one, stop thinking about it simply go for it. After a full week, 3 downloaded books, and a ton of reading, I still have half of my battery left as well.Make yourself happy. Inspire the reader inside of you.",
         "POSITIVE"
        ],
        [
         "2",
         "AVpe7AsMilAPnD_xQ78G",
         "I am enjoying it so far. Great for reading. Had the original Fire since 2012. The Fire used to make my eyes hurt if I read too long. Haven't experienced that with the Paperwhite yet.",
         "POSITIVE"
        ],
        [
         "3",
         "AVpe7AsMilAPnD_xQ78G",
         "I bought one of the first Paperwhites and have been very pleased with it its been a constant companion and I suppose Ive read, on average, a book every three days for the past however many years on it. I wouldnt give it up youd have to pry it from my cold dead fingers.For sundry logistical reasons, Ive also made good use of Amazons Kindle app on my iPhone. No Paperwhite screen, naturally, and all the cool usability that delivers, but it works well and has its own attractions as a companion to the Kindle.Of course, there are aspects of the Paperwhite which I would like to critique. Ah you knew that was coming somewhere, didnt you.As a member of BookBub, I get a daily list of alerts and book deals in my chosen genres. I take on many of them, however, Ive found that, even with the best will in the world, I cant keep up. Some days it seems that for every book I read, Ive bought two. Theres just so much good stuff out there! The accumulative effect of this is that the number of books actually on my Paperwhite has been creeping ever upward for some time. Its now at about 400.With this in mind, Ive noticed that while page-turning has remained exactly the same, just about every other action on the Kindle has become positively glacial. Not just very slow, but so slow you think its malfunctioning. The general consensus appears to be that its to be expected once one has that many books downloaded onto a Kindle, it will begin to behave in a flakey manner. This drives me mad. Amazon states it can hold thousands of books. I believe them. But I figure I would need a second Paperwhite to read while Im waiting for actions to complete on the first one.Read more",
         "POSITIVE"
        ],
        [
         "4",
         "AVpe7AsMilAPnD_xQ78G",
         "I have to say upfront - I don't like coroporate, hermetically closed stuff like anything by Apple or in this case, Amazon. I like having devices on which I can put anything I want and use it. But...I was a fairly happy user of a Nook Touch for several years, but couldn't use all its functionalities since I live in Serbia. Then I lost the Nook and since no other devices can actually be fully used in Serbia (buying books with them, using their online capabilities) except the Kindle, and since no one except Amazon ships to Serbia, and since I've actually been a happy Amazon customer since 2005 over friends' accounts and since 2007 through my own, and since the Kindle definitely has the best technology - why not buy itSo I did. What I read in many reviews about the screen/light of the Paperwhite and similar devices was no problem with mine. The light disperses just fine, except a few black blotches (maybe you can see it in the picture) at the bottom of the screen, which are actually shadows of the black plastic casing and thus can't really be avoided. As you can see in the picture without the light - there are no blotches with light out.The Paperwhite's screen is just marvelous at 300 ppi, the touchscreen works just fine, the store works here in Serbia, and in these two days I've been using it, I'm a happy guy.I had to get the hang on how to make sideloaded books behave at least almost like Amazon books, but that's fine. That's the one thing I'd like to see Amazon do in some future upgrades: make the Kindle treat sideloaded books just like the ones bought from them directly, with sharing funcion (quotes and Goodreads) enabled and so on.The size is perfect, it sits very well in the hand, the light doesn't hurt the eyes in the dark (like the light on a tab does)... the packaging was fine, no problems there and what remains to be seen now is the battery life.So far, I can only recommend it.",
         "POSITIVE"
        ]
       ],
       "shape": {
        "columns": 3,
        "rows": 5
       }
      },
      "text/html": [
       "<div>\n",
       "<style scoped>\n",
       "    .dataframe tbody tr th:only-of-type {\n",
       "        vertical-align: middle;\n",
       "    }\n",
       "\n",
       "    .dataframe tbody tr th {\n",
       "        vertical-align: top;\n",
       "    }\n",
       "\n",
       "    .dataframe thead th {\n",
       "        text-align: right;\n",
       "    }\n",
       "</style>\n",
       "<table border=\"1\" class=\"dataframe\">\n",
       "  <thead>\n",
       "    <tr style=\"text-align: right;\">\n",
       "      <th></th>\n",
       "      <th>Product ID</th>\n",
       "      <th>Product Review</th>\n",
       "      <th>Sentiment</th>\n",
       "    </tr>\n",
       "  </thead>\n",
       "  <tbody>\n",
       "    <tr>\n",
       "      <th>0</th>\n",
       "      <td>AVpe7AsMilAPnD_xQ78G</td>\n",
       "      <td>I initially had trouble deciding between the paperwhite and the voyage because reviews more or less said the same thing: the paperwhite is great, but if you have spending money, go for the voyage.Fortunately, I had friends who owned each, so I ended up buying the paperwhite on this basis: both models now have 300 ppi, so the 80 dollar jump turns out pricey the voyage's page press isn't always sensitive, and if you are fine with a specific setting, you don't need auto light adjustment).It's been a week and I am loving my paperwhite, no regrets! The touch screen is receptive and easy to use, and I keep the light at a specific setting regardless of the time of day. (In any case, it's not hard to change the setting either, as you'll only be changing the light level at a certain time of day, not every now and then while reading).Also glad that I went for the international shipping option with Amazon. Extra expense, but delivery was on time, with tracking, and I didnt need to worry about customs, which I may have if I used a third party shipping service.</td>\n",
       "      <td>POSITIVE</td>\n",
       "    </tr>\n",
       "    <tr>\n",
       "      <th>1</th>\n",
       "      <td>AVpe7AsMilAPnD_xQ78G</td>\n",
       "      <td>Allow me to preface this with a little history. I am (was) a casual reader who owned a Nook Simple Touch from 2011. I've read the Harry Potter series, Girl with the Dragon Tattoo series, 1984, Brave New World, and a few other key titles. Fair to say my Nook did not get as much use as many others may have gotten from theirs.Fast forward to today. I have had a full week with my new Kindle Paperwhite and I have to admit, I'm in love. Not just with the Kindle, but with reading all over again! Now let me relate this review, love, and reading all back to the Kindle. The investment of 139.00 is in the experience you will receive when you buy a Kindle. You are not simply paying for a screen there is an entire experience included in buying from Amazon.I have been reading The Hunger Games trilogy and shall be moving onto the Divergent series soon after. Here is the thing with the Nook that hindered me for the past 4 years: I was never inspired to pick it up, get it into my hands, and just dive in. There was never that feeling of oh man, reading on this thing is so awesome. However, with my Paperwhite, I now have that feeling! That desire is back and I simply adore my Kindle. If you are considering purchasing one, stop thinking about it simply go for it. After a full week, 3 downloaded books, and a ton of reading, I still have half of my battery left as well.Make yourself happy. Inspire the reader inside of you.</td>\n",
       "      <td>POSITIVE</td>\n",
       "    </tr>\n",
       "    <tr>\n",
       "      <th>2</th>\n",
       "      <td>AVpe7AsMilAPnD_xQ78G</td>\n",
       "      <td>I am enjoying it so far. Great for reading. Had the original Fire since 2012. The Fire used to make my eyes hurt if I read too long. Haven't experienced that with the Paperwhite yet.</td>\n",
       "      <td>POSITIVE</td>\n",
       "    </tr>\n",
       "    <tr>\n",
       "      <th>3</th>\n",
       "      <td>AVpe7AsMilAPnD_xQ78G</td>\n",
       "      <td>I bought one of the first Paperwhites and have been very pleased with it its been a constant companion and I suppose Ive read, on average, a book every three days for the past however many years on it. I wouldnt give it up youd have to pry it from my cold dead fingers.For sundry logistical reasons, Ive also made good use of Amazons Kindle app on my iPhone. No Paperwhite screen, naturally, and all the cool usability that delivers, but it works well and has its own attractions as a companion to the Kindle.Of course, there are aspects of the Paperwhite which I would like to critique. Ah you knew that was coming somewhere, didnt you.As a member of BookBub, I get a daily list of alerts and book deals in my chosen genres. I take on many of them, however, Ive found that, even with the best will in the world, I cant keep up. Some days it seems that for every book I read, Ive bought two. Theres just so much good stuff out there! The accumulative effect of this is that the number of books actually on my Paperwhite has been creeping ever upward for some time. Its now at about 400.With this in mind, Ive noticed that while page-turning has remained exactly the same, just about every other action on the Kindle has become positively glacial. Not just very slow, but so slow you think its malfunctioning. The general consensus appears to be that its to be expected once one has that many books downloaded onto a Kindle, it will begin to behave in a flakey manner. This drives me mad. Amazon states it can hold thousands of books. I believe them. But I figure I would need a second Paperwhite to read while Im waiting for actions to complete on the first one.Read more</td>\n",
       "      <td>POSITIVE</td>\n",
       "    </tr>\n",
       "    <tr>\n",
       "      <th>4</th>\n",
       "      <td>AVpe7AsMilAPnD_xQ78G</td>\n",
       "      <td>I have to say upfront - I don't like coroporate, hermetically closed stuff like anything by Apple or in this case, Amazon. I like having devices on which I can put anything I want and use it. But...I was a fairly happy user of a Nook Touch for several years, but couldn't use all its functionalities since I live in Serbia. Then I lost the Nook and since no other devices can actually be fully used in Serbia (buying books with them, using their online capabilities) except the Kindle, and since no one except Amazon ships to Serbia, and since I've actually been a happy Amazon customer since 2005 over friends' accounts and since 2007 through my own, and since the Kindle definitely has the best technology - why not buy itSo I did. What I read in many reviews about the screen/light of the Paperwhite and similar devices was no problem with mine. The light disperses just fine, except a few black blotches (maybe you can see it in the picture) at the bottom of the screen, which are actually shadows of the black plastic casing and thus can't really be avoided. As you can see in the picture without the light - there are no blotches with light out.The Paperwhite's screen is just marvelous at 300 ppi, the touchscreen works just fine, the store works here in Serbia, and in these two days I've been using it, I'm a happy guy.I had to get the hang on how to make sideloaded books behave at least almost like Amazon books, but that's fine. That's the one thing I'd like to see Amazon do in some future upgrades: make the Kindle treat sideloaded books just like the ones bought from them directly, with sharing funcion (quotes and Goodreads) enabled and so on.The size is perfect, it sits very well in the hand, the light doesn't hurt the eyes in the dark (like the light on a tab does)... the packaging was fine, no problems there and what remains to be seen now is the battery life.So far, I can only recommend it.</td>\n",
       "      <td>POSITIVE</td>\n",
       "    </tr>\n",
       "  </tbody>\n",
       "</table>\n",
       "</div>"
      ],
      "text/plain": [
       "             Product ID  \\\n",
       "0  AVpe7AsMilAPnD_xQ78G   \n",
       "1  AVpe7AsMilAPnD_xQ78G   \n",
       "2  AVpe7AsMilAPnD_xQ78G   \n",
       "3  AVpe7AsMilAPnD_xQ78G   \n",
       "4  AVpe7AsMilAPnD_xQ78G   \n",
       "\n",
       "                                                                                                                                                                                                                                                                                                                                                                                                                                                                                                                                                                                                                                                                                                                                                                                                                                                                                                                                                                                                                                                                                                                                                                                                                                                                                                                                                                                                                                                                                                                                                                                                                                                                                                                                                                                                                                                                                                                                                                                 Product Review  \\\n",
       "0                                                                                                                                                                                                                                                                                                                                                                                                                                                                                                                                                                                                                                                                                                                                                                                                                                                                                      I initially had trouble deciding between the paperwhite and the voyage because reviews more or less said the same thing: the paperwhite is great, but if you have spending money, go for the voyage.Fortunately, I had friends who owned each, so I ended up buying the paperwhite on this basis: both models now have 300 ppi, so the 80 dollar jump turns out pricey the voyage's page press isn't always sensitive, and if you are fine with a specific setting, you don't need auto light adjustment).It's been a week and I am loving my paperwhite, no regrets! The touch screen is receptive and easy to use, and I keep the light at a specific setting regardless of the time of day. (In any case, it's not hard to change the setting either, as you'll only be changing the light level at a certain time of day, not every now and then while reading).Also glad that I went for the international shipping option with Amazon. Extra expense, but delivery was on time, with tracking, and I didnt need to worry about customs, which I may have if I used a third party shipping service.   \n",
       "1                                                                                                                                                                                                                                                                                                                                                                                                                                                                                                              Allow me to preface this with a little history. I am (was) a casual reader who owned a Nook Simple Touch from 2011. I've read the Harry Potter series, Girl with the Dragon Tattoo series, 1984, Brave New World, and a few other key titles. Fair to say my Nook did not get as much use as many others may have gotten from theirs.Fast forward to today. I have had a full week with my new Kindle Paperwhite and I have to admit, I'm in love. Not just with the Kindle, but with reading all over again! Now let me relate this review, love, and reading all back to the Kindle. The investment of 139.00 is in the experience you will receive when you buy a Kindle. You are not simply paying for a screen there is an entire experience included in buying from Amazon.I have been reading The Hunger Games trilogy and shall be moving onto the Divergent series soon after. Here is the thing with the Nook that hindered me for the past 4 years: I was never inspired to pick it up, get it into my hands, and just dive in. There was never that feeling of oh man, reading on this thing is so awesome. However, with my Paperwhite, I now have that feeling! That desire is back and I simply adore my Kindle. If you are considering purchasing one, stop thinking about it simply go for it. After a full week, 3 downloaded books, and a ton of reading, I still have half of my battery left as well.Make yourself happy. Inspire the reader inside of you.   \n",
       "2                                                                                                                                                                                                                                                                                                                                                                                                                                                                                                                                                                                                                                                                                                                                                                                                                                                                                                                                                                                                                                                                                                                                                                                                                                                                                                                                                                                                                                                                                                                                                                                                                                                                                                                                                                                                        I am enjoying it so far. Great for reading. Had the original Fire since 2012. The Fire used to make my eyes hurt if I read too long. Haven't experienced that with the Paperwhite yet.   \n",
       "3                                                                                                                                                                                                                                                       I bought one of the first Paperwhites and have been very pleased with it its been a constant companion and I suppose Ive read, on average, a book every three days for the past however many years on it. I wouldnt give it up youd have to pry it from my cold dead fingers.For sundry logistical reasons, Ive also made good use of Amazons Kindle app on my iPhone. No Paperwhite screen, naturally, and all the cool usability that delivers, but it works well and has its own attractions as a companion to the Kindle.Of course, there are aspects of the Paperwhite which I would like to critique. Ah you knew that was coming somewhere, didnt you.As a member of BookBub, I get a daily list of alerts and book deals in my chosen genres. I take on many of them, however, Ive found that, even with the best will in the world, I cant keep up. Some days it seems that for every book I read, Ive bought two. Theres just so much good stuff out there! The accumulative effect of this is that the number of books actually on my Paperwhite has been creeping ever upward for some time. Its now at about 400.With this in mind, Ive noticed that while page-turning has remained exactly the same, just about every other action on the Kindle has become positively glacial. Not just very slow, but so slow you think its malfunctioning. The general consensus appears to be that its to be expected once one has that many books downloaded onto a Kindle, it will begin to behave in a flakey manner. This drives me mad. Amazon states it can hold thousands of books. I believe them. But I figure I would need a second Paperwhite to read while Im waiting for actions to complete on the first one.Read more   \n",
       "4  I have to say upfront - I don't like coroporate, hermetically closed stuff like anything by Apple or in this case, Amazon. I like having devices on which I can put anything I want and use it. But...I was a fairly happy user of a Nook Touch for several years, but couldn't use all its functionalities since I live in Serbia. Then I lost the Nook and since no other devices can actually be fully used in Serbia (buying books with them, using their online capabilities) except the Kindle, and since no one except Amazon ships to Serbia, and since I've actually been a happy Amazon customer since 2005 over friends' accounts and since 2007 through my own, and since the Kindle definitely has the best technology - why not buy itSo I did. What I read in many reviews about the screen/light of the Paperwhite and similar devices was no problem with mine. The light disperses just fine, except a few black blotches (maybe you can see it in the picture) at the bottom of the screen, which are actually shadows of the black plastic casing and thus can't really be avoided. As you can see in the picture without the light - there are no blotches with light out.The Paperwhite's screen is just marvelous at 300 ppi, the touchscreen works just fine, the store works here in Serbia, and in these two days I've been using it, I'm a happy guy.I had to get the hang on how to make sideloaded books behave at least almost like Amazon books, but that's fine. That's the one thing I'd like to see Amazon do in some future upgrades: make the Kindle treat sideloaded books just like the ones bought from them directly, with sharing funcion (quotes and Goodreads) enabled and so on.The size is perfect, it sits very well in the hand, the light doesn't hurt the eyes in the dark (like the light on a tab does)... the packaging was fine, no problems there and what remains to be seen now is the battery life.So far, I can only recommend it.   \n",
       "\n",
       "  Sentiment  \n",
       "0  POSITIVE  \n",
       "1  POSITIVE  \n",
       "2  POSITIVE  \n",
       "3  POSITIVE  \n",
       "4  POSITIVE  "
      ]
     },
     "execution_count": 5,
     "metadata": {},
     "output_type": "execute_result"
    }
   ],
   "source": [
    "data.head(5)"
   ]
  },
  {
   "cell_type": "markdown",
   "metadata": {
    "id": "NuWYF7W_AQx_"
   },
   "source": [
    "### Checking the shape of the dataset"
   ]
  },
  {
   "cell_type": "code",
   "execution_count": 6,
   "metadata": {
    "colab": {
     "base_uri": "https://localhost:8080/"
    },
    "executionInfo": {
     "elapsed": 6,
     "status": "ok",
     "timestamp": 1753242999142,
     "user": {
      "displayName": "Mr. Ashwani Balyan (SU Training Delivery Manager)",
      "userId": "10495710902595717956"
     },
     "user_tz": -330
    },
    "id": "Mcb3m-xKzw8V",
    "outputId": "2f91f5ad-7148-4732-8ee7-7de82a56369b"
   },
   "outputs": [
    {
     "data": {
      "text/plain": [
       "(1007, 3)"
      ]
     },
     "execution_count": 6,
     "metadata": {},
     "output_type": "execute_result"
    }
   ],
   "source": [
    "data.shape"
   ]
  },
  {
   "cell_type": "markdown",
   "metadata": {
    "id": "IPbc-9HLs2WI"
   },
   "source": [
    "* The dataset has 1007 rows and 3 columns."
   ]
  },
  {
   "cell_type": "markdown",
   "metadata": {
    "id": "EBuO6NvsAT1k"
   },
   "source": [
    "### Checking for Missing Values"
   ]
  },
  {
   "cell_type": "code",
   "execution_count": 7,
   "metadata": {
    "colab": {
     "base_uri": "https://localhost:8080/",
     "height": 178
    },
    "executionInfo": {
     "elapsed": 63,
     "status": "ok",
     "timestamp": 1753243043689,
     "user": {
      "displayName": "Mr. Ashwani Balyan (SU Training Delivery Manager)",
      "userId": "10495710902595717956"
     },
     "user_tz": -330
    },
    "id": "k0XZhWGRBiCV",
    "outputId": "42f29aed-89e0-4345-a934-1be62ffcd490"
   },
   "outputs": [
    {
     "data": {
      "application/vnd.microsoft.datawrangler.viewer.v0+json": {
       "columns": [
        {
         "name": "index",
         "rawType": "object",
         "type": "string"
        },
        {
         "name": "0",
         "rawType": "int64",
         "type": "integer"
        }
       ],
       "ref": "0336cffa-9788-4857-80bd-62f8de883acb",
       "rows": [
        [
         "Product ID",
         "0"
        ],
        [
         "Product Review",
         "0"
        ],
        [
         "Sentiment",
         "0"
        ]
       ],
       "shape": {
        "columns": 1,
        "rows": 3
       }
      },
      "text/plain": [
       "Product ID        0\n",
       "Product Review    0\n",
       "Sentiment         0\n",
       "dtype: int64"
      ]
     },
     "execution_count": 7,
     "metadata": {},
     "output_type": "execute_result"
    }
   ],
   "source": [
    "data.isnull().sum()"
   ]
  },
  {
   "cell_type": "markdown",
   "metadata": {
    "id": "1i5McJGWBiCV"
   },
   "source": [
    "* There are no missing values in the data"
   ]
  },
  {
   "cell_type": "markdown",
   "metadata": {
    "id": "nZdNFg-5Zmiz"
   },
   "source": [
    "### Checking for duplicate values"
   ]
  },
  {
   "cell_type": "code",
   "execution_count": 8,
   "metadata": {
    "colab": {
     "base_uri": "https://localhost:8080/"
    },
    "executionInfo": {
     "elapsed": 5,
     "status": "ok",
     "timestamp": 1753243437873,
     "user": {
      "displayName": "Mr. Ashwani Balyan (SU Training Delivery Manager)",
      "userId": "10495710902595717956"
     },
     "user_tz": -330
    },
    "id": "gn5VDFNoBiCW",
    "outputId": "882e7525-bfae-4df9-b0b2-53a93c949346"
   },
   "outputs": [
    {
     "data": {
      "text/plain": [
       "np.int64(2)"
      ]
     },
     "execution_count": 8,
     "metadata": {},
     "output_type": "execute_result"
    }
   ],
   "source": [
    "# checking for duplicate values\n",
    "data.duplicated().sum()"
   ]
  },
  {
   "cell_type": "markdown",
   "metadata": {
    "id": "rwMJutR2BiCW"
   },
   "source": [
    "* There are 2 duplicate values in the dataset.\n",
    "* We'll drop them."
   ]
  },
  {
   "cell_type": "code",
   "execution_count": 9,
   "metadata": {
    "colab": {
     "base_uri": "https://localhost:8080/"
    },
    "executionInfo": {
     "elapsed": 24,
     "status": "ok",
     "timestamp": 1753243448656,
     "user": {
      "displayName": "Mr. Ashwani Balyan (SU Training Delivery Manager)",
      "userId": "10495710902595717956"
     },
     "user_tz": -330
    },
    "id": "3mgEIbCEcurU",
    "outputId": "12672bbf-6bfa-4256-ed78-f030138389bc"
   },
   "outputs": [
    {
     "data": {
      "text/plain": [
       "np.int64(0)"
      ]
     },
     "execution_count": 9,
     "metadata": {},
     "output_type": "execute_result"
    }
   ],
   "source": [
    "# dropping duplicate values\n",
    "data = data.drop_duplicates()\n",
    "\n",
    "data.duplicated().sum()"
   ]
  },
  {
   "cell_type": "code",
   "execution_count": 10,
   "metadata": {
    "colab": {
     "base_uri": "https://localhost:8080/"
    },
    "executionInfo": {
     "elapsed": 15,
     "status": "ok",
     "timestamp": 1753243694017,
     "user": {
      "displayName": "Mr. Ashwani Balyan (SU Training Delivery Manager)",
      "userId": "10495710902595717956"
     },
     "user_tz": -330
    },
    "id": "3VQpPykLdgsO",
    "outputId": "679bc939-9d01-4430-e3d8-6219bbbbe240"
   },
   "outputs": [
    {
     "data": {
      "text/plain": [
       "(1005, 3)"
      ]
     },
     "execution_count": 10,
     "metadata": {},
     "output_type": "execute_result"
    }
   ],
   "source": [
    "data.shape"
   ]
  },
  {
   "cell_type": "markdown",
   "metadata": {
    "id": "kUJ_B5KxhU3D"
   },
   "source": [
    "## Exploratory Data Analysis (EDA)\n"
   ]
  },
  {
   "cell_type": "markdown",
   "metadata": {
    "id": "akIOIRhfbvG8"
   },
   "source": [
    "#### Distribution of sentiments"
   ]
  },
  {
   "cell_type": "code",
   "execution_count": 11,
   "metadata": {
    "colab": {
     "base_uri": "https://localhost:8080/",
     "height": 449
    },
    "executionInfo": {
     "elapsed": 512,
     "status": "ok",
     "timestamp": 1753243917259,
     "user": {
      "displayName": "Mr. Ashwani Balyan (SU Training Delivery Manager)",
      "userId": "10495710902595717956"
     },
     "user_tz": -330
    },
    "id": "O5JSc0t9YI90",
    "outputId": "6ef37ce6-953a-467f-a016-ab530d7c57b8"
   },
   "outputs": [
    {
     "data": {
      "image/png": "[encoded data removed]",
      "text/plain": [
       "<Figure size 640x480 with 1 Axes>"
      ]
     },
     "metadata": {},
     "output_type": "display_data"
    }
   ],
   "source": [
    "sns.countplot(data=data, x=\"Sentiment\");"
   ]
  },
  {
   "cell_type": "code",
   "execution_count": 12,
   "metadata": {
    "colab": {
     "base_uri": "https://localhost:8080/",
     "height": 209
    },
    "executionInfo": {
     "elapsed": 35,
     "status": "ok",
     "timestamp": 1753244002631,
     "user": {
      "displayName": "Mr. Ashwani Balyan (SU Training Delivery Manager)",
      "userId": "10495710902595717956"
     },
     "user_tz": -330
    },
    "id": "ZYvGpRqf3ovu",
    "outputId": "d2bd403c-c5cf-4337-ef0f-6a2a824cf3bd"
   },
   "outputs": [
    {
     "data": {
      "application/vnd.microsoft.datawrangler.viewer.v0+json": {
       "columns": [
        {
         "name": "Sentiment",
         "rawType": "object",
         "type": "string"
        },
        {
         "name": "proportion",
         "rawType": "float64",
         "type": "float"
        }
       ],
       "ref": "3e76feea-5b9f-40c9-adb3-42b45e2dbfaf",
       "rows": [
        [
         "POSITIVE",
         "0.845771144278607"
        ],
        [
         "NEUTRAL",
         "0.08059701492537313"
        ],
        [
         "NEGATIVE",
         "0.0736318407960199"
        ]
       ],
       "shape": {
        "columns": 1,
        "rows": 3
       }
      },
      "text/plain": [
       "Sentiment\n",
       "POSITIVE    0.845771\n",
       "NEUTRAL     0.080597\n",
       "NEGATIVE    0.073632\n",
       "Name: proportion, dtype: float64"
      ]
     },
     "execution_count": 12,
     "metadata": {},
     "output_type": "execute_result"
    }
   ],
   "source": [
    "data['Sentiment'].value_counts(normalize=True)"
   ]
  },
  {
   "cell_type": "markdown",
   "metadata": {
    "id": "fqnuCtG7bvHB"
   },
   "source": [
    "- Majority of the reviews are positive (\\~85%), followed by neutral reviews (8%), and then the positive reviews (\\~7%)"
   ]
  },
  {
   "cell_type": "markdown",
   "metadata": {
    "id": "-wB_7p2rlkyd"
   },
   "source": [
    "# Recommended Metrics for this Case:\n",
    "| Metric                               | Why It's Important                                                                  |\n",
    "| ------------------------------------ | ----------------------------------------------------------------------------------- |\n",
    "| **Macro F1-Score**                   | Gives equal importance to all 3 classes regardless of imbalance.                    |\n",
    "| **Per-class Precision & Recall**     | Helps you understand how well the model detects **Neutral** and **Negative** cases. |\n",
    "| **Confusion Matrix**                 | Shows what types of mistakes your model is making.                                  |\n",
    "| *(Optional)* **ROC-AUC (per class)** | Can be helpful if you're using probabilistic outputs.                               |\n"
   ]
  },
  {
   "cell_type": "markdown",
   "metadata": {
    "id": "-r5cv8iVlzIB"
   },
   "source": [
    "#### Macro F1 vs Micro F1\n",
    "| Type         | Use When                                              | What It Does                           |\n",
    "| ------------ | ----------------------------------------------------- | -------------------------------------- |\n",
    "| **Macro F1** | Treat all classes equally (class-balanced evaluation) | Averages F1 across all classes         |\n",
    "| **Micro F1** | Use when class sizes vary (class-imbalanced)          | Calculates global counts of TP, FP, FN |\n"
   ]
  },
  {
   "cell_type": "markdown",
   "metadata": {
    "id": "N4fvprg6u5fE"
   },
   "source": [
    "## Text Preprocessing"
   ]
  },
  {
   "cell_type": "markdown",
   "metadata": {
    "id": "NJDPhhmvvxJ1"
   },
   "source": [
    "### Removing special characters from the text"
   ]
  },
  {
   "cell_type": "code",
   "execution_count": 13,
   "metadata": {
    "id": "mGR2c6dCvT-Q"
   },
   "outputs": [],
   "source": [
    "# defining a function to remove special characters\n",
    "def remove_special_characters(text):\n",
    "    # Defining the regex pattern to match non-alphanumeric characters\n",
    "    pattern = '[^A-Za-z0-9]+'\n",
    "\n",
    "    # Finding the specified pattern and replacing non-alphanumeric characters with a blank string\n",
    "    new_text = ''.join(re.sub(pattern, ' ', text))\n",
    "\n",
    "    return new_text"
   ]
  },
  {
   "cell_type": "code",
   "execution_count": 14,
   "metadata": {
    "id": "RQv4x8npctFZ"
   },
   "outputs": [],
   "source": [
    "# Applying the function to remove special characters\n",
    "data['cleaned_text'] = data['Product Review'].apply(remove_special_characters)"
   ]
  },
  {
   "cell_type": "code",
   "execution_count": 15,
   "metadata": {
    "id": "rCxMsKChvT79"
   },
   "outputs": [
    {
     "data": {
      "application/vnd.microsoft.datawrangler.viewer.v0+json": {
       "columns": [
        {
         "name": "index",
         "rawType": "int64",
         "type": "integer"
        },
        {
         "name": "Product Review",
         "rawType": "object",
         "type": "string"
        },
        {
         "name": "cleaned_text",
         "rawType": "object",
         "type": "string"
        }
       ],
       "ref": "d7d37ceb-8244-41c9-a2ed-14b520cdb3b3",
       "rows": [
        [
         "0",
         "I initially had trouble deciding between the paperwhite and the voyage because reviews more or less said the same thing: the paperwhite is great, but if you have spending money, go for the voyage.Fortunately, I had friends who owned each, so I ended up buying the paperwhite on this basis: both models now have 300 ppi, so the 80 dollar jump turns out pricey the voyage's page press isn't always sensitive, and if you are fine with a specific setting, you don't need auto light adjustment).It's been a week and I am loving my paperwhite, no regrets! The touch screen is receptive and easy to use, and I keep the light at a specific setting regardless of the time of day. (In any case, it's not hard to change the setting either, as you'll only be changing the light level at a certain time of day, not every now and then while reading).Also glad that I went for the international shipping option with Amazon. Extra expense, but delivery was on time, with tracking, and I didnt need to worry about customs, which I may have if I used a third party shipping service.",
         "I initially had trouble deciding between the paperwhite and the voyage because reviews more or less said the same thing the paperwhite is great but if you have spending money go for the voyage Fortunately I had friends who owned each so I ended up buying the paperwhite on this basis both models now have 300 ppi so the 80 dollar jump turns out pricey the voyage s page press isn t always sensitive and if you are fine with a specific setting you don t need auto light adjustment It s been a week and I am loving my paperwhite no regrets The touch screen is receptive and easy to use and I keep the light at a specific setting regardless of the time of day In any case it s not hard to change the setting either as you ll only be changing the light level at a certain time of day not every now and then while reading Also glad that I went for the international shipping option with Amazon Extra expense but delivery was on time with tracking and I didnt need to worry about customs which I may have if I used a third party shipping service "
        ],
        [
         "1",
         "Allow me to preface this with a little history. I am (was) a casual reader who owned a Nook Simple Touch from 2011. I've read the Harry Potter series, Girl with the Dragon Tattoo series, 1984, Brave New World, and a few other key titles. Fair to say my Nook did not get as much use as many others may have gotten from theirs.Fast forward to today. I have had a full week with my new Kindle Paperwhite and I have to admit, I'm in love. Not just with the Kindle, but with reading all over again! Now let me relate this review, love, and reading all back to the Kindle. The investment of 139.00 is in the experience you will receive when you buy a Kindle. You are not simply paying for a screen there is an entire experience included in buying from Amazon.I have been reading The Hunger Games trilogy and shall be moving onto the Divergent series soon after. Here is the thing with the Nook that hindered me for the past 4 years: I was never inspired to pick it up, get it into my hands, and just dive in. There was never that feeling of oh man, reading on this thing is so awesome. However, with my Paperwhite, I now have that feeling! That desire is back and I simply adore my Kindle. If you are considering purchasing one, stop thinking about it simply go for it. After a full week, 3 downloaded books, and a ton of reading, I still have half of my battery left as well.Make yourself happy. Inspire the reader inside of you.",
         "Allow me to preface this with a little history I am was a casual reader who owned a Nook Simple Touch from 2011 I ve read the Harry Potter series Girl with the Dragon Tattoo series 1984 Brave New World and a few other key titles Fair to say my Nook did not get as much use as many others may have gotten from theirs Fast forward to today I have had a full week with my new Kindle Paperwhite and I have to admit I m in love Not just with the Kindle but with reading all over again Now let me relate this review love and reading all back to the Kindle The investment of 139 00 is in the experience you will receive when you buy a Kindle You are not simply paying for a screen there is an entire experience included in buying from Amazon I have been reading The Hunger Games trilogy and shall be moving onto the Divergent series soon after Here is the thing with the Nook that hindered me for the past 4 years I was never inspired to pick it up get it into my hands and just dive in There was never that feeling of oh man reading on this thing is so awesome However with my Paperwhite I now have that feeling That desire is back and I simply adore my Kindle If you are considering purchasing one stop thinking about it simply go for it After a full week 3 downloaded books and a ton of reading I still have half of my battery left as well Make yourself happy Inspire the reader inside of you "
        ],
        [
         "2",
         "I am enjoying it so far. Great for reading. Had the original Fire since 2012. The Fire used to make my eyes hurt if I read too long. Haven't experienced that with the Paperwhite yet.",
         "I am enjoying it so far Great for reading Had the original Fire since 2012 The Fire used to make my eyes hurt if I read too long Haven t experienced that with the Paperwhite yet "
        ],
        [
         "3",
         "I bought one of the first Paperwhites and have been very pleased with it its been a constant companion and I suppose Ive read, on average, a book every three days for the past however many years on it. I wouldnt give it up youd have to pry it from my cold dead fingers.For sundry logistical reasons, Ive also made good use of Amazons Kindle app on my iPhone. No Paperwhite screen, naturally, and all the cool usability that delivers, but it works well and has its own attractions as a companion to the Kindle.Of course, there are aspects of the Paperwhite which I would like to critique. Ah you knew that was coming somewhere, didnt you.As a member of BookBub, I get a daily list of alerts and book deals in my chosen genres. I take on many of them, however, Ive found that, even with the best will in the world, I cant keep up. Some days it seems that for every book I read, Ive bought two. Theres just so much good stuff out there! The accumulative effect of this is that the number of books actually on my Paperwhite has been creeping ever upward for some time. Its now at about 400.With this in mind, Ive noticed that while page-turning has remained exactly the same, just about every other action on the Kindle has become positively glacial. Not just very slow, but so slow you think its malfunctioning. The general consensus appears to be that its to be expected once one has that many books downloaded onto a Kindle, it will begin to behave in a flakey manner. This drives me mad. Amazon states it can hold thousands of books. I believe them. But I figure I would need a second Paperwhite to read while Im waiting for actions to complete on the first one.Read more",
         "I bought one of the first Paperwhites and have been very pleased with it its been a constant companion and I suppose Ive read on average a book every three days for the past however many years on it I wouldnt give it up youd have to pry it from my cold dead fingers For sundry logistical reasons Ive also made good use of Amazons Kindle app on my iPhone No Paperwhite screen naturally and all the cool usability that delivers but it works well and has its own attractions as a companion to the Kindle Of course there are aspects of the Paperwhite which I would like to critique Ah you knew that was coming somewhere didnt you As a member of BookBub I get a daily list of alerts and book deals in my chosen genres I take on many of them however Ive found that even with the best will in the world I cant keep up Some days it seems that for every book I read Ive bought two Theres just so much good stuff out there The accumulative effect of this is that the number of books actually on my Paperwhite has been creeping ever upward for some time Its now at about 400 With this in mind Ive noticed that while page turning has remained exactly the same just about every other action on the Kindle has become positively glacial Not just very slow but so slow you think its malfunctioning The general consensus appears to be that its to be expected once one has that many books downloaded onto a Kindle it will begin to behave in a flakey manner This drives me mad Amazon states it can hold thousands of books I believe them But I figure I would need a second Paperwhite to read while Im waiting for actions to complete on the first one Read more"
        ]
       ],
       "shape": {
        "columns": 2,
        "rows": 4
       }
      },
      "text/html": [
       "<div>\n",
       "<style scoped>\n",
       "    .dataframe tbody tr th:only-of-type {\n",
       "        vertical-align: middle;\n",
       "    }\n",
       "\n",
       "    .dataframe tbody tr th {\n",
       "        vertical-align: top;\n",
       "    }\n",
       "\n",
       "    .dataframe thead th {\n",
       "        text-align: right;\n",
       "    }\n",
       "</style>\n",
       "<table border=\"1\" class=\"dataframe\">\n",
       "  <thead>\n",
       "    <tr style=\"text-align: right;\">\n",
       "      <th></th>\n",
       "      <th>Product Review</th>\n",
       "      <th>cleaned_text</th>\n",
       "    </tr>\n",
       "  </thead>\n",
       "  <tbody>\n",
       "    <tr>\n",
       "      <th>0</th>\n",
       "      <td>I initially had trouble deciding between the paperwhite and the voyage because reviews more or less said the same thing: the paperwhite is great, but if you have spending money, go for the voyage.Fortunately, I had friends who owned each, so I ended up buying the paperwhite on this basis: both models now have 300 ppi, so the 80 dollar jump turns out pricey the voyage's page press isn't always sensitive, and if you are fine with a specific setting, you don't need auto light adjustment).It's been a week and I am loving my paperwhite, no regrets! The touch screen is receptive and easy to use, and I keep the light at a specific setting regardless of the time of day. (In any case, it's not hard to change the setting either, as you'll only be changing the light level at a certain time of day, not every now and then while reading).Also glad that I went for the international shipping option with Amazon. Extra expense, but delivery was on time, with tracking, and I didnt need to worry about customs, which I may have if I used a third party shipping service.</td>\n",
       "      <td>I initially had trouble deciding between the paperwhite and the voyage because reviews more or less said the same thing the paperwhite is great but if you have spending money go for the voyage Fortunately I had friends who owned each so I ended up buying the paperwhite on this basis both models now have 300 ppi so the 80 dollar jump turns out pricey the voyage s page press isn t always sensitive and if you are fine with a specific setting you don t need auto light adjustment It s been a week and I am loving my paperwhite no regrets The touch screen is receptive and easy to use and I keep the light at a specific setting regardless of the time of day In any case it s not hard to change the setting either as you ll only be changing the light level at a certain time of day not every now and then while reading Also glad that I went for the international shipping option with Amazon Extra expense but delivery was on time with tracking and I didnt need to worry about customs which I may have if I used a third party shipping service</td>\n",
       "    </tr>\n",
       "    <tr>\n",
       "      <th>1</th>\n",
       "      <td>Allow me to preface this with a little history. I am (was) a casual reader who owned a Nook Simple Touch from 2011. I've read the Harry Potter series, Girl with the Dragon Tattoo series, 1984, Brave New World, and a few other key titles. Fair to say my Nook did not get as much use as many others may have gotten from theirs.Fast forward to today. I have had a full week with my new Kindle Paperwhite and I have to admit, I'm in love. Not just with the Kindle, but with reading all over again! Now let me relate this review, love, and reading all back to the Kindle. The investment of 139.00 is in the experience you will receive when you buy a Kindle. You are not simply paying for a screen there is an entire experience included in buying from Amazon.I have been reading The Hunger Games trilogy and shall be moving onto the Divergent series soon after. Here is the thing with the Nook that hindered me for the past 4 years: I was never inspired to pick it up, get it into my hands, and just dive in. There was never that feeling of oh man, reading on this thing is so awesome. However, with my Paperwhite, I now have that feeling! That desire is back and I simply adore my Kindle. If you are considering purchasing one, stop thinking about it simply go for it. After a full week, 3 downloaded books, and a ton of reading, I still have half of my battery left as well.Make yourself happy. Inspire the reader inside of you.</td>\n",
       "      <td>Allow me to preface this with a little history I am was a casual reader who owned a Nook Simple Touch from 2011 I ve read the Harry Potter series Girl with the Dragon Tattoo series 1984 Brave New World and a few other key titles Fair to say my Nook did not get as much use as many others may have gotten from theirs Fast forward to today I have had a full week with my new Kindle Paperwhite and I have to admit I m in love Not just with the Kindle but with reading all over again Now let me relate this review love and reading all back to the Kindle The investment of 139 00 is in the experience you will receive when you buy a Kindle You are not simply paying for a screen there is an entire experience included in buying from Amazon I have been reading The Hunger Games trilogy and shall be moving onto the Divergent series soon after Here is the thing with the Nook that hindered me for the past 4 years I was never inspired to pick it up get it into my hands and just dive in There was never that feeling of oh man reading on this thing is so awesome However with my Paperwhite I now have that feeling That desire is back and I simply adore my Kindle If you are considering purchasing one stop thinking about it simply go for it After a full week 3 downloaded books and a ton of reading I still have half of my battery left as well Make yourself happy Inspire the reader inside of you</td>\n",
       "    </tr>\n",
       "    <tr>\n",
       "      <th>2</th>\n",
       "      <td>I am enjoying it so far. Great for reading. Had the original Fire since 2012. The Fire used to make my eyes hurt if I read too long. Haven't experienced that with the Paperwhite yet.</td>\n",
       "      <td>I am enjoying it so far Great for reading Had the original Fire since 2012 The Fire used to make my eyes hurt if I read too long Haven t experienced that with the Paperwhite yet</td>\n",
       "    </tr>\n",
       "    <tr>\n",
       "      <th>3</th>\n",
       "      <td>I bought one of the first Paperwhites and have been very pleased with it its been a constant companion and I suppose Ive read, on average, a book every three days for the past however many years on it. I wouldnt give it up youd have to pry it from my cold dead fingers.For sundry logistical reasons, Ive also made good use of Amazons Kindle app on my iPhone. No Paperwhite screen, naturally, and all the cool usability that delivers, but it works well and has its own attractions as a companion to the Kindle.Of course, there are aspects of the Paperwhite which I would like to critique. Ah you knew that was coming somewhere, didnt you.As a member of BookBub, I get a daily list of alerts and book deals in my chosen genres. I take on many of them, however, Ive found that, even with the best will in the world, I cant keep up. Some days it seems that for every book I read, Ive bought two. Theres just so much good stuff out there! The accumulative effect of this is that the number of books actually on my Paperwhite has been creeping ever upward for some time. Its now at about 400.With this in mind, Ive noticed that while page-turning has remained exactly the same, just about every other action on the Kindle has become positively glacial. Not just very slow, but so slow you think its malfunctioning. The general consensus appears to be that its to be expected once one has that many books downloaded onto a Kindle, it will begin to behave in a flakey manner. This drives me mad. Amazon states it can hold thousands of books. I believe them. But I figure I would need a second Paperwhite to read while Im waiting for actions to complete on the first one.Read more</td>\n",
       "      <td>I bought one of the first Paperwhites and have been very pleased with it its been a constant companion and I suppose Ive read on average a book every three days for the past however many years on it I wouldnt give it up youd have to pry it from my cold dead fingers For sundry logistical reasons Ive also made good use of Amazons Kindle app on my iPhone No Paperwhite screen naturally and all the cool usability that delivers but it works well and has its own attractions as a companion to the Kindle Of course there are aspects of the Paperwhite which I would like to critique Ah you knew that was coming somewhere didnt you As a member of BookBub I get a daily list of alerts and book deals in my chosen genres I take on many of them however Ive found that even with the best will in the world I cant keep up Some days it seems that for every book I read Ive bought two Theres just so much good stuff out there The accumulative effect of this is that the number of books actually on my Paperwhite has been creeping ever upward for some time Its now at about 400 With this in mind Ive noticed that while page turning has remained exactly the same just about every other action on the Kindle has become positively glacial Not just very slow but so slow you think its malfunctioning The general consensus appears to be that its to be expected once one has that many books downloaded onto a Kindle it will begin to behave in a flakey manner This drives me mad Amazon states it can hold thousands of books I believe them But I figure I would need a second Paperwhite to read while Im waiting for actions to complete on the first one Read more</td>\n",
       "    </tr>\n",
       "  </tbody>\n",
       "</table>\n",
       "</div>"
      ],
      "text/plain": [
       "                                                                                                                                                                                                                                                                                                                                                                                                                                                                                                                                                                                                                                                                                                                                                                                                                                                                                                                                                                                                                                                                                                                                                                                                                                                                                                                                                                                                                                                                                                                                                                                                                                                                                                                            Product Review  \\\n",
       "0                                                                                                                                                                                                                                                                                                                                                                                                                                                                                                                                                                                                                                 I initially had trouble deciding between the paperwhite and the voyage because reviews more or less said the same thing: the paperwhite is great, but if you have spending money, go for the voyage.Fortunately, I had friends who owned each, so I ended up buying the paperwhite on this basis: both models now have 300 ppi, so the 80 dollar jump turns out pricey the voyage's page press isn't always sensitive, and if you are fine with a specific setting, you don't need auto light adjustment).It's been a week and I am loving my paperwhite, no regrets! The touch screen is receptive and easy to use, and I keep the light at a specific setting regardless of the time of day. (In any case, it's not hard to change the setting either, as you'll only be changing the light level at a certain time of day, not every now and then while reading).Also glad that I went for the international shipping option with Amazon. Extra expense, but delivery was on time, with tracking, and I didnt need to worry about customs, which I may have if I used a third party shipping service.   \n",
       "1                                                                                                                                                                                                                                                         Allow me to preface this with a little history. I am (was) a casual reader who owned a Nook Simple Touch from 2011. I've read the Harry Potter series, Girl with the Dragon Tattoo series, 1984, Brave New World, and a few other key titles. Fair to say my Nook did not get as much use as many others may have gotten from theirs.Fast forward to today. I have had a full week with my new Kindle Paperwhite and I have to admit, I'm in love. Not just with the Kindle, but with reading all over again! Now let me relate this review, love, and reading all back to the Kindle. The investment of 139.00 is in the experience you will receive when you buy a Kindle. You are not simply paying for a screen there is an entire experience included in buying from Amazon.I have been reading The Hunger Games trilogy and shall be moving onto the Divergent series soon after. Here is the thing with the Nook that hindered me for the past 4 years: I was never inspired to pick it up, get it into my hands, and just dive in. There was never that feeling of oh man, reading on this thing is so awesome. However, with my Paperwhite, I now have that feeling! That desire is back and I simply adore my Kindle. If you are considering purchasing one, stop thinking about it simply go for it. After a full week, 3 downloaded books, and a ton of reading, I still have half of my battery left as well.Make yourself happy. Inspire the reader inside of you.   \n",
       "2                                                                                                                                                                                                                                                                                                                                                                                                                                                                                                                                                                                                                                                                                                                                                                                                                                                                                                                                                                                                                                                                                                                                                                                                                                                                                                                                                                                                                                                                                                                                                   I am enjoying it so far. Great for reading. Had the original Fire since 2012. The Fire used to make my eyes hurt if I read too long. Haven't experienced that with the Paperwhite yet.   \n",
       "3  I bought one of the first Paperwhites and have been very pleased with it its been a constant companion and I suppose Ive read, on average, a book every three days for the past however many years on it. I wouldnt give it up youd have to pry it from my cold dead fingers.For sundry logistical reasons, Ive also made good use of Amazons Kindle app on my iPhone. No Paperwhite screen, naturally, and all the cool usability that delivers, but it works well and has its own attractions as a companion to the Kindle.Of course, there are aspects of the Paperwhite which I would like to critique. Ah you knew that was coming somewhere, didnt you.As a member of BookBub, I get a daily list of alerts and book deals in my chosen genres. I take on many of them, however, Ive found that, even with the best will in the world, I cant keep up. Some days it seems that for every book I read, Ive bought two. Theres just so much good stuff out there! The accumulative effect of this is that the number of books actually on my Paperwhite has been creeping ever upward for some time. Its now at about 400.With this in mind, Ive noticed that while page-turning has remained exactly the same, just about every other action on the Kindle has become positively glacial. Not just very slow, but so slow you think its malfunctioning. The general consensus appears to be that its to be expected once one has that many books downloaded onto a Kindle, it will begin to behave in a flakey manner. This drives me mad. Amazon states it can hold thousands of books. I believe them. But I figure I would need a second Paperwhite to read while Im waiting for actions to complete on the first one.Read more   \n",
       "\n",
       "                                                                                                                                                                                                                                                                                                                                                                                                                                                                                                                                                                                                                                                                                                                                                                                                                                                                                                                                                                                                                                                                                                                                                                                                                                                                                                                                                                                                                                                                                                                                                                                                                                                                                              cleaned_text  \n",
       "0                                                                                                                                                                                                                                                                                                                                                                                                                                                                                                                                                                                                                         I initially had trouble deciding between the paperwhite and the voyage because reviews more or less said the same thing the paperwhite is great but if you have spending money go for the voyage Fortunately I had friends who owned each so I ended up buying the paperwhite on this basis both models now have 300 ppi so the 80 dollar jump turns out pricey the voyage s page press isn t always sensitive and if you are fine with a specific setting you don t need auto light adjustment It s been a week and I am loving my paperwhite no regrets The touch screen is receptive and easy to use and I keep the light at a specific setting regardless of the time of day In any case it s not hard to change the setting either as you ll only be changing the light level at a certain time of day not every now and then while reading Also glad that I went for the international shipping option with Amazon Extra expense but delivery was on time with tracking and I didnt need to worry about customs which I may have if I used a third party shipping service   \n",
       "1                                                                                                                                                                                                                                                            Allow me to preface this with a little history I am was a casual reader who owned a Nook Simple Touch from 2011 I ve read the Harry Potter series Girl with the Dragon Tattoo series 1984 Brave New World and a few other key titles Fair to say my Nook did not get as much use as many others may have gotten from theirs Fast forward to today I have had a full week with my new Kindle Paperwhite and I have to admit I m in love Not just with the Kindle but with reading all over again Now let me relate this review love and reading all back to the Kindle The investment of 139 00 is in the experience you will receive when you buy a Kindle You are not simply paying for a screen there is an entire experience included in buying from Amazon I have been reading The Hunger Games trilogy and shall be moving onto the Divergent series soon after Here is the thing with the Nook that hindered me for the past 4 years I was never inspired to pick it up get it into my hands and just dive in There was never that feeling of oh man reading on this thing is so awesome However with my Paperwhite I now have that feeling That desire is back and I simply adore my Kindle If you are considering purchasing one stop thinking about it simply go for it After a full week 3 downloaded books and a ton of reading I still have half of my battery left as well Make yourself happy Inspire the reader inside of you   \n",
       "2                                                                                                                                                                                                                                                                                                                                                                                                                                                                                                                                                                                                                                                                                                                                                                                                                                                                                                                                                                                                                                                                                                                                                                                                                                                                                                                                                                                                                                                                                                                       I am enjoying it so far Great for reading Had the original Fire since 2012 The Fire used to make my eyes hurt if I read too long Haven t experienced that with the Paperwhite yet   \n",
       "3  I bought one of the first Paperwhites and have been very pleased with it its been a constant companion and I suppose Ive read on average a book every three days for the past however many years on it I wouldnt give it up youd have to pry it from my cold dead fingers For sundry logistical reasons Ive also made good use of Amazons Kindle app on my iPhone No Paperwhite screen naturally and all the cool usability that delivers but it works well and has its own attractions as a companion to the Kindle Of course there are aspects of the Paperwhite which I would like to critique Ah you knew that was coming somewhere didnt you As a member of BookBub I get a daily list of alerts and book deals in my chosen genres I take on many of them however Ive found that even with the best will in the world I cant keep up Some days it seems that for every book I read Ive bought two Theres just so much good stuff out there The accumulative effect of this is that the number of books actually on my Paperwhite has been creeping ever upward for some time Its now at about 400 With this in mind Ive noticed that while page turning has remained exactly the same just about every other action on the Kindle has become positively glacial Not just very slow but so slow you think its malfunctioning The general consensus appears to be that its to be expected once one has that many books downloaded onto a Kindle it will begin to behave in a flakey manner This drives me mad Amazon states it can hold thousands of books I believe them But I figure I would need a second Paperwhite to read while Im waiting for actions to complete on the first one Read more  "
      ]
     },
     "execution_count": 15,
     "metadata": {},
     "output_type": "execute_result"
    }
   ],
   "source": [
    "# checking a couple of instances of cleaned data\n",
    "data.loc[0:3, ['Product Review','cleaned_text']]"
   ]
  },
  {
   "cell_type": "markdown",
   "metadata": {
    "id": "QpsuDWLnyJFw"
   },
   "source": [
    "- We can observe that the function removed the special characters and retained the alphabets and numbers."
   ]
  },
  {
   "cell_type": "markdown",
   "metadata": {
    "id": "2DftSZK9yQ74"
   },
   "source": [
    "### Lowercasing"
   ]
  },
  {
   "cell_type": "code",
   "execution_count": 16,
   "metadata": {
    "id": "JLOmMLSLRJT0"
   },
   "outputs": [],
   "source": [
    "# changing the case of the text data to lower case\n",
    "data['cleaned_text'] = data['cleaned_text'].str.lower()"
   ]
  },
  {
   "cell_type": "code",
   "execution_count": 17,
   "metadata": {
    "id": "P80CyzprdHH1"
   },
   "outputs": [
    {
     "data": {
      "application/vnd.microsoft.datawrangler.viewer.v0+json": {
       "columns": [
        {
         "name": "index",
         "rawType": "int64",
         "type": "integer"
        },
        {
         "name": "Product Review",
         "rawType": "object",
         "type": "string"
        },
        {
         "name": "cleaned_text",
         "rawType": "object",
         "type": "string"
        }
       ],
       "ref": "1e034d75-9c20-4ea3-984a-5ffdb72eea76",
       "rows": [
        [
         "0",
         "I initially had trouble deciding between the paperwhite and the voyage because reviews more or less said the same thing: the paperwhite is great, but if you have spending money, go for the voyage.Fortunately, I had friends who owned each, so I ended up buying the paperwhite on this basis: both models now have 300 ppi, so the 80 dollar jump turns out pricey the voyage's page press isn't always sensitive, and if you are fine with a specific setting, you don't need auto light adjustment).It's been a week and I am loving my paperwhite, no regrets! The touch screen is receptive and easy to use, and I keep the light at a specific setting regardless of the time of day. (In any case, it's not hard to change the setting either, as you'll only be changing the light level at a certain time of day, not every now and then while reading).Also glad that I went for the international shipping option with Amazon. Extra expense, but delivery was on time, with tracking, and I didnt need to worry about customs, which I may have if I used a third party shipping service.",
         "i initially had trouble deciding between the paperwhite and the voyage because reviews more or less said the same thing the paperwhite is great but if you have spending money go for the voyage fortunately i had friends who owned each so i ended up buying the paperwhite on this basis both models now have 300 ppi so the 80 dollar jump turns out pricey the voyage s page press isn t always sensitive and if you are fine with a specific setting you don t need auto light adjustment it s been a week and i am loving my paperwhite no regrets the touch screen is receptive and easy to use and i keep the light at a specific setting regardless of the time of day in any case it s not hard to change the setting either as you ll only be changing the light level at a certain time of day not every now and then while reading also glad that i went for the international shipping option with amazon extra expense but delivery was on time with tracking and i didnt need to worry about customs which i may have if i used a third party shipping service "
        ],
        [
         "1",
         "Allow me to preface this with a little history. I am (was) a casual reader who owned a Nook Simple Touch from 2011. I've read the Harry Potter series, Girl with the Dragon Tattoo series, 1984, Brave New World, and a few other key titles. Fair to say my Nook did not get as much use as many others may have gotten from theirs.Fast forward to today. I have had a full week with my new Kindle Paperwhite and I have to admit, I'm in love. Not just with the Kindle, but with reading all over again! Now let me relate this review, love, and reading all back to the Kindle. The investment of 139.00 is in the experience you will receive when you buy a Kindle. You are not simply paying for a screen there is an entire experience included in buying from Amazon.I have been reading The Hunger Games trilogy and shall be moving onto the Divergent series soon after. Here is the thing with the Nook that hindered me for the past 4 years: I was never inspired to pick it up, get it into my hands, and just dive in. There was never that feeling of oh man, reading on this thing is so awesome. However, with my Paperwhite, I now have that feeling! That desire is back and I simply adore my Kindle. If you are considering purchasing one, stop thinking about it simply go for it. After a full week, 3 downloaded books, and a ton of reading, I still have half of my battery left as well.Make yourself happy. Inspire the reader inside of you.",
         "allow me to preface this with a little history i am was a casual reader who owned a nook simple touch from 2011 i ve read the harry potter series girl with the dragon tattoo series 1984 brave new world and a few other key titles fair to say my nook did not get as much use as many others may have gotten from theirs fast forward to today i have had a full week with my new kindle paperwhite and i have to admit i m in love not just with the kindle but with reading all over again now let me relate this review love and reading all back to the kindle the investment of 139 00 is in the experience you will receive when you buy a kindle you are not simply paying for a screen there is an entire experience included in buying from amazon i have been reading the hunger games trilogy and shall be moving onto the divergent series soon after here is the thing with the nook that hindered me for the past 4 years i was never inspired to pick it up get it into my hands and just dive in there was never that feeling of oh man reading on this thing is so awesome however with my paperwhite i now have that feeling that desire is back and i simply adore my kindle if you are considering purchasing one stop thinking about it simply go for it after a full week 3 downloaded books and a ton of reading i still have half of my battery left as well make yourself happy inspire the reader inside of you "
        ],
        [
         "2",
         "I am enjoying it so far. Great for reading. Had the original Fire since 2012. The Fire used to make my eyes hurt if I read too long. Haven't experienced that with the Paperwhite yet.",
         "i am enjoying it so far great for reading had the original fire since 2012 the fire used to make my eyes hurt if i read too long haven t experienced that with the paperwhite yet "
        ],
        [
         "3",
         "I bought one of the first Paperwhites and have been very pleased with it its been a constant companion and I suppose Ive read, on average, a book every three days for the past however many years on it. I wouldnt give it up youd have to pry it from my cold dead fingers.For sundry logistical reasons, Ive also made good use of Amazons Kindle app on my iPhone. No Paperwhite screen, naturally, and all the cool usability that delivers, but it works well and has its own attractions as a companion to the Kindle.Of course, there are aspects of the Paperwhite which I would like to critique. Ah you knew that was coming somewhere, didnt you.As a member of BookBub, I get a daily list of alerts and book deals in my chosen genres. I take on many of them, however, Ive found that, even with the best will in the world, I cant keep up. Some days it seems that for every book I read, Ive bought two. Theres just so much good stuff out there! The accumulative effect of this is that the number of books actually on my Paperwhite has been creeping ever upward for some time. Its now at about 400.With this in mind, Ive noticed that while page-turning has remained exactly the same, just about every other action on the Kindle has become positively glacial. Not just very slow, but so slow you think its malfunctioning. The general consensus appears to be that its to be expected once one has that many books downloaded onto a Kindle, it will begin to behave in a flakey manner. This drives me mad. Amazon states it can hold thousands of books. I believe them. But I figure I would need a second Paperwhite to read while Im waiting for actions to complete on the first one.Read more",
         "i bought one of the first paperwhites and have been very pleased with it its been a constant companion and i suppose ive read on average a book every three days for the past however many years on it i wouldnt give it up youd have to pry it from my cold dead fingers for sundry logistical reasons ive also made good use of amazons kindle app on my iphone no paperwhite screen naturally and all the cool usability that delivers but it works well and has its own attractions as a companion to the kindle of course there are aspects of the paperwhite which i would like to critique ah you knew that was coming somewhere didnt you as a member of bookbub i get a daily list of alerts and book deals in my chosen genres i take on many of them however ive found that even with the best will in the world i cant keep up some days it seems that for every book i read ive bought two theres just so much good stuff out there the accumulative effect of this is that the number of books actually on my paperwhite has been creeping ever upward for some time its now at about 400 with this in mind ive noticed that while page turning has remained exactly the same just about every other action on the kindle has become positively glacial not just very slow but so slow you think its malfunctioning the general consensus appears to be that its to be expected once one has that many books downloaded onto a kindle it will begin to behave in a flakey manner this drives me mad amazon states it can hold thousands of books i believe them but i figure i would need a second paperwhite to read while im waiting for actions to complete on the first one read more"
        ]
       ],
       "shape": {
        "columns": 2,
        "rows": 4
       }
      },
      "text/html": [
       "<div>\n",
       "<style scoped>\n",
       "    .dataframe tbody tr th:only-of-type {\n",
       "        vertical-align: middle;\n",
       "    }\n",
       "\n",
       "    .dataframe tbody tr th {\n",
       "        vertical-align: top;\n",
       "    }\n",
       "\n",
       "    .dataframe thead th {\n",
       "        text-align: right;\n",
       "    }\n",
       "</style>\n",
       "<table border=\"1\" class=\"dataframe\">\n",
       "  <thead>\n",
       "    <tr style=\"text-align: right;\">\n",
       "      <th></th>\n",
       "      <th>Product Review</th>\n",
       "      <th>cleaned_text</th>\n",
       "    </tr>\n",
       "  </thead>\n",
       "  <tbody>\n",
       "    <tr>\n",
       "      <th>0</th>\n",
       "      <td>I initially had trouble deciding between the paperwhite and the voyage because reviews more or less said the same thing: the paperwhite is great, but if you have spending money, go for the voyage.Fortunately, I had friends who owned each, so I ended up buying the paperwhite on this basis: both models now have 300 ppi, so the 80 dollar jump turns out pricey the voyage's page press isn't always sensitive, and if you are fine with a specific setting, you don't need auto light adjustment).It's been a week and I am loving my paperwhite, no regrets! The touch screen is receptive and easy to use, and I keep the light at a specific setting regardless of the time of day. (In any case, it's not hard to change the setting either, as you'll only be changing the light level at a certain time of day, not every now and then while reading).Also glad that I went for the international shipping option with Amazon. Extra expense, but delivery was on time, with tracking, and I didnt need to worry about customs, which I may have if I used a third party shipping service.</td>\n",
       "      <td>i initially had trouble deciding between the paperwhite and the voyage because reviews more or less said the same thing the paperwhite is great but if you have spending money go for the voyage fortunately i had friends who owned each so i ended up buying the paperwhite on this basis both models now have 300 ppi so the 80 dollar jump turns out pricey the voyage s page press isn t always sensitive and if you are fine with a specific setting you don t need auto light adjustment it s been a week and i am loving my paperwhite no regrets the touch screen is receptive and easy to use and i keep the light at a specific setting regardless of the time of day in any case it s not hard to change the setting either as you ll only be changing the light level at a certain time of day not every now and then while reading also glad that i went for the international shipping option with amazon extra expense but delivery was on time with tracking and i didnt need to worry about customs which i may have if i used a third party shipping service</td>\n",
       "    </tr>\n",
       "    <tr>\n",
       "      <th>1</th>\n",
       "      <td>Allow me to preface this with a little history. I am (was) a casual reader who owned a Nook Simple Touch from 2011. I've read the Harry Potter series, Girl with the Dragon Tattoo series, 1984, Brave New World, and a few other key titles. Fair to say my Nook did not get as much use as many others may have gotten from theirs.Fast forward to today. I have had a full week with my new Kindle Paperwhite and I have to admit, I'm in love. Not just with the Kindle, but with reading all over again! Now let me relate this review, love, and reading all back to the Kindle. The investment of 139.00 is in the experience you will receive when you buy a Kindle. You are not simply paying for a screen there is an entire experience included in buying from Amazon.I have been reading The Hunger Games trilogy and shall be moving onto the Divergent series soon after. Here is the thing with the Nook that hindered me for the past 4 years: I was never inspired to pick it up, get it into my hands, and just dive in. There was never that feeling of oh man, reading on this thing is so awesome. However, with my Paperwhite, I now have that feeling! That desire is back and I simply adore my Kindle. If you are considering purchasing one, stop thinking about it simply go for it. After a full week, 3 downloaded books, and a ton of reading, I still have half of my battery left as well.Make yourself happy. Inspire the reader inside of you.</td>\n",
       "      <td>allow me to preface this with a little history i am was a casual reader who owned a nook simple touch from 2011 i ve read the harry potter series girl with the dragon tattoo series 1984 brave new world and a few other key titles fair to say my nook did not get as much use as many others may have gotten from theirs fast forward to today i have had a full week with my new kindle paperwhite and i have to admit i m in love not just with the kindle but with reading all over again now let me relate this review love and reading all back to the kindle the investment of 139 00 is in the experience you will receive when you buy a kindle you are not simply paying for a screen there is an entire experience included in buying from amazon i have been reading the hunger games trilogy and shall be moving onto the divergent series soon after here is the thing with the nook that hindered me for the past 4 years i was never inspired to pick it up get it into my hands and just dive in there was never that feeling of oh man reading on this thing is so awesome however with my paperwhite i now have that feeling that desire is back and i simply adore my kindle if you are considering purchasing one stop thinking about it simply go for it after a full week 3 downloaded books and a ton of reading i still have half of my battery left as well make yourself happy inspire the reader inside of you</td>\n",
       "    </tr>\n",
       "    <tr>\n",
       "      <th>2</th>\n",
       "      <td>I am enjoying it so far. Great for reading. Had the original Fire since 2012. The Fire used to make my eyes hurt if I read too long. Haven't experienced that with the Paperwhite yet.</td>\n",
       "      <td>i am enjoying it so far great for reading had the original fire since 2012 the fire used to make my eyes hurt if i read too long haven t experienced that with the paperwhite yet</td>\n",
       "    </tr>\n",
       "    <tr>\n",
       "      <th>3</th>\n",
       "      <td>I bought one of the first Paperwhites and have been very pleased with it its been a constant companion and I suppose Ive read, on average, a book every three days for the past however many years on it. I wouldnt give it up youd have to pry it from my cold dead fingers.For sundry logistical reasons, Ive also made good use of Amazons Kindle app on my iPhone. No Paperwhite screen, naturally, and all the cool usability that delivers, but it works well and has its own attractions as a companion to the Kindle.Of course, there are aspects of the Paperwhite which I would like to critique. Ah you knew that was coming somewhere, didnt you.As a member of BookBub, I get a daily list of alerts and book deals in my chosen genres. I take on many of them, however, Ive found that, even with the best will in the world, I cant keep up. Some days it seems that for every book I read, Ive bought two. Theres just so much good stuff out there! The accumulative effect of this is that the number of books actually on my Paperwhite has been creeping ever upward for some time. Its now at about 400.With this in mind, Ive noticed that while page-turning has remained exactly the same, just about every other action on the Kindle has become positively glacial. Not just very slow, but so slow you think its malfunctioning. The general consensus appears to be that its to be expected once one has that many books downloaded onto a Kindle, it will begin to behave in a flakey manner. This drives me mad. Amazon states it can hold thousands of books. I believe them. But I figure I would need a second Paperwhite to read while Im waiting for actions to complete on the first one.Read more</td>\n",
       "      <td>i bought one of the first paperwhites and have been very pleased with it its been a constant companion and i suppose ive read on average a book every three days for the past however many years on it i wouldnt give it up youd have to pry it from my cold dead fingers for sundry logistical reasons ive also made good use of amazons kindle app on my iphone no paperwhite screen naturally and all the cool usability that delivers but it works well and has its own attractions as a companion to the kindle of course there are aspects of the paperwhite which i would like to critique ah you knew that was coming somewhere didnt you as a member of bookbub i get a daily list of alerts and book deals in my chosen genres i take on many of them however ive found that even with the best will in the world i cant keep up some days it seems that for every book i read ive bought two theres just so much good stuff out there the accumulative effect of this is that the number of books actually on my paperwhite has been creeping ever upward for some time its now at about 400 with this in mind ive noticed that while page turning has remained exactly the same just about every other action on the kindle has become positively glacial not just very slow but so slow you think its malfunctioning the general consensus appears to be that its to be expected once one has that many books downloaded onto a kindle it will begin to behave in a flakey manner this drives me mad amazon states it can hold thousands of books i believe them but i figure i would need a second paperwhite to read while im waiting for actions to complete on the first one read more</td>\n",
       "    </tr>\n",
       "  </tbody>\n",
       "</table>\n",
       "</div>"
      ],
      "text/plain": [
       "                                                                                                                                                                                                                                                                                                                                                                                                                                                                                                                                                                                                                                                                                                                                                                                                                                                                                                                                                                                                                                                                                                                                                                                                                                                                                                                                                                                                                                                                                                                                                                                                                                                                                                                            Product Review  \\\n",
       "0                                                                                                                                                                                                                                                                                                                                                                                                                                                                                                                                                                                                                                 I initially had trouble deciding between the paperwhite and the voyage because reviews more or less said the same thing: the paperwhite is great, but if you have spending money, go for the voyage.Fortunately, I had friends who owned each, so I ended up buying the paperwhite on this basis: both models now have 300 ppi, so the 80 dollar jump turns out pricey the voyage's page press isn't always sensitive, and if you are fine with a specific setting, you don't need auto light adjustment).It's been a week and I am loving my paperwhite, no regrets! The touch screen is receptive and easy to use, and I keep the light at a specific setting regardless of the time of day. (In any case, it's not hard to change the setting either, as you'll only be changing the light level at a certain time of day, not every now and then while reading).Also glad that I went for the international shipping option with Amazon. Extra expense, but delivery was on time, with tracking, and I didnt need to worry about customs, which I may have if I used a third party shipping service.   \n",
       "1                                                                                                                                                                                                                                                         Allow me to preface this with a little history. I am (was) a casual reader who owned a Nook Simple Touch from 2011. I've read the Harry Potter series, Girl with the Dragon Tattoo series, 1984, Brave New World, and a few other key titles. Fair to say my Nook did not get as much use as many others may have gotten from theirs.Fast forward to today. I have had a full week with my new Kindle Paperwhite and I have to admit, I'm in love. Not just with the Kindle, but with reading all over again! Now let me relate this review, love, and reading all back to the Kindle. The investment of 139.00 is in the experience you will receive when you buy a Kindle. You are not simply paying for a screen there is an entire experience included in buying from Amazon.I have been reading The Hunger Games trilogy and shall be moving onto the Divergent series soon after. Here is the thing with the Nook that hindered me for the past 4 years: I was never inspired to pick it up, get it into my hands, and just dive in. There was never that feeling of oh man, reading on this thing is so awesome. However, with my Paperwhite, I now have that feeling! That desire is back and I simply adore my Kindle. If you are considering purchasing one, stop thinking about it simply go for it. After a full week, 3 downloaded books, and a ton of reading, I still have half of my battery left as well.Make yourself happy. Inspire the reader inside of you.   \n",
       "2                                                                                                                                                                                                                                                                                                                                                                                                                                                                                                                                                                                                                                                                                                                                                                                                                                                                                                                                                                                                                                                                                                                                                                                                                                                                                                                                                                                                                                                                                                                                                   I am enjoying it so far. Great for reading. Had the original Fire since 2012. The Fire used to make my eyes hurt if I read too long. Haven't experienced that with the Paperwhite yet.   \n",
       "3  I bought one of the first Paperwhites and have been very pleased with it its been a constant companion and I suppose Ive read, on average, a book every three days for the past however many years on it. I wouldnt give it up youd have to pry it from my cold dead fingers.For sundry logistical reasons, Ive also made good use of Amazons Kindle app on my iPhone. No Paperwhite screen, naturally, and all the cool usability that delivers, but it works well and has its own attractions as a companion to the Kindle.Of course, there are aspects of the Paperwhite which I would like to critique. Ah you knew that was coming somewhere, didnt you.As a member of BookBub, I get a daily list of alerts and book deals in my chosen genres. I take on many of them, however, Ive found that, even with the best will in the world, I cant keep up. Some days it seems that for every book I read, Ive bought two. Theres just so much good stuff out there! The accumulative effect of this is that the number of books actually on my Paperwhite has been creeping ever upward for some time. Its now at about 400.With this in mind, Ive noticed that while page-turning has remained exactly the same, just about every other action on the Kindle has become positively glacial. Not just very slow, but so slow you think its malfunctioning. The general consensus appears to be that its to be expected once one has that many books downloaded onto a Kindle, it will begin to behave in a flakey manner. This drives me mad. Amazon states it can hold thousands of books. I believe them. But I figure I would need a second Paperwhite to read while Im waiting for actions to complete on the first one.Read more   \n",
       "\n",
       "                                                                                                                                                                                                                                                                                                                                                                                                                                                                                                                                                                                                                                                                                                                                                                                                                                                                                                                                                                                                                                                                                                                                                                                                                                                                                                                                                                                                                                                                                                                                                                                                                                                                                              cleaned_text  \n",
       "0                                                                                                                                                                                                                                                                                                                                                                                                                                                                                                                                                                                                                         i initially had trouble deciding between the paperwhite and the voyage because reviews more or less said the same thing the paperwhite is great but if you have spending money go for the voyage fortunately i had friends who owned each so i ended up buying the paperwhite on this basis both models now have 300 ppi so the 80 dollar jump turns out pricey the voyage s page press isn t always sensitive and if you are fine with a specific setting you don t need auto light adjustment it s been a week and i am loving my paperwhite no regrets the touch screen is receptive and easy to use and i keep the light at a specific setting regardless of the time of day in any case it s not hard to change the setting either as you ll only be changing the light level at a certain time of day not every now and then while reading also glad that i went for the international shipping option with amazon extra expense but delivery was on time with tracking and i didnt need to worry about customs which i may have if i used a third party shipping service   \n",
       "1                                                                                                                                                                                                                                                            allow me to preface this with a little history i am was a casual reader who owned a nook simple touch from 2011 i ve read the harry potter series girl with the dragon tattoo series 1984 brave new world and a few other key titles fair to say my nook did not get as much use as many others may have gotten from theirs fast forward to today i have had a full week with my new kindle paperwhite and i have to admit i m in love not just with the kindle but with reading all over again now let me relate this review love and reading all back to the kindle the investment of 139 00 is in the experience you will receive when you buy a kindle you are not simply paying for a screen there is an entire experience included in buying from amazon i have been reading the hunger games trilogy and shall be moving onto the divergent series soon after here is the thing with the nook that hindered me for the past 4 years i was never inspired to pick it up get it into my hands and just dive in there was never that feeling of oh man reading on this thing is so awesome however with my paperwhite i now have that feeling that desire is back and i simply adore my kindle if you are considering purchasing one stop thinking about it simply go for it after a full week 3 downloaded books and a ton of reading i still have half of my battery left as well make yourself happy inspire the reader inside of you   \n",
       "2                                                                                                                                                                                                                                                                                                                                                                                                                                                                                                                                                                                                                                                                                                                                                                                                                                                                                                                                                                                                                                                                                                                                                                                                                                                                                                                                                                                                                                                                                                                       i am enjoying it so far great for reading had the original fire since 2012 the fire used to make my eyes hurt if i read too long haven t experienced that with the paperwhite yet   \n",
       "3  i bought one of the first paperwhites and have been very pleased with it its been a constant companion and i suppose ive read on average a book every three days for the past however many years on it i wouldnt give it up youd have to pry it from my cold dead fingers for sundry logistical reasons ive also made good use of amazons kindle app on my iphone no paperwhite screen naturally and all the cool usability that delivers but it works well and has its own attractions as a companion to the kindle of course there are aspects of the paperwhite which i would like to critique ah you knew that was coming somewhere didnt you as a member of bookbub i get a daily list of alerts and book deals in my chosen genres i take on many of them however ive found that even with the best will in the world i cant keep up some days it seems that for every book i read ive bought two theres just so much good stuff out there the accumulative effect of this is that the number of books actually on my paperwhite has been creeping ever upward for some time its now at about 400 with this in mind ive noticed that while page turning has remained exactly the same just about every other action on the kindle has become positively glacial not just very slow but so slow you think its malfunctioning the general consensus appears to be that its to be expected once one has that many books downloaded onto a kindle it will begin to behave in a flakey manner this drives me mad amazon states it can hold thousands of books i believe them but i figure i would need a second paperwhite to read while im waiting for actions to complete on the first one read more  "
      ]
     },
     "execution_count": 17,
     "metadata": {},
     "output_type": "execute_result"
    }
   ],
   "source": [
    "# checking a couple of instances of cleaned data\n",
    "data.loc[0:3, ['Product Review','cleaned_text']]"
   ]
  },
  {
   "cell_type": "markdown",
   "metadata": {
    "id": "dF_kFCAxyg6L"
   },
   "source": [
    "- We can observe that all the text has now successfully been converted to lower case."
   ]
  },
  {
   "cell_type": "markdown",
   "metadata": {
    "id": "hLoWwpxzylZH"
   },
   "source": [
    "### Removing extra whitespace"
   ]
  },
  {
   "cell_type": "code",
   "execution_count": 18,
   "metadata": {
    "id": "CjJN53m8RWCW"
   },
   "outputs": [],
   "source": [
    "# removing extra whitespaces from the text\n",
    "data['cleaned_text'] = data['cleaned_text'].str.strip()"
   ]
  },
  {
   "cell_type": "code",
   "execution_count": 19,
   "metadata": {
    "id": "yCx3mBXiHRax"
   },
   "outputs": [
    {
     "data": {
      "application/vnd.microsoft.datawrangler.viewer.v0+json": {
       "columns": [
        {
         "name": "index",
         "rawType": "int64",
         "type": "integer"
        },
        {
         "name": "Product Review",
         "rawType": "object",
         "type": "string"
        },
        {
         "name": "cleaned_text",
         "rawType": "object",
         "type": "string"
        }
       ],
       "ref": "0338cbc0-0fde-4e40-be88-8e6b0706ccb1",
       "rows": [
        [
         "0",
         "I initially had trouble deciding between the paperwhite and the voyage because reviews more or less said the same thing: the paperwhite is great, but if you have spending money, go for the voyage.Fortunately, I had friends who owned each, so I ended up buying the paperwhite on this basis: both models now have 300 ppi, so the 80 dollar jump turns out pricey the voyage's page press isn't always sensitive, and if you are fine with a specific setting, you don't need auto light adjustment).It's been a week and I am loving my paperwhite, no regrets! The touch screen is receptive and easy to use, and I keep the light at a specific setting regardless of the time of day. (In any case, it's not hard to change the setting either, as you'll only be changing the light level at a certain time of day, not every now and then while reading).Also glad that I went for the international shipping option with Amazon. Extra expense, but delivery was on time, with tracking, and I didnt need to worry about customs, which I may have if I used a third party shipping service.",
         "i initially had trouble deciding between the paperwhite and the voyage because reviews more or less said the same thing the paperwhite is great but if you have spending money go for the voyage fortunately i had friends who owned each so i ended up buying the paperwhite on this basis both models now have 300 ppi so the 80 dollar jump turns out pricey the voyage s page press isn t always sensitive and if you are fine with a specific setting you don t need auto light adjustment it s been a week and i am loving my paperwhite no regrets the touch screen is receptive and easy to use and i keep the light at a specific setting regardless of the time of day in any case it s not hard to change the setting either as you ll only be changing the light level at a certain time of day not every now and then while reading also glad that i went for the international shipping option with amazon extra expense but delivery was on time with tracking and i didnt need to worry about customs which i may have if i used a third party shipping service"
        ],
        [
         "1",
         "Allow me to preface this with a little history. I am (was) a casual reader who owned a Nook Simple Touch from 2011. I've read the Harry Potter series, Girl with the Dragon Tattoo series, 1984, Brave New World, and a few other key titles. Fair to say my Nook did not get as much use as many others may have gotten from theirs.Fast forward to today. I have had a full week with my new Kindle Paperwhite and I have to admit, I'm in love. Not just with the Kindle, but with reading all over again! Now let me relate this review, love, and reading all back to the Kindle. The investment of 139.00 is in the experience you will receive when you buy a Kindle. You are not simply paying for a screen there is an entire experience included in buying from Amazon.I have been reading The Hunger Games trilogy and shall be moving onto the Divergent series soon after. Here is the thing with the Nook that hindered me for the past 4 years: I was never inspired to pick it up, get it into my hands, and just dive in. There was never that feeling of oh man, reading on this thing is so awesome. However, with my Paperwhite, I now have that feeling! That desire is back and I simply adore my Kindle. If you are considering purchasing one, stop thinking about it simply go for it. After a full week, 3 downloaded books, and a ton of reading, I still have half of my battery left as well.Make yourself happy. Inspire the reader inside of you.",
         "allow me to preface this with a little history i am was a casual reader who owned a nook simple touch from 2011 i ve read the harry potter series girl with the dragon tattoo series 1984 brave new world and a few other key titles fair to say my nook did not get as much use as many others may have gotten from theirs fast forward to today i have had a full week with my new kindle paperwhite and i have to admit i m in love not just with the kindle but with reading all over again now let me relate this review love and reading all back to the kindle the investment of 139 00 is in the experience you will receive when you buy a kindle you are not simply paying for a screen there is an entire experience included in buying from amazon i have been reading the hunger games trilogy and shall be moving onto the divergent series soon after here is the thing with the nook that hindered me for the past 4 years i was never inspired to pick it up get it into my hands and just dive in there was never that feeling of oh man reading on this thing is so awesome however with my paperwhite i now have that feeling that desire is back and i simply adore my kindle if you are considering purchasing one stop thinking about it simply go for it after a full week 3 downloaded books and a ton of reading i still have half of my battery left as well make yourself happy inspire the reader inside of you"
        ],
        [
         "2",
         "I am enjoying it so far. Great for reading. Had the original Fire since 2012. The Fire used to make my eyes hurt if I read too long. Haven't experienced that with the Paperwhite yet.",
         "i am enjoying it so far great for reading had the original fire since 2012 the fire used to make my eyes hurt if i read too long haven t experienced that with the paperwhite yet"
        ],
        [
         "3",
         "I bought one of the first Paperwhites and have been very pleased with it its been a constant companion and I suppose Ive read, on average, a book every three days for the past however many years on it. I wouldnt give it up youd have to pry it from my cold dead fingers.For sundry logistical reasons, Ive also made good use of Amazons Kindle app on my iPhone. No Paperwhite screen, naturally, and all the cool usability that delivers, but it works well and has its own attractions as a companion to the Kindle.Of course, there are aspects of the Paperwhite which I would like to critique. Ah you knew that was coming somewhere, didnt you.As a member of BookBub, I get a daily list of alerts and book deals in my chosen genres. I take on many of them, however, Ive found that, even with the best will in the world, I cant keep up. Some days it seems that for every book I read, Ive bought two. Theres just so much good stuff out there! The accumulative effect of this is that the number of books actually on my Paperwhite has been creeping ever upward for some time. Its now at about 400.With this in mind, Ive noticed that while page-turning has remained exactly the same, just about every other action on the Kindle has become positively glacial. Not just very slow, but so slow you think its malfunctioning. The general consensus appears to be that its to be expected once one has that many books downloaded onto a Kindle, it will begin to behave in a flakey manner. This drives me mad. Amazon states it can hold thousands of books. I believe them. But I figure I would need a second Paperwhite to read while Im waiting for actions to complete on the first one.Read more",
         "i bought one of the first paperwhites and have been very pleased with it its been a constant companion and i suppose ive read on average a book every three days for the past however many years on it i wouldnt give it up youd have to pry it from my cold dead fingers for sundry logistical reasons ive also made good use of amazons kindle app on my iphone no paperwhite screen naturally and all the cool usability that delivers but it works well and has its own attractions as a companion to the kindle of course there are aspects of the paperwhite which i would like to critique ah you knew that was coming somewhere didnt you as a member of bookbub i get a daily list of alerts and book deals in my chosen genres i take on many of them however ive found that even with the best will in the world i cant keep up some days it seems that for every book i read ive bought two theres just so much good stuff out there the accumulative effect of this is that the number of books actually on my paperwhite has been creeping ever upward for some time its now at about 400 with this in mind ive noticed that while page turning has remained exactly the same just about every other action on the kindle has become positively glacial not just very slow but so slow you think its malfunctioning the general consensus appears to be that its to be expected once one has that many books downloaded onto a kindle it will begin to behave in a flakey manner this drives me mad amazon states it can hold thousands of books i believe them but i figure i would need a second paperwhite to read while im waiting for actions to complete on the first one read more"
        ]
       ],
       "shape": {
        "columns": 2,
        "rows": 4
       }
      },
      "text/html": [
       "<div>\n",
       "<style scoped>\n",
       "    .dataframe tbody tr th:only-of-type {\n",
       "        vertical-align: middle;\n",
       "    }\n",
       "\n",
       "    .dataframe tbody tr th {\n",
       "        vertical-align: top;\n",
       "    }\n",
       "\n",
       "    .dataframe thead th {\n",
       "        text-align: right;\n",
       "    }\n",
       "</style>\n",
       "<table border=\"1\" class=\"dataframe\">\n",
       "  <thead>\n",
       "    <tr style=\"text-align: right;\">\n",
       "      <th></th>\n",
       "      <th>Product Review</th>\n",
       "      <th>cleaned_text</th>\n",
       "    </tr>\n",
       "  </thead>\n",
       "  <tbody>\n",
       "    <tr>\n",
       "      <th>0</th>\n",
       "      <td>I initially had trouble deciding between the paperwhite and the voyage because reviews more or less said the same thing: the paperwhite is great, but if you have spending money, go for the voyage.Fortunately, I had friends who owned each, so I ended up buying the paperwhite on this basis: both models now have 300 ppi, so the 80 dollar jump turns out pricey the voyage's page press isn't always sensitive, and if you are fine with a specific setting, you don't need auto light adjustment).It's been a week and I am loving my paperwhite, no regrets! The touch screen is receptive and easy to use, and I keep the light at a specific setting regardless of the time of day. (In any case, it's not hard to change the setting either, as you'll only be changing the light level at a certain time of day, not every now and then while reading).Also glad that I went for the international shipping option with Amazon. Extra expense, but delivery was on time, with tracking, and I didnt need to worry about customs, which I may have if I used a third party shipping service.</td>\n",
       "      <td>i initially had trouble deciding between the paperwhite and the voyage because reviews more or less said the same thing the paperwhite is great but if you have spending money go for the voyage fortunately i had friends who owned each so i ended up buying the paperwhite on this basis both models now have 300 ppi so the 80 dollar jump turns out pricey the voyage s page press isn t always sensitive and if you are fine with a specific setting you don t need auto light adjustment it s been a week and i am loving my paperwhite no regrets the touch screen is receptive and easy to use and i keep the light at a specific setting regardless of the time of day in any case it s not hard to change the setting either as you ll only be changing the light level at a certain time of day not every now and then while reading also glad that i went for the international shipping option with amazon extra expense but delivery was on time with tracking and i didnt need to worry about customs which i may have if i used a third party shipping service</td>\n",
       "    </tr>\n",
       "    <tr>\n",
       "      <th>1</th>\n",
       "      <td>Allow me to preface this with a little history. I am (was) a casual reader who owned a Nook Simple Touch from 2011. I've read the Harry Potter series, Girl with the Dragon Tattoo series, 1984, Brave New World, and a few other key titles. Fair to say my Nook did not get as much use as many others may have gotten from theirs.Fast forward to today. I have had a full week with my new Kindle Paperwhite and I have to admit, I'm in love. Not just with the Kindle, but with reading all over again! Now let me relate this review, love, and reading all back to the Kindle. The investment of 139.00 is in the experience you will receive when you buy a Kindle. You are not simply paying for a screen there is an entire experience included in buying from Amazon.I have been reading The Hunger Games trilogy and shall be moving onto the Divergent series soon after. Here is the thing with the Nook that hindered me for the past 4 years: I was never inspired to pick it up, get it into my hands, and just dive in. There was never that feeling of oh man, reading on this thing is so awesome. However, with my Paperwhite, I now have that feeling! That desire is back and I simply adore my Kindle. If you are considering purchasing one, stop thinking about it simply go for it. After a full week, 3 downloaded books, and a ton of reading, I still have half of my battery left as well.Make yourself happy. Inspire the reader inside of you.</td>\n",
       "      <td>allow me to preface this with a little history i am was a casual reader who owned a nook simple touch from 2011 i ve read the harry potter series girl with the dragon tattoo series 1984 brave new world and a few other key titles fair to say my nook did not get as much use as many others may have gotten from theirs fast forward to today i have had a full week with my new kindle paperwhite and i have to admit i m in love not just with the kindle but with reading all over again now let me relate this review love and reading all back to the kindle the investment of 139 00 is in the experience you will receive when you buy a kindle you are not simply paying for a screen there is an entire experience included in buying from amazon i have been reading the hunger games trilogy and shall be moving onto the divergent series soon after here is the thing with the nook that hindered me for the past 4 years i was never inspired to pick it up get it into my hands and just dive in there was never that feeling of oh man reading on this thing is so awesome however with my paperwhite i now have that feeling that desire is back and i simply adore my kindle if you are considering purchasing one stop thinking about it simply go for it after a full week 3 downloaded books and a ton of reading i still have half of my battery left as well make yourself happy inspire the reader inside of you</td>\n",
       "    </tr>\n",
       "    <tr>\n",
       "      <th>2</th>\n",
       "      <td>I am enjoying it so far. Great for reading. Had the original Fire since 2012. The Fire used to make my eyes hurt if I read too long. Haven't experienced that with the Paperwhite yet.</td>\n",
       "      <td>i am enjoying it so far great for reading had the original fire since 2012 the fire used to make my eyes hurt if i read too long haven t experienced that with the paperwhite yet</td>\n",
       "    </tr>\n",
       "    <tr>\n",
       "      <th>3</th>\n",
       "      <td>I bought one of the first Paperwhites and have been very pleased with it its been a constant companion and I suppose Ive read, on average, a book every three days for the past however many years on it. I wouldnt give it up youd have to pry it from my cold dead fingers.For sundry logistical reasons, Ive also made good use of Amazons Kindle app on my iPhone. No Paperwhite screen, naturally, and all the cool usability that delivers, but it works well and has its own attractions as a companion to the Kindle.Of course, there are aspects of the Paperwhite which I would like to critique. Ah you knew that was coming somewhere, didnt you.As a member of BookBub, I get a daily list of alerts and book deals in my chosen genres. I take on many of them, however, Ive found that, even with the best will in the world, I cant keep up. Some days it seems that for every book I read, Ive bought two. Theres just so much good stuff out there! The accumulative effect of this is that the number of books actually on my Paperwhite has been creeping ever upward for some time. Its now at about 400.With this in mind, Ive noticed that while page-turning has remained exactly the same, just about every other action on the Kindle has become positively glacial. Not just very slow, but so slow you think its malfunctioning. The general consensus appears to be that its to be expected once one has that many books downloaded onto a Kindle, it will begin to behave in a flakey manner. This drives me mad. Amazon states it can hold thousands of books. I believe them. But I figure I would need a second Paperwhite to read while Im waiting for actions to complete on the first one.Read more</td>\n",
       "      <td>i bought one of the first paperwhites and have been very pleased with it its been a constant companion and i suppose ive read on average a book every three days for the past however many years on it i wouldnt give it up youd have to pry it from my cold dead fingers for sundry logistical reasons ive also made good use of amazons kindle app on my iphone no paperwhite screen naturally and all the cool usability that delivers but it works well and has its own attractions as a companion to the kindle of course there are aspects of the paperwhite which i would like to critique ah you knew that was coming somewhere didnt you as a member of bookbub i get a daily list of alerts and book deals in my chosen genres i take on many of them however ive found that even with the best will in the world i cant keep up some days it seems that for every book i read ive bought two theres just so much good stuff out there the accumulative effect of this is that the number of books actually on my paperwhite has been creeping ever upward for some time its now at about 400 with this in mind ive noticed that while page turning has remained exactly the same just about every other action on the kindle has become positively glacial not just very slow but so slow you think its malfunctioning the general consensus appears to be that its to be expected once one has that many books downloaded onto a kindle it will begin to behave in a flakey manner this drives me mad amazon states it can hold thousands of books i believe them but i figure i would need a second paperwhite to read while im waiting for actions to complete on the first one read more</td>\n",
       "    </tr>\n",
       "  </tbody>\n",
       "</table>\n",
       "</div>"
      ],
      "text/plain": [
       "                                                                                                                                                                                                                                                                                                                                                                                                                                                                                                                                                                                                                                                                                                                                                                                                                                                                                                                                                                                                                                                                                                                                                                                                                                                                                                                                                                                                                                                                                                                                                                                                                                                                                                                            Product Review  \\\n",
       "0                                                                                                                                                                                                                                                                                                                                                                                                                                                                                                                                                                                                                                 I initially had trouble deciding between the paperwhite and the voyage because reviews more or less said the same thing: the paperwhite is great, but if you have spending money, go for the voyage.Fortunately, I had friends who owned each, so I ended up buying the paperwhite on this basis: both models now have 300 ppi, so the 80 dollar jump turns out pricey the voyage's page press isn't always sensitive, and if you are fine with a specific setting, you don't need auto light adjustment).It's been a week and I am loving my paperwhite, no regrets! The touch screen is receptive and easy to use, and I keep the light at a specific setting regardless of the time of day. (In any case, it's not hard to change the setting either, as you'll only be changing the light level at a certain time of day, not every now and then while reading).Also glad that I went for the international shipping option with Amazon. Extra expense, but delivery was on time, with tracking, and I didnt need to worry about customs, which I may have if I used a third party shipping service.   \n",
       "1                                                                                                                                                                                                                                                         Allow me to preface this with a little history. I am (was) a casual reader who owned a Nook Simple Touch from 2011. I've read the Harry Potter series, Girl with the Dragon Tattoo series, 1984, Brave New World, and a few other key titles. Fair to say my Nook did not get as much use as many others may have gotten from theirs.Fast forward to today. I have had a full week with my new Kindle Paperwhite and I have to admit, I'm in love. Not just with the Kindle, but with reading all over again! Now let me relate this review, love, and reading all back to the Kindle. The investment of 139.00 is in the experience you will receive when you buy a Kindle. You are not simply paying for a screen there is an entire experience included in buying from Amazon.I have been reading The Hunger Games trilogy and shall be moving onto the Divergent series soon after. Here is the thing with the Nook that hindered me for the past 4 years: I was never inspired to pick it up, get it into my hands, and just dive in. There was never that feeling of oh man, reading on this thing is so awesome. However, with my Paperwhite, I now have that feeling! That desire is back and I simply adore my Kindle. If you are considering purchasing one, stop thinking about it simply go for it. After a full week, 3 downloaded books, and a ton of reading, I still have half of my battery left as well.Make yourself happy. Inspire the reader inside of you.   \n",
       "2                                                                                                                                                                                                                                                                                                                                                                                                                                                                                                                                                                                                                                                                                                                                                                                                                                                                                                                                                                                                                                                                                                                                                                                                                                                                                                                                                                                                                                                                                                                                                   I am enjoying it so far. Great for reading. Had the original Fire since 2012. The Fire used to make my eyes hurt if I read too long. Haven't experienced that with the Paperwhite yet.   \n",
       "3  I bought one of the first Paperwhites and have been very pleased with it its been a constant companion and I suppose Ive read, on average, a book every three days for the past however many years on it. I wouldnt give it up youd have to pry it from my cold dead fingers.For sundry logistical reasons, Ive also made good use of Amazons Kindle app on my iPhone. No Paperwhite screen, naturally, and all the cool usability that delivers, but it works well and has its own attractions as a companion to the Kindle.Of course, there are aspects of the Paperwhite which I would like to critique. Ah you knew that was coming somewhere, didnt you.As a member of BookBub, I get a daily list of alerts and book deals in my chosen genres. I take on many of them, however, Ive found that, even with the best will in the world, I cant keep up. Some days it seems that for every book I read, Ive bought two. Theres just so much good stuff out there! The accumulative effect of this is that the number of books actually on my Paperwhite has been creeping ever upward for some time. Its now at about 400.With this in mind, Ive noticed that while page-turning has remained exactly the same, just about every other action on the Kindle has become positively glacial. Not just very slow, but so slow you think its malfunctioning. The general consensus appears to be that its to be expected once one has that many books downloaded onto a Kindle, it will begin to behave in a flakey manner. This drives me mad. Amazon states it can hold thousands of books. I believe them. But I figure I would need a second Paperwhite to read while Im waiting for actions to complete on the first one.Read more   \n",
       "\n",
       "                                                                                                                                                                                                                                                                                                                                                                                                                                                                                                                                                                                                                                                                                                                                                                                                                                                                                                                                                                                                                                                                                                                                                                                                                                                                                                                                                                                                                                                                                                                                                                                                                                                                                              cleaned_text  \n",
       "0                                                                                                                                                                                                                                                                                                                                                                                                                                                                                                                                                                                                                          i initially had trouble deciding between the paperwhite and the voyage because reviews more or less said the same thing the paperwhite is great but if you have spending money go for the voyage fortunately i had friends who owned each so i ended up buying the paperwhite on this basis both models now have 300 ppi so the 80 dollar jump turns out pricey the voyage s page press isn t always sensitive and if you are fine with a specific setting you don t need auto light adjustment it s been a week and i am loving my paperwhite no regrets the touch screen is receptive and easy to use and i keep the light at a specific setting regardless of the time of day in any case it s not hard to change the setting either as you ll only be changing the light level at a certain time of day not every now and then while reading also glad that i went for the international shipping option with amazon extra expense but delivery was on time with tracking and i didnt need to worry about customs which i may have if i used a third party shipping service  \n",
       "1                                                                                                                                                                                                                                                             allow me to preface this with a little history i am was a casual reader who owned a nook simple touch from 2011 i ve read the harry potter series girl with the dragon tattoo series 1984 brave new world and a few other key titles fair to say my nook did not get as much use as many others may have gotten from theirs fast forward to today i have had a full week with my new kindle paperwhite and i have to admit i m in love not just with the kindle but with reading all over again now let me relate this review love and reading all back to the kindle the investment of 139 00 is in the experience you will receive when you buy a kindle you are not simply paying for a screen there is an entire experience included in buying from amazon i have been reading the hunger games trilogy and shall be moving onto the divergent series soon after here is the thing with the nook that hindered me for the past 4 years i was never inspired to pick it up get it into my hands and just dive in there was never that feeling of oh man reading on this thing is so awesome however with my paperwhite i now have that feeling that desire is back and i simply adore my kindle if you are considering purchasing one stop thinking about it simply go for it after a full week 3 downloaded books and a ton of reading i still have half of my battery left as well make yourself happy inspire the reader inside of you  \n",
       "2                                                                                                                                                                                                                                                                                                                                                                                                                                                                                                                                                                                                                                                                                                                                                                                                                                                                                                                                                                                                                                                                                                                                                                                                                                                                                                                                                                                                                                                                                                                        i am enjoying it so far great for reading had the original fire since 2012 the fire used to make my eyes hurt if i read too long haven t experienced that with the paperwhite yet  \n",
       "3  i bought one of the first paperwhites and have been very pleased with it its been a constant companion and i suppose ive read on average a book every three days for the past however many years on it i wouldnt give it up youd have to pry it from my cold dead fingers for sundry logistical reasons ive also made good use of amazons kindle app on my iphone no paperwhite screen naturally and all the cool usability that delivers but it works well and has its own attractions as a companion to the kindle of course there are aspects of the paperwhite which i would like to critique ah you knew that was coming somewhere didnt you as a member of bookbub i get a daily list of alerts and book deals in my chosen genres i take on many of them however ive found that even with the best will in the world i cant keep up some days it seems that for every book i read ive bought two theres just so much good stuff out there the accumulative effect of this is that the number of books actually on my paperwhite has been creeping ever upward for some time its now at about 400 with this in mind ive noticed that while page turning has remained exactly the same just about every other action on the kindle has become positively glacial not just very slow but so slow you think its malfunctioning the general consensus appears to be that its to be expected once one has that many books downloaded onto a kindle it will begin to behave in a flakey manner this drives me mad amazon states it can hold thousands of books i believe them but i figure i would need a second paperwhite to read while im waiting for actions to complete on the first one read more  "
      ]
     },
     "execution_count": 19,
     "metadata": {},
     "output_type": "execute_result"
    }
   ],
   "source": [
    "# checking a couple of instances of cleaned data\n",
    "data.loc[0:3, ['Product Review','cleaned_text']]"
   ]
  },
  {
   "cell_type": "markdown",
   "metadata": {
    "id": "EwVOVENFz9fJ"
   },
   "source": [
    "### Removing stopwords"
   ]
  },
  {
   "cell_type": "markdown",
   "metadata": {
    "id": "ddYQH3ef0AUj"
   },
   "source": [
    "* The idea with stop word removal is to **exclude words that appear frequently throughout** all the documents in the corpus.\n",
    "* Pronouns and articles are typically categorized as stop words.\n",
    "* The `NLTK` library has an in-built list of stop words and it can utilize that list to remove the stop words from a dataset."
   ]
  },
  {
   "cell_type": "code",
   "execution_count": 20,
   "metadata": {
    "id": "Zof2x5co2X8g"
   },
   "outputs": [],
   "source": [
    "# defining a function to remove stop words using the NLTK library\n",
    "def remove_stopwords(text):\n",
    "    # Split text into separate words\n",
    "    words = text.split()\n",
    "\n",
    "    # Removing English language stopwords\n",
    "    new_text = ' '.join([word for word in words if word not in stopwords.words('english')])\n",
    "\n",
    "    return new_text"
   ]
  },
  {
   "cell_type": "code",
   "execution_count": 21,
   "metadata": {
    "id": "XtmKZqDwfOlt"
   },
   "outputs": [],
   "source": [
    "# Applying the function to remove stop words using the NLTK library\n",
    "data['cleaned_text_without_stopwords'] = data['cleaned_text'].apply(remove_stopwords)"
   ]
  },
  {
   "cell_type": "code",
   "execution_count": 22,
   "metadata": {
    "id": "zikSkmBDfsu9"
   },
   "outputs": [
    {
     "data": {
      "application/vnd.microsoft.datawrangler.viewer.v0+json": {
       "columns": [
        {
         "name": "index",
         "rawType": "int64",
         "type": "integer"
        },
        {
         "name": "cleaned_text",
         "rawType": "object",
         "type": "string"
        },
        {
         "name": "cleaned_text_without_stopwords",
         "rawType": "object",
         "type": "string"
        }
       ],
       "ref": "a8df496b-549c-4891-bded-5444bc77ed31",
       "rows": [
        [
         "0",
         "i initially had trouble deciding between the paperwhite and the voyage because reviews more or less said the same thing the paperwhite is great but if you have spending money go for the voyage fortunately i had friends who owned each so i ended up buying the paperwhite on this basis both models now have 300 ppi so the 80 dollar jump turns out pricey the voyage s page press isn t always sensitive and if you are fine with a specific setting you don t need auto light adjustment it s been a week and i am loving my paperwhite no regrets the touch screen is receptive and easy to use and i keep the light at a specific setting regardless of the time of day in any case it s not hard to change the setting either as you ll only be changing the light level at a certain time of day not every now and then while reading also glad that i went for the international shipping option with amazon extra expense but delivery was on time with tracking and i didnt need to worry about customs which i may have if i used a third party shipping service",
         "initially trouble deciding paperwhite voyage reviews less said thing paperwhite great spending money go voyage fortunately friends owned ended buying paperwhite basis models 300 ppi 80 dollar jump turns pricey voyage page press always sensitive fine specific setting need auto light adjustment week loving paperwhite regrets touch screen receptive easy use keep light specific setting regardless time day case hard change setting either changing light level certain time day every reading also glad went international shipping option amazon extra expense delivery time tracking didnt need worry customs may used third party shipping service"
        ],
        [
         "1",
         "allow me to preface this with a little history i am was a casual reader who owned a nook simple touch from 2011 i ve read the harry potter series girl with the dragon tattoo series 1984 brave new world and a few other key titles fair to say my nook did not get as much use as many others may have gotten from theirs fast forward to today i have had a full week with my new kindle paperwhite and i have to admit i m in love not just with the kindle but with reading all over again now let me relate this review love and reading all back to the kindle the investment of 139 00 is in the experience you will receive when you buy a kindle you are not simply paying for a screen there is an entire experience included in buying from amazon i have been reading the hunger games trilogy and shall be moving onto the divergent series soon after here is the thing with the nook that hindered me for the past 4 years i was never inspired to pick it up get it into my hands and just dive in there was never that feeling of oh man reading on this thing is so awesome however with my paperwhite i now have that feeling that desire is back and i simply adore my kindle if you are considering purchasing one stop thinking about it simply go for it after a full week 3 downloaded books and a ton of reading i still have half of my battery left as well make yourself happy inspire the reader inside of you",
         "allow preface little history casual reader owned nook simple touch 2011 read harry potter series girl dragon tattoo series 1984 brave new world key titles fair say nook get much use many others may gotten fast forward today full week new kindle paperwhite admit love kindle reading let relate review love reading back kindle investment 139 00 experience receive buy kindle simply paying screen entire experience included buying amazon reading hunger games trilogy shall moving onto divergent series soon thing nook hindered past 4 years never inspired pick get hands dive never feeling oh man reading thing awesome however paperwhite feeling desire back simply adore kindle considering purchasing one stop thinking simply go full week 3 downloaded books ton reading still half battery left well make happy inspire reader inside"
        ],
        [
         "2",
         "i am enjoying it so far great for reading had the original fire since 2012 the fire used to make my eyes hurt if i read too long haven t experienced that with the paperwhite yet",
         "enjoying far great reading original fire since 2012 fire used make eyes hurt read long experienced paperwhite yet"
        ],
        [
         "3",
         "i bought one of the first paperwhites and have been very pleased with it its been a constant companion and i suppose ive read on average a book every three days for the past however many years on it i wouldnt give it up youd have to pry it from my cold dead fingers for sundry logistical reasons ive also made good use of amazons kindle app on my iphone no paperwhite screen naturally and all the cool usability that delivers but it works well and has its own attractions as a companion to the kindle of course there are aspects of the paperwhite which i would like to critique ah you knew that was coming somewhere didnt you as a member of bookbub i get a daily list of alerts and book deals in my chosen genres i take on many of them however ive found that even with the best will in the world i cant keep up some days it seems that for every book i read ive bought two theres just so much good stuff out there the accumulative effect of this is that the number of books actually on my paperwhite has been creeping ever upward for some time its now at about 400 with this in mind ive noticed that while page turning has remained exactly the same just about every other action on the kindle has become positively glacial not just very slow but so slow you think its malfunctioning the general consensus appears to be that its to be expected once one has that many books downloaded onto a kindle it will begin to behave in a flakey manner this drives me mad amazon states it can hold thousands of books i believe them but i figure i would need a second paperwhite to read while im waiting for actions to complete on the first one read more",
         "bought one first paperwhites pleased constant companion suppose ive read average book every three days past however many years wouldnt give youd pry cold dead fingers sundry logistical reasons ive also made good use amazons kindle app iphone paperwhite screen naturally cool usability delivers works well attractions companion kindle course aspects paperwhite would like critique ah knew coming somewhere didnt member bookbub get daily list alerts book deals chosen genres take many however ive found even best world cant keep days seems every book read ive bought two theres much good stuff accumulative effect number books actually paperwhite creeping ever upward time 400 mind ive noticed page turning remained exactly every action kindle become positively glacial slow slow think malfunctioning general consensus appears expected one many books downloaded onto kindle begin behave flakey manner drives mad amazon states hold thousands books believe figure would need second paperwhite read im waiting actions complete first one read"
        ]
       ],
       "shape": {
        "columns": 2,
        "rows": 4
       }
      },
      "text/html": [
       "<div>\n",
       "<style scoped>\n",
       "    .dataframe tbody tr th:only-of-type {\n",
       "        vertical-align: middle;\n",
       "    }\n",
       "\n",
       "    .dataframe tbody tr th {\n",
       "        vertical-align: top;\n",
       "    }\n",
       "\n",
       "    .dataframe thead th {\n",
       "        text-align: right;\n",
       "    }\n",
       "</style>\n",
       "<table border=\"1\" class=\"dataframe\">\n",
       "  <thead>\n",
       "    <tr style=\"text-align: right;\">\n",
       "      <th></th>\n",
       "      <th>cleaned_text</th>\n",
       "      <th>cleaned_text_without_stopwords</th>\n",
       "    </tr>\n",
       "  </thead>\n",
       "  <tbody>\n",
       "    <tr>\n",
       "      <th>0</th>\n",
       "      <td>i initially had trouble deciding between the paperwhite and the voyage because reviews more or less said the same thing the paperwhite is great but if you have spending money go for the voyage fortunately i had friends who owned each so i ended up buying the paperwhite on this basis both models now have 300 ppi so the 80 dollar jump turns out pricey the voyage s page press isn t always sensitive and if you are fine with a specific setting you don t need auto light adjustment it s been a week and i am loving my paperwhite no regrets the touch screen is receptive and easy to use and i keep the light at a specific setting regardless of the time of day in any case it s not hard to change the setting either as you ll only be changing the light level at a certain time of day not every now and then while reading also glad that i went for the international shipping option with amazon extra expense but delivery was on time with tracking and i didnt need to worry about customs which i may have if i used a third party shipping service</td>\n",
       "      <td>initially trouble deciding paperwhite voyage reviews less said thing paperwhite great spending money go voyage fortunately friends owned ended buying paperwhite basis models 300 ppi 80 dollar jump turns pricey voyage page press always sensitive fine specific setting need auto light adjustment week loving paperwhite regrets touch screen receptive easy use keep light specific setting regardless time day case hard change setting either changing light level certain time day every reading also glad went international shipping option amazon extra expense delivery time tracking didnt need worry customs may used third party shipping service</td>\n",
       "    </tr>\n",
       "    <tr>\n",
       "      <th>1</th>\n",
       "      <td>allow me to preface this with a little history i am was a casual reader who owned a nook simple touch from 2011 i ve read the harry potter series girl with the dragon tattoo series 1984 brave new world and a few other key titles fair to say my nook did not get as much use as many others may have gotten from theirs fast forward to today i have had a full week with my new kindle paperwhite and i have to admit i m in love not just with the kindle but with reading all over again now let me relate this review love and reading all back to the kindle the investment of 139 00 is in the experience you will receive when you buy a kindle you are not simply paying for a screen there is an entire experience included in buying from amazon i have been reading the hunger games trilogy and shall be moving onto the divergent series soon after here is the thing with the nook that hindered me for the past 4 years i was never inspired to pick it up get it into my hands and just dive in there was never that feeling of oh man reading on this thing is so awesome however with my paperwhite i now have that feeling that desire is back and i simply adore my kindle if you are considering purchasing one stop thinking about it simply go for it after a full week 3 downloaded books and a ton of reading i still have half of my battery left as well make yourself happy inspire the reader inside of you</td>\n",
       "      <td>allow preface little history casual reader owned nook simple touch 2011 read harry potter series girl dragon tattoo series 1984 brave new world key titles fair say nook get much use many others may gotten fast forward today full week new kindle paperwhite admit love kindle reading let relate review love reading back kindle investment 139 00 experience receive buy kindle simply paying screen entire experience included buying amazon reading hunger games trilogy shall moving onto divergent series soon thing nook hindered past 4 years never inspired pick get hands dive never feeling oh man reading thing awesome however paperwhite feeling desire back simply adore kindle considering purchasing one stop thinking simply go full week 3 downloaded books ton reading still half battery left well make happy inspire reader inside</td>\n",
       "    </tr>\n",
       "    <tr>\n",
       "      <th>2</th>\n",
       "      <td>i am enjoying it so far great for reading had the original fire since 2012 the fire used to make my eyes hurt if i read too long haven t experienced that with the paperwhite yet</td>\n",
       "      <td>enjoying far great reading original fire since 2012 fire used make eyes hurt read long experienced paperwhite yet</td>\n",
       "    </tr>\n",
       "    <tr>\n",
       "      <th>3</th>\n",
       "      <td>i bought one of the first paperwhites and have been very pleased with it its been a constant companion and i suppose ive read on average a book every three days for the past however many years on it i wouldnt give it up youd have to pry it from my cold dead fingers for sundry logistical reasons ive also made good use of amazons kindle app on my iphone no paperwhite screen naturally and all the cool usability that delivers but it works well and has its own attractions as a companion to the kindle of course there are aspects of the paperwhite which i would like to critique ah you knew that was coming somewhere didnt you as a member of bookbub i get a daily list of alerts and book deals in my chosen genres i take on many of them however ive found that even with the best will in the world i cant keep up some days it seems that for every book i read ive bought two theres just so much good stuff out there the accumulative effect of this is that the number of books actually on my paperwhite has been creeping ever upward for some time its now at about 400 with this in mind ive noticed that while page turning has remained exactly the same just about every other action on the kindle has become positively glacial not just very slow but so slow you think its malfunctioning the general consensus appears to be that its to be expected once one has that many books downloaded onto a kindle it will begin to behave in a flakey manner this drives me mad amazon states it can hold thousands of books i believe them but i figure i would need a second paperwhite to read while im waiting for actions to complete on the first one read more</td>\n",
       "      <td>bought one first paperwhites pleased constant companion suppose ive read average book every three days past however many years wouldnt give youd pry cold dead fingers sundry logistical reasons ive also made good use amazons kindle app iphone paperwhite screen naturally cool usability delivers works well attractions companion kindle course aspects paperwhite would like critique ah knew coming somewhere didnt member bookbub get daily list alerts book deals chosen genres take many however ive found even best world cant keep days seems every book read ive bought two theres much good stuff accumulative effect number books actually paperwhite creeping ever upward time 400 mind ive noticed page turning remained exactly every action kindle become positively glacial slow slow think malfunctioning general consensus appears expected one many books downloaded onto kindle begin behave flakey manner drives mad amazon states hold thousands books believe figure would need second paperwhite read im waiting actions complete first one read</td>\n",
       "    </tr>\n",
       "  </tbody>\n",
       "</table>\n",
       "</div>"
      ],
      "text/plain": [
       "                                                                                                                                                                                                                                                                                                                                                                                                                                                                                                                                                                                                                                                                                                                                                                                                                                                                                                                                                                                                                                                                                                                                                                                                                                                                                                                                                                                                                                                                                                                                                                                                                                                                                              cleaned_text  \\\n",
       "0                                                                                                                                                                                                                                                                                                                                                                                                                                                                                                                                                                                                                          i initially had trouble deciding between the paperwhite and the voyage because reviews more or less said the same thing the paperwhite is great but if you have spending money go for the voyage fortunately i had friends who owned each so i ended up buying the paperwhite on this basis both models now have 300 ppi so the 80 dollar jump turns out pricey the voyage s page press isn t always sensitive and if you are fine with a specific setting you don t need auto light adjustment it s been a week and i am loving my paperwhite no regrets the touch screen is receptive and easy to use and i keep the light at a specific setting regardless of the time of day in any case it s not hard to change the setting either as you ll only be changing the light level at a certain time of day not every now and then while reading also glad that i went for the international shipping option with amazon extra expense but delivery was on time with tracking and i didnt need to worry about customs which i may have if i used a third party shipping service   \n",
       "1                                                                                                                                                                                                                                                             allow me to preface this with a little history i am was a casual reader who owned a nook simple touch from 2011 i ve read the harry potter series girl with the dragon tattoo series 1984 brave new world and a few other key titles fair to say my nook did not get as much use as many others may have gotten from theirs fast forward to today i have had a full week with my new kindle paperwhite and i have to admit i m in love not just with the kindle but with reading all over again now let me relate this review love and reading all back to the kindle the investment of 139 00 is in the experience you will receive when you buy a kindle you are not simply paying for a screen there is an entire experience included in buying from amazon i have been reading the hunger games trilogy and shall be moving onto the divergent series soon after here is the thing with the nook that hindered me for the past 4 years i was never inspired to pick it up get it into my hands and just dive in there was never that feeling of oh man reading on this thing is so awesome however with my paperwhite i now have that feeling that desire is back and i simply adore my kindle if you are considering purchasing one stop thinking about it simply go for it after a full week 3 downloaded books and a ton of reading i still have half of my battery left as well make yourself happy inspire the reader inside of you   \n",
       "2                                                                                                                                                                                                                                                                                                                                                                                                                                                                                                                                                                                                                                                                                                                                                                                                                                                                                                                                                                                                                                                                                                                                                                                                                                                                                                                                                                                                                                                                                                                        i am enjoying it so far great for reading had the original fire since 2012 the fire used to make my eyes hurt if i read too long haven t experienced that with the paperwhite yet   \n",
       "3  i bought one of the first paperwhites and have been very pleased with it its been a constant companion and i suppose ive read on average a book every three days for the past however many years on it i wouldnt give it up youd have to pry it from my cold dead fingers for sundry logistical reasons ive also made good use of amazons kindle app on my iphone no paperwhite screen naturally and all the cool usability that delivers but it works well and has its own attractions as a companion to the kindle of course there are aspects of the paperwhite which i would like to critique ah you knew that was coming somewhere didnt you as a member of bookbub i get a daily list of alerts and book deals in my chosen genres i take on many of them however ive found that even with the best will in the world i cant keep up some days it seems that for every book i read ive bought two theres just so much good stuff out there the accumulative effect of this is that the number of books actually on my paperwhite has been creeping ever upward for some time its now at about 400 with this in mind ive noticed that while page turning has remained exactly the same just about every other action on the kindle has become positively glacial not just very slow but so slow you think its malfunctioning the general consensus appears to be that its to be expected once one has that many books downloaded onto a kindle it will begin to behave in a flakey manner this drives me mad amazon states it can hold thousands of books i believe them but i figure i would need a second paperwhite to read while im waiting for actions to complete on the first one read more   \n",
       "\n",
       "                                                                                                                                                                                                                                                                                                                                                                                                                                                                                                                                                                                                                                                                                                                                                                                                                                                                                                                                                                                                                                                 cleaned_text_without_stopwords  \n",
       "0                                                                                                                                                                                                                                                                                                                                                                                                              initially trouble deciding paperwhite voyage reviews less said thing paperwhite great spending money go voyage fortunately friends owned ended buying paperwhite basis models 300 ppi 80 dollar jump turns pricey voyage page press always sensitive fine specific setting need auto light adjustment week loving paperwhite regrets touch screen receptive easy use keep light specific setting regardless time day case hard change setting either changing light level certain time day every reading also glad went international shipping option amazon extra expense delivery time tracking didnt need worry customs may used third party shipping service  \n",
       "1                                                                                                                                                                                                                   allow preface little history casual reader owned nook simple touch 2011 read harry potter series girl dragon tattoo series 1984 brave new world key titles fair say nook get much use many others may gotten fast forward today full week new kindle paperwhite admit love kindle reading let relate review love reading back kindle investment 139 00 experience receive buy kindle simply paying screen entire experience included buying amazon reading hunger games trilogy shall moving onto divergent series soon thing nook hindered past 4 years never inspired pick get hands dive never feeling oh man reading thing awesome however paperwhite feeling desire back simply adore kindle considering purchasing one stop thinking simply go full week 3 downloaded books ton reading still half battery left well make happy inspire reader inside  \n",
       "2                                                                                                                                                                                                                                                                                                                                                                                                                                                                                                                                                                                                                                                                                                                                                                                                                                                                                                                                                             enjoying far great reading original fire since 2012 fire used make eyes hurt read long experienced paperwhite yet  \n",
       "3  bought one first paperwhites pleased constant companion suppose ive read average book every three days past however many years wouldnt give youd pry cold dead fingers sundry logistical reasons ive also made good use amazons kindle app iphone paperwhite screen naturally cool usability delivers works well attractions companion kindle course aspects paperwhite would like critique ah knew coming somewhere didnt member bookbub get daily list alerts book deals chosen genres take many however ive found even best world cant keep days seems every book read ive bought two theres much good stuff accumulative effect number books actually paperwhite creeping ever upward time 400 mind ive noticed page turning remained exactly every action kindle become positively glacial slow slow think malfunctioning general consensus appears expected one many books downloaded onto kindle begin behave flakey manner drives mad amazon states hold thousands books believe figure would need second paperwhite read im waiting actions complete first one read  "
      ]
     },
     "execution_count": 22,
     "metadata": {},
     "output_type": "execute_result"
    }
   ],
   "source": [
    "# checking a couple of instances of cleaned data\n",
    "data.loc[0:3,['cleaned_text','cleaned_text_without_stopwords']]"
   ]
  },
  {
   "cell_type": "markdown",
   "metadata": {
    "id": "S0_cueGLW6Vt"
   },
   "source": [
    "* We observe that all the stopwords have been removed."
   ]
  },
  {
   "cell_type": "markdown",
   "metadata": {
    "id": "tN9S84Sj2om2"
   },
   "source": [
    "### Stemming/Lemmatization\n",
    "| Feature                       | **Stemming**                                              | **Lemmatization**                                                |\n",
    "| ----------------------------- | --------------------------------------------------------- | ---------------------------------------------------------------- |\n",
    "| **Definition**                | Removes suffixes to reduce words to root form             | Converts word to its **dictionary base form (lemma)**            |\n",
    "| **Output Example**            | “running” → **run**, “studies” → **studi**                | “running” → **run**, “studies” → **study**                       |\n",
    "| **Approach**                  | Rule-based truncation (chops off ends)                    | Dictionary + morphological analysis                              |\n",
    "| **Accuracy**                  | Lower (may produce non-words)                             | Higher (always valid words)                                      |\n",
    "| **Speed**                     | Fast (simpler rules)                                      | Slower (more complex processing)                                 |\n",
    "| **Tool Examples**             | `PorterStemmer`, `SnowballStemmer`                        | `WordNetLemmatizer`, `spaCy`                                     |\n",
    "| **Grammatical Understanding** | ❌ No                                                      | ✅ Yes (considers part-of-speech)                                 |\n",
    "| **Language Dependency**       | Mostly English, rule-based                                | Requires proper linguistic resources                             |\n",
    "| **Use Case**                  | When speed is critical and precision isn’t (e.g., search) | When precision matters (e.g., text understanding, summarization) |\n"
   ]
  },
  {
   "cell_type": "markdown",
   "metadata": {
    "id": "oTNdymFEKnSG"
   },
   "source": [
    "#### Summary:\n",
    "* Stemming: Quick, crude chopping of word ends. Fast but less accurate.\n",
    "* Lemmatization: Smart, linguistic reduction to base form. Slower but more accurate.\n",
    "\n"
   ]
  },
  {
   "cell_type": "markdown",
   "metadata": {
    "id": "wE5x7hyFDoks"
   },
   "source": [
    "# Comparision of Stemming, Lemmatization and POS(Part of Speech) Lemmatization"
   ]
  },
  {
   "cell_type": "code",
   "execution_count": 23,
   "metadata": {
    "id": "QQ_-OZrsDJnk"
   },
   "outputs": [
    {
     "name": "stdout",
     "output_type": "stream",
     "text": [
      "running → run\n",
      "studies → studi\n",
      "flies → fli\n",
      "easily → easili\n",
      "happiness → happi\n"
     ]
    }
   ],
   "source": [
    "# Stemming using NLTK (PorterStemmer)\n",
    "from nltk.stem import PorterStemmer\n",
    "\n",
    "stemmer = PorterStemmer()\n",
    "\n",
    "words = [\"running\", \"studies\", \"flies\", \"easily\", \"happiness\"]\n",
    "\n",
    "for word in words:\n",
    "    print(f\"{word} → {stemmer.stem(word)}\")\n"
   ]
  },
  {
   "cell_type": "code",
   "execution_count": 24,
   "metadata": {
    "id": "wyV211QwDJ47"
   },
   "outputs": [
    {
     "name": "stderr",
     "output_type": "stream",
     "text": [
      "[nltk_data] Downloading package wordnet to\n",
      "[nltk_data]     /Users/proximus/nltk_data...\n",
      "[nltk_data]   Package wordnet is already up-to-date!\n",
      "[nltk_data] Downloading package omw-1.4 to\n",
      "[nltk_data]     /Users/proximus/nltk_data...\n",
      "[nltk_data]   Package omw-1.4 is already up-to-date!\n"
     ]
    },
    {
     "name": "stdout",
     "output_type": "stream",
     "text": [
      "running → running\n",
      "studies → study\n",
      "flies → fly\n",
      "better → better\n",
      "happiness → happiness\n"
     ]
    }
   ],
   "source": [
    "# Lemmatization using NLTK (WordNetLemmatizer)\n",
    "from nltk.stem import WordNetLemmatizer\n",
    "from nltk.corpus import wordnet #Downloads the WordNet lexical database.WordNet is adictionary-like database where Words are grouped into sets of synonyms\n",
    "import nltk\n",
    "\n",
    "# Make sure to download WordNet resources if not already done\n",
    "nltk.download('wordnet')\n",
    "nltk.download('omw-1.4') # Open Multilingual WordNet package -This adds language translations, richer word forms, and improved morphological data to WordNet.\n",
    "\n",
    "lemmatizer = WordNetLemmatizer()\n",
    "\n",
    "words = [\"running\", \"studies\", \"flies\", \"better\", \"happiness\"]\n",
    "\n",
    "for word in words:\n",
    "    print(f\"{word} → {lemmatizer.lemmatize(word)}\")\n"
   ]
  },
  {
   "cell_type": "code",
   "execution_count": 25,
   "metadata": {
    "id": "pNz-gjarDea8"
   },
   "outputs": [
    {
     "name": "stdout",
     "output_type": "stream",
     "text": [
      "running (VERB) → run\n",
      "studies (NOUN) → study\n",
      "flies (VERB) → fly\n",
      "better (ADJ) → well\n",
      "happiness (NOUN) → happiness\n"
     ]
    }
   ],
   "source": [
    "# Bonus: POS-aware Lemmatization with spaCy\n",
    "import spacy\n",
    "\n",
    "\n",
    "# Load English tokenizer, POS tagger, lemmatizer\n",
    "nlp = spacy.load(\"en_core_web_sm\") #Loads a pretrained English NLP model\n",
    "\n",
    "doc = nlp(\"running studies flies better happiness\")\n",
    "\n",
    "for token in doc:\n",
    "    print(f\"{token.text} ({token.pos_}) → {token.lemma_}\")\n"
   ]
  },
  {
   "cell_type": "markdown",
   "metadata": {
    "id": "urpKFz7C-D55"
   },
   "source": [
    "The Porter Stemmer is one of the widely-used algorithms for stemming, and it shorten words to their root form by removing suffixes."
   ]
  },
  {
   "cell_type": "code",
   "execution_count": 26,
   "metadata": {
    "id": "g2Nv5egY25SY"
   },
   "outputs": [],
   "source": [
    "# defining a function to perform stemming\n",
    "from nltk.stem import PorterStemmer\n",
    "\n",
    "def apply_porter_stemmer(text):\n",
    "    # Initialize PorterStemmer inside the function\n",
    "    ps = PorterStemmer()\n",
    "    \n",
    "    # Split text into separate words\n",
    "    words = text.split()\n",
    "\n",
    "    # Applying the Porter Stemmer on every word of a message and joining the stemmed words back into a single string\n",
    "    new_text = ' '.join([ps.stem(word) for word in words])\n",
    "\n",
    "    return new_text"
   ]
  },
  {
   "cell_type": "code",
   "execution_count": 27,
   "metadata": {
    "id": "dR0rx6_2oCzY"
   },
   "outputs": [],
   "source": [
    "# Applying the function to perform stemming\n",
    "data['final_cleaned_text'] = data['cleaned_text_without_stopwords'].apply(apply_porter_stemmer)"
   ]
  },
  {
   "cell_type": "code",
   "execution_count": 28,
   "metadata": {
    "id": "RAc0gMU89KM7"
   },
   "outputs": [
    {
     "data": {
      "application/vnd.microsoft.datawrangler.viewer.v0+json": {
       "columns": [
        {
         "name": "index",
         "rawType": "int64",
         "type": "integer"
        },
        {
         "name": "cleaned_text_without_stopwords",
         "rawType": "object",
         "type": "string"
        },
        {
         "name": "final_cleaned_text",
         "rawType": "object",
         "type": "string"
        }
       ],
       "ref": "5b75e4b1-f7a5-47c7-9a6d-815f45f6cd33",
       "rows": [
        [
         "0",
         "initially trouble deciding paperwhite voyage reviews less said thing paperwhite great spending money go voyage fortunately friends owned ended buying paperwhite basis models 300 ppi 80 dollar jump turns pricey voyage page press always sensitive fine specific setting need auto light adjustment week loving paperwhite regrets touch screen receptive easy use keep light specific setting regardless time day case hard change setting either changing light level certain time day every reading also glad went international shipping option amazon extra expense delivery time tracking didnt need worry customs may used third party shipping service",
         "initi troubl decid paperwhit voyag review less said thing paperwhit great spend money go voyag fortun friend own end buy paperwhit basi model 300 ppi 80 dollar jump turn pricey voyag page press alway sensit fine specif set need auto light adjust week love paperwhit regret touch screen recept easi use keep light specif set regardless time day case hard chang set either chang light level certain time day everi read also glad went intern ship option amazon extra expens deliveri time track didnt need worri custom may use third parti ship servic"
        ],
        [
         "1",
         "allow preface little history casual reader owned nook simple touch 2011 read harry potter series girl dragon tattoo series 1984 brave new world key titles fair say nook get much use many others may gotten fast forward today full week new kindle paperwhite admit love kindle reading let relate review love reading back kindle investment 139 00 experience receive buy kindle simply paying screen entire experience included buying amazon reading hunger games trilogy shall moving onto divergent series soon thing nook hindered past 4 years never inspired pick get hands dive never feeling oh man reading thing awesome however paperwhite feeling desire back simply adore kindle considering purchasing one stop thinking simply go full week 3 downloaded books ton reading still half battery left well make happy inspire reader inside",
         "allow prefac littl histori casual reader own nook simpl touch 2011 read harri potter seri girl dragon tattoo seri 1984 brave new world key titl fair say nook get much use mani other may gotten fast forward today full week new kindl paperwhit admit love kindl read let relat review love read back kindl invest 139 00 experi receiv buy kindl simpli pay screen entir experi includ buy amazon read hunger game trilog shall move onto diverg seri soon thing nook hinder past 4 year never inspir pick get hand dive never feel oh man read thing awesom howev paperwhit feel desir back simpli ador kindl consid purchas one stop think simpli go full week 3 download book ton read still half batteri left well make happi inspir reader insid"
        ],
        [
         "2",
         "enjoying far great reading original fire since 2012 fire used make eyes hurt read long experienced paperwhite yet",
         "enjoy far great read origin fire sinc 2012 fire use make eye hurt read long experienc paperwhit yet"
        ]
       ],
       "shape": {
        "columns": 2,
        "rows": 3
       }
      },
      "text/html": [
       "<div>\n",
       "<style scoped>\n",
       "    .dataframe tbody tr th:only-of-type {\n",
       "        vertical-align: middle;\n",
       "    }\n",
       "\n",
       "    .dataframe tbody tr th {\n",
       "        vertical-align: top;\n",
       "    }\n",
       "\n",
       "    .dataframe thead th {\n",
       "        text-align: right;\n",
       "    }\n",
       "</style>\n",
       "<table border=\"1\" class=\"dataframe\">\n",
       "  <thead>\n",
       "    <tr style=\"text-align: right;\">\n",
       "      <th></th>\n",
       "      <th>cleaned_text_without_stopwords</th>\n",
       "      <th>final_cleaned_text</th>\n",
       "    </tr>\n",
       "  </thead>\n",
       "  <tbody>\n",
       "    <tr>\n",
       "      <th>0</th>\n",
       "      <td>initially trouble deciding paperwhite voyage reviews less said thing paperwhite great spending money go voyage fortunately friends owned ended buying paperwhite basis models 300 ppi 80 dollar jump turns pricey voyage page press always sensitive fine specific setting need auto light adjustment week loving paperwhite regrets touch screen receptive easy use keep light specific setting regardless time day case hard change setting either changing light level certain time day every reading also glad went international shipping option amazon extra expense delivery time tracking didnt need worry customs may used third party shipping service</td>\n",
       "      <td>initi troubl decid paperwhit voyag review less said thing paperwhit great spend money go voyag fortun friend own end buy paperwhit basi model 300 ppi 80 dollar jump turn pricey voyag page press alway sensit fine specif set need auto light adjust week love paperwhit regret touch screen recept easi use keep light specif set regardless time day case hard chang set either chang light level certain time day everi read also glad went intern ship option amazon extra expens deliveri time track didnt need worri custom may use third parti ship servic</td>\n",
       "    </tr>\n",
       "    <tr>\n",
       "      <th>1</th>\n",
       "      <td>allow preface little history casual reader owned nook simple touch 2011 read harry potter series girl dragon tattoo series 1984 brave new world key titles fair say nook get much use many others may gotten fast forward today full week new kindle paperwhite admit love kindle reading let relate review love reading back kindle investment 139 00 experience receive buy kindle simply paying screen entire experience included buying amazon reading hunger games trilogy shall moving onto divergent series soon thing nook hindered past 4 years never inspired pick get hands dive never feeling oh man reading thing awesome however paperwhite feeling desire back simply adore kindle considering purchasing one stop thinking simply go full week 3 downloaded books ton reading still half battery left well make happy inspire reader inside</td>\n",
       "      <td>allow prefac littl histori casual reader own nook simpl touch 2011 read harri potter seri girl dragon tattoo seri 1984 brave new world key titl fair say nook get much use mani other may gotten fast forward today full week new kindl paperwhit admit love kindl read let relat review love read back kindl invest 139 00 experi receiv buy kindl simpli pay screen entir experi includ buy amazon read hunger game trilog shall move onto diverg seri soon thing nook hinder past 4 year never inspir pick get hand dive never feel oh man read thing awesom howev paperwhit feel desir back simpli ador kindl consid purchas one stop think simpli go full week 3 download book ton read still half batteri left well make happi inspir reader insid</td>\n",
       "    </tr>\n",
       "    <tr>\n",
       "      <th>2</th>\n",
       "      <td>enjoying far great reading original fire since 2012 fire used make eyes hurt read long experienced paperwhite yet</td>\n",
       "      <td>enjoy far great read origin fire sinc 2012 fire use make eye hurt read long experienc paperwhit yet</td>\n",
       "    </tr>\n",
       "  </tbody>\n",
       "</table>\n",
       "</div>"
      ],
      "text/plain": [
       "                                                                                                                                                                                                                                                                                                                                                                                                                                                                                                                                                                                                                                                                                                                                                                                                                                cleaned_text_without_stopwords  \\\n",
       "0                                                                                                                                                                                             initially trouble deciding paperwhite voyage reviews less said thing paperwhite great spending money go voyage fortunately friends owned ended buying paperwhite basis models 300 ppi 80 dollar jump turns pricey voyage page press always sensitive fine specific setting need auto light adjustment week loving paperwhite regrets touch screen receptive easy use keep light specific setting regardless time day case hard change setting either changing light level certain time day every reading also glad went international shipping option amazon extra expense delivery time tracking didnt need worry customs may used third party shipping service   \n",
       "1  allow preface little history casual reader owned nook simple touch 2011 read harry potter series girl dragon tattoo series 1984 brave new world key titles fair say nook get much use many others may gotten fast forward today full week new kindle paperwhite admit love kindle reading let relate review love reading back kindle investment 139 00 experience receive buy kindle simply paying screen entire experience included buying amazon reading hunger games trilogy shall moving onto divergent series soon thing nook hindered past 4 years never inspired pick get hands dive never feeling oh man reading thing awesome however paperwhite feeling desire back simply adore kindle considering purchasing one stop thinking simply go full week 3 downloaded books ton reading still half battery left well make happy inspire reader inside   \n",
       "2                                                                                                                                                                                                                                                                                                                                                                                                                                                                                                                                                                                                                                                                                                                                            enjoying far great reading original fire since 2012 fire used make eyes hurt read long experienced paperwhite yet   \n",
       "\n",
       "                                                                                                                                                                                                                                                                                                                                                                                                                                                                                                                                                                                                                                                                                                                                         final_cleaned_text  \n",
       "0                                                                                                                                                                                        initi troubl decid paperwhit voyag review less said thing paperwhit great spend money go voyag fortun friend own end buy paperwhit basi model 300 ppi 80 dollar jump turn pricey voyag page press alway sensit fine specif set need auto light adjust week love paperwhit regret touch screen recept easi use keep light specif set regardless time day case hard chang set either chang light level certain time day everi read also glad went intern ship option amazon extra expens deliveri time track didnt need worri custom may use third parti ship servic  \n",
       "1  allow prefac littl histori casual reader own nook simpl touch 2011 read harri potter seri girl dragon tattoo seri 1984 brave new world key titl fair say nook get much use mani other may gotten fast forward today full week new kindl paperwhit admit love kindl read let relat review love read back kindl invest 139 00 experi receiv buy kindl simpli pay screen entir experi includ buy amazon read hunger game trilog shall move onto diverg seri soon thing nook hinder past 4 year never inspir pick get hand dive never feel oh man read thing awesom howev paperwhit feel desir back simpli ador kindl consid purchas one stop think simpli go full week 3 download book ton read still half batteri left well make happi inspir reader insid  \n",
       "2                                                                                                                                                                                                                                                                                                                                                                                                                                                                                                                                                                                                                                                       enjoy far great read origin fire sinc 2012 fire use make eye hurt read long experienc paperwhit yet  "
      ]
     },
     "execution_count": 28,
     "metadata": {},
     "output_type": "execute_result"
    }
   ],
   "source": [
    "# checking a couple of instances of cleaned data\n",
    "data.loc[0:2,['cleaned_text_without_stopwords','final_cleaned_text']]"
   ]
  },
  {
   "cell_type": "markdown",
   "metadata": {
    "id": "c3F-popAzw8p"
   },
   "source": [
    "## Text Vectorization"
   ]
  },
  {
   "cell_type": "markdown",
   "metadata": {
    "id": "W6Xff8B8LSyL"
   },
   "source": [
    "* Text vectorization is the process of converting text into numerical format so that machine learning models can understand and work with it.\n",
    "\n",
    "* Since ML models can't work with raw text (like \"cat\", \"apple\", \"good\"), we transform the text into vectors (arrays of numbers) that represent words, sentences, or documents."
   ]
  },
  {
   "cell_type": "markdown",
   "metadata": {
    "id": "yKfaJblQLekb"
   },
   "source": [
    "# Common Text Vectorization Methods\n",
    "| Method                                                 | Description                                                          | Library                   |\n",
    "| ------------------------------------------------------ | -------------------------------------------------------------------- | ------------------------- |\n",
    "| **Bag of Words (BoW using CountVectorizer)**                                 | Counts how many times each word appears in the document              | `sklearn`                 |\n",
    "| **TF-IDF (Term Frequency–Inverse Document Frequency)** | Adjusts BoW by down-weighting common words                           | `sklearn`                 |\n",
    "| **N-grams**                                            | Captures word combinations like bigrams/trigrams                     | `sklearn`                 |\n",
    "| **HashingVectorizer**                                  | Like BoW, but hashes tokens into fixed dimensions (memory-efficient) | `sklearn`                 |\n",
    "| **Word Embeddings (Word2Vec, GloVe)**                  | Maps words to dense, pretrained vectors with meaning                 | `nltk`, `gensim`, `spacy` |\n"
   ]
  },
  {
   "cell_type": "markdown",
   "metadata": {
    "id": "e3IFOP2YU2ip"
   },
   "source": [
    "### 1. Bag of words (BOW using CountVectorizer)"
   ]
  },
  {
   "cell_type": "code",
   "execution_count": 29,
   "metadata": {
    "id": "N6QlX2WYzw8s"
   },
   "outputs": [
    {
     "name": "stdout",
     "output_type": "stream",
     "text": [
      "Shape of the feature vector (1005, 1000)\n",
      "first 10 words ['000' '10' '100' '11' '139' '15' '16' '16gb' '17' '20']\n",
      "last 10 words ['worth' 'would' 'write' 'wrong' 'xbox' 'ye' 'year' 'yet' 'youll' 'youtub']\n"
     ]
    },
    {
     "data": {
      "application/vnd.microsoft.datawrangler.viewer.v0+json": {
       "columns": [
        {
         "name": "index",
         "rawType": "int64",
         "type": "integer"
        },
        {
         "name": "000",
         "rawType": "int64",
         "type": "integer"
        },
        {
         "name": "10",
         "rawType": "int64",
         "type": "integer"
        },
        {
         "name": "100",
         "rawType": "int64",
         "type": "integer"
        },
        {
         "name": "11",
         "rawType": "int64",
         "type": "integer"
        },
        {
         "name": "139",
         "rawType": "int64",
         "type": "integer"
        },
        {
         "name": "15",
         "rawType": "int64",
         "type": "integer"
        },
        {
         "name": "16",
         "rawType": "int64",
         "type": "integer"
        },
        {
         "name": "16gb",
         "rawType": "int64",
         "type": "integer"
        },
        {
         "name": "17",
         "rawType": "int64",
         "type": "integer"
        },
        {
         "name": "20",
         "rawType": "int64",
         "type": "integer"
        },
        {
         "name": "2013",
         "rawType": "int64",
         "type": "integer"
        },
        {
         "name": "2014",
         "rawType": "int64",
         "type": "integer"
        },
        {
         "name": "2015",
         "rawType": "int64",
         "type": "integer"
        },
        {
         "name": "2017",
         "rawType": "int64",
         "type": "integer"
        },
        {
         "name": "212",
         "rawType": "int64",
         "type": "integer"
        },
        {
         "name": "24",
         "rawType": "int64",
         "type": "integer"
        },
        {
         "name": "2nd",
         "rawType": "int64",
         "type": "integer"
        },
        {
         "name": "30",
         "rawType": "int64",
         "type": "integer"
        },
        {
         "name": "300",
         "rawType": "int64",
         "type": "integer"
        },
        {
         "name": "35",
         "rawType": "int64",
         "type": "integer"
        },
        {
         "name": "36weight",
         "rawType": "int64",
         "type": "integer"
        },
        {
         "name": "3rd",
         "rawType": "int64",
         "type": "integer"
        },
        {
         "name": "40",
         "rawType": "int64",
         "type": "integer"
        },
        {
         "name": "4gbpage",
         "rawType": "int64",
         "type": "integer"
        },
        {
         "name": "50",
         "rawType": "int64",
         "type": "integer"
        },
        {
         "name": "500",
         "rawType": "int64",
         "type": "integer"
        },
        {
         "name": "60",
         "rawType": "int64",
         "type": "integer"
        },
        {
         "name": "6x0",
         "rawType": "int64",
         "type": "integer"
        },
        {
         "name": "70",
         "rawType": "int64",
         "type": "integer"
        },
        {
         "name": "7x4",
         "rawType": "int64",
         "type": "integer"
        },
        {
         "name": "80",
         "rawType": "int64",
         "type": "integer"
        },
        {
         "name": "89",
         "rawType": "int64",
         "type": "integer"
        },
        {
         "name": "90",
         "rawType": "int64",
         "type": "integer"
        },
        {
         "name": "99",
         "rawType": "int64",
         "type": "integer"
        },
        {
         "name": "abil",
         "rawType": "int64",
         "type": "integer"
        },
        {
         "name": "abl",
         "rawType": "int64",
         "type": "integer"
        },
        {
         "name": "absolut",
         "rawType": "int64",
         "type": "integer"
        },
        {
         "name": "access",
         "rawType": "int64",
         "type": "integer"
        },
        {
         "name": "account",
         "rawType": "int64",
         "type": "integer"
        },
        {
         "name": "accur",
         "rawType": "int64",
         "type": "integer"
        },
        {
         "name": "across",
         "rawType": "int64",
         "type": "integer"
        },
        {
         "name": "activ",
         "rawType": "int64",
         "type": "integer"
        },
        {
         "name": "actual",
         "rawType": "int64",
         "type": "integer"
        },
        {
         "name": "ad",
         "rawType": "int64",
         "type": "integer"
        },
        {
         "name": "adapt",
         "rawType": "int64",
         "type": "integer"
        },
        {
         "name": "add",
         "rawType": "int64",
         "type": "integer"
        },
        {
         "name": "addit",
         "rawType": "int64",
         "type": "integer"
        },
        {
         "name": "address",
         "rawType": "int64",
         "type": "integer"
        },
        {
         "name": "adjust",
         "rawType": "int64",
         "type": "integer"
        },
        {
         "name": "advertis",
         "rawType": "int64",
         "type": "integer"
        },
        {
         "name": "afford",
         "rawType": "int64",
         "type": "integer"
        },
        {
         "name": "age",
         "rawType": "int64",
         "type": "integer"
        },
        {
         "name": "ago",
         "rawType": "int64",
         "type": "integer"
        },
        {
         "name": "alarm",
         "rawType": "int64",
         "type": "integer"
        },
        {
         "name": "alexa",
         "rawType": "int64",
         "type": "integer"
        },
        {
         "name": "allow",
         "rawType": "int64",
         "type": "integer"
        },
        {
         "name": "almost",
         "rawType": "int64",
         "type": "integer"
        },
        {
         "name": "alon",
         "rawType": "int64",
         "type": "integer"
        },
        {
         "name": "along",
         "rawType": "int64",
         "type": "integer"
        },
        {
         "name": "alreadi",
         "rawType": "int64",
         "type": "integer"
        },
        {
         "name": "also",
         "rawType": "int64",
         "type": "integer"
        },
        {
         "name": "although",
         "rawType": "int64",
         "type": "integer"
        },
        {
         "name": "alway",
         "rawType": "int64",
         "type": "integer"
        },
        {
         "name": "amaz",
         "rawType": "int64",
         "type": "integer"
        },
        {
         "name": "amazon",
         "rawType": "int64",
         "type": "integer"
        },
        {
         "name": "amount",
         "rawType": "int64",
         "type": "integer"
        },
        {
         "name": "android",
         "rawType": "int64",
         "type": "integer"
        },
        {
         "name": "annoy",
         "rawType": "int64",
         "type": "integer"
        },
        {
         "name": "anoth",
         "rawType": "int64",
         "type": "integer"
        },
        {
         "name": "answer",
         "rawType": "int64",
         "type": "integer"
        },
        {
         "name": "anyon",
         "rawType": "int64",
         "type": "integer"
        },
        {
         "name": "anyth",
         "rawType": "int64",
         "type": "integer"
        },
        {
         "name": "anyway",
         "rawType": "int64",
         "type": "integer"
        },
        {
         "name": "anywher",
         "rawType": "int64",
         "type": "integer"
        },
        {
         "name": "app",
         "rawType": "int64",
         "type": "integer"
        },
        {
         "name": "appear",
         "rawType": "int64",
         "type": "integer"
        },
        {
         "name": "appl",
         "rawType": "int64",
         "type": "integer"
        },
        {
         "name": "area",
         "rawType": "int64",
         "type": "integer"
        },
        {
         "name": "around",
         "rawType": "int64",
         "type": "integer"
        },
        {
         "name": "arriv",
         "rawType": "int64",
         "type": "integer"
        },
        {
         "name": "ask",
         "rawType": "int64",
         "type": "integer"
        },
        {
         "name": "aspect",
         "rawType": "int64",
         "type": "integer"
        },
        {
         "name": "assist",
         "rawType": "int64",
         "type": "integer"
        },
        {
         "name": "assum",
         "rawType": "int64",
         "type": "integer"
        },
        {
         "name": "attach",
         "rawType": "int64",
         "type": "integer"
        },
        {
         "name": "attempt",
         "rawType": "int64",
         "type": "integer"
        },
        {
         "name": "attent",
         "rawType": "int64",
         "type": "integer"
        },
        {
         "name": "attract",
         "rawType": "int64",
         "type": "integer"
        },
        {
         "name": "audio",
         "rawType": "int64",
         "type": "integer"
        },
        {
         "name": "automat",
         "rawType": "int64",
         "type": "integer"
        },
        {
         "name": "avail",
         "rawType": "int64",
         "type": "integer"
        },
        {
         "name": "averag",
         "rawType": "int64",
         "type": "integer"
        },
        {
         "name": "away",
         "rawType": "int64",
         "type": "integer"
        },
        {
         "name": "awesom",
         "rawType": "int64",
         "type": "integer"
        },
        {
         "name": "back",
         "rawType": "int64",
         "type": "integer"
        },
        {
         "name": "background",
         "rawType": "int64",
         "type": "integer"
        },
        {
         "name": "bad",
         "rawType": "int64",
         "type": "integer"
        },
        {
         "name": "bag",
         "rawType": "int64",
         "type": "integer"
        },
        {
         "name": "balanc",
         "rawType": "int64",
         "type": "integer"
        },
        {
         "name": "band",
         "rawType": "int64",
         "type": "integer"
        },
        {
         "name": "base",
         "rawType": "int64",
         "type": "integer"
        },
        {
         "name": "basi",
         "rawType": "int64",
         "type": "integer"
        },
        {
         "name": "basic",
         "rawType": "int64",
         "type": "integer"
        },
        {
         "name": "bass",
         "rawType": "int64",
         "type": "integer"
        },
        {
         "name": "batteri",
         "rawType": "int64",
         "type": "integer"
        },
        {
         "name": "beach",
         "rawType": "int64",
         "type": "integer"
        },
        {
         "name": "beat",
         "rawType": "int64",
         "type": "integer"
        },
        {
         "name": "beauti",
         "rawType": "int64",
         "type": "integer"
        },
        {
         "name": "becom",
         "rawType": "int64",
         "type": "integer"
        },
        {
         "name": "bed",
         "rawType": "int64",
         "type": "integer"
        },
        {
         "name": "bedroom",
         "rawType": "int64",
         "type": "integer"
        },
        {
         "name": "begin",
         "rawType": "int64",
         "type": "integer"
        },
        {
         "name": "believ",
         "rawType": "int64",
         "type": "integer"
        },
        {
         "name": "benefit",
         "rawType": "int64",
         "type": "integer"
        },
        {
         "name": "besid",
         "rawType": "int64",
         "type": "integer"
        },
        {
         "name": "best",
         "rawType": "int64",
         "type": "integer"
        },
        {
         "name": "better",
         "rawType": "int64",
         "type": "integer"
        },
        {
         "name": "big",
         "rawType": "int64",
         "type": "integer"
        },
        {
         "name": "biggest",
         "rawType": "int64",
         "type": "integer"
        },
        {
         "name": "bit",
         "rawType": "int64",
         "type": "integer"
        },
        {
         "name": "black",
         "rawType": "int64",
         "type": "integer"
        },
        {
         "name": "blend",
         "rawType": "int64",
         "type": "integer"
        },
        {
         "name": "blue",
         "rawType": "int64",
         "type": "integer"
        },
        {
         "name": "bluetooth",
         "rawType": "int64",
         "type": "integer"
        },
        {
         "name": "book",
         "rawType": "int64",
         "type": "integer"
        },
        {
         "name": "bose",
         "rawType": "int64",
         "type": "integer"
        },
        {
         "name": "bother",
         "rawType": "int64",
         "type": "integer"
        },
        {
         "name": "bottom",
         "rawType": "int64",
         "type": "integer"
        },
        {
         "name": "bought",
         "rawType": "int64",
         "type": "integer"
        },
        {
         "name": "box",
         "rawType": "int64",
         "type": "integer"
        },
        {
         "name": "brainer",
         "rawType": "int64",
         "type": "integer"
        },
        {
         "name": "brand",
         "rawType": "int64",
         "type": "integer"
        },
        {
         "name": "brief",
         "rawType": "int64",
         "type": "integer"
        },
        {
         "name": "bright",
         "rawType": "int64",
         "type": "integer"
        },
        {
         "name": "bring",
         "rawType": "int64",
         "type": "integer"
        },
        {
         "name": "brother",
         "rawType": "int64",
         "type": "integer"
        },
        {
         "name": "brought",
         "rawType": "int64",
         "type": "integer"
        },
        {
         "name": "brows",
         "rawType": "int64",
         "type": "integer"
        },
        {
         "name": "browser",
         "rawType": "int64",
         "type": "integer"
        },
        {
         "name": "build",
         "rawType": "int64",
         "type": "integer"
        },
        {
         "name": "built",
         "rawType": "int64",
         "type": "integer"
        },
        {
         "name": "busi",
         "rawType": "int64",
         "type": "integer"
        },
        {
         "name": "button",
         "rawType": "int64",
         "type": "integer"
        },
        {
         "name": "buy",
         "rawType": "int64",
         "type": "integer"
        },
        {
         "name": "buyer",
         "rawType": "int64",
         "type": "integer"
        },
        {
         "name": "cabl",
         "rawType": "int64",
         "type": "integer"
        },
        {
         "name": "calendar",
         "rawType": "int64",
         "type": "integer"
        },
        {
         "name": "call",
         "rawType": "int64",
         "type": "integer"
        },
        {
         "name": "came",
         "rawType": "int64",
         "type": "integer"
        },
        {
         "name": "camera",
         "rawType": "int64",
         "type": "integer"
        },
        {
         "name": "cancel",
         "rawType": "int64",
         "type": "integer"
        },
        {
         "name": "cannot",
         "rawType": "int64",
         "type": "integer"
        },
        {
         "name": "capabl",
         "rawType": "int64",
         "type": "integer"
        },
        {
         "name": "card",
         "rawType": "int64",
         "type": "integer"
        },
        {
         "name": "care",
         "rawType": "int64",
         "type": "integer"
        },
        {
         "name": "carri",
         "rawType": "int64",
         "type": "integer"
        },
        {
         "name": "case",
         "rawType": "int64",
         "type": "integer"
        },
        {
         "name": "categori",
         "rawType": "int64",
         "type": "integer"
        },
        {
         "name": "caus",
         "rawType": "int64",
         "type": "integer"
        },
        {
         "name": "certain",
         "rawType": "int64",
         "type": "integer"
        },
        {
         "name": "certainli",
         "rawType": "int64",
         "type": "integer"
        },
        {
         "name": "chang",
         "rawType": "int64",
         "type": "integer"
        },
        {
         "name": "channel",
         "rawType": "int64",
         "type": "integer"
        },
        {
         "name": "charg",
         "rawType": "int64",
         "type": "integer"
        },
        {
         "name": "charger",
         "rawType": "int64",
         "type": "integer"
        },
        {
         "name": "cheap",
         "rawType": "int64",
         "type": "integer"
        },
        {
         "name": "cheaper",
         "rawType": "int64",
         "type": "integer"
        },
        {
         "name": "check",
         "rawType": "int64",
         "type": "integer"
        },
        {
         "name": "child",
         "rawType": "int64",
         "type": "integer"
        },
        {
         "name": "children",
         "rawType": "int64",
         "type": "integer"
        },
        {
         "name": "choic",
         "rawType": "int64",
         "type": "integer"
        },
        {
         "name": "choos",
         "rawType": "int64",
         "type": "integer"
        },
        {
         "name": "chose",
         "rawType": "int64",
         "type": "integer"
        },
        {
         "name": "christma",
         "rawType": "int64",
         "type": "integer"
        },
        {
         "name": "chromecast",
         "rawType": "int64",
         "type": "integer"
        },
        {
         "name": "class",
         "rawType": "int64",
         "type": "integer"
        },
        {
         "name": "clean",
         "rawType": "int64",
         "type": "integer"
        },
        {
         "name": "clear",
         "rawType": "int64",
         "type": "integer"
        },
        {
         "name": "clearli",
         "rawType": "int64",
         "type": "integer"
        },
        {
         "name": "click",
         "rawType": "int64",
         "type": "integer"
        },
        {
         "name": "close",
         "rawType": "int64",
         "type": "integer"
        },
        {
         "name": "cloud",
         "rawType": "int64",
         "type": "integer"
        },
        {
         "name": "collect",
         "rawType": "int64",
         "type": "integer"
        },
        {
         "name": "color",
         "rawType": "int64",
         "type": "integer"
        },
        {
         "name": "com",
         "rawType": "int64",
         "type": "integer"
        },
        {
         "name": "comcast",
         "rawType": "int64",
         "type": "integer"
        },
        {
         "name": "come",
         "rawType": "int64",
         "type": "integer"
        },
        {
         "name": "comfort",
         "rawType": "int64",
         "type": "integer"
        },
        {
         "name": "command",
         "rawType": "int64",
         "type": "integer"
        },
        {
         "name": "comment",
         "rawType": "int64",
         "type": "integer"
        },
        {
         "name": "compani",
         "rawType": "int64",
         "type": "integer"
        },
        {
         "name": "compar",
         "rawType": "int64",
         "type": "integer"
        },
        {
         "name": "comparison",
         "rawType": "int64",
         "type": "integer"
        },
        {
         "name": "compet",
         "rawType": "int64",
         "type": "integer"
        },
        {
         "name": "competit",
         "rawType": "int64",
         "type": "integer"
        },
        {
         "name": "complain",
         "rawType": "int64",
         "type": "integer"
        },
        {
         "name": "complaint",
         "rawType": "int64",
         "type": "integer"
        },
        {
         "name": "complet",
         "rawType": "int64",
         "type": "integer"
        },
        {
         "name": "comput",
         "rawType": "int64",
         "type": "integer"
        },
        {
         "name": "con",
         "rawType": "int64",
         "type": "integer"
        },
        {
         "name": "concern",
         "rawType": "int64",
         "type": "integer"
        },
        {
         "name": "connect",
         "rawType": "int64",
         "type": "integer"
        },
        {
         "name": "consid",
         "rawType": "int64",
         "type": "integer"
        },
        {
         "name": "consider",
         "rawType": "int64",
         "type": "integer"
        },
        {
         "name": "consist",
         "rawType": "int64",
         "type": "integer"
        },
        {
         "name": "consol",
         "rawType": "int64",
         "type": "integer"
        },
        {
         "name": "consum",
         "rawType": "int64",
         "type": "integer"
        },
        {
         "name": "contact",
         "rawType": "int64",
         "type": "integer"
        },
        {
         "name": "content",
         "rawType": "int64",
         "type": "integer"
        },
        {
         "name": "continu",
         "rawType": "int64",
         "type": "integer"
        },
        {
         "name": "contrast",
         "rawType": "int64",
         "type": "integer"
        },
        {
         "name": "control",
         "rawType": "int64",
         "type": "integer"
        },
        {
         "name": "conveni",
         "rawType": "int64",
         "type": "integer"
        },
        {
         "name": "cool",
         "rawType": "int64",
         "type": "integer"
        },
        {
         "name": "cord",
         "rawType": "int64",
         "type": "integer"
        },
        {
         "name": "core",
         "rawType": "int64",
         "type": "integer"
        },
        {
         "name": "cost",
         "rawType": "int64",
         "type": "integer"
        },
        {
         "name": "could",
         "rawType": "int64",
         "type": "integer"
        },
        {
         "name": "counter",
         "rawType": "int64",
         "type": "integer"
        },
        {
         "name": "coupl",
         "rawType": "int64",
         "type": "integer"
        },
        {
         "name": "cours",
         "rawType": "int64",
         "type": "integer"
        },
        {
         "name": "cover",
         "rawType": "int64",
         "type": "integer"
        },
        {
         "name": "coverag",
         "rawType": "int64",
         "type": "integer"
        },
        {
         "name": "crash",
         "rawType": "int64",
         "type": "integer"
        },
        {
         "name": "crisp",
         "rawType": "int64",
         "type": "integer"
        },
        {
         "name": "current",
         "rawType": "int64",
         "type": "integer"
        },
        {
         "name": "custom",
         "rawType": "int64",
         "type": "integer"
        },
        {
         "name": "cut",
         "rawType": "int64",
         "type": "integer"
        },
        {
         "name": "daili",
         "rawType": "int64",
         "type": "integer"
        },
        {
         "name": "dark",
         "rawType": "int64",
         "type": "integer"
        },
        {
         "name": "date",
         "rawType": "int64",
         "type": "integer"
        },
        {
         "name": "daughter",
         "rawType": "int64",
         "type": "integer"
        },
        {
         "name": "day",
         "rawType": "int64",
         "type": "integer"
        },
        {
         "name": "deal",
         "rawType": "int64",
         "type": "integer"
        },
        {
         "name": "decent",
         "rawType": "int64",
         "type": "integer"
        },
        {
         "name": "decid",
         "rawType": "int64",
         "type": "integer"
        },
        {
         "name": "decis",
         "rawType": "int64",
         "type": "integer"
        },
        {
         "name": "decor",
         "rawType": "int64",
         "type": "integer"
        },
        {
         "name": "default",
         "rawType": "int64",
         "type": "integer"
        },
        {
         "name": "definit",
         "rawType": "int64",
         "type": "integer"
        },
        {
         "name": "deliv",
         "rawType": "int64",
         "type": "integer"
        },
        {
         "name": "depend",
         "rawType": "int64",
         "type": "integer"
        },
        {
         "name": "describ",
         "rawType": "int64",
         "type": "integer"
        },
        {
         "name": "descript",
         "rawType": "int64",
         "type": "integer"
        },
        {
         "name": "design",
         "rawType": "int64",
         "type": "integer"
        },
        {
         "name": "despit",
         "rawType": "int64",
         "type": "integer"
        },
        {
         "name": "detail",
         "rawType": "int64",
         "type": "integer"
        },
        {
         "name": "devic",
         "rawType": "int64",
         "type": "integer"
        },
        {
         "name": "diagon",
         "rawType": "int64",
         "type": "integer"
        },
        {
         "name": "die",
         "rawType": "int64",
         "type": "integer"
        },
        {
         "name": "differ",
         "rawType": "int64",
         "type": "integer"
        },
        {
         "name": "difficult",
         "rawType": "int64",
         "type": "integer"
        },
        {
         "name": "digit",
         "rawType": "int64",
         "type": "integer"
        },
        {
         "name": "ding",
         "rawType": "int64",
         "type": "integer"
        },
        {
         "name": "direct",
         "rawType": "int64",
         "type": "integer"
        },
        {
         "name": "directli",
         "rawType": "int64",
         "type": "integer"
        },
        {
         "name": "disappoint",
         "rawType": "int64",
         "type": "integer"
        },
        {
         "name": "disconnect",
         "rawType": "int64",
         "type": "integer"
        },
        {
         "name": "display",
         "rawType": "int64",
         "type": "integer"
        },
        {
         "name": "dock",
         "rawType": "int64",
         "type": "integer"
        },
        {
         "name": "doesnt",
         "rawType": "int64",
         "type": "integer"
        },
        {
         "name": "done",
         "rawType": "int64",
         "type": "integer"
        },
        {
         "name": "dot",
         "rawType": "int64",
         "type": "integer"
        },
        {
         "name": "doubl",
         "rawType": "int64",
         "type": "integer"
        },
        {
         "name": "download",
         "rawType": "int64",
         "type": "integer"
        },
        {
         "name": "downsid",
         "rawType": "int64",
         "type": "integer"
        },
        {
         "name": "drain",
         "rawType": "int64",
         "type": "integer"
        },
        {
         "name": "drive",
         "rawType": "int64",
         "type": "integer"
        },
        {
         "name": "drop",
         "rawType": "int64",
         "type": "integer"
        },
        {
         "name": "dual",
         "rawType": "int64",
         "type": "integer"
        },
        {
         "name": "due",
         "rawType": "int64",
         "type": "integer"
        },
        {
         "name": "durabl",
         "rawType": "int64",
         "type": "integer"
        },
        {
         "name": "ear",
         "rawType": "int64",
         "type": "integer"
        },
        {
         "name": "earbud",
         "rawType": "int64",
         "type": "integer"
        },
        {
         "name": "earli",
         "rawType": "int64",
         "type": "integer"
        },
        {
         "name": "earlier",
         "rawType": "int64",
         "type": "integer"
        },
        {
         "name": "eas",
         "rawType": "int64",
         "type": "integer"
        },
        {
         "name": "easi",
         "rawType": "int64",
         "type": "integer"
        },
        {
         "name": "easier",
         "rawType": "int64",
         "type": "integer"
        },
        {
         "name": "easili",
         "rawType": "int64",
         "type": "integer"
        },
        {
         "name": "ebook",
         "rawType": "int64",
         "type": "integer"
        },
        {
         "name": "echo",
         "rawType": "int64",
         "type": "integer"
        },
        {
         "name": "ecosystem",
         "rawType": "int64",
         "type": "integer"
        },
        {
         "name": "edg",
         "rawType": "int64",
         "type": "integer"
        },
        {
         "name": "edit",
         "rawType": "int64",
         "type": "integer"
        },
        {
         "name": "effect",
         "rawType": "int64",
         "type": "integer"
        },
        {
         "name": "either",
         "rawType": "int64",
         "type": "integer"
        },
        {
         "name": "electron",
         "rawType": "int64",
         "type": "integer"
        },
        {
         "name": "els",
         "rawType": "int64",
         "type": "integer"
        },
        {
         "name": "email",
         "rawType": "int64",
         "type": "integer"
        },
        {
         "name": "enabl",
         "rawType": "int64",
         "type": "integer"
        },
        {
         "name": "end",
         "rawType": "int64",
         "type": "integer"
        },
        {
         "name": "enhanc",
         "rawType": "int64",
         "type": "integer"
        },
        {
         "name": "enjoy",
         "rawType": "int64",
         "type": "integer"
        },
        {
         "name": "enough",
         "rawType": "int64",
         "type": "integer"
        },
        {
         "name": "entertain",
         "rawType": "int64",
         "type": "integer"
        },
        {
         "name": "entir",
         "rawType": "int64",
         "type": "integer"
        },
        {
         "name": "entri",
         "rawType": "int64",
         "type": "integer"
        },
        {
         "name": "episod",
         "rawType": "int64",
         "type": "integer"
        },
        {
         "name": "especi",
         "rawType": "int64",
         "type": "integer"
        },
        {
         "name": "essenti",
         "rawType": "int64",
         "type": "integer"
        },
        {
         "name": "etc",
         "rawType": "int64",
         "type": "integer"
        },
        {
         "name": "even",
         "rawType": "int64",
         "type": "integer"
        },
        {
         "name": "eventu",
         "rawType": "int64",
         "type": "integer"
        },
        {
         "name": "ever",
         "rawType": "int64",
         "type": "integer"
        },
        {
         "name": "everi",
         "rawType": "int64",
         "type": "integer"
        },
        {
         "name": "everyday",
         "rawType": "int64",
         "type": "integer"
        },
        {
         "name": "everyon",
         "rawType": "int64",
         "type": "integer"
        },
        {
         "name": "everyth",
         "rawType": "int64",
         "type": "integer"
        },
        {
         "name": "exact",
         "rawType": "int64",
         "type": "integer"
        },
        {
         "name": "exactli",
         "rawType": "int64",
         "type": "integer"
        },
        {
         "name": "exampl",
         "rawType": "int64",
         "type": "integer"
        },
        {
         "name": "excel",
         "rawType": "int64",
         "type": "integer"
        },
        {
         "name": "except",
         "rawType": "int64",
         "type": "integer"
        },
        {
         "name": "exist",
         "rawType": "int64",
         "type": "integer"
        },
        {
         "name": "expand",
         "rawType": "int64",
         "type": "integer"
        },
        {
         "name": "expect",
         "rawType": "int64",
         "type": "integer"
        },
        {
         "name": "expens",
         "rawType": "int64",
         "type": "integer"
        },
        {
         "name": "experi",
         "rawType": "int64",
         "type": "integer"
        },
        {
         "name": "extra",
         "rawType": "int64",
         "type": "integer"
        },
        {
         "name": "eye",
         "rawType": "int64",
         "type": "integer"
        },
        {
         "name": "fabric",
         "rawType": "int64",
         "type": "integer"
        },
        {
         "name": "face",
         "rawType": "int64",
         "type": "integer"
        },
        {
         "name": "facebook",
         "rawType": "int64",
         "type": "integer"
        },
        {
         "name": "fact",
         "rawType": "int64",
         "type": "integer"
        },
        {
         "name": "factor",
         "rawType": "int64",
         "type": "integer"
        },
        {
         "name": "fade",
         "rawType": "int64",
         "type": "integer"
        },
        {
         "name": "fairli",
         "rawType": "int64",
         "type": "integer"
        },
        {
         "name": "fall",
         "rawType": "int64",
         "type": "integer"
        },
        {
         "name": "famili",
         "rawType": "int64",
         "type": "integer"
        },
        {
         "name": "fan",
         "rawType": "int64",
         "type": "integer"
        },
        {
         "name": "fantast",
         "rawType": "int64",
         "type": "integer"
        },
        {
         "name": "far",
         "rawType": "int64",
         "type": "integer"
        },
        {
         "name": "fast",
         "rawType": "int64",
         "type": "integer"
        },
        {
         "name": "faster",
         "rawType": "int64",
         "type": "integer"
        },
        {
         "name": "fastest",
         "rawType": "int64",
         "type": "integer"
        },
        {
         "name": "favorit",
         "rawType": "int64",
         "type": "integer"
        },
        {
         "name": "featur",
         "rawType": "int64",
         "type": "integer"
        },
        {
         "name": "feedback",
         "rawType": "int64",
         "type": "integer"
        },
        {
         "name": "feel",
         "rawType": "int64",
         "type": "integer"
        },
        {
         "name": "felt",
         "rawType": "int64",
         "type": "integer"
        },
        {
         "name": "fi",
         "rawType": "int64",
         "type": "integer"
        },
        {
         "name": "figur",
         "rawType": "int64",
         "type": "integer"
        },
        {
         "name": "file",
         "rawType": "int64",
         "type": "integer"
        },
        {
         "name": "final",
         "rawType": "int64",
         "type": "integer"
        },
        {
         "name": "find",
         "rawType": "int64",
         "type": "integer"
        },
        {
         "name": "fine",
         "rawType": "int64",
         "type": "integer"
        },
        {
         "name": "finish",
         "rawType": "int64",
         "type": "integer"
        },
        {
         "name": "fire",
         "rawType": "int64",
         "type": "integer"
        },
        {
         "name": "firetv",
         "rawType": "int64",
         "type": "integer"
        },
        {
         "name": "first",
         "rawType": "int64",
         "type": "integer"
        },
        {
         "name": "fit",
         "rawType": "int64",
         "type": "integer"
        },
        {
         "name": "fix",
         "rawType": "int64",
         "type": "integer"
        },
        {
         "name": "flip",
         "rawType": "int64",
         "type": "integer"
        },
        {
         "name": "fold",
         "rawType": "int64",
         "type": "integer"
        },
        {
         "name": "follow",
         "rawType": "int64",
         "type": "integer"
        },
        {
         "name": "font",
         "rawType": "int64",
         "type": "integer"
        },
        {
         "name": "forc",
         "rawType": "int64",
         "type": "integer"
        },
        {
         "name": "format",
         "rawType": "int64",
         "type": "integer"
        },
        {
         "name": "forward",
         "rawType": "int64",
         "type": "integer"
        },
        {
         "name": "found",
         "rawType": "int64",
         "type": "integer"
        },
        {
         "name": "free",
         "rawType": "int64",
         "type": "integer"
        },
        {
         "name": "freetim",
         "rawType": "int64",
         "type": "integer"
        },
        {
         "name": "freez",
         "rawType": "int64",
         "type": "integer"
        },
        {
         "name": "friend",
         "rawType": "int64",
         "type": "integer"
        },
        {
         "name": "friendli",
         "rawType": "int64",
         "type": "integer"
        },
        {
         "name": "front",
         "rawType": "int64",
         "type": "integer"
        },
        {
         "name": "frontlitstorag",
         "rawType": "int64",
         "type": "integer"
        },
        {
         "name": "frustrat",
         "rawType": "int64",
         "type": "integer"
        },
        {
         "name": "full",
         "rawType": "int64",
         "type": "integer"
        },
        {
         "name": "fulli",
         "rawType": "int64",
         "type": "integer"
        },
        {
         "name": "fun",
         "rawType": "int64",
         "type": "integer"
        },
        {
         "name": "function",
         "rawType": "int64",
         "type": "integer"
        },
        {
         "name": "futur",
         "rawType": "int64",
         "type": "integer"
        },
        {
         "name": "game",
         "rawType": "int64",
         "type": "integer"
        },
        {
         "name": "gave",
         "rawType": "int64",
         "type": "integer"
        },
        {
         "name": "gb",
         "rawType": "int64",
         "type": "integer"
        },
        {
         "name": "gener",
         "rawType": "int64",
         "type": "integer"
        },
        {
         "name": "get",
         "rawType": "int64",
         "type": "integer"
        },
        {
         "name": "gift",
         "rawType": "int64",
         "type": "integer"
        },
        {
         "name": "give",
         "rawType": "int64",
         "type": "integer"
        },
        {
         "name": "given",
         "rawType": "int64",
         "type": "integer"
        },
        {
         "name": "glad",
         "rawType": "int64",
         "type": "integer"
        },
        {
         "name": "glare",
         "rawType": "int64",
         "type": "integer"
        },
        {
         "name": "glossi",
         "rawType": "int64",
         "type": "integer"
        },
        {
         "name": "go",
         "rawType": "int64",
         "type": "integer"
        },
        {
         "name": "goe",
         "rawType": "int64",
         "type": "integer"
        },
        {
         "name": "gone",
         "rawType": "int64",
         "type": "integer"
        },
        {
         "name": "good",
         "rawType": "int64",
         "type": "integer"
        },
        {
         "name": "googl",
         "rawType": "int64",
         "type": "integer"
        },
        {
         "name": "got",
         "rawType": "int64",
         "type": "integer"
        },
        {
         "name": "gotten",
         "rawType": "int64",
         "type": "integer"
        },
        {
         "name": "grab",
         "rawType": "int64",
         "type": "integer"
        },
        {
         "name": "grayscal",
         "rawType": "int64",
         "type": "integer"
        },
        {
         "name": "great",
         "rawType": "int64",
         "type": "integer"
        },
        {
         "name": "grey",
         "rawType": "int64",
         "type": "integer"
        },
        {
         "name": "grow",
         "rawType": "int64",
         "type": "integer"
        },
        {
         "name": "guess",
         "rawType": "int64",
         "type": "integer"
        },
        {
         "name": "guy",
         "rawType": "int64",
         "type": "integer"
        },
        {
         "name": "half",
         "rawType": "int64",
         "type": "integer"
        },
        {
         "name": "hand",
         "rawType": "int64",
         "type": "integer"
        },
        {
         "name": "handl",
         "rawType": "int64",
         "type": "integer"
        },
        {
         "name": "hang",
         "rawType": "int64",
         "type": "integer"
        },
        {
         "name": "happen",
         "rawType": "int64",
         "type": "integer"
        },
        {
         "name": "happi",
         "rawType": "int64",
         "type": "integer"
        },
        {
         "name": "hard",
         "rawType": "int64",
         "type": "integer"
        },
        {
         "name": "hardwar",
         "rawType": "int64",
         "type": "integer"
        },
        {
         "name": "hate",
         "rawType": "int64",
         "type": "integer"
        },
        {
         "name": "hbo",
         "rawType": "int64",
         "type": "integer"
        },
        {
         "name": "hd",
         "rawType": "int64",
         "type": "integer"
        },
        {
         "name": "hd7",
         "rawType": "int64",
         "type": "integer"
        },
        {
         "name": "hd8",
         "rawType": "int64",
         "type": "integer"
        },
        {
         "name": "hdmi",
         "rawType": "int64",
         "type": "integer"
        },
        {
         "name": "hdx",
         "rawType": "int64",
         "type": "integer"
        },
        {
         "name": "headphon",
         "rawType": "int64",
         "type": "integer"
        },
        {
         "name": "hear",
         "rawType": "int64",
         "type": "integer"
        },
        {
         "name": "heavi",
         "rawType": "int64",
         "type": "integer"
        },
        {
         "name": "help",
         "rawType": "int64",
         "type": "integer"
        },
        {
         "name": "hesit",
         "rawType": "int64",
         "type": "integer"
        },
        {
         "name": "high",
         "rawType": "int64",
         "type": "integer"
        },
        {
         "name": "higher",
         "rawType": "int64",
         "type": "integer"
        },
        {
         "name": "highli",
         "rawType": "int64",
         "type": "integer"
        },
        {
         "name": "highlight",
         "rawType": "int64",
         "type": "integer"
        },
        {
         "name": "hit",
         "rawType": "int64",
         "type": "integer"
        },
        {
         "name": "hockey",
         "rawType": "int64",
         "type": "integer"
        },
        {
         "name": "hold",
         "rawType": "int64",
         "type": "integer"
        },
        {
         "name": "hole",
         "rawType": "int64",
         "type": "integer"
        },
        {
         "name": "home",
         "rawType": "int64",
         "type": "integer"
        },
        {
         "name": "honestli",
         "rawType": "int64",
         "type": "integer"
        },
        {
         "name": "hook",
         "rawType": "int64",
         "type": "integer"
        },
        {
         "name": "hope",
         "rawType": "int64",
         "type": "integer"
        },
        {
         "name": "hour",
         "rawType": "int64",
         "type": "integer"
        },
        {
         "name": "hous",
         "rawType": "int64",
         "type": "integer"
        },
        {
         "name": "howev",
         "rawType": "int64",
         "type": "integer"
        },
        {
         "name": "hue",
         "rawType": "int64",
         "type": "integer"
        },
        {
         "name": "huge",
         "rawType": "int64",
         "type": "integer"
        },
        {
         "name": "hurt",
         "rawType": "int64",
         "type": "integer"
        },
        {
         "name": "husband",
         "rawType": "int64",
         "type": "integer"
        },
        {
         "name": "idea",
         "rawType": "int64",
         "type": "integer"
        },
        {
         "name": "ident",
         "rawType": "int64",
         "type": "integer"
        },
        {
         "name": "im",
         "rawType": "int64",
         "type": "integer"
        },
        {
         "name": "imag",
         "rawType": "int64",
         "type": "integer"
        },
        {
         "name": "imagin",
         "rawType": "int64",
         "type": "integer"
        },
        {
         "name": "immedi",
         "rawType": "int64",
         "type": "integer"
        },
        {
         "name": "import",
         "rawType": "int64",
         "type": "integer"
        },
        {
         "name": "impress",
         "rawType": "int64",
         "type": "integer"
        },
        {
         "name": "improv",
         "rawType": "int64",
         "type": "integer"
        },
        {
         "name": "inch",
         "rawType": "int64",
         "type": "integer"
        },
        {
         "name": "includ",
         "rawType": "int64",
         "type": "integer"
        },
        {
         "name": "increas",
         "rawType": "int64",
         "type": "integer"
        },
        {
         "name": "incred",
         "rawType": "int64",
         "type": "integer"
        },
        {
         "name": "inform",
         "rawType": "int64",
         "type": "integer"
        },
        {
         "name": "initi",
         "rawType": "int64",
         "type": "integer"
        },
        {
         "name": "ink",
         "rawType": "int64",
         "type": "integer"
        },
        {
         "name": "insid",
         "rawType": "int64",
         "type": "integer"
        },
        {
         "name": "instal",
         "rawType": "int64",
         "type": "integer"
        },
        {
         "name": "instant",
         "rawType": "int64",
         "type": "integer"
        },
        {
         "name": "instead",
         "rawType": "int64",
         "type": "integer"
        },
        {
         "name": "instruct",
         "rawType": "int64",
         "type": "integer"
        },
        {
         "name": "integr",
         "rawType": "int64",
         "type": "integer"
        },
        {
         "name": "interest",
         "rawType": "int64",
         "type": "integer"
        },
        {
         "name": "interfac",
         "rawType": "int64",
         "type": "integer"
        },
        {
         "name": "internet",
         "rawType": "int64",
         "type": "integer"
        },
        {
         "name": "invest",
         "rawType": "int64",
         "type": "integer"
        },
        {
         "name": "ipad",
         "rawType": "int64",
         "type": "integer"
        },
        {
         "name": "iphon",
         "rawType": "int64",
         "type": "integer"
        },
        {
         "name": "issu",
         "rawType": "int64",
         "type": "integer"
        },
        {
         "name": "item",
         "rawType": "int64",
         "type": "integer"
        },
        {
         "name": "ive",
         "rawType": "int64",
         "type": "integer"
        },
        {
         "name": "jack",
         "rawType": "int64",
         "type": "integer"
        },
        {
         "name": "job",
         "rawType": "int64",
         "type": "integer"
        },
        {
         "name": "jump",
         "rawType": "int64",
         "type": "integer"
        },
        {
         "name": "keep",
         "rawType": "int64",
         "type": "integer"
        },
        {
         "name": "kept",
         "rawType": "int64",
         "type": "integer"
        },
        {
         "name": "key",
         "rawType": "int64",
         "type": "integer"
        },
        {
         "name": "keyboard",
         "rawType": "int64",
         "type": "integer"
        },
        {
         "name": "kid",
         "rawType": "int64",
         "type": "integer"
        },
        {
         "name": "kind",
         "rawType": "int64",
         "type": "integer"
        },
        {
         "name": "kindl",
         "rawType": "int64",
         "type": "integer"
        },
        {
         "name": "kitchen",
         "rawType": "int64",
         "type": "integer"
        },
        {
         "name": "knock",
         "rawType": "int64",
         "type": "integer"
        },
        {
         "name": "know",
         "rawType": "int64",
         "type": "integer"
        },
        {
         "name": "lack",
         "rawType": "int64",
         "type": "integer"
        },
        {
         "name": "lag",
         "rawType": "int64",
         "type": "integer"
        },
        {
         "name": "landscap",
         "rawType": "int64",
         "type": "integer"
        },
        {
         "name": "laptop",
         "rawType": "int64",
         "type": "integer"
        },
        {
         "name": "larg",
         "rawType": "int64",
         "type": "integer"
        },
        {
         "name": "larger",
         "rawType": "int64",
         "type": "integer"
        },
        {
         "name": "last",
         "rawType": "int64",
         "type": "integer"
        },
        {
         "name": "late",
         "rawType": "int64",
         "type": "integer"
        },
        {
         "name": "later",
         "rawType": "int64",
         "type": "integer"
        },
        {
         "name": "latest",
         "rawType": "int64",
         "type": "integer"
        },
        {
         "name": "launch",
         "rawType": "int64",
         "type": "integer"
        },
        {
         "name": "lay",
         "rawType": "int64",
         "type": "integer"
        },
        {
         "name": "learn",
         "rawType": "int64",
         "type": "integer"
        },
        {
         "name": "least",
         "rawType": "int64",
         "type": "integer"
        },
        {
         "name": "leather",
         "rawType": "int64",
         "type": "integer"
        },
        {
         "name": "leav",
         "rawType": "int64",
         "type": "integer"
        },
        {
         "name": "led",
         "rawType": "int64",
         "type": "integer"
        },
        {
         "name": "left",
         "rawType": "int64",
         "type": "integer"
        },
        {
         "name": "less",
         "rawType": "int64",
         "type": "integer"
        },
        {
         "name": "let",
         "rawType": "int64",
         "type": "integer"
        },
        {
         "name": "level",
         "rawType": "int64",
         "type": "integer"
        },
        {
         "name": "librari",
         "rawType": "int64",
         "type": "integer"
        },
        {
         "name": "life",
         "rawType": "int64",
         "type": "integer"
        },
        {
         "name": "light",
         "rawType": "int64",
         "type": "integer"
        },
        {
         "name": "lighter",
         "rawType": "int64",
         "type": "integer"
        },
        {
         "name": "like",
         "rawType": "int64",
         "type": "integer"
        },
        {
         "name": "limit",
         "rawType": "int64",
         "type": "integer"
        },
        {
         "name": "line",
         "rawType": "int64",
         "type": "integer"
        },
        {
         "name": "link",
         "rawType": "int64",
         "type": "integer"
        },
        {
         "name": "list",
         "rawType": "int64",
         "type": "integer"
        },
        {
         "name": "listen",
         "rawType": "int64",
         "type": "integer"
        },
        {
         "name": "littl",
         "rawType": "int64",
         "type": "integer"
        },
        {
         "name": "live",
         "rawType": "int64",
         "type": "integer"
        },
        {
         "name": "load",
         "rawType": "int64",
         "type": "integer"
        },
        {
         "name": "local",
         "rawType": "int64",
         "type": "integer"
        },
        {
         "name": "locat",
         "rawType": "int64",
         "type": "integer"
        },
        {
         "name": "lock",
         "rawType": "int64",
         "type": "integer"
        },
        {
         "name": "long",
         "rawType": "int64",
         "type": "integer"
        },
        {
         "name": "longer",
         "rawType": "int64",
         "type": "integer"
        },
        {
         "name": "look",
         "rawType": "int64",
         "type": "integer"
        },
        {
         "name": "loos",
         "rawType": "int64",
         "type": "integer"
        },
        {
         "name": "lose",
         "rawType": "int64",
         "type": "integer"
        },
        {
         "name": "lost",
         "rawType": "int64",
         "type": "integer"
        },
        {
         "name": "lot",
         "rawType": "int64",
         "type": "integer"
        },
        {
         "name": "loud",
         "rawType": "int64",
         "type": "integer"
        },
        {
         "name": "love",
         "rawType": "int64",
         "type": "integer"
        },
        {
         "name": "low",
         "rawType": "int64",
         "type": "integer"
        },
        {
         "name": "lower",
         "rawType": "int64",
         "type": "integer"
        },
        {
         "name": "lyric",
         "rawType": "int64",
         "type": "integer"
        },
        {
         "name": "made",
         "rawType": "int64",
         "type": "integer"
        },
        {
         "name": "magnet",
         "rawType": "int64",
         "type": "integer"
        },
        {
         "name": "main",
         "rawType": "int64",
         "type": "integer"
        },
        {
         "name": "major",
         "rawType": "int64",
         "type": "integer"
        },
        {
         "name": "make",
         "rawType": "int64",
         "type": "integer"
        },
        {
         "name": "mani",
         "rawType": "int64",
         "type": "integer"
        },
        {
         "name": "manual",
         "rawType": "int64",
         "type": "integer"
        },
        {
         "name": "market",
         "rawType": "int64",
         "type": "integer"
        },
        {
         "name": "materi",
         "rawType": "int64",
         "type": "integer"
        },
        {
         "name": "matter",
         "rawType": "int64",
         "type": "integer"
        },
        {
         "name": "may",
         "rawType": "int64",
         "type": "integer"
        },
        {
         "name": "mayb",
         "rawType": "int64",
         "type": "integer"
        },
        {
         "name": "mayday",
         "rawType": "int64",
         "type": "integer"
        },
        {
         "name": "mean",
         "rawType": "int64",
         "type": "integer"
        },
        {
         "name": "meant",
         "rawType": "int64",
         "type": "integer"
        },
        {
         "name": "media",
         "rawType": "int64",
         "type": "integer"
        },
        {
         "name": "member",
         "rawType": "int64",
         "type": "integer"
        },
        {
         "name": "membership",
         "rawType": "int64",
         "type": "integer"
        },
        {
         "name": "memori",
         "rawType": "int64",
         "type": "integer"
        },
        {
         "name": "mention",
         "rawType": "int64",
         "type": "integer"
        },
        {
         "name": "merlot",
         "rawType": "int64",
         "type": "integer"
        },
        {
         "name": "micro",
         "rawType": "int64",
         "type": "integer"
        },
        {
         "name": "microphon",
         "rawType": "int64",
         "type": "integer"
        },
        {
         "name": "middl",
         "rawType": "int64",
         "type": "integer"
        },
        {
         "name": "might",
         "rawType": "int64",
         "type": "integer"
        },
        {
         "name": "mind",
         "rawType": "int64",
         "type": "integer"
        },
        {
         "name": "mine",
         "rawType": "int64",
         "type": "integer"
        },
        {
         "name": "mini",
         "rawType": "int64",
         "type": "integer"
        },
        {
         "name": "minim",
         "rawType": "int64",
         "type": "integer"
        },
        {
         "name": "minut",
         "rawType": "int64",
         "type": "integer"
        },
        {
         "name": "miss",
         "rawType": "int64",
         "type": "integer"
        },
        {
         "name": "mobil",
         "rawType": "int64",
         "type": "integer"
        },
        {
         "name": "mode",
         "rawType": "int64",
         "type": "integer"
        },
        {
         "name": "model",
         "rawType": "int64",
         "type": "integer"
        },
        {
         "name": "mom",
         "rawType": "int64",
         "type": "integer"
        },
        {
         "name": "money",
         "rawType": "int64",
         "type": "integer"
        },
        {
         "name": "month",
         "rawType": "int64",
         "type": "integer"
        },
        {
         "name": "morn",
         "rawType": "int64",
         "type": "integer"
        },
        {
         "name": "mostli",
         "rawType": "int64",
         "type": "integer"
        },
        {
         "name": "move",
         "rawType": "int64",
         "type": "integer"
        },
        {
         "name": "movi",
         "rawType": "int64",
         "type": "integer"
        },
        {
         "name": "much",
         "rawType": "int64",
         "type": "integer"
        },
        {
         "name": "multipl",
         "rawType": "int64",
         "type": "integer"
        },
        {
         "name": "music",
         "rawType": "int64",
         "type": "integer"
        },
        {
         "name": "must",
         "rawType": "int64",
         "type": "integer"
        },
        {
         "name": "name",
         "rawType": "int64",
         "type": "integer"
        },
        {
         "name": "navig",
         "rawType": "int64",
         "type": "integer"
        },
        {
         "name": "near",
         "rawType": "int64",
         "type": "integer"
        },
        {
         "name": "nearli",
         "rawType": "int64",
         "type": "integer"
        },
        {
         "name": "need",
         "rawType": "int64",
         "type": "integer"
        },
        {
         "name": "neg",
         "rawType": "int64",
         "type": "integer"
        },
        {
         "name": "netflix",
         "rawType": "int64",
         "type": "integer"
        },
        {
         "name": "network",
         "rawType": "int64",
         "type": "integer"
        },
        {
         "name": "never",
         "rawType": "int64",
         "type": "integer"
        },
        {
         "name": "new",
         "rawType": "int64",
         "type": "integer"
        },
        {
         "name": "newer",
         "rawType": "int64",
         "type": "integer"
        },
        {
         "name": "news",
         "rawType": "int64",
         "type": "integer"
        },
        {
         "name": "next",
         "rawType": "int64",
         "type": "integer"
        },
        {
         "name": "nexu",
         "rawType": "int64",
         "type": "integer"
        },
        {
         "name": "nice",
         "rawType": "int64",
         "type": "integer"
        },
        {
         "name": "night",
         "rawType": "int64",
         "type": "integer"
        },
        {
         "name": "nois",
         "rawType": "int64",
         "type": "integer"
        },
        {
         "name": "non",
         "rawType": "int64",
         "type": "integer"
        },
        {
         "name": "none",
         "rawType": "int64",
         "type": "integer"
        },
        {
         "name": "normal",
         "rawType": "int64",
         "type": "integer"
        },
        {
         "name": "note",
         "rawType": "int64",
         "type": "integer"
        },
        {
         "name": "noth",
         "rawType": "int64",
         "type": "integer"
        },
        {
         "name": "notic",
         "rawType": "int64",
         "type": "integer"
        },
        {
         "name": "number",
         "rawType": "int64",
         "type": "integer"
        },
        {
         "name": "oasi",
         "rawType": "int64",
         "type": "integer"
        },
        {
         "name": "occasion",
         "rawType": "int64",
         "type": "integer"
        },
        {
         "name": "offer",
         "rawType": "int64",
         "type": "integer"
        },
        {
         "name": "offic",
         "rawType": "int64",
         "type": "integer"
        },
        {
         "name": "offlin",
         "rawType": "int64",
         "type": "integer"
        },
        {
         "name": "often",
         "rawType": "int64",
         "type": "integer"
        },
        {
         "name": "ok",
         "rawType": "int64",
         "type": "integer"
        },
        {
         "name": "old",
         "rawType": "int64",
         "type": "integer"
        },
        {
         "name": "older",
         "rawType": "int64",
         "type": "integer"
        },
        {
         "name": "one",
         "rawType": "int64",
         "type": "integer"
        },
        {
         "name": "onlin",
         "rawType": "int64",
         "type": "integer"
        },
        {
         "name": "onto",
         "rawType": "int64",
         "type": "integer"
        },
        {
         "name": "open",
         "rawType": "int64",
         "type": "integer"
        },
        {
         "name": "oper",
         "rawType": "int64",
         "type": "integer"
        },
        {
         "name": "opinion",
         "rawType": "int64",
         "type": "integer"
        },
        {
         "name": "option",
         "rawType": "int64",
         "type": "integer"
        },
        {
         "name": "order",
         "rawType": "int64",
         "type": "integer"
        },
        {
         "name": "origami",
         "rawType": "int64",
         "type": "integer"
        },
        {
         "name": "origin",
         "rawType": "int64",
         "type": "integer"
        },
        {
         "name": "os",
         "rawType": "int64",
         "type": "integer"
        },
        {
         "name": "other",
         "rawType": "int64",
         "type": "integer"
        },
        {
         "name": "otherwis",
         "rawType": "int64",
         "type": "integer"
        },
        {
         "name": "ounc",
         "rawType": "int64",
         "type": "integer"
        },
        {
         "name": "ouncesdisplay",
         "rawType": "int64",
         "type": "integer"
        },
        {
         "name": "outsid",
         "rawType": "int64",
         "type": "integer"
        },
        {
         "name": "outstand",
         "rawType": "int64",
         "type": "integer"
        },
        {
         "name": "overal",
         "rawType": "int64",
         "type": "integer"
        },
        {
         "name": "own",
         "rawType": "int64",
         "type": "integer"
        },
        {
         "name": "owner",
         "rawType": "int64",
         "type": "integer"
        },
        {
         "name": "oz",
         "rawType": "int64",
         "type": "integer"
        },
        {
         "name": "packag",
         "rawType": "int64",
         "type": "integer"
        },
        {
         "name": "page",
         "rawType": "int64",
         "type": "integer"
        },
        {
         "name": "paid",
         "rawType": "int64",
         "type": "integer"
        },
        {
         "name": "pair",
         "rawType": "int64",
         "type": "integer"
        },
        {
         "name": "pandora",
         "rawType": "int64",
         "type": "integer"
        },
        {
         "name": "paper",
         "rawType": "int64",
         "type": "integer"
        },
        {
         "name": "paperwhit",
         "rawType": "int64",
         "type": "integer"
        },
        {
         "name": "parent",
         "rawType": "int64",
         "type": "integer"
        },
        {
         "name": "part",
         "rawType": "int64",
         "type": "integer"
        },
        {
         "name": "parti",
         "rawType": "int64",
         "type": "integer"
        },
        {
         "name": "particularli",
         "rawType": "int64",
         "type": "integer"
        },
        {
         "name": "past",
         "rawType": "int64",
         "type": "integer"
        },
        {
         "name": "pay",
         "rawType": "int64",
         "type": "integer"
        },
        {
         "name": "peopl",
         "rawType": "int64",
         "type": "integer"
        },
        {
         "name": "per",
         "rawType": "int64",
         "type": "integer"
        },
        {
         "name": "perfect",
         "rawType": "int64",
         "type": "integer"
        },
        {
         "name": "perfectli",
         "rawType": "int64",
         "type": "integer"
        },
        {
         "name": "perform",
         "rawType": "int64",
         "type": "integer"
        },
        {
         "name": "period",
         "rawType": "int64",
         "type": "integer"
        },
        {
         "name": "person",
         "rawType": "int64",
         "type": "integer"
        },
        {
         "name": "perspect",
         "rawType": "int64",
         "type": "integer"
        },
        {
         "name": "philip",
         "rawType": "int64",
         "type": "integer"
        },
        {
         "name": "phone",
         "rawType": "int64",
         "type": "integer"
        },
        {
         "name": "photo",
         "rawType": "int64",
         "type": "integer"
        },
        {
         "name": "physic",
         "rawType": "int64",
         "type": "integer"
        },
        {
         "name": "pick",
         "rawType": "int64",
         "type": "integer"
        },
        {
         "name": "pictur",
         "rawType": "int64",
         "type": "integer"
        },
        {
         "name": "piec",
         "rawType": "int64",
         "type": "integer"
        },
        {
         "name": "pixel",
         "rawType": "int64",
         "type": "integer"
        },
        {
         "name": "place",
         "rawType": "int64",
         "type": "integer"
        },
        {
         "name": "plan",
         "rawType": "int64",
         "type": "integer"
        },
        {
         "name": "plastic",
         "rawType": "int64",
         "type": "integer"
        },
        {
         "name": "platform",
         "rawType": "int64",
         "type": "integer"
        },
        {
         "name": "play",
         "rawType": "int64",
         "type": "integer"
        },
        {
         "name": "playback",
         "rawType": "int64",
         "type": "integer"
        },
        {
         "name": "player",
         "rawType": "int64",
         "type": "integer"
        },
        {
         "name": "pleas",
         "rawType": "int64",
         "type": "integer"
        },
        {
         "name": "plenti",
         "rawType": "int64",
         "type": "integer"
        },
        {
         "name": "plex",
         "rawType": "int64",
         "type": "integer"
        },
        {
         "name": "plu",
         "rawType": "int64",
         "type": "integer"
        },
        {
         "name": "plug",
         "rawType": "int64",
         "type": "integer"
        },
        {
         "name": "point",
         "rawType": "int64",
         "type": "integer"
        },
        {
         "name": "pop",
         "rawType": "int64",
         "type": "integer"
        },
        {
         "name": "popul",
         "rawType": "int64",
         "type": "integer"
        },
        {
         "name": "popular",
         "rawType": "int64",
         "type": "integer"
        },
        {
         "name": "port",
         "rawType": "int64",
         "type": "integer"
        },
        {
         "name": "portabl",
         "rawType": "int64",
         "type": "integer"
        },
        {
         "name": "portrait",
         "rawType": "int64",
         "type": "integer"
        },
        {
         "name": "posit",
         "rawType": "int64",
         "type": "integer"
        },
        {
         "name": "possibl",
         "rawType": "int64",
         "type": "integer"
        },
        {
         "name": "post",
         "rawType": "int64",
         "type": "integer"
        },
        {
         "name": "power",
         "rawType": "int64",
         "type": "integer"
        },
        {
         "name": "ppi",
         "rawType": "int64",
         "type": "integer"
        },
        {
         "name": "prefer",
         "rawType": "int64",
         "type": "integer"
        },
        {
         "name": "present",
         "rawType": "int64",
         "type": "integer"
        },
        {
         "name": "press",
         "rawType": "int64",
         "type": "integer"
        },
        {
         "name": "pretti",
         "rawType": "int64",
         "type": "integer"
        },
        {
         "name": "previou",
         "rawType": "int64",
         "type": "integer"
        },
        {
         "name": "price",
         "rawType": "int64",
         "type": "integer"
        },
        {
         "name": "primarili",
         "rawType": "int64",
         "type": "integer"
        },
        {
         "name": "prime",
         "rawType": "int64",
         "type": "integer"
        },
        {
         "name": "print",
         "rawType": "int64",
         "type": "integer"
        },
        {
         "name": "pro",
         "rawType": "int64",
         "type": "integer"
        },
        {
         "name": "probabl",
         "rawType": "int64",
         "type": "integer"
        },
        {
         "name": "problem",
         "rawType": "int64",
         "type": "integer"
        },
        {
         "name": "process",
         "rawType": "int64",
         "type": "integer"
        },
        {
         "name": "processor",
         "rawType": "int64",
         "type": "integer"
        },
        {
         "name": "product",
         "rawType": "int64",
         "type": "integer"
        },
        {
         "name": "program",
         "rawType": "int64",
         "type": "integer"
        },
        {
         "name": "protect",
         "rawType": "int64",
         "type": "integer"
        },
        {
         "name": "protector",
         "rawType": "int64",
         "type": "integer"
        },
        {
         "name": "provid",
         "rawType": "int64",
         "type": "integer"
        },
        {
         "name": "puck",
         "rawType": "int64",
         "type": "integer"
        },
        {
         "name": "pull",
         "rawType": "int64",
         "type": "integer"
        },
        {
         "name": "purchas",
         "rawType": "int64",
         "type": "integer"
        },
        {
         "name": "purpos",
         "rawType": "int64",
         "type": "integer"
        },
        {
         "name": "push",
         "rawType": "int64",
         "type": "integer"
        },
        {
         "name": "put",
         "rawType": "int64",
         "type": "integer"
        },
        {
         "name": "quad",
         "rawType": "int64",
         "type": "integer"
        },
        {
         "name": "qualiti",
         "rawType": "int64",
         "type": "integer"
        },
        {
         "name": "question",
         "rawType": "int64",
         "type": "integer"
        },
        {
         "name": "quick",
         "rawType": "int64",
         "type": "integer"
        },
        {
         "name": "quickli",
         "rawType": "int64",
         "type": "integer"
        },
        {
         "name": "quit",
         "rawType": "int64",
         "type": "integer"
        },
        {
         "name": "radio",
         "rawType": "int64",
         "type": "integer"
        },
        {
         "name": "rang",
         "rawType": "int64",
         "type": "integer"
        },
        {
         "name": "rate",
         "rawType": "int64",
         "type": "integer"
        },
        {
         "name": "rather",
         "rawType": "int64",
         "type": "integer"
        },
        {
         "name": "ratio",
         "rawType": "int64",
         "type": "integer"
        },
        {
         "name": "ray",
         "rawType": "int64",
         "type": "integer"
        },
        {
         "name": "read",
         "rawType": "int64",
         "type": "integer"
        },
        {
         "name": "reader",
         "rawType": "int64",
         "type": "integer"
        },
        {
         "name": "readi",
         "rawType": "int64",
         "type": "integer"
        },
        {
         "name": "real",
         "rawType": "int64",
         "type": "integer"
        },
        {
         "name": "realiz",
         "rawType": "int64",
         "type": "integer"
        },
        {
         "name": "realli",
         "rawType": "int64",
         "type": "integer"
        },
        {
         "name": "rear",
         "rawType": "int64",
         "type": "integer"
        },
        {
         "name": "reason",
         "rawType": "int64",
         "type": "integer"
        },
        {
         "name": "reboot",
         "rawType": "int64",
         "type": "integer"
        },
        {
         "name": "receiv",
         "rawType": "int64",
         "type": "integer"
        },
        {
         "name": "recent",
         "rawType": "int64",
         "type": "integer"
        },
        {
         "name": "recharg",
         "rawType": "int64",
         "type": "integer"
        },
        {
         "name": "recogn",
         "rawType": "int64",
         "type": "integer"
        },
        {
         "name": "recognit",
         "rawType": "int64",
         "type": "integer"
        },
        {
         "name": "recommend",
         "rawType": "int64",
         "type": "integer"
        },
        {
         "name": "reduc",
         "rawType": "int64",
         "type": "integer"
        },
        {
         "name": "refurbish",
         "rawType": "int64",
         "type": "integer"
        },
        {
         "name": "regret",
         "rawType": "int64",
         "type": "integer"
        },
        {
         "name": "regular",
         "rawType": "int64",
         "type": "integer"
        },
        {
         "name": "releas",
         "rawType": "int64",
         "type": "integer"
        },
        {
         "name": "rememb",
         "rawType": "int64",
         "type": "integer"
        },
        {
         "name": "remot",
         "rawType": "int64",
         "type": "integer"
        },
        {
         "name": "remov",
         "rawType": "int64",
         "type": "integer"
        },
        {
         "name": "rent",
         "rawType": "int64",
         "type": "integer"
        },
        {
         "name": "replac",
         "rawType": "int64",
         "type": "integer"
        },
        {
         "name": "report",
         "rawType": "int64",
         "type": "integer"
        },
        {
         "name": "request",
         "rawType": "int64",
         "type": "integer"
        },
        {
         "name": "requir",
         "rawType": "int64",
         "type": "integer"
        },
        {
         "name": "research",
         "rawType": "int64",
         "type": "integer"
        },
        {
         "name": "resolut",
         "rawType": "int64",
         "type": "integer"
        },
        {
         "name": "respond",
         "rawType": "int64",
         "type": "integer"
        },
        {
         "name": "respons",
         "rawType": "int64",
         "type": "integer"
        },
        {
         "name": "result",
         "rawType": "int64",
         "type": "integer"
        },
        {
         "name": "return",
         "rawType": "int64",
         "type": "integer"
        },
        {
         "name": "review",
         "rawType": "int64",
         "type": "integer"
        },
        {
         "name": "ridicul",
         "rawType": "int64",
         "type": "integer"
        },
        {
         "name": "right",
         "rawType": "int64",
         "type": "integer"
        },
        {
         "name": "ring",
         "rawType": "int64",
         "type": "integer"
        },
        {
         "name": "roku",
         "rawType": "int64",
         "type": "integer"
        },
        {
         "name": "room",
         "rawType": "int64",
         "type": "integer"
        },
        {
         "name": "rubber",
         "rawType": "int64",
         "type": "integer"
        },
        {
         "name": "run",
         "rawType": "int64",
         "type": "integer"
        },
        {
         "name": "safe",
         "rawType": "int64",
         "type": "integer"
        },
        {
         "name": "said",
         "rawType": "int64",
         "type": "integer"
        },
        {
         "name": "sale",
         "rawType": "int64",
         "type": "integer"
        },
        {
         "name": "samsung",
         "rawType": "int64",
         "type": "integer"
        },
        {
         "name": "sat",
         "rawType": "int64",
         "type": "integer"
        },
        {
         "name": "save",
         "rawType": "int64",
         "type": "integer"
        },
        {
         "name": "saver",
         "rawType": "int64",
         "type": "integer"
        },
        {
         "name": "say",
         "rawType": "int64",
         "type": "integer"
        },
        {
         "name": "scratch",
         "rawType": "int64",
         "type": "integer"
        },
        {
         "name": "screen",
         "rawType": "int64",
         "type": "integer"
        },
        {
         "name": "scroll",
         "rawType": "int64",
         "type": "integer"
        },
        {
         "name": "sd",
         "rawType": "int64",
         "type": "integer"
        },
        {
         "name": "search",
         "rawType": "int64",
         "type": "integer"
        },
        {
         "name": "season",
         "rawType": "int64",
         "type": "integer"
        },
        {
         "name": "second",
         "rawType": "int64",
         "type": "integer"
        },
        {
         "name": "section",
         "rawType": "int64",
         "type": "integer"
        },
        {
         "name": "secur",
         "rawType": "int64",
         "type": "integer"
        },
        {
         "name": "see",
         "rawType": "int64",
         "type": "integer"
        },
        {
         "name": "seem",
         "rawType": "int64",
         "type": "integer"
        },
        {
         "name": "seen",
         "rawType": "int64",
         "type": "integer"
        },
        {
         "name": "select",
         "rawType": "int64",
         "type": "integer"
        },
        {
         "name": "send",
         "rawType": "int64",
         "type": "integer"
        },
        {
         "name": "sensor",
         "rawType": "int64",
         "type": "integer"
        },
        {
         "name": "separ",
         "rawType": "int64",
         "type": "integer"
        },
        {
         "name": "seri",
         "rawType": "int64",
         "type": "integer"
        },
        {
         "name": "servic",
         "rawType": "int64",
         "type": "integer"
        },
        {
         "name": "set",
         "rawType": "int64",
         "type": "integer"
        },
        {
         "name": "setup",
         "rawType": "int64",
         "type": "integer"
        },
        {
         "name": "sever",
         "rawType": "int64",
         "type": "integer"
        },
        {
         "name": "share",
         "rawType": "int64",
         "type": "integer"
        },
        {
         "name": "sharp",
         "rawType": "int64",
         "type": "integer"
        },
        {
         "name": "shell",
         "rawType": "int64",
         "type": "integer"
        },
        {
         "name": "shield",
         "rawType": "int64",
         "type": "integer"
        },
        {
         "name": "shift",
         "rawType": "int64",
         "type": "integer"
        },
        {
         "name": "ship",
         "rawType": "int64",
         "type": "integer"
        },
        {
         "name": "shop",
         "rawType": "int64",
         "type": "integer"
        },
        {
         "name": "short",
         "rawType": "int64",
         "type": "integer"
        },
        {
         "name": "show",
         "rawType": "int64",
         "type": "integer"
        },
        {
         "name": "side",
         "rawType": "int64",
         "type": "integer"
        },
        {
         "name": "sign",
         "rawType": "int64",
         "type": "integer"
        },
        {
         "name": "silicon",
         "rawType": "int64",
         "type": "integer"
        },
        {
         "name": "similar",
         "rawType": "int64",
         "type": "integer"
        },
        {
         "name": "simpl",
         "rawType": "int64",
         "type": "integer"
        },
        {
         "name": "simpli",
         "rawType": "int64",
         "type": "integer"
        },
        {
         "name": "sinc",
         "rawType": "int64",
         "type": "integer"
        },
        {
         "name": "singl",
         "rawType": "int64",
         "type": "integer"
        },
        {
         "name": "sit",
         "rawType": "int64",
         "type": "integer"
        },
        {
         "name": "site",
         "rawType": "int64",
         "type": "integer"
        },
        {
         "name": "size",
         "rawType": "int64",
         "type": "integer"
        },
        {
         "name": "skill",
         "rawType": "int64",
         "type": "integer"
        },
        {
         "name": "skin",
         "rawType": "int64",
         "type": "integer"
        },
        {
         "name": "sleep",
         "rawType": "int64",
         "type": "integer"
        },
        {
         "name": "slightli",
         "rawType": "int64",
         "type": "integer"
        },
        {
         "name": "sling",
         "rawType": "int64",
         "type": "integer"
        },
        {
         "name": "slot",
         "rawType": "int64",
         "type": "integer"
        },
        {
         "name": "slow",
         "rawType": "int64",
         "type": "integer"
        },
        {
         "name": "small",
         "rawType": "int64",
         "type": "integer"
        },
        {
         "name": "smaller",
         "rawType": "int64",
         "type": "integer"
        },
        {
         "name": "smart",
         "rawType": "int64",
         "type": "integer"
        },
        {
         "name": "smartphon",
         "rawType": "int64",
         "type": "integer"
        },
        {
         "name": "smooth",
         "rawType": "int64",
         "type": "integer"
        },
        {
         "name": "snapdragon",
         "rawType": "int64",
         "type": "integer"
        },
        {
         "name": "snug",
         "rawType": "int64",
         "type": "integer"
        },
        {
         "name": "softwar",
         "rawType": "int64",
         "type": "integer"
        },
        {
         "name": "solid",
         "rawType": "int64",
         "type": "integer"
        },
        {
         "name": "solut",
         "rawType": "int64",
         "type": "integer"
        },
        {
         "name": "someon",
         "rawType": "int64",
         "type": "integer"
        },
        {
         "name": "someth",
         "rawType": "int64",
         "type": "integer"
        },
        {
         "name": "sometim",
         "rawType": "int64",
         "type": "integer"
        },
        {
         "name": "somewher",
         "rawType": "int64",
         "type": "integer"
        },
        {
         "name": "son",
         "rawType": "int64",
         "type": "integer"
        },
        {
         "name": "song",
         "rawType": "int64",
         "type": "integer"
        },
        {
         "name": "soon",
         "rawType": "int64",
         "type": "integer"
        },
        {
         "name": "sort",
         "rawType": "int64",
         "type": "integer"
        },
        {
         "name": "sound",
         "rawType": "int64",
         "type": "integer"
        },
        {
         "name": "speak",
         "rawType": "int64",
         "type": "integer"
        },
        {
         "name": "speaker",
         "rawType": "int64",
         "type": "integer"
        },
        {
         "name": "spec",
         "rawType": "int64",
         "type": "integer"
        },
        {
         "name": "special",
         "rawType": "int64",
         "type": "integer"
        },
        {
         "name": "specif",
         "rawType": "int64",
         "type": "integer"
        },
        {
         "name": "speed",
         "rawType": "int64",
         "type": "integer"
        },
        {
         "name": "spend",
         "rawType": "int64",
         "type": "integer"
        },
        {
         "name": "spent",
         "rawType": "int64",
         "type": "integer"
        },
        {
         "name": "spotifi",
         "rawType": "int64",
         "type": "integer"
        },
        {
         "name": "stand",
         "rawType": "int64",
         "type": "integer"
        },
        {
         "name": "standard",
         "rawType": "int64",
         "type": "integer"
        },
        {
         "name": "star",
         "rawType": "int64",
         "type": "integer"
        },
        {
         "name": "start",
         "rawType": "int64",
         "type": "integer"
        },
        {
         "name": "station",
         "rawType": "int64",
         "type": "integer"
        },
        {
         "name": "stationari",
         "rawType": "int64",
         "type": "integer"
        },
        {
         "name": "stay",
         "rawType": "int64",
         "type": "integer"
        },
        {
         "name": "step",
         "rawType": "int64",
         "type": "integer"
        },
        {
         "name": "stereo",
         "rawType": "int64",
         "type": "integer"
        },
        {
         "name": "stick",
         "rawType": "int64",
         "type": "integer"
        },
        {
         "name": "still",
         "rawType": "int64",
         "type": "integer"
        },
        {
         "name": "stop",
         "rawType": "int64",
         "type": "integer"
        },
        {
         "name": "storag",
         "rawType": "int64",
         "type": "integer"
        },
        {
         "name": "store",
         "rawType": "int64",
         "type": "integer"
        },
        {
         "name": "stream",
         "rawType": "int64",
         "type": "integer"
        },
        {
         "name": "streamer",
         "rawType": "int64",
         "type": "integer"
        },
        {
         "name": "stretch",
         "rawType": "int64",
         "type": "integer"
        },
        {
         "name": "strong",
         "rawType": "int64",
         "type": "integer"
        },
        {
         "name": "stuff",
         "rawType": "int64",
         "type": "integer"
        },
        {
         "name": "sturdi",
         "rawType": "int64",
         "type": "integer"
        },
        {
         "name": "style",
         "rawType": "int64",
         "type": "integer"
        },
        {
         "name": "subscript",
         "rawType": "int64",
         "type": "integer"
        },
        {
         "name": "suggest",
         "rawType": "int64",
         "type": "integer"
        },
        {
         "name": "suit",
         "rawType": "int64",
         "type": "integer"
        },
        {
         "name": "summari",
         "rawType": "int64",
         "type": "integer"
        },
        {
         "name": "sunlight",
         "rawType": "int64",
         "type": "integer"
        },
        {
         "name": "super",
         "rawType": "int64",
         "type": "integer"
        },
        {
         "name": "suppli",
         "rawType": "int64",
         "type": "integer"
        },
        {
         "name": "support",
         "rawType": "int64",
         "type": "integer"
        },
        {
         "name": "suppos",
         "rawType": "int64",
         "type": "integer"
        },
        {
         "name": "sure",
         "rawType": "int64",
         "type": "integer"
        },
        {
         "name": "surf",
         "rawType": "int64",
         "type": "integer"
        },
        {
         "name": "surpris",
         "rawType": "int64",
         "type": "integer"
        },
        {
         "name": "surround",
         "rawType": "int64",
         "type": "integer"
        },
        {
         "name": "swipe",
         "rawType": "int64",
         "type": "integer"
        },
        {
         "name": "switch",
         "rawType": "int64",
         "type": "integer"
        },
        {
         "name": "sync",
         "rawType": "int64",
         "type": "integer"
        },
        {
         "name": "system",
         "rawType": "int64",
         "type": "integer"
        },
        {
         "name": "tab",
         "rawType": "int64",
         "type": "integer"
        },
        {
         "name": "tabl",
         "rawType": "int64",
         "type": "integer"
        },
        {
         "name": "tablet",
         "rawType": "int64",
         "type": "integer"
        },
        {
         "name": "take",
         "rawType": "int64",
         "type": "integer"
        },
        {
         "name": "talk",
         "rawType": "int64",
         "type": "integer"
        },
        {
         "name": "tap",
         "rawType": "int64",
         "type": "integer"
        },
        {
         "name": "tech",
         "rawType": "int64",
         "type": "integer"
        },
        {
         "name": "technic",
         "rawType": "int64",
         "type": "integer"
        },
        {
         "name": "technolog",
         "rawType": "int64",
         "type": "integer"
        },
        {
         "name": "tell",
         "rawType": "int64",
         "type": "integer"
        },
        {
         "name": "term",
         "rawType": "int64",
         "type": "integer"
        },
        {
         "name": "terribl",
         "rawType": "int64",
         "type": "integer"
        },
        {
         "name": "test",
         "rawType": "int64",
         "type": "integer"
        },
        {
         "name": "text",
         "rawType": "int64",
         "type": "integer"
        },
        {
         "name": "textur",
         "rawType": "int64",
         "type": "integer"
        },
        {
         "name": "thank",
         "rawType": "int64",
         "type": "integer"
        },
        {
         "name": "thin",
         "rawType": "int64",
         "type": "integer"
        },
        {
         "name": "thing",
         "rawType": "int64",
         "type": "integer"
        },
        {
         "name": "think",
         "rawType": "int64",
         "type": "integer"
        },
        {
         "name": "third",
         "rawType": "int64",
         "type": "integer"
        },
        {
         "name": "though",
         "rawType": "int64",
         "type": "integer"
        },
        {
         "name": "thought",
         "rawType": "int64",
         "type": "integer"
        },
        {
         "name": "three",
         "rawType": "int64",
         "type": "integer"
        },
        {
         "name": "throughout",
         "rawType": "int64",
         "type": "integer"
        },
        {
         "name": "throw",
         "rawType": "int64",
         "type": "integer"
        },
        {
         "name": "tight",
         "rawType": "int64",
         "type": "integer"
        },
        {
         "name": "time",
         "rawType": "int64",
         "type": "integer"
        },
        {
         "name": "timer",
         "rawType": "int64",
         "type": "integer"
        },
        {
         "name": "tini",
         "rawType": "int64",
         "type": "integer"
        },
        {
         "name": "tip",
         "rawType": "int64",
         "type": "integer"
        },
        {
         "name": "titl",
         "rawType": "int64",
         "type": "integer"
        },
        {
         "name": "today",
         "rawType": "int64",
         "type": "integer"
        },
        {
         "name": "ton",
         "rawType": "int64",
         "type": "integer"
        },
        {
         "name": "took",
         "rawType": "int64",
         "type": "integer"
        },
        {
         "name": "tool",
         "rawType": "int64",
         "type": "integer"
        },
        {
         "name": "tooth",
         "rawType": "int64",
         "type": "integer"
        },
        {
         "name": "top",
         "rawType": "int64",
         "type": "integer"
        },
        {
         "name": "total",
         "rawType": "int64",
         "type": "integer"
        },
        {
         "name": "touch",
         "rawType": "int64",
         "type": "integer"
        },
        {
         "name": "touchscreen",
         "rawType": "int64",
         "type": "integer"
        },
        {
         "name": "travel",
         "rawType": "int64",
         "type": "integer"
        },
        {
         "name": "tri",
         "rawType": "int64",
         "type": "integer"
        },
        {
         "name": "troubl",
         "rawType": "int64",
         "type": "integer"
        },
        {
         "name": "true",
         "rawType": "int64",
         "type": "integer"
        },
        {
         "name": "turn",
         "rawType": "int64",
         "type": "integer"
        },
        {
         "name": "tv",
         "rawType": "int64",
         "type": "integer"
        },
        {
         "name": "two",
         "rawType": "int64",
         "type": "integer"
        },
        {
         "name": "type",
         "rawType": "int64",
         "type": "integer"
        },
        {
         "name": "typic",
         "rawType": "int64",
         "type": "integer"
        },
        {
         "name": "understand",
         "rawType": "int64",
         "type": "integer"
        },
        {
         "name": "unfortun",
         "rawType": "int64",
         "type": "integer"
        },
        {
         "name": "unit",
         "rawType": "int64",
         "type": "integer"
        },
        {
         "name": "unless",
         "rawType": "int64",
         "type": "integer"
        },
        {
         "name": "unlik",
         "rawType": "int64",
         "type": "integer"
        },
        {
         "name": "unlimit",
         "rawType": "int64",
         "type": "integer"
        },
        {
         "name": "unlock",
         "rawType": "int64",
         "type": "integer"
        },
        {
         "name": "updat",
         "rawType": "int64",
         "type": "integer"
        },
        {
         "name": "upgrad",
         "rawType": "int64",
         "type": "integer"
        },
        {
         "name": "us",
         "rawType": "int64",
         "type": "integer"
        },
        {
         "name": "usabl",
         "rawType": "int64",
         "type": "integer"
        },
        {
         "name": "usb",
         "rawType": "int64",
         "type": "integer"
        },
        {
         "name": "use",
         "rawType": "int64",
         "type": "integer"
        },
        {
         "name": "user",
         "rawType": "int64",
         "type": "integer"
        },
        {
         "name": "usual",
         "rawType": "int64",
         "type": "integer"
        },
        {
         "name": "valu",
         "rawType": "int64",
         "type": "integer"
        },
        {
         "name": "variou",
         "rawType": "int64",
         "type": "integer"
        },
        {
         "name": "version",
         "rawType": "int64",
         "type": "integer"
        },
        {
         "name": "versu",
         "rawType": "int64",
         "type": "integer"
        },
        {
         "name": "vevo",
         "rawType": "int64",
         "type": "integer"
        },
        {
         "name": "via",
         "rawType": "int64",
         "type": "integer"
        },
        {
         "name": "vibrant",
         "rawType": "int64",
         "type": "integer"
        },
        {
         "name": "video",
         "rawType": "int64",
         "type": "integer"
        },
        {
         "name": "view",
         "rawType": "int64",
         "type": "integer"
        },
        {
         "name": "voic",
         "rawType": "int64",
         "type": "integer"
        },
        {
         "name": "volum",
         "rawType": "int64",
         "type": "integer"
        },
        {
         "name": "voyag",
         "rawType": "int64",
         "type": "integer"
        },
        {
         "name": "vs",
         "rawType": "int64",
         "type": "integer"
        },
        {
         "name": "wait",
         "rawType": "int64",
         "type": "integer"
        },
        {
         "name": "wake",
         "rawType": "int64",
         "type": "integer"
        },
        {
         "name": "want",
         "rawType": "int64",
         "type": "integer"
        },
        {
         "name": "watch",
         "rawType": "int64",
         "type": "integer"
        },
        {
         "name": "way",
         "rawType": "int64",
         "type": "integer"
        },
        {
         "name": "wear",
         "rawType": "int64",
         "type": "integer"
        },
        {
         "name": "weather",
         "rawType": "int64",
         "type": "integer"
        },
        {
         "name": "web",
         "rawType": "int64",
         "type": "integer"
        },
        {
         "name": "week",
         "rawType": "int64",
         "type": "integer"
        },
        {
         "name": "weight",
         "rawType": "int64",
         "type": "integer"
        },
        {
         "name": "well",
         "rawType": "int64",
         "type": "integer"
        },
        {
         "name": "went",
         "rawType": "int64",
         "type": "integer"
        },
        {
         "name": "whatev",
         "rawType": "int64",
         "type": "integer"
        },
        {
         "name": "whether",
         "rawType": "int64",
         "type": "integer"
        },
        {
         "name": "white",
         "rawType": "int64",
         "type": "integer"
        },
        {
         "name": "whole",
         "rawType": "int64",
         "type": "integer"
        },
        {
         "name": "wi",
         "rawType": "int64",
         "type": "integer"
        },
        {
         "name": "wife",
         "rawType": "int64",
         "type": "integer"
        },
        {
         "name": "wifi",
         "rawType": "int64",
         "type": "integer"
        },
        {
         "name": "win",
         "rawType": "int64",
         "type": "integer"
        },
        {
         "name": "wireless",
         "rawType": "int64",
         "type": "integer"
        },
        {
         "name": "wish",
         "rawType": "int64",
         "type": "integer"
        },
        {
         "name": "within",
         "rawType": "int64",
         "type": "integer"
        },
        {
         "name": "without",
         "rawType": "int64",
         "type": "integer"
        },
        {
         "name": "wonder",
         "rawType": "int64",
         "type": "integer"
        },
        {
         "name": "word",
         "rawType": "int64",
         "type": "integer"
        },
        {
         "name": "work",
         "rawType": "int64",
         "type": "integer"
        },
        {
         "name": "world",
         "rawType": "int64",
         "type": "integer"
        },
        {
         "name": "worri",
         "rawType": "int64",
         "type": "integer"
        },
        {
         "name": "worth",
         "rawType": "int64",
         "type": "integer"
        },
        {
         "name": "would",
         "rawType": "int64",
         "type": "integer"
        },
        {
         "name": "write",
         "rawType": "int64",
         "type": "integer"
        },
        {
         "name": "wrong",
         "rawType": "int64",
         "type": "integer"
        },
        {
         "name": "xbox",
         "rawType": "int64",
         "type": "integer"
        },
        {
         "name": "ye",
         "rawType": "int64",
         "type": "integer"
        },
        {
         "name": "year",
         "rawType": "int64",
         "type": "integer"
        },
        {
         "name": "yet",
         "rawType": "int64",
         "type": "integer"
        },
        {
         "name": "youll",
         "rawType": "int64",
         "type": "integer"
        },
        {
         "name": "youtub",
         "rawType": "int64",
         "type": "integer"
        }
       ],
       "ref": "32cce8cd-06cd-4c8d-909f-edf2e8674ec4",
       "rows": [
        [
         "0",
         "0",
         "0",
         "0",
         "0",
         "0",
         "0",
         "0",
         "0",
         "0",
         "0",
         "0",
         "0",
         "0",
         "0",
         "0",
         "0",
         "0",
         "0",
         "1",
         "0",
         "0",
         "0",
         "0",
         "0",
         "0",
         "0",
         "0",
         "0",
         "0",
         "0",
         "1",
         "0",
         "0",
         "0",
         "0",
         "0",
         "0",
         "0",
         "0",
         "0",
         "0",
         "0",
         "0",
         "0",
         "0",
         "0",
         "0",
         "0",
         "1",
         "0",
         "0",
         "0",
         "0",
         "0",
         "0",
         "0",
         "0",
         "0",
         "0",
         "0",
         "1",
         "0",
         "1",
         "0",
         "1",
         "0",
         "0",
         "0",
         "0",
         "0",
         "0",
         "0",
         "0",
         "0",
         "0",
         "0",
         "0",
         "0",
         "0",
         "0",
         "0",
         "0",
         "0",
         "0",
         "0",
         "0",
         "0",
         "0",
         "0",
         "0",
         "0",
         "0",
         "0",
         "0",
         "0",
         "0",
         "0",
         "0",
         "0",
         "0",
         "0",
         "1",
         "0",
         "0",
         "0",
         "0",
         "0",
         "0",
         "0",
         "0",
         "0",
         "0",
         "0",
         "0",
         "0",
         "0",
         "0",
         "0",
         "0",
         "0",
         "0",
         "0",
         "0",
         "0",
         "0",
         "0",
         "0",
         "0",
         "0",
         "0",
         "0",
         "0",
         "0",
         "0",
         "0",
         "0",
         "0",
         "0",
         "0",
         "0",
         "0",
         "0",
         "0",
         "1",
         "0",
         "0",
         "0",
         "0",
         "0",
         "0",
         "0",
         "0",
         "0",
         "0",
         "0",
         "0",
         "1",
         "0",
         "0",
         "1",
         "0",
         "2",
         "0",
         "0",
         "0",
         "0",
         "0",
         "0",
         "0",
         "0",
         "0",
         "0",
         "0",
         "0",
         "0",
         "0",
         "0",
         "0",
         "0",
         "0",
         "0",
         "0",
         "0",
         "0",
         "0",
         "0",
         "0",
         "0",
         "0",
         "0",
         "0",
         "0",
         "0",
         "0",
         "0",
         "0",
         "0",
         "0",
         "0",
         "0",
         "0",
         "0",
         "0",
         "0",
         "0",
         "0",
         "0",
         "0",
         "0",
         "0",
         "0",
         "0",
         "0",
         "0",
         "0",
         "0",
         "0",
         "0",
         "0",
         "0",
         "0",
         "0",
         "0",
         "0",
         "0",
         "0",
         "1",
         "0",
         "0",
         "0",
         "0",
         "0",
         "2",
         "0",
         "0",
         "1",
         "0",
         "0",
         "0",
         "0",
         "0",
         "0",
         "0",
         "0",
         "0",
         "0",
         "0",
         "0",
         "0",
         "0",
         "0",
         "0",
         "0",
         "0",
         "0",
         "0",
         "0",
         "0",
         "0",
         "0",
         "0",
         "0",
         "0",
         "0",
         "0",
         "0",
         "0",
         "0",
         "0",
         "0",
         "0",
         "0",
         "0",
         "0",
         "0",
         "0",
         "0",
         "1",
         "0",
         "0",
         "0",
         "0",
         "0",
         "0",
         "0",
         "0",
         "1",
         "0",
         "0",
         "0",
         "0",
         "1",
         "0",
         "0",
         "0",
         "0",
         "0",
         "0",
         "0",
         "0",
         "0",
         "0",
         "0",
         "0",
         "0",
         "1",
         "0",
         "0",
         "0",
         "0",
         "0",
         "0",
         "0",
         "0",
         "0",
         "0",
         "0",
         "1",
         "0",
         "1",
         "0",
         "0",
         "0",
         "0",
         "0",
         "0",
         "0",
         "0",
         "0",
         "0",
         "0",
         "0",
         "0",
         "0",
         "0",
         "0",
         "0",
         "0",
         "0",
         "0",
         "0",
         "0",
         "0",
         "0",
         "0",
         "0",
         "1",
         "0",
         "0",
         "0",
         "0",
         "0",
         "0",
         "0",
         "0",
         "0",
         "0",
         "0",
         "0",
         "0",
         "0",
         "0",
         "0",
         "0",
         "1",
         "0",
         "0",
         "0",
         "0",
         "0",
         "0",
         "0",
         "0",
         "0",
         "0",
         "0",
         "0",
         "0",
         "0",
         "0",
         "0",
         "0",
         "1",
         "0",
         "0",
         "1",
         "0",
         "0",
         "0",
         "0",
         "0",
         "0",
         "0",
         "0",
         "1",
         "0",
         "0",
         "0",
         "0",
         "0",
         "0",
         "0",
         "0",
         "0",
         "0",
         "1",
         "0",
         "0",
         "0",
         "0",
         "0",
         "0",
         "0",
         "0",
         "0",
         "0",
         "0",
         "0",
         "0",
         "0",
         "0",
         "0",
         "0",
         "0",
         "0",
         "0",
         "0",
         "0",
         "0",
         "0",
         "0",
         "0",
         "0",
         "0",
         "0",
         "0",
         "0",
         "0",
         "0",
         "0",
         "0",
         "0",
         "0",
         "0",
         "0",
         "0",
         "0",
         "0",
         "0",
         "0",
         "0",
         "0",
         "1",
         "0",
         "0",
         "0",
         "0",
         "0",
         "0",
         "0",
         "0",
         "0",
         "0",
         "0",
         "0",
         "0",
         "0",
         "0",
         "0",
         "0",
         "0",
         "1",
         "1",
         "0",
         "0",
         "0",
         "0",
         "0",
         "0",
         "0",
         "0",
         "0",
         "0",
         "0",
         "0",
         "0",
         "0",
         "0",
         "0",
         "0",
         "0",
         "0",
         "0",
         "0",
         "0",
         "0",
         "0",
         "0",
         "0",
         "0",
         "1",
         "0",
         "1",
         "0",
         "0",
         "3",
         "0",
         "0",
         "0",
         "0",
         "0",
         "0",
         "0",
         "0",
         "0",
         "0",
         "0",
         "0",
         "0",
         "0",
         "0",
         "0",
         "0",
         "0",
         "0",
         "0",
         "0",
         "1",
         "0",
         "0",
         "0",
         "0",
         "0",
         "0",
         "0",
         "0",
         "0",
         "0",
         "0",
         "0",
         "0",
         "1",
         "0",
         "0",
         "0",
         "0",
         "0",
         "0",
         "0",
         "0",
         "0",
         "0",
         "0",
         "0",
         "0",
         "0",
         "0",
         "0",
         "0",
         "0",
         "0",
         "0",
         "0",
         "0",
         "1",
         "0",
         "1",
         "0",
         "0",
         "0",
         "0",
         "0",
         "0",
         "0",
         "0",
         "0",
         "0",
         "0",
         "0",
         "0",
         "2",
         "0",
         "0",
         "0",
         "0",
         "0",
         "0",
         "0",
         "0",
         "0",
         "0",
         "0",
         "0",
         "0",
         "0",
         "0",
         "0",
         "0",
         "0",
         "0",
         "0",
         "0",
         "0",
         "0",
         "0",
         "0",
         "0",
         "0",
         "0",
         "0",
         "0",
         "0",
         "0",
         "0",
         "0",
         "1",
         "0",
         "0",
         "0",
         "0",
         "0",
         "0",
         "0",
         "0",
         "0",
         "0",
         "0",
         "1",
         "0",
         "0",
         "0",
         "1",
         "0",
         "0",
         "0",
         "0",
         "4",
         "0",
         "0",
         "1",
         "0",
         "0",
         "0",
         "0",
         "0",
         "0",
         "0",
         "0",
         "0",
         "0",
         "0",
         "0",
         "0",
         "0",
         "0",
         "0",
         "0",
         "0",
         "0",
         "0",
         "0",
         "0",
         "0",
         "0",
         "0",
         "0",
         "0",
         "0",
         "0",
         "0",
         "0",
         "0",
         "0",
         "0",
         "0",
         "0",
         "0",
         "0",
         "0",
         "0",
         "0",
         "0",
         "1",
         "0",
         "0",
         "1",
         "0",
         "0",
         "0",
         "0",
         "0",
         "0",
         "0",
         "0",
         "0",
         "0",
         "0",
         "0",
         "0",
         "0",
         "0",
         "0",
         "0",
         "0",
         "0",
         "0",
         "0",
         "0",
         "0",
         "0",
         "0",
         "0",
         "0",
         "0",
         "0",
         "0",
         "0",
         "0",
         "0",
         "0",
         "1",
         "0",
         "0",
         "0",
         "0",
         "0",
         "0",
         "0",
         "0",
         "0",
         "0",
         "0",
         "0",
         "0",
         "0",
         "0",
         "0",
         "1",
         "0",
         "0",
         "0",
         "0",
         "0",
         "0",
         "0",
         "0",
         "0",
         "0",
         "0",
         "0",
         "0",
         "0",
         "0",
         "0",
         "1",
         "0",
         "0",
         "0",
         "0",
         "0",
         "0",
         "0",
         "0",
         "1",
         "0",
         "0",
         "0",
         "0",
         "0",
         "0",
         "0",
         "1",
         "0",
         "0",
         "0",
         "0",
         "0",
         "0",
         "0",
         "0",
         "0",
         "0",
         "0",
         "0",
         "0",
         "0",
         "0",
         "1",
         "3",
         "0",
         "0",
         "0",
         "0",
         "0",
         "0",
         "0",
         "2",
         "0",
         "0",
         "0",
         "0",
         "0",
         "0",
         "0",
         "0",
         "0",
         "0",
         "0",
         "0",
         "0",
         "0",
         "0",
         "0",
         "0",
         "0",
         "0",
         "0",
         "0",
         "0",
         "0",
         "0",
         "0",
         "0",
         "0",
         "0",
         "0",
         "0",
         "0",
         "0",
         "0",
         "0",
         "0",
         "0",
         "0",
         "0",
         "0",
         "0",
         "0",
         "0",
         "0",
         "0",
         "2",
         "0",
         "1",
         "0",
         "0",
         "0",
         "0",
         "0",
         "0",
         "0",
         "0",
         "0",
         "0",
         "0",
         "0",
         "0",
         "0",
         "0",
         "0",
         "0",
         "0",
         "0",
         "0",
         "0",
         "0",
         "0",
         "0",
         "0",
         "0",
         "0",
         "0",
         "0",
         "0",
         "0",
         "0",
         "0",
         "0",
         "0",
         "0",
         "0",
         "0",
         "0",
         "0",
         "0",
         "0",
         "0",
         "0",
         "0",
         "0",
         "0",
         "0",
         "0",
         "0",
         "0",
         "0",
         "0",
         "0",
         "0",
         "0",
         "0",
         "1",
         "0",
         "1",
         "0",
         "0",
         "0",
         "0",
         "0",
         "0",
         "3",
         "0",
         "0",
         "0",
         "0",
         "0",
         "0",
         "0",
         "0",
         "0",
         "0",
         "0",
         "1",
         "0",
         "0",
         "0",
         "1",
         "0",
         "1",
         "0",
         "0",
         "0",
         "0",
         "0",
         "0",
         "0",
         "0",
         "0",
         "0",
         "0",
         "0",
         "0",
         "0",
         "0",
         "0",
         "2",
         "0",
         "0",
         "0",
         "0",
         "0",
         "0",
         "0",
         "0",
         "0",
         "0",
         "0",
         "0",
         "0",
         "3",
         "0",
         "0",
         "0",
         "0",
         "0",
         "0",
         "0",
         "0",
         "0",
         "1",
         "0",
         "0",
         "1",
         "0",
         "0",
         "0",
         "0",
         "0",
         "0",
         "0",
         "0",
         "0",
         "0",
         "0",
         "0",
         "0",
         "0",
         "0",
         "0",
         "1",
         "0",
         "0",
         "0",
         "0",
         "0",
         "0",
         "0",
         "0",
         "0",
         "0"
        ],
        [
         "1",
         "0",
         "0",
         "0",
         "0",
         "1",
         "0",
         "0",
         "0",
         "0",
         "0",
         "0",
         "0",
         "0",
         "0",
         "0",
         "0",
         "0",
         "0",
         "0",
         "0",
         "0",
         "0",
         "0",
         "0",
         "0",
         "0",
         "0",
         "0",
         "0",
         "0",
         "0",
         "0",
         "0",
         "0",
         "0",
         "0",
         "0",
         "0",
         "0",
         "0",
         "0",
         "0",
         "0",
         "0",
         "0",
         "0",
         "0",
         "0",
         "0",
         "0",
         "0",
         "0",
         "0",
         "0",
         "0",
         "1",
         "0",
         "0",
         "0",
         "0",
         "0",
         "0",
         "0",
         "0",
         "1",
         "0",
         "0",
         "0",
         "0",
         "0",
         "0",
         "0",
         "0",
         "0",
         "0",
         "0",
         "0",
         "0",
         "0",
         "0",
         "0",
         "0",
         "0",
         "0",
         "0",
         "0",
         "0",
         "0",
         "0",
         "0",
         "0",
         "0",
         "0",
         "1",
         "2",
         "0",
         "0",
         "0",
         "0",
         "0",
         "0",
         "0",
         "0",
         "0",
         "1",
         "0",
         "0",
         "0",
         "0",
         "0",
         "0",
         "0",
         "0",
         "0",
         "0",
         "0",
         "0",
         "0",
         "0",
         "0",
         "0",
         "0",
         "0",
         "0",
         "1",
         "0",
         "0",
         "0",
         "0",
         "0",
         "0",
         "0",
         "0",
         "0",
         "0",
         "0",
         "0",
         "0",
         "0",
         "0",
         "0",
         "0",
         "0",
         "2",
         "0",
         "0",
         "0",
         "0",
         "0",
         "0",
         "0",
         "0",
         "0",
         "0",
         "0",
         "0",
         "0",
         "0",
         "0",
         "0",
         "0",
         "0",
         "0",
         "0",
         "0",
         "0",
         "0",
         "0",
         "0",
         "0",
         "0",
         "0",
         "0",
         "0",
         "0",
         "0",
         "0",
         "0",
         "0",
         "0",
         "0",
         "0",
         "0",
         "0",
         "0",
         "0",
         "0",
         "0",
         "0",
         "0",
         "0",
         "0",
         "0",
         "0",
         "0",
         "0",
         "0",
         "0",
         "0",
         "0",
         "0",
         "0",
         "1",
         "0",
         "0",
         "0",
         "0",
         "0",
         "0",
         "0",
         "0",
         "0",
         "0",
         "0",
         "0",
         "0",
         "0",
         "0",
         "0",
         "0",
         "0",
         "0",
         "0",
         "0",
         "0",
         "0",
         "0",
         "0",
         "0",
         "0",
         "0",
         "0",
         "0",
         "0",
         "0",
         "0",
         "0",
         "0",
         "0",
         "0",
         "0",
         "0",
         "0",
         "0",
         "0",
         "0",
         "0",
         "0",
         "0",
         "0",
         "0",
         "0",
         "0",
         "0",
         "0",
         "0",
         "0",
         "0",
         "0",
         "0",
         "0",
         "0",
         "0",
         "0",
         "1",
         "0",
         "0",
         "0",
         "0",
         "0",
         "0",
         "0",
         "0",
         "0",
         "0",
         "0",
         "0",
         "0",
         "0",
         "0",
         "0",
         "0",
         "0",
         "0",
         "0",
         "0",
         "0",
         "0",
         "0",
         "0",
         "0",
         "0",
         "0",
         "0",
         "0",
         "0",
         "1",
         "0",
         "0",
         "0",
         "0",
         "0",
         "0",
         "0",
         "0",
         "0",
         "0",
         "0",
         "0",
         "0",
         "0",
         "0",
         "0",
         "0",
         "0",
         "0",
         "0",
         "0",
         "2",
         "0",
         "0",
         "0",
         "0",
         "0",
         "0",
         "0",
         "0",
         "0",
         "0",
         "0",
         "0",
         "0",
         "0",
         "1",
         "0",
         "0",
         "0",
         "0",
         "0",
         "2",
         "0",
         "0",
         "0",
         "0",
         "0",
         "0",
         "0",
         "0",
         "0",
         "0",
         "0",
         "0",
         "0",
         "0",
         "0",
         "0",
         "0",
         "0",
         "0",
         "1",
         "0",
         "0",
         "0",
         "0",
         "0",
         "0",
         "0",
         "0",
         "0",
         "2",
         "0",
         "0",
         "0",
         "0",
         "1",
         "0",
         "0",
         "0",
         "2",
         "0",
         "0",
         "0",
         "0",
         "0",
         "0",
         "1",
         "0",
         "0",
         "0",
         "0",
         "0",
         "1",
         "0",
         "0",
         "0",
         "0",
         "0",
         "0",
         "0",
         "1",
         "1",
         "0",
         "0",
         "0",
         "1",
         "0",
         "0",
         "0",
         "0",
         "0",
         "0",
         "0",
         "0",
         "0",
         "0",
         "0",
         "0",
         "0",
         "0",
         "0",
         "0",
         "0",
         "0",
         "0",
         "0",
         "0",
         "0",
         "0",
         "0",
         "0",
         "0",
         "0",
         "0",
         "1",
         "0",
         "0",
         "0",
         "0",
         "0",
         "0",
         "0",
         "0",
         "0",
         "0",
         "0",
         "0",
         "0",
         "0",
         "1",
         "0",
         "0",
         "0",
         "0",
         "0",
         "1",
         "0",
         "0",
         "0",
         "0",
         "0",
         "0",
         "0",
         "0",
         "1",
         "0",
         "0",
         "0",
         "0",
         "0",
         "0",
         "0",
         "0",
         "0",
         "0",
         "1",
         "0",
         "0",
         "0",
         "5",
         "0",
         "0",
         "0",
         "0",
         "0",
         "0",
         "0",
         "0",
         "0",
         "0",
         "0",
         "0",
         "0",
         "0",
         "0",
         "0",
         "0",
         "0",
         "0",
         "0",
         "1",
         "0",
         "1",
         "0",
         "0",
         "0",
         "0",
         "0",
         "0",
         "0",
         "0",
         "0",
         "0",
         "0",
         "1",
         "0",
         "0",
         "0",
         "0",
         "0",
         "0",
         "0",
         "0",
         "0",
         "0",
         "0",
         "0",
         "0",
         "2",
         "0",
         "0",
         "0",
         "0",
         "0",
         "0",
         "0",
         "1",
         "1",
         "0",
         "0",
         "0",
         "0",
         "1",
         "0",
         "0",
         "0",
         "0",
         "0",
         "0",
         "0",
         "0",
         "0",
         "0",
         "0",
         "0",
         "0",
         "0",
         "0",
         "0",
         "0",
         "0",
         "0",
         "0",
         "0",
         "0",
         "0",
         "0",
         "0",
         "0",
         "0",
         "0",
         "1",
         "0",
         "1",
         "0",
         "0",
         "0",
         "0",
         "0",
         "0",
         "0",
         "0",
         "0",
         "0",
         "0",
         "2",
         "2",
         "0",
         "0",
         "0",
         "0",
         "0",
         "0",
         "0",
         "0",
         "0",
         "0",
         "0",
         "0",
         "0",
         "0",
         "0",
         "0",
         "0",
         "0",
         "0",
         "0",
         "0",
         "0",
         "0",
         "1",
         "0",
         "1",
         "0",
         "0",
         "0",
         "0",
         "0",
         "0",
         "0",
         "0",
         "1",
         "0",
         "0",
         "0",
         "0",
         "0",
         "0",
         "1",
         "0",
         "0",
         "0",
         "0",
         "0",
         "0",
         "0",
         "0",
         "2",
         "0",
         "0",
         "0",
         "0",
         "1",
         "1",
         "0",
         "0",
         "0",
         "0",
         "0",
         "0",
         "0",
         "0",
         "0",
         "0",
         "0",
         "0",
         "1",
         "0",
         "0",
         "0",
         "0",
         "0",
         "0",
         "0",
         "0",
         "0",
         "0",
         "0",
         "0",
         "0",
         "0",
         "0",
         "0",
         "0",
         "0",
         "0",
         "0",
         "0",
         "0",
         "0",
         "0",
         "0",
         "0",
         "0",
         "0",
         "0",
         "0",
         "0",
         "0",
         "0",
         "0",
         "0",
         "0",
         "0",
         "0",
         "0",
         "0",
         "0",
         "0",
         "0",
         "0",
         "0",
         "0",
         "0",
         "0",
         "1",
         "0",
         "0",
         "0",
         "0",
         "0",
         "0",
         "0",
         "0",
         "0",
         "0",
         "0",
         "0",
         "0",
         "0",
         "0",
         "6",
         "2",
         "0",
         "0",
         "0",
         "0",
         "0",
         "0",
         "0",
         "1",
         "0",
         "0",
         "0",
         "0",
         "0",
         "0",
         "0",
         "0",
         "0",
         "0",
         "0",
         "0",
         "0",
         "0",
         "0",
         "0",
         "0",
         "0",
         "0",
         "0",
         "0",
         "0",
         "0",
         "0",
         "1",
         "0",
         "0",
         "0",
         "0",
         "0",
         "0",
         "0",
         "0",
         "0",
         "0",
         "0",
         "0",
         "0",
         "0",
         "1",
         "0",
         "1",
         "0",
         "0",
         "0",
         "0",
         "0",
         "0",
         "0",
         "0",
         "0",
         "0",
         "0",
         "0",
         "0",
         "0",
         "3",
         "0",
         "0",
         "0",
         "0",
         "0",
         "0",
         "0",
         "0",
         "0",
         "0",
         "0",
         "0",
         "0",
         "0",
         "0",
         "0",
         "0",
         "1",
         "3",
         "0",
         "0",
         "0",
         "0",
         "0",
         "0",
         "0",
         "0",
         "0",
         "0",
         "0",
         "0",
         "0",
         "0",
         "0",
         "0",
         "0",
         "0",
         "0",
         "0",
         "0",
         "0",
         "0",
         "0",
         "0",
         "0",
         "0",
         "0",
         "1",
         "0",
         "0",
         "0",
         "0",
         "0",
         "0",
         "0",
         "0",
         "0",
         "0",
         "0",
         "0",
         "0",
         "0",
         "0",
         "0",
         "0",
         "0",
         "0",
         "0",
         "0",
         "1",
         "1",
         "0",
         "0",
         "0",
         "0",
         "0",
         "0",
         "0",
         "0",
         "0",
         "0",
         "0",
         "0",
         "0",
         "0",
         "0",
         "0",
         "0",
         "0",
         "0",
         "0",
         "0",
         "0",
         "0",
         "0",
         "0",
         "0",
         "0",
         "0",
         "0",
         "0",
         "0",
         "0",
         "0",
         "0",
         "0",
         "0",
         "0",
         "0",
         "0",
         "0",
         "0",
         "0",
         "0",
         "2",
         "1",
         "0",
         "0",
         "0",
         "0",
         "0",
         "0",
         "0",
         "0",
         "0",
         "0",
         "0",
         "1",
         "1",
         "1",
         "0",
         "0",
         "0",
         "0",
         "0",
         "1",
         "0",
         "0",
         "0",
         "0",
         "0",
         "0",
         "0",
         "0",
         "0",
         "0",
         "0",
         "0",
         "0",
         "0",
         "0",
         "0",
         "0",
         "0",
         "0",
         "0",
         "0",
         "0",
         "1",
         "0",
         "0",
         "0",
         "0",
         "0",
         "0",
         "0",
         "0",
         "0",
         "0",
         "0",
         "0",
         "0",
         "0",
         "0",
         "0",
         "0",
         "0",
         "0",
         "0",
         "0",
         "0",
         "0",
         "2",
         "0",
         "1",
         "0",
         "0",
         "0",
         "0",
         "0",
         "0",
         "0",
         "0",
         "0",
         "0",
         "0",
         "0",
         "0",
         "0",
         "0",
         "0",
         "1",
         "0",
         "0",
         "0",
         "0",
         "0",
         "0",
         "0",
         "1",
         "0",
         "0",
         "0"
        ],
        [
         "2",
         "0",
         "0",
         "0",
         "0",
         "0",
         "0",
         "0",
         "0",
         "0",
         "0",
         "0",
         "0",
         "0",
         "0",
         "0",
         "0",
         "0",
         "0",
         "0",
         "0",
         "0",
         "0",
         "0",
         "0",
         "0",
         "0",
         "0",
         "0",
         "0",
         "0",
         "0",
         "0",
         "0",
         "0",
         "0",
         "0",
         "0",
         "0",
         "0",
         "0",
         "0",
         "0",
         "0",
         "0",
         "0",
         "0",
         "0",
         "0",
         "0",
         "0",
         "0",
         "0",
         "0",
         "0",
         "0",
         "0",
         "0",
         "0",
         "0",
         "0",
         "0",
         "0",
         "0",
         "0",
         "0",
         "0",
         "0",
         "0",
         "0",
         "0",
         "0",
         "0",
         "0",
         "0",
         "0",
         "0",
         "0",
         "0",
         "0",
         "0",
         "0",
         "0",
         "0",
         "0",
         "0",
         "0",
         "0",
         "0",
         "0",
         "0",
         "0",
         "0",
         "0",
         "0",
         "0",
         "0",
         "0",
         "0",
         "0",
         "0",
         "0",
         "0",
         "0",
         "0",
         "0",
         "0",
         "0",
         "0",
         "0",
         "0",
         "0",
         "0",
         "0",
         "0",
         "0",
         "0",
         "0",
         "0",
         "0",
         "0",
         "0",
         "0",
         "0",
         "0",
         "0",
         "0",
         "0",
         "0",
         "0",
         "0",
         "0",
         "0",
         "0",
         "0",
         "0",
         "0",
         "0",
         "0",
         "0",
         "0",
         "0",
         "0",
         "0",
         "0",
         "0",
         "0",
         "0",
         "0",
         "0",
         "0",
         "0",
         "0",
         "0",
         "0",
         "0",
         "0",
         "0",
         "0",
         "0",
         "0",
         "0",
         "0",
         "0",
         "0",
         "0",
         "0",
         "0",
         "0",
         "0",
         "0",
         "0",
         "0",
         "0",
         "0",
         "0",
         "0",
         "0",
         "0",
         "0",
         "0",
         "0",
         "0",
         "0",
         "0",
         "0",
         "0",
         "0",
         "0",
         "0",
         "0",
         "0",
         "0",
         "0",
         "0",
         "0",
         "0",
         "0",
         "0",
         "0",
         "0",
         "0",
         "0",
         "0",
         "0",
         "0",
         "0",
         "0",
         "0",
         "0",
         "0",
         "0",
         "0",
         "0",
         "0",
         "0",
         "0",
         "0",
         "0",
         "0",
         "0",
         "0",
         "0",
         "0",
         "0",
         "0",
         "0",
         "0",
         "0",
         "0",
         "0",
         "0",
         "0",
         "0",
         "0",
         "0",
         "0",
         "0",
         "0",
         "0",
         "0",
         "0",
         "0",
         "0",
         "0",
         "0",
         "0",
         "0",
         "0",
         "0",
         "0",
         "0",
         "0",
         "0",
         "0",
         "0",
         "0",
         "0",
         "0",
         "0",
         "0",
         "0",
         "0",
         "0",
         "0",
         "0",
         "0",
         "0",
         "0",
         "0",
         "0",
         "0",
         "0",
         "0",
         "0",
         "0",
         "0",
         "0",
         "0",
         "0",
         "0",
         "0",
         "0",
         "0",
         "0",
         "0",
         "0",
         "0",
         "0",
         "0",
         "0",
         "0",
         "0",
         "0",
         "1",
         "0",
         "0",
         "0",
         "0",
         "0",
         "0",
         "0",
         "0",
         "0",
         "0",
         "0",
         "0",
         "0",
         "0",
         "0",
         "0",
         "0",
         "0",
         "0",
         "0",
         "0",
         "0",
         "0",
         "0",
         "0",
         "0",
         "1",
         "0",
         "0",
         "0",
         "0",
         "0",
         "0",
         "0",
         "0",
         "0",
         "0",
         "0",
         "1",
         "0",
         "0",
         "0",
         "0",
         "0",
         "0",
         "0",
         "0",
         "0",
         "0",
         "0",
         "0",
         "0",
         "0",
         "0",
         "2",
         "0",
         "0",
         "0",
         "0",
         "0",
         "0",
         "0",
         "0",
         "0",
         "0",
         "0",
         "0",
         "0",
         "0",
         "0",
         "0",
         "0",
         "0",
         "0",
         "0",
         "0",
         "0",
         "0",
         "0",
         "0",
         "0",
         "0",
         "0",
         "0",
         "0",
         "0",
         "0",
         "0",
         "0",
         "0",
         "0",
         "0",
         "0",
         "0",
         "0",
         "0",
         "0",
         "0",
         "0",
         "0",
         "1",
         "0",
         "0",
         "0",
         "0",
         "0",
         "0",
         "0",
         "0",
         "0",
         "0",
         "0",
         "0",
         "0",
         "0",
         "0",
         "0",
         "0",
         "0",
         "0",
         "0",
         "0",
         "0",
         "0",
         "0",
         "0",
         "0",
         "0",
         "0",
         "0",
         "0",
         "0",
         "0",
         "0",
         "0",
         "0",
         "0",
         "0",
         "0",
         "0",
         "0",
         "0",
         "1",
         "0",
         "0",
         "0",
         "0",
         "0",
         "0",
         "0",
         "0",
         "0",
         "0",
         "0",
         "0",
         "0",
         "0",
         "0",
         "0",
         "0",
         "0",
         "0",
         "0",
         "0",
         "0",
         "0",
         "0",
         "0",
         "0",
         "0",
         "0",
         "0",
         "0",
         "0",
         "0",
         "0",
         "0",
         "0",
         "0",
         "0",
         "0",
         "0",
         "0",
         "0",
         "0",
         "0",
         "0",
         "0",
         "0",
         "0",
         "0",
         "0",
         "0",
         "0",
         "0",
         "0",
         "0",
         "0",
         "0",
         "0",
         "0",
         "0",
         "0",
         "0",
         "0",
         "0",
         "0",
         "0",
         "0",
         "0",
         "0",
         "0",
         "0",
         "0",
         "0",
         "0",
         "0",
         "0",
         "0",
         "0",
         "0",
         "0",
         "0",
         "0",
         "0",
         "1",
         "0",
         "0",
         "0",
         "0",
         "0",
         "0",
         "0",
         "0",
         "0",
         "0",
         "0",
         "0",
         "0",
         "0",
         "0",
         "1",
         "0",
         "0",
         "0",
         "0",
         "0",
         "0",
         "0",
         "0",
         "0",
         "0",
         "0",
         "0",
         "0",
         "0",
         "0",
         "0",
         "0",
         "0",
         "0",
         "0",
         "0",
         "0",
         "0",
         "0",
         "0",
         "0",
         "0",
         "0",
         "0",
         "0",
         "0",
         "0",
         "0",
         "0",
         "0",
         "0",
         "0",
         "0",
         "0",
         "0",
         "0",
         "0",
         "0",
         "0",
         "0",
         "0",
         "0",
         "0",
         "0",
         "0",
         "0",
         "0",
         "0",
         "0",
         "0",
         "0",
         "0",
         "0",
         "0",
         "0",
         "0",
         "0",
         "0",
         "0",
         "0",
         "0",
         "0",
         "0",
         "0",
         "0",
         "0",
         "0",
         "0",
         "0",
         "0",
         "0",
         "0",
         "0",
         "0",
         "0",
         "0",
         "0",
         "1",
         "0",
         "0",
         "0",
         "0",
         "0",
         "0",
         "0",
         "0",
         "0",
         "0",
         "0",
         "0",
         "0",
         "0",
         "0",
         "0",
         "0",
         "1",
         "0",
         "0",
         "0",
         "0",
         "0",
         "0",
         "0",
         "0",
         "0",
         "0",
         "0",
         "0",
         "0",
         "0",
         "0",
         "0",
         "0",
         "0",
         "0",
         "0",
         "0",
         "0",
         "0",
         "0",
         "0",
         "0",
         "0",
         "0",
         "0",
         "0",
         "0",
         "0",
         "0",
         "0",
         "0",
         "0",
         "0",
         "0",
         "0",
         "0",
         "0",
         "0",
         "0",
         "0",
         "0",
         "0",
         "0",
         "0",
         "0",
         "0",
         "0",
         "0",
         "0",
         "0",
         "0",
         "0",
         "0",
         "0",
         "0",
         "0",
         "0",
         "0",
         "0",
         "0",
         "0",
         "0",
         "0",
         "0",
         "0",
         "0",
         "0",
         "0",
         "0",
         "0",
         "0",
         "0",
         "0",
         "0",
         "0",
         "0",
         "0",
         "0",
         "0",
         "2",
         "0",
         "0",
         "0",
         "0",
         "0",
         "0",
         "0",
         "0",
         "0",
         "0",
         "0",
         "0",
         "0",
         "0",
         "0",
         "0",
         "0",
         "0",
         "0",
         "0",
         "0",
         "0",
         "0",
         "0",
         "0",
         "0",
         "0",
         "0",
         "0",
         "0",
         "0",
         "0",
         "0",
         "0",
         "0",
         "0",
         "0",
         "0",
         "0",
         "0",
         "0",
         "0",
         "0",
         "0",
         "0",
         "0",
         "0",
         "0",
         "0",
         "0",
         "0",
         "0",
         "0",
         "0",
         "0",
         "0",
         "0",
         "0",
         "0",
         "0",
         "0",
         "0",
         "0",
         "0",
         "0",
         "0",
         "0",
         "0",
         "0",
         "0",
         "0",
         "0",
         "0",
         "0",
         "0",
         "0",
         "0",
         "0",
         "0",
         "0",
         "0",
         "0",
         "0",
         "0",
         "0",
         "1",
         "0",
         "0",
         "0",
         "0",
         "0",
         "0",
         "0",
         "0",
         "0",
         "0",
         "0",
         "0",
         "0",
         "0",
         "0",
         "0",
         "0",
         "0",
         "0",
         "0",
         "0",
         "0",
         "0",
         "0",
         "0",
         "0",
         "0",
         "0",
         "0",
         "0",
         "0",
         "0",
         "0",
         "0",
         "0",
         "0",
         "0",
         "0",
         "0",
         "0",
         "0",
         "0",
         "0",
         "0",
         "0",
         "0",
         "0",
         "0",
         "0",
         "0",
         "0",
         "0",
         "0",
         "0",
         "0",
         "0",
         "0",
         "0",
         "0",
         "0",
         "0",
         "0",
         "0",
         "0",
         "0",
         "0",
         "0",
         "0",
         "0",
         "0",
         "0",
         "0",
         "0",
         "0",
         "0",
         "0",
         "0",
         "0",
         "0",
         "0",
         "0",
         "0",
         "0",
         "0",
         "0",
         "0",
         "0",
         "0",
         "0",
         "0",
         "0",
         "0",
         "0",
         "0",
         "0",
         "0",
         "0",
         "0",
         "0",
         "0",
         "0",
         "0",
         "0",
         "0",
         "0",
         "0",
         "0",
         "0",
         "0",
         "0",
         "0",
         "0",
         "0",
         "0",
         "0",
         "0",
         "0",
         "0",
         "0",
         "0",
         "0",
         "0",
         "0",
         "0",
         "0",
         "0",
         "0",
         "0",
         "0",
         "0",
         "0",
         "0",
         "0",
         "0",
         "0",
         "0",
         "0",
         "0",
         "1",
         "0",
         "0",
         "0",
         "0",
         "0",
         "0",
         "0",
         "0",
         "0",
         "0",
         "0",
         "0",
         "0",
         "0",
         "0",
         "0",
         "0",
         "0",
         "0",
         "0",
         "0",
         "0",
         "0",
         "0",
         "0",
         "0",
         "0",
         "0",
         "0",
         "0",
         "0",
         "0",
         "0",
         "0",
         "0",
         "0",
         "0",
         "0",
         "0",
         "0",
         "0",
         "0",
         "0",
         "0",
         "0",
         "0",
         "0",
         "0",
         "0",
         "0",
         "0",
         "1",
         "0",
         "0"
        ],
        [
         "3",
         "0",
         "0",
         "0",
         "0",
         "0",
         "0",
         "0",
         "0",
         "0",
         "0",
         "0",
         "0",
         "0",
         "0",
         "0",
         "0",
         "0",
         "0",
         "0",
         "0",
         "0",
         "0",
         "0",
         "0",
         "0",
         "0",
         "0",
         "0",
         "0",
         "0",
         "0",
         "0",
         "0",
         "0",
         "0",
         "0",
         "0",
         "0",
         "0",
         "0",
         "0",
         "0",
         "1",
         "0",
         "0",
         "0",
         "0",
         "0",
         "0",
         "0",
         "0",
         "0",
         "0",
         "0",
         "0",
         "0",
         "0",
         "0",
         "0",
         "0",
         "1",
         "0",
         "0",
         "0",
         "2",
         "0",
         "0",
         "0",
         "0",
         "0",
         "0",
         "0",
         "0",
         "0",
         "1",
         "1",
         "0",
         "0",
         "0",
         "0",
         "0",
         "1",
         "0",
         "0",
         "0",
         "0",
         "0",
         "1",
         "0",
         "0",
         "0",
         "1",
         "0",
         "0",
         "0",
         "0",
         "0",
         "0",
         "0",
         "0",
         "0",
         "0",
         "0",
         "0",
         "0",
         "0",
         "0",
         "0",
         "1",
         "0",
         "0",
         "1",
         "1",
         "0",
         "0",
         "1",
         "0",
         "0",
         "0",
         "0",
         "0",
         "0",
         "0",
         "0",
         "6",
         "0",
         "0",
         "0",
         "2",
         "0",
         "0",
         "0",
         "0",
         "0",
         "0",
         "0",
         "0",
         "0",
         "0",
         "0",
         "0",
         "0",
         "0",
         "0",
         "0",
         "0",
         "0",
         "0",
         "0",
         "0",
         "0",
         "0",
         "0",
         "0",
         "0",
         "0",
         "0",
         "0",
         "0",
         "0",
         "0",
         "0",
         "0",
         "0",
         "0",
         "0",
         "0",
         "0",
         "0",
         "0",
         "0",
         "0",
         "0",
         "0",
         "0",
         "0",
         "0",
         "0",
         "0",
         "0",
         "0",
         "0",
         "0",
         "0",
         "0",
         "0",
         "1",
         "0",
         "0",
         "0",
         "0",
         "0",
         "0",
         "0",
         "0",
         "0",
         "0",
         "1",
         "0",
         "0",
         "0",
         "0",
         "0",
         "0",
         "0",
         "0",
         "0",
         "0",
         "0",
         "0",
         "0",
         "0",
         "0",
         "1",
         "0",
         "0",
         "0",
         "0",
         "0",
         "0",
         "1",
         "0",
         "0",
         "0",
         "0",
         "0",
         "0",
         "0",
         "1",
         "0",
         "0",
         "0",
         "2",
         "1",
         "0",
         "0",
         "0",
         "0",
         "0",
         "0",
         "1",
         "0",
         "0",
         "0",
         "0",
         "0",
         "0",
         "0",
         "0",
         "0",
         "0",
         "0",
         "0",
         "0",
         "0",
         "0",
         "0",
         "0",
         "0",
         "0",
         "0",
         "0",
         "0",
         "0",
         "1",
         "0",
         "0",
         "1",
         "0",
         "0",
         "0",
         "0",
         "0",
         "0",
         "0",
         "0",
         "0",
         "0",
         "0",
         "0",
         "0",
         "0",
         "0",
         "0",
         "0",
         "1",
         "0",
         "0",
         "0",
         "0",
         "0",
         "0",
         "0",
         "0",
         "0",
         "0",
         "0",
         "0",
         "0",
         "0",
         "0",
         "0",
         "1",
         "0",
         "1",
         "3",
         "0",
         "0",
         "0",
         "0",
         "1",
         "0",
         "0",
         "0",
         "0",
         "0",
         "1",
         "0",
         "0",
         "0",
         "0",
         "0",
         "0",
         "0",
         "0",
         "0",
         "0",
         "0",
         "0",
         "0",
         "0",
         "0",
         "0",
         "0",
         "0",
         "0",
         "0",
         "0",
         "0",
         "0",
         "0",
         "0",
         "1",
         "0",
         "0",
         "0",
         "0",
         "0",
         "0",
         "0",
         "2",
         "0",
         "0",
         "0",
         "0",
         "0",
         "0",
         "0",
         "0",
         "0",
         "1",
         "0",
         "0",
         "0",
         "0",
         "0",
         "0",
         "0",
         "0",
         "0",
         "0",
         "0",
         "0",
         "0",
         "0",
         "0",
         "0",
         "1",
         "1",
         "0",
         "1",
         "0",
         "0",
         "0",
         "0",
         "0",
         "0",
         "0",
         "2",
         "0",
         "0",
         "0",
         "0",
         "0",
         "0",
         "0",
         "0",
         "0",
         "0",
         "0",
         "0",
         "0",
         "0",
         "0",
         "0",
         "0",
         "0",
         "0",
         "0",
         "0",
         "0",
         "0",
         "0",
         "0",
         "0",
         "0",
         "0",
         "0",
         "0",
         "0",
         "0",
         "0",
         "0",
         "0",
         "0",
         "1",
         "0",
         "0",
         "0",
         "0",
         "0",
         "0",
         "0",
         "2",
         "0",
         "0",
         "0",
         "0",
         "0",
         "0",
         "1",
         "0",
         "0",
         "0",
         "0",
         "0",
         "0",
         "0",
         "0",
         "0",
         "0",
         "0",
         "0",
         "0",
         "0",
         "0",
         "0",
         "0",
         "0",
         "0",
         "0",
         "0",
         "0",
         "0",
         "0",
         "1",
         "0",
         "0",
         "5",
         "0",
         "0",
         "0",
         "1",
         "0",
         "0",
         "0",
         "0",
         "0",
         "4",
         "0",
         "0",
         "0",
         "0",
         "0",
         "0",
         "0",
         "0",
         "0",
         "0",
         "0",
         "0",
         "0",
         "0",
         "0",
         "0",
         "0",
         "0",
         "0",
         "0",
         "0",
         "0",
         "0",
         "0",
         "0",
         "0",
         "0",
         "0",
         "1",
         "0",
         "0",
         "0",
         "1",
         "0",
         "0",
         "0",
         "0",
         "0",
         "0",
         "0",
         "0",
         "0",
         "0",
         "0",
         "0",
         "0",
         "0",
         "0",
         "0",
         "0",
         "0",
         "0",
         "1",
         "0",
         "0",
         "0",
         "0",
         "3",
         "0",
         "0",
         "0",
         "0",
         "0",
         "0",
         "0",
         "0",
         "0",
         "0",
         "1",
         "0",
         "0",
         "0",
         "0",
         "0",
         "0",
         "0",
         "0",
         "1",
         "0",
         "0",
         "0",
         "0",
         "0",
         "0",
         "0",
         "0",
         "0",
         "0",
         "0",
         "0",
         "0",
         "0",
         "0",
         "1",
         "0",
         "0",
         "0",
         "0",
         "0",
         "0",
         "0",
         "1",
         "0",
         "0",
         "0",
         "0",
         "0",
         "0",
         "0",
         "0",
         "0",
         "0",
         "0",
         "0",
         "0",
         "0",
         "0",
         "0",
         "0",
         "1",
         "1",
         "0",
         "0",
         "0",
         "0",
         "0",
         "0",
         "0",
         "0",
         "0",
         "3",
         "0",
         "1",
         "0",
         "0",
         "0",
         "0",
         "0",
         "0",
         "0",
         "0",
         "0",
         "0",
         "0",
         "0",
         "0",
         "0",
         "0",
         "0",
         "0",
         "0",
         "0",
         "1",
         "0",
         "0",
         "0",
         "0",
         "5",
         "0",
         "0",
         "0",
         "0",
         "1",
         "0",
         "0",
         "0",
         "0",
         "0",
         "0",
         "0",
         "0",
         "0",
         "0",
         "0",
         "0",
         "0",
         "0",
         "0",
         "0",
         "0",
         "0",
         "0",
         "0",
         "0",
         "0",
         "0",
         "0",
         "1",
         "0",
         "0",
         "0",
         "0",
         "0",
         "0",
         "0",
         "0",
         "0",
         "0",
         "0",
         "1",
         "0",
         "0",
         "0",
         "0",
         "0",
         "0",
         "0",
         "0",
         "0",
         "0",
         "0",
         "0",
         "0",
         "0",
         "0",
         "0",
         "0",
         "0",
         "0",
         "0",
         "0",
         "0",
         "0",
         "0",
         "0",
         "0",
         "0",
         "0",
         "0",
         "0",
         "0",
         "0",
         "0",
         "0",
         "0",
         "0",
         "0",
         "0",
         "0",
         "0",
         "0",
         "4",
         "0",
         "0",
         "0",
         "0",
         "0",
         "0",
         "1",
         "0",
         "0",
         "0",
         "0",
         "0",
         "0",
         "0",
         "0",
         "0",
         "0",
         "0",
         "0",
         "0",
         "0",
         "0",
         "0",
         "0",
         "0",
         "0",
         "0",
         "0",
         "0",
         "0",
         "0",
         "0",
         "0",
         "0",
         "0",
         "0",
         "0",
         "0",
         "0",
         "0",
         "0",
         "0",
         "0",
         "0",
         "0",
         "0",
         "0",
         "0",
         "0",
         "0",
         "1",
         "0",
         "0",
         "0",
         "0",
         "1",
         "0",
         "0",
         "0",
         "1",
         "0",
         "0",
         "0",
         "0",
         "0",
         "0",
         "0",
         "0",
         "0",
         "0",
         "0",
         "0",
         "0",
         "0",
         "0",
         "0",
         "0",
         "0",
         "0",
         "0",
         "0",
         "0",
         "0",
         "0",
         "0",
         "0",
         "0",
         "0",
         "0",
         "0",
         "0",
         "0",
         "0",
         "0",
         "0",
         "0",
         "2",
         "0",
         "0",
         "0",
         "0",
         "0",
         "0",
         "0",
         "0",
         "0",
         "0",
         "0",
         "0",
         "0",
         "1",
         "0",
         "0",
         "0",
         "0",
         "0",
         "0",
         "0",
         "0",
         "0",
         "0",
         "0",
         "0",
         "0",
         "0",
         "0",
         "0",
         "0",
         "0",
         "0",
         "0",
         "0",
         "0",
         "0",
         "0",
         "0",
         "0",
         "0",
         "0",
         "0",
         "0",
         "0",
         "0",
         "1",
         "0",
         "0",
         "0",
         "0",
         "0",
         "0",
         "0",
         "0",
         "0",
         "0",
         "1",
         "0",
         "0",
         "0",
         "0",
         "0",
         "0",
         "0",
         "0",
         "0",
         "0",
         "0",
         "1",
         "0",
         "0",
         "0",
         "0",
         "0",
         "0",
         "0",
         "0",
         "0",
         "0",
         "0",
         "0",
         "0",
         "0",
         "1",
         "0",
         "0",
         "0",
         "1",
         "0",
         "0",
         "0",
         "1",
         "0",
         "0",
         "0",
         "0",
         "0",
         "0",
         "0",
         "0",
         "0",
         "0",
         "0",
         "0",
         "0",
         "0",
         "0",
         "0",
         "0",
         "1",
         "0",
         "1",
         "0",
         "0",
         "0",
         "0",
         "0",
         "0",
         "0",
         "0",
         "0",
         "0",
         "0",
         "0",
         "1",
         "0",
         "1",
         "0",
         "0",
         "0",
         "0",
         "0",
         "0",
         "0",
         "0",
         "0",
         "0",
         "0",
         "0",
         "0",
         "0",
         "0",
         "1",
         "0",
         "0",
         "0",
         "0",
         "0",
         "0",
         "0",
         "0",
         "0",
         "1",
         "0",
         "0",
         "0",
         "0",
         "0",
         "0",
         "0",
         "0",
         "0",
         "0",
         "0",
         "0",
         "0",
         "0",
         "0",
         "1",
         "1",
         "0",
         "0",
         "2",
         "0",
         "0",
         "0",
         "0",
         "1",
         "0",
         "0",
         "0"
        ],
        [
         "4",
         "0",
         "0",
         "0",
         "0",
         "0",
         "0",
         "0",
         "0",
         "0",
         "0",
         "0",
         "0",
         "0",
         "0",
         "0",
         "0",
         "0",
         "0",
         "1",
         "0",
         "0",
         "0",
         "0",
         "0",
         "0",
         "0",
         "0",
         "0",
         "0",
         "0",
         "0",
         "0",
         "0",
         "0",
         "0",
         "0",
         "0",
         "0",
         "1",
         "0",
         "0",
         "0",
         "3",
         "0",
         "0",
         "0",
         "0",
         "0",
         "0",
         "0",
         "0",
         "0",
         "0",
         "0",
         "0",
         "0",
         "1",
         "0",
         "0",
         "0",
         "0",
         "0",
         "0",
         "0",
         "5",
         "0",
         "0",
         "0",
         "0",
         "0",
         "0",
         "2",
         "0",
         "0",
         "0",
         "0",
         "1",
         "0",
         "0",
         "0",
         "0",
         "0",
         "0",
         "0",
         "0",
         "0",
         "0",
         "0",
         "0",
         "0",
         "0",
         "0",
         "0",
         "0",
         "0",
         "0",
         "0",
         "0",
         "0",
         "0",
         "0",
         "0",
         "0",
         "0",
         "1",
         "0",
         "0",
         "0",
         "0",
         "0",
         "0",
         "0",
         "0",
         "0",
         "0",
         "1",
         "0",
         "0",
         "0",
         "0",
         "2",
         "0",
         "0",
         "0",
         "4",
         "0",
         "0",
         "1",
         "1",
         "0",
         "0",
         "0",
         "0",
         "0",
         "0",
         "0",
         "0",
         "0",
         "0",
         "0",
         "0",
         "0",
         "0",
         "2",
         "0",
         "0",
         "0",
         "0",
         "0",
         "0",
         "0",
         "0",
         "1",
         "0",
         "0",
         "0",
         "2",
         "0",
         "0",
         "0",
         "0",
         "0",
         "0",
         "0",
         "0",
         "0",
         "0",
         "0",
         "0",
         "0",
         "0",
         "0",
         "0",
         "0",
         "0",
         "0",
         "0",
         "0",
         "0",
         "0",
         "1",
         "0",
         "0",
         "0",
         "0",
         "0",
         "0",
         "0",
         "0",
         "0",
         "0",
         "0",
         "0",
         "0",
         "0",
         "0",
         "0",
         "0",
         "0",
         "0",
         "0",
         "0",
         "0",
         "0",
         "0",
         "0",
         "0",
         "0",
         "0",
         "0",
         "0",
         "0",
         "0",
         "0",
         "0",
         "0",
         "0",
         "0",
         "0",
         "0",
         "0",
         "0",
         "0",
         "0",
         "0",
         "0",
         "1",
         "0",
         "0",
         "1",
         "0",
         "0",
         "1",
         "0",
         "0",
         "0",
         "0",
         "0",
         "0",
         "1",
         "0",
         "0",
         "0",
         "0",
         "0",
         "0",
         "0",
         "3",
         "0",
         "0",
         "0",
         "0",
         "0",
         "0",
         "0",
         "1",
         "0",
         "0",
         "0",
         "0",
         "0",
         "0",
         "0",
         "0",
         "0",
         "0",
         "0",
         "0",
         "0",
         "0",
         "0",
         "0",
         "0",
         "0",
         "0",
         "0",
         "0",
         "0",
         "0",
         "0",
         "0",
         "0",
         "0",
         "0",
         "0",
         "0",
         "0",
         "0",
         "0",
         "0",
         "1",
         "0",
         "0",
         "0",
         "0",
         "0",
         "0",
         "0",
         "0",
         "0",
         "0",
         "0",
         "0",
         "0",
         "0",
         "0",
         "0",
         "0",
         "0",
         "0",
         "0",
         "0",
         "0",
         "3",
         "0",
         "0",
         "0",
         "0",
         "0",
         "0",
         "1",
         "0",
         "0",
         "0",
         "0",
         "0",
         "0",
         "1",
         "0",
         "0",
         "0",
         "0",
         "1",
         "0",
         "0",
         "0",
         "0",
         "0",
         "0",
         "0",
         "0",
         "0",
         "0",
         "0",
         "0",
         "0",
         "4",
         "0",
         "0",
         "0",
         "0",
         "0",
         "0",
         "0",
         "0",
         "0",
         "0",
         "0",
         "0",
         "0",
         "0",
         "0",
         "0",
         "0",
         "1",
         "0",
         "0",
         "0",
         "0",
         "0",
         "1",
         "0",
         "1",
         "1",
         "0",
         "0",
         "0",
         "0",
         "1",
         "0",
         "0",
         "0",
         "0",
         "0",
         "0",
         "0",
         "0",
         "0",
         "0",
         "0",
         "0",
         "0",
         "0",
         "0",
         "0",
         "0",
         "0",
         "0",
         "1",
         "0",
         "1",
         "0",
         "1",
         "0",
         "3",
         "0",
         "0",
         "0",
         "0",
         "0",
         "0",
         "0",
         "0",
         "0",
         "0",
         "0",
         "0",
         "0",
         "0",
         "0",
         "0",
         "0",
         "0",
         "0",
         "0",
         "0",
         "0",
         "0",
         "0",
         "0",
         "0",
         "0",
         "0",
         "0",
         "0",
         "0",
         "1",
         "0",
         "0",
         "0",
         "0",
         "0",
         "0",
         "0",
         "0",
         "0",
         "0",
         "0",
         "0",
         "0",
         "0",
         "0",
         "0",
         "0",
         "0",
         "0",
         "0",
         "0",
         "0",
         "0",
         "0",
         "0",
         "0",
         "0",
         "0",
         "0",
         "0",
         "0",
         "0",
         "0",
         "0",
         "0",
         "0",
         "0",
         "0",
         "0",
         "0",
         "0",
         "3",
         "0",
         "0",
         "0",
         "0",
         "0",
         "0",
         "0",
         "0",
         "0",
         "0",
         "0",
         "0",
         "0",
         "0",
         "0",
         "0",
         "1",
         "0",
         "0",
         "0",
         "0",
         "0",
         "0",
         "0",
         "0",
         "1",
         "6",
         "0",
         "7",
         "0",
         "0",
         "0",
         "0",
         "0",
         "0",
         "1",
         "0",
         "0",
         "0",
         "0",
         "0",
         "0",
         "0",
         "0",
         "0",
         "1",
         "0",
         "0",
         "0",
         "0",
         "0",
         "0",
         "0",
         "0",
         "0",
         "0",
         "2",
         "1",
         "0",
         "0",
         "0",
         "0",
         "0",
         "1",
         "0",
         "0",
         "0",
         "0",
         "0",
         "0",
         "0",
         "0",
         "0",
         "0",
         "0",
         "0",
         "0",
         "0",
         "1",
         "0",
         "0",
         "0",
         "0",
         "0",
         "0",
         "0",
         "0",
         "0",
         "0",
         "0",
         "0",
         "0",
         "0",
         "0",
         "0",
         "0",
         "0",
         "0",
         "0",
         "0",
         "0",
         "0",
         "0",
         "0",
         "0",
         "0",
         "0",
         "0",
         "0",
         "0",
         "0",
         "0",
         "0",
         "0",
         "0",
         "0",
         "0",
         "0",
         "0",
         "0",
         "0",
         "0",
         "0",
         "0",
         "0",
         "0",
         "0",
         "0",
         "0",
         "0",
         "3",
         "1",
         "0",
         "0",
         "0",
         "0",
         "0",
         "0",
         "0",
         "0",
         "0",
         "0",
         "0",
         "0",
         "0",
         "0",
         "0",
         "0",
         "0",
         "0",
         "0",
         "1",
         "0",
         "0",
         "0",
         "0",
         "0",
         "2",
         "0",
         "0",
         "0",
         "0",
         "0",
         "0",
         "0",
         "0",
         "1",
         "0",
         "0",
         "0",
         "0",
         "0",
         "0",
         "0",
         "0",
         "0",
         "0",
         "2",
         "0",
         "0",
         "0",
         "0",
         "1",
         "0",
         "0",
         "0",
         "0",
         "0",
         "0",
         "0",
         "0",
         "0",
         "0",
         "0",
         "0",
         "0",
         "0",
         "0",
         "0",
         "0",
         "0",
         "0",
         "0",
         "1",
         "0",
         "0",
         "0",
         "0",
         "0",
         "0",
         "0",
         "0",
         "0",
         "0",
         "0",
         "2",
         "0",
         "0",
         "0",
         "0",
         "0",
         "0",
         "0",
         "0",
         "0",
         "0",
         "0",
         "0",
         "1",
         "0",
         "0",
         "0",
         "0",
         "0",
         "0",
         "0",
         "0",
         "0",
         "0",
         "0",
         "0",
         "1",
         "0",
         "0",
         "0",
         "0",
         "1",
         "0",
         "0",
         "0",
         "0",
         "0",
         "0",
         "0",
         "0",
         "1",
         "0",
         "0",
         "0",
         "0",
         "0",
         "0",
         "0",
         "0",
         "0",
         "0",
         "0",
         "0",
         "0",
         "0",
         "0",
         "0",
         "0",
         "0",
         "0",
         "1",
         "0",
         "0",
         "0",
         "0",
         "0",
         "0",
         "0",
         "0",
         "0",
         "0",
         "0",
         "0",
         "0",
         "0",
         "1",
         "0",
         "3",
         "0",
         "0",
         "0",
         "0",
         "0",
         "0",
         "0",
         "3",
         "0",
         "1",
         "0",
         "0",
         "0",
         "0",
         "0",
         "0",
         "0",
         "0",
         "1",
         "1",
         "0",
         "0",
         "0",
         "0",
         "1",
         "0",
         "0",
         "0",
         "0",
         "0",
         "0",
         "1",
         "0",
         "0",
         "7",
         "0",
         "1",
         "0",
         "1",
         "0",
         "0",
         "0",
         "0",
         "0",
         "0",
         "0",
         "0",
         "0",
         "0",
         "0",
         "0",
         "0",
         "0",
         "0",
         "0",
         "0",
         "0",
         "0",
         "0",
         "0",
         "0",
         "0",
         "0",
         "0",
         "0",
         "0",
         "0",
         "0",
         "0",
         "0",
         "0",
         "0",
         "0",
         "0",
         "0",
         "0",
         "0",
         "0",
         "0",
         "0",
         "0",
         "0",
         "0",
         "0",
         "0",
         "0",
         "0",
         "1",
         "0",
         "0",
         "0",
         "0",
         "1",
         "0",
         "0",
         "0",
         "0",
         "0",
         "0",
         "0",
         "0",
         "0",
         "0",
         "0",
         "0",
         "0",
         "0",
         "0",
         "0",
         "0",
         "0",
         "0",
         "1",
         "0",
         "0",
         "0",
         "0",
         "0",
         "0",
         "0",
         "1",
         "0",
         "0",
         "0",
         "0",
         "0",
         "0",
         "0",
         "0",
         "1",
         "0",
         "0",
         "0",
         "0",
         "0",
         "0",
         "0",
         "0",
         "0",
         "0",
         "0",
         "0",
         "0",
         "0",
         "0",
         "0",
         "0",
         "0",
         "0",
         "0",
         "1",
         "1",
         "0",
         "0",
         "0",
         "0",
         "0",
         "0",
         "1",
         "0",
         "0",
         "0",
         "0",
         "0",
         "0",
         "0",
         "0",
         "0",
         "0",
         "1",
         "0",
         "0",
         "0",
         "5",
         "1",
         "0",
         "0",
         "0",
         "0",
         "0",
         "0",
         "0",
         "0",
         "0",
         "0",
         "0",
         "0",
         "0",
         "0",
         "0",
         "0",
         "1",
         "0",
         "0",
         "0",
         "0",
         "0",
         "0",
         "0",
         "1",
         "0",
         "0",
         "0",
         "0",
         "0",
         "0",
         "0",
         "0",
         "0",
         "0",
         "0",
         "0",
         "1",
         "0",
         "0",
         "2",
         "0",
         "0",
         "0",
         "0",
         "0",
         "0",
         "0",
         "0",
         "1",
         "0",
         "0",
         "0"
        ]
       ],
       "shape": {
        "columns": 1000,
        "rows": 5
       }
      },
      "text/html": [
       "<div>\n",
       "<style scoped>\n",
       "    .dataframe tbody tr th:only-of-type {\n",
       "        vertical-align: middle;\n",
       "    }\n",
       "\n",
       "    .dataframe tbody tr th {\n",
       "        vertical-align: top;\n",
       "    }\n",
       "\n",
       "    .dataframe thead th {\n",
       "        text-align: right;\n",
       "    }\n",
       "</style>\n",
       "<table border=\"1\" class=\"dataframe\">\n",
       "  <thead>\n",
       "    <tr style=\"text-align: right;\">\n",
       "      <th></th>\n",
       "      <th>000</th>\n",
       "      <th>10</th>\n",
       "      <th>100</th>\n",
       "      <th>11</th>\n",
       "      <th>139</th>\n",
       "      <th>15</th>\n",
       "      <th>16</th>\n",
       "      <th>16gb</th>\n",
       "      <th>17</th>\n",
       "      <th>20</th>\n",
       "      <th>...</th>\n",
       "      <th>worth</th>\n",
       "      <th>would</th>\n",
       "      <th>write</th>\n",
       "      <th>wrong</th>\n",
       "      <th>xbox</th>\n",
       "      <th>ye</th>\n",
       "      <th>year</th>\n",
       "      <th>yet</th>\n",
       "      <th>youll</th>\n",
       "      <th>youtub</th>\n",
       "    </tr>\n",
       "  </thead>\n",
       "  <tbody>\n",
       "    <tr>\n",
       "      <th>0</th>\n",
       "      <td>0</td>\n",
       "      <td>0</td>\n",
       "      <td>0</td>\n",
       "      <td>0</td>\n",
       "      <td>0</td>\n",
       "      <td>0</td>\n",
       "      <td>0</td>\n",
       "      <td>0</td>\n",
       "      <td>0</td>\n",
       "      <td>0</td>\n",
       "      <td>...</td>\n",
       "      <td>0</td>\n",
       "      <td>0</td>\n",
       "      <td>0</td>\n",
       "      <td>0</td>\n",
       "      <td>0</td>\n",
       "      <td>0</td>\n",
       "      <td>0</td>\n",
       "      <td>0</td>\n",
       "      <td>0</td>\n",
       "      <td>0</td>\n",
       "    </tr>\n",
       "    <tr>\n",
       "      <th>1</th>\n",
       "      <td>0</td>\n",
       "      <td>0</td>\n",
       "      <td>0</td>\n",
       "      <td>0</td>\n",
       "      <td>1</td>\n",
       "      <td>0</td>\n",
       "      <td>0</td>\n",
       "      <td>0</td>\n",
       "      <td>0</td>\n",
       "      <td>0</td>\n",
       "      <td>...</td>\n",
       "      <td>0</td>\n",
       "      <td>0</td>\n",
       "      <td>0</td>\n",
       "      <td>0</td>\n",
       "      <td>0</td>\n",
       "      <td>0</td>\n",
       "      <td>1</td>\n",
       "      <td>0</td>\n",
       "      <td>0</td>\n",
       "      <td>0</td>\n",
       "    </tr>\n",
       "    <tr>\n",
       "      <th>2</th>\n",
       "      <td>0</td>\n",
       "      <td>0</td>\n",
       "      <td>0</td>\n",
       "      <td>0</td>\n",
       "      <td>0</td>\n",
       "      <td>0</td>\n",
       "      <td>0</td>\n",
       "      <td>0</td>\n",
       "      <td>0</td>\n",
       "      <td>0</td>\n",
       "      <td>...</td>\n",
       "      <td>0</td>\n",
       "      <td>0</td>\n",
       "      <td>0</td>\n",
       "      <td>0</td>\n",
       "      <td>0</td>\n",
       "      <td>0</td>\n",
       "      <td>0</td>\n",
       "      <td>1</td>\n",
       "      <td>0</td>\n",
       "      <td>0</td>\n",
       "    </tr>\n",
       "    <tr>\n",
       "      <th>3</th>\n",
       "      <td>0</td>\n",
       "      <td>0</td>\n",
       "      <td>0</td>\n",
       "      <td>0</td>\n",
       "      <td>0</td>\n",
       "      <td>0</td>\n",
       "      <td>0</td>\n",
       "      <td>0</td>\n",
       "      <td>0</td>\n",
       "      <td>0</td>\n",
       "      <td>...</td>\n",
       "      <td>0</td>\n",
       "      <td>2</td>\n",
       "      <td>0</td>\n",
       "      <td>0</td>\n",
       "      <td>0</td>\n",
       "      <td>0</td>\n",
       "      <td>1</td>\n",
       "      <td>0</td>\n",
       "      <td>0</td>\n",
       "      <td>0</td>\n",
       "    </tr>\n",
       "    <tr>\n",
       "      <th>4</th>\n",
       "      <td>0</td>\n",
       "      <td>0</td>\n",
       "      <td>0</td>\n",
       "      <td>0</td>\n",
       "      <td>0</td>\n",
       "      <td>0</td>\n",
       "      <td>0</td>\n",
       "      <td>0</td>\n",
       "      <td>0</td>\n",
       "      <td>0</td>\n",
       "      <td>...</td>\n",
       "      <td>0</td>\n",
       "      <td>0</td>\n",
       "      <td>0</td>\n",
       "      <td>0</td>\n",
       "      <td>0</td>\n",
       "      <td>0</td>\n",
       "      <td>1</td>\n",
       "      <td>0</td>\n",
       "      <td>0</td>\n",
       "      <td>0</td>\n",
       "    </tr>\n",
       "  </tbody>\n",
       "</table>\n",
       "<p>5 rows × 1000 columns</p>\n",
       "</div>"
      ],
      "text/plain": [
       "   000  10  100  11  139  15  16  16gb  17  20  ...  worth  would  write  \\\n",
       "0    0   0    0   0    0   0   0     0   0   0  ...      0      0      0   \n",
       "1    0   0    0   0    1   0   0     0   0   0  ...      0      0      0   \n",
       "2    0   0    0   0    0   0   0     0   0   0  ...      0      0      0   \n",
       "3    0   0    0   0    0   0   0     0   0   0  ...      0      2      0   \n",
       "4    0   0    0   0    0   0   0     0   0   0  ...      0      0      0   \n",
       "\n",
       "   wrong  xbox  ye  year  yet  youll  youtub  \n",
       "0      0     0   0     0    0      0       0  \n",
       "1      0     0   0     1    0      0       0  \n",
       "2      0     0   0     0    1      0       0  \n",
       "3      0     0   0     1    0      0       0  \n",
       "4      0     0   0     1    0      0       0  \n",
       "\n",
       "[5 rows x 1000 columns]"
      ]
     },
     "execution_count": 29,
     "metadata": {},
     "output_type": "execute_result"
    }
   ],
   "source": [
    "# Initializing CountVectorizer with top 1000 words\n",
    "bow_vec = CountVectorizer(max_features = 1000)\n",
    "\n",
    "# Applying CountVectorizer on data\n",
    "data_features_BOW = bow_vec.fit_transform(data['final_cleaned_text'])\n",
    "\n",
    "# Convert the data features to array\n",
    "data_features_BOW = data_features_BOW.toarray()\n",
    "\n",
    "# Shape of the feature vector\n",
    "print(\"Shape of the feature vector\",data_features_BOW.shape)\n",
    "\n",
    "# Getting the 1000 words considered by the BoW model\n",
    "words = bow_vec.get_feature_names_out()\n",
    "\n",
    "print(\"first 10 words\",words[:10])\n",
    "print(\"last 10 words\",words[-10:])\n",
    "\n",
    "# Creating a DataFrame from the data features\n",
    "df_BOW = pd.DataFrame(data_features_BOW, columns=bow_vec.get_feature_names_out())\n",
    "df_BOW.head()\n"
   ]
  },
  {
   "cell_type": "markdown",
   "metadata": {
    "id": "1M3x4zoG_bFM"
   },
   "source": [
    "- From the above dataframe, we can observe that the word *yet* is present only once in the third document, and the word *would* is presented twice in the fourth document."
   ]
  },
  {
   "cell_type": "markdown",
   "metadata": {
    "id": "0pqgH43PU-ym"
   },
   "source": [
    "### 2. TFIDFVectorizer"
   ]
  },
  {
   "cell_type": "code",
   "execution_count": 30,
   "metadata": {
    "id": "V-VXf1CdSDj_"
   },
   "outputs": [
    {
     "name": "stdout",
     "output_type": "stream",
     "text": [
      "Shape of the feature vector (1005, 1000)\n",
      "first 10 words ['000' '10' '100' '11' '139' '15' '16' '16gb' '17' '20']\n",
      "last 10 words ['worth' 'would' 'write' 'wrong' 'xbox' 'ye' 'year' 'yet' 'youll' 'youtub']\n"
     ]
    },
    {
     "data": {
      "application/vnd.microsoft.datawrangler.viewer.v0+json": {
       "columns": [
        {
         "name": "index",
         "rawType": "int64",
         "type": "integer"
        },
        {
         "name": "000",
         "rawType": "float64",
         "type": "float"
        },
        {
         "name": "10",
         "rawType": "float64",
         "type": "float"
        },
        {
         "name": "100",
         "rawType": "float64",
         "type": "float"
        },
        {
         "name": "11",
         "rawType": "float64",
         "type": "float"
        },
        {
         "name": "139",
         "rawType": "float64",
         "type": "float"
        },
        {
         "name": "15",
         "rawType": "float64",
         "type": "float"
        },
        {
         "name": "16",
         "rawType": "float64",
         "type": "float"
        },
        {
         "name": "16gb",
         "rawType": "float64",
         "type": "float"
        },
        {
         "name": "17",
         "rawType": "float64",
         "type": "float"
        },
        {
         "name": "20",
         "rawType": "float64",
         "type": "float"
        },
        {
         "name": "2013",
         "rawType": "float64",
         "type": "float"
        },
        {
         "name": "2014",
         "rawType": "float64",
         "type": "float"
        },
        {
         "name": "2015",
         "rawType": "float64",
         "type": "float"
        },
        {
         "name": "2017",
         "rawType": "float64",
         "type": "float"
        },
        {
         "name": "212",
         "rawType": "float64",
         "type": "float"
        },
        {
         "name": "24",
         "rawType": "float64",
         "type": "float"
        },
        {
         "name": "2nd",
         "rawType": "float64",
         "type": "float"
        },
        {
         "name": "30",
         "rawType": "float64",
         "type": "float"
        },
        {
         "name": "300",
         "rawType": "float64",
         "type": "float"
        },
        {
         "name": "35",
         "rawType": "float64",
         "type": "float"
        },
        {
         "name": "36weight",
         "rawType": "float64",
         "type": "float"
        },
        {
         "name": "3rd",
         "rawType": "float64",
         "type": "float"
        },
        {
         "name": "40",
         "rawType": "float64",
         "type": "float"
        },
        {
         "name": "4gbpage",
         "rawType": "float64",
         "type": "float"
        },
        {
         "name": "50",
         "rawType": "float64",
         "type": "float"
        },
        {
         "name": "500",
         "rawType": "float64",
         "type": "float"
        },
        {
         "name": "60",
         "rawType": "float64",
         "type": "float"
        },
        {
         "name": "6x0",
         "rawType": "float64",
         "type": "float"
        },
        {
         "name": "70",
         "rawType": "float64",
         "type": "float"
        },
        {
         "name": "7x4",
         "rawType": "float64",
         "type": "float"
        },
        {
         "name": "80",
         "rawType": "float64",
         "type": "float"
        },
        {
         "name": "89",
         "rawType": "float64",
         "type": "float"
        },
        {
         "name": "90",
         "rawType": "float64",
         "type": "float"
        },
        {
         "name": "99",
         "rawType": "float64",
         "type": "float"
        },
        {
         "name": "abil",
         "rawType": "float64",
         "type": "float"
        },
        {
         "name": "abl",
         "rawType": "float64",
         "type": "float"
        },
        {
         "name": "absolut",
         "rawType": "float64",
         "type": "float"
        },
        {
         "name": "access",
         "rawType": "float64",
         "type": "float"
        },
        {
         "name": "account",
         "rawType": "float64",
         "type": "float"
        },
        {
         "name": "accur",
         "rawType": "float64",
         "type": "float"
        },
        {
         "name": "across",
         "rawType": "float64",
         "type": "float"
        },
        {
         "name": "activ",
         "rawType": "float64",
         "type": "float"
        },
        {
         "name": "actual",
         "rawType": "float64",
         "type": "float"
        },
        {
         "name": "ad",
         "rawType": "float64",
         "type": "float"
        },
        {
         "name": "adapt",
         "rawType": "float64",
         "type": "float"
        },
        {
         "name": "add",
         "rawType": "float64",
         "type": "float"
        },
        {
         "name": "addit",
         "rawType": "float64",
         "type": "float"
        },
        {
         "name": "address",
         "rawType": "float64",
         "type": "float"
        },
        {
         "name": "adjust",
         "rawType": "float64",
         "type": "float"
        },
        {
         "name": "advertis",
         "rawType": "float64",
         "type": "float"
        },
        {
         "name": "afford",
         "rawType": "float64",
         "type": "float"
        },
        {
         "name": "age",
         "rawType": "float64",
         "type": "float"
        },
        {
         "name": "ago",
         "rawType": "float64",
         "type": "float"
        },
        {
         "name": "alarm",
         "rawType": "float64",
         "type": "float"
        },
        {
         "name": "alexa",
         "rawType": "float64",
         "type": "float"
        },
        {
         "name": "allow",
         "rawType": "float64",
         "type": "float"
        },
        {
         "name": "almost",
         "rawType": "float64",
         "type": "float"
        },
        {
         "name": "alon",
         "rawType": "float64",
         "type": "float"
        },
        {
         "name": "along",
         "rawType": "float64",
         "type": "float"
        },
        {
         "name": "alreadi",
         "rawType": "float64",
         "type": "float"
        },
        {
         "name": "also",
         "rawType": "float64",
         "type": "float"
        },
        {
         "name": "although",
         "rawType": "float64",
         "type": "float"
        },
        {
         "name": "alway",
         "rawType": "float64",
         "type": "float"
        },
        {
         "name": "amaz",
         "rawType": "float64",
         "type": "float"
        },
        {
         "name": "amazon",
         "rawType": "float64",
         "type": "float"
        },
        {
         "name": "amount",
         "rawType": "float64",
         "type": "float"
        },
        {
         "name": "android",
         "rawType": "float64",
         "type": "float"
        },
        {
         "name": "annoy",
         "rawType": "float64",
         "type": "float"
        },
        {
         "name": "anoth",
         "rawType": "float64",
         "type": "float"
        },
        {
         "name": "answer",
         "rawType": "float64",
         "type": "float"
        },
        {
         "name": "anyon",
         "rawType": "float64",
         "type": "float"
        },
        {
         "name": "anyth",
         "rawType": "float64",
         "type": "float"
        },
        {
         "name": "anyway",
         "rawType": "float64",
         "type": "float"
        },
        {
         "name": "anywher",
         "rawType": "float64",
         "type": "float"
        },
        {
         "name": "app",
         "rawType": "float64",
         "type": "float"
        },
        {
         "name": "appear",
         "rawType": "float64",
         "type": "float"
        },
        {
         "name": "appl",
         "rawType": "float64",
         "type": "float"
        },
        {
         "name": "area",
         "rawType": "float64",
         "type": "float"
        },
        {
         "name": "around",
         "rawType": "float64",
         "type": "float"
        },
        {
         "name": "arriv",
         "rawType": "float64",
         "type": "float"
        },
        {
         "name": "ask",
         "rawType": "float64",
         "type": "float"
        },
        {
         "name": "aspect",
         "rawType": "float64",
         "type": "float"
        },
        {
         "name": "assist",
         "rawType": "float64",
         "type": "float"
        },
        {
         "name": "assum",
         "rawType": "float64",
         "type": "float"
        },
        {
         "name": "attach",
         "rawType": "float64",
         "type": "float"
        },
        {
         "name": "attempt",
         "rawType": "float64",
         "type": "float"
        },
        {
         "name": "attent",
         "rawType": "float64",
         "type": "float"
        },
        {
         "name": "attract",
         "rawType": "float64",
         "type": "float"
        },
        {
         "name": "audio",
         "rawType": "float64",
         "type": "float"
        },
        {
         "name": "automat",
         "rawType": "float64",
         "type": "float"
        },
        {
         "name": "avail",
         "rawType": "float64",
         "type": "float"
        },
        {
         "name": "averag",
         "rawType": "float64",
         "type": "float"
        },
        {
         "name": "away",
         "rawType": "float64",
         "type": "float"
        },
        {
         "name": "awesom",
         "rawType": "float64",
         "type": "float"
        },
        {
         "name": "back",
         "rawType": "float64",
         "type": "float"
        },
        {
         "name": "background",
         "rawType": "float64",
         "type": "float"
        },
        {
         "name": "bad",
         "rawType": "float64",
         "type": "float"
        },
        {
         "name": "bag",
         "rawType": "float64",
         "type": "float"
        },
        {
         "name": "balanc",
         "rawType": "float64",
         "type": "float"
        },
        {
         "name": "band",
         "rawType": "float64",
         "type": "float"
        },
        {
         "name": "base",
         "rawType": "float64",
         "type": "float"
        },
        {
         "name": "basi",
         "rawType": "float64",
         "type": "float"
        },
        {
         "name": "basic",
         "rawType": "float64",
         "type": "float"
        },
        {
         "name": "bass",
         "rawType": "float64",
         "type": "float"
        },
        {
         "name": "batteri",
         "rawType": "float64",
         "type": "float"
        },
        {
         "name": "beach",
         "rawType": "float64",
         "type": "float"
        },
        {
         "name": "beat",
         "rawType": "float64",
         "type": "float"
        },
        {
         "name": "beauti",
         "rawType": "float64",
         "type": "float"
        },
        {
         "name": "becom",
         "rawType": "float64",
         "type": "float"
        },
        {
         "name": "bed",
         "rawType": "float64",
         "type": "float"
        },
        {
         "name": "bedroom",
         "rawType": "float64",
         "type": "float"
        },
        {
         "name": "begin",
         "rawType": "float64",
         "type": "float"
        },
        {
         "name": "believ",
         "rawType": "float64",
         "type": "float"
        },
        {
         "name": "benefit",
         "rawType": "float64",
         "type": "float"
        },
        {
         "name": "besid",
         "rawType": "float64",
         "type": "float"
        },
        {
         "name": "best",
         "rawType": "float64",
         "type": "float"
        },
        {
         "name": "better",
         "rawType": "float64",
         "type": "float"
        },
        {
         "name": "big",
         "rawType": "float64",
         "type": "float"
        },
        {
         "name": "biggest",
         "rawType": "float64",
         "type": "float"
        },
        {
         "name": "bit",
         "rawType": "float64",
         "type": "float"
        },
        {
         "name": "black",
         "rawType": "float64",
         "type": "float"
        },
        {
         "name": "blend",
         "rawType": "float64",
         "type": "float"
        },
        {
         "name": "blue",
         "rawType": "float64",
         "type": "float"
        },
        {
         "name": "bluetooth",
         "rawType": "float64",
         "type": "float"
        },
        {
         "name": "book",
         "rawType": "float64",
         "type": "float"
        },
        {
         "name": "bose",
         "rawType": "float64",
         "type": "float"
        },
        {
         "name": "bother",
         "rawType": "float64",
         "type": "float"
        },
        {
         "name": "bottom",
         "rawType": "float64",
         "type": "float"
        },
        {
         "name": "bought",
         "rawType": "float64",
         "type": "float"
        },
        {
         "name": "box",
         "rawType": "float64",
         "type": "float"
        },
        {
         "name": "brainer",
         "rawType": "float64",
         "type": "float"
        },
        {
         "name": "brand",
         "rawType": "float64",
         "type": "float"
        },
        {
         "name": "brief",
         "rawType": "float64",
         "type": "float"
        },
        {
         "name": "bright",
         "rawType": "float64",
         "type": "float"
        },
        {
         "name": "bring",
         "rawType": "float64",
         "type": "float"
        },
        {
         "name": "brother",
         "rawType": "float64",
         "type": "float"
        },
        {
         "name": "brought",
         "rawType": "float64",
         "type": "float"
        },
        {
         "name": "brows",
         "rawType": "float64",
         "type": "float"
        },
        {
         "name": "browser",
         "rawType": "float64",
         "type": "float"
        },
        {
         "name": "build",
         "rawType": "float64",
         "type": "float"
        },
        {
         "name": "built",
         "rawType": "float64",
         "type": "float"
        },
        {
         "name": "busi",
         "rawType": "float64",
         "type": "float"
        },
        {
         "name": "button",
         "rawType": "float64",
         "type": "float"
        },
        {
         "name": "buy",
         "rawType": "float64",
         "type": "float"
        },
        {
         "name": "buyer",
         "rawType": "float64",
         "type": "float"
        },
        {
         "name": "cabl",
         "rawType": "float64",
         "type": "float"
        },
        {
         "name": "calendar",
         "rawType": "float64",
         "type": "float"
        },
        {
         "name": "call",
         "rawType": "float64",
         "type": "float"
        },
        {
         "name": "came",
         "rawType": "float64",
         "type": "float"
        },
        {
         "name": "camera",
         "rawType": "float64",
         "type": "float"
        },
        {
         "name": "cancel",
         "rawType": "float64",
         "type": "float"
        },
        {
         "name": "cannot",
         "rawType": "float64",
         "type": "float"
        },
        {
         "name": "capabl",
         "rawType": "float64",
         "type": "float"
        },
        {
         "name": "card",
         "rawType": "float64",
         "type": "float"
        },
        {
         "name": "care",
         "rawType": "float64",
         "type": "float"
        },
        {
         "name": "carri",
         "rawType": "float64",
         "type": "float"
        },
        {
         "name": "case",
         "rawType": "float64",
         "type": "float"
        },
        {
         "name": "categori",
         "rawType": "float64",
         "type": "float"
        },
        {
         "name": "caus",
         "rawType": "float64",
         "type": "float"
        },
        {
         "name": "certain",
         "rawType": "float64",
         "type": "float"
        },
        {
         "name": "certainli",
         "rawType": "float64",
         "type": "float"
        },
        {
         "name": "chang",
         "rawType": "float64",
         "type": "float"
        },
        {
         "name": "channel",
         "rawType": "float64",
         "type": "float"
        },
        {
         "name": "charg",
         "rawType": "float64",
         "type": "float"
        },
        {
         "name": "charger",
         "rawType": "float64",
         "type": "float"
        },
        {
         "name": "cheap",
         "rawType": "float64",
         "type": "float"
        },
        {
         "name": "cheaper",
         "rawType": "float64",
         "type": "float"
        },
        {
         "name": "check",
         "rawType": "float64",
         "type": "float"
        },
        {
         "name": "child",
         "rawType": "float64",
         "type": "float"
        },
        {
         "name": "children",
         "rawType": "float64",
         "type": "float"
        },
        {
         "name": "choic",
         "rawType": "float64",
         "type": "float"
        },
        {
         "name": "choos",
         "rawType": "float64",
         "type": "float"
        },
        {
         "name": "chose",
         "rawType": "float64",
         "type": "float"
        },
        {
         "name": "christma",
         "rawType": "float64",
         "type": "float"
        },
        {
         "name": "chromecast",
         "rawType": "float64",
         "type": "float"
        },
        {
         "name": "class",
         "rawType": "float64",
         "type": "float"
        },
        {
         "name": "clean",
         "rawType": "float64",
         "type": "float"
        },
        {
         "name": "clear",
         "rawType": "float64",
         "type": "float"
        },
        {
         "name": "clearli",
         "rawType": "float64",
         "type": "float"
        },
        {
         "name": "click",
         "rawType": "float64",
         "type": "float"
        },
        {
         "name": "close",
         "rawType": "float64",
         "type": "float"
        },
        {
         "name": "cloud",
         "rawType": "float64",
         "type": "float"
        },
        {
         "name": "collect",
         "rawType": "float64",
         "type": "float"
        },
        {
         "name": "color",
         "rawType": "float64",
         "type": "float"
        },
        {
         "name": "com",
         "rawType": "float64",
         "type": "float"
        },
        {
         "name": "comcast",
         "rawType": "float64",
         "type": "float"
        },
        {
         "name": "come",
         "rawType": "float64",
         "type": "float"
        },
        {
         "name": "comfort",
         "rawType": "float64",
         "type": "float"
        },
        {
         "name": "command",
         "rawType": "float64",
         "type": "float"
        },
        {
         "name": "comment",
         "rawType": "float64",
         "type": "float"
        },
        {
         "name": "compani",
         "rawType": "float64",
         "type": "float"
        },
        {
         "name": "compar",
         "rawType": "float64",
         "type": "float"
        },
        {
         "name": "comparison",
         "rawType": "float64",
         "type": "float"
        },
        {
         "name": "compet",
         "rawType": "float64",
         "type": "float"
        },
        {
         "name": "competit",
         "rawType": "float64",
         "type": "float"
        },
        {
         "name": "complain",
         "rawType": "float64",
         "type": "float"
        },
        {
         "name": "complaint",
         "rawType": "float64",
         "type": "float"
        },
        {
         "name": "complet",
         "rawType": "float64",
         "type": "float"
        },
        {
         "name": "comput",
         "rawType": "float64",
         "type": "float"
        },
        {
         "name": "con",
         "rawType": "float64",
         "type": "float"
        },
        {
         "name": "concern",
         "rawType": "float64",
         "type": "float"
        },
        {
         "name": "connect",
         "rawType": "float64",
         "type": "float"
        },
        {
         "name": "consid",
         "rawType": "float64",
         "type": "float"
        },
        {
         "name": "consider",
         "rawType": "float64",
         "type": "float"
        },
        {
         "name": "consist",
         "rawType": "float64",
         "type": "float"
        },
        {
         "name": "consol",
         "rawType": "float64",
         "type": "float"
        },
        {
         "name": "consum",
         "rawType": "float64",
         "type": "float"
        },
        {
         "name": "contact",
         "rawType": "float64",
         "type": "float"
        },
        {
         "name": "content",
         "rawType": "float64",
         "type": "float"
        },
        {
         "name": "continu",
         "rawType": "float64",
         "type": "float"
        },
        {
         "name": "contrast",
         "rawType": "float64",
         "type": "float"
        },
        {
         "name": "control",
         "rawType": "float64",
         "type": "float"
        },
        {
         "name": "conveni",
         "rawType": "float64",
         "type": "float"
        },
        {
         "name": "cool",
         "rawType": "float64",
         "type": "float"
        },
        {
         "name": "cord",
         "rawType": "float64",
         "type": "float"
        },
        {
         "name": "core",
         "rawType": "float64",
         "type": "float"
        },
        {
         "name": "cost",
         "rawType": "float64",
         "type": "float"
        },
        {
         "name": "could",
         "rawType": "float64",
         "type": "float"
        },
        {
         "name": "counter",
         "rawType": "float64",
         "type": "float"
        },
        {
         "name": "coupl",
         "rawType": "float64",
         "type": "float"
        },
        {
         "name": "cours",
         "rawType": "float64",
         "type": "float"
        },
        {
         "name": "cover",
         "rawType": "float64",
         "type": "float"
        },
        {
         "name": "coverag",
         "rawType": "float64",
         "type": "float"
        },
        {
         "name": "crash",
         "rawType": "float64",
         "type": "float"
        },
        {
         "name": "crisp",
         "rawType": "float64",
         "type": "float"
        },
        {
         "name": "current",
         "rawType": "float64",
         "type": "float"
        },
        {
         "name": "custom",
         "rawType": "float64",
         "type": "float"
        },
        {
         "name": "cut",
         "rawType": "float64",
         "type": "float"
        },
        {
         "name": "daili",
         "rawType": "float64",
         "type": "float"
        },
        {
         "name": "dark",
         "rawType": "float64",
         "type": "float"
        },
        {
         "name": "date",
         "rawType": "float64",
         "type": "float"
        },
        {
         "name": "daughter",
         "rawType": "float64",
         "type": "float"
        },
        {
         "name": "day",
         "rawType": "float64",
         "type": "float"
        },
        {
         "name": "deal",
         "rawType": "float64",
         "type": "float"
        },
        {
         "name": "decent",
         "rawType": "float64",
         "type": "float"
        },
        {
         "name": "decid",
         "rawType": "float64",
         "type": "float"
        },
        {
         "name": "decis",
         "rawType": "float64",
         "type": "float"
        },
        {
         "name": "decor",
         "rawType": "float64",
         "type": "float"
        },
        {
         "name": "default",
         "rawType": "float64",
         "type": "float"
        },
        {
         "name": "definit",
         "rawType": "float64",
         "type": "float"
        },
        {
         "name": "deliv",
         "rawType": "float64",
         "type": "float"
        },
        {
         "name": "depend",
         "rawType": "float64",
         "type": "float"
        },
        {
         "name": "describ",
         "rawType": "float64",
         "type": "float"
        },
        {
         "name": "descript",
         "rawType": "float64",
         "type": "float"
        },
        {
         "name": "design",
         "rawType": "float64",
         "type": "float"
        },
        {
         "name": "despit",
         "rawType": "float64",
         "type": "float"
        },
        {
         "name": "detail",
         "rawType": "float64",
         "type": "float"
        },
        {
         "name": "devic",
         "rawType": "float64",
         "type": "float"
        },
        {
         "name": "diagon",
         "rawType": "float64",
         "type": "float"
        },
        {
         "name": "die",
         "rawType": "float64",
         "type": "float"
        },
        {
         "name": "differ",
         "rawType": "float64",
         "type": "float"
        },
        {
         "name": "difficult",
         "rawType": "float64",
         "type": "float"
        },
        {
         "name": "digit",
         "rawType": "float64",
         "type": "float"
        },
        {
         "name": "ding",
         "rawType": "float64",
         "type": "float"
        },
        {
         "name": "direct",
         "rawType": "float64",
         "type": "float"
        },
        {
         "name": "directli",
         "rawType": "float64",
         "type": "float"
        },
        {
         "name": "disappoint",
         "rawType": "float64",
         "type": "float"
        },
        {
         "name": "disconnect",
         "rawType": "float64",
         "type": "float"
        },
        {
         "name": "display",
         "rawType": "float64",
         "type": "float"
        },
        {
         "name": "dock",
         "rawType": "float64",
         "type": "float"
        },
        {
         "name": "doesnt",
         "rawType": "float64",
         "type": "float"
        },
        {
         "name": "done",
         "rawType": "float64",
         "type": "float"
        },
        {
         "name": "dot",
         "rawType": "float64",
         "type": "float"
        },
        {
         "name": "doubl",
         "rawType": "float64",
         "type": "float"
        },
        {
         "name": "download",
         "rawType": "float64",
         "type": "float"
        },
        {
         "name": "downsid",
         "rawType": "float64",
         "type": "float"
        },
        {
         "name": "drain",
         "rawType": "float64",
         "type": "float"
        },
        {
         "name": "drive",
         "rawType": "float64",
         "type": "float"
        },
        {
         "name": "drop",
         "rawType": "float64",
         "type": "float"
        },
        {
         "name": "dual",
         "rawType": "float64",
         "type": "float"
        },
        {
         "name": "due",
         "rawType": "float64",
         "type": "float"
        },
        {
         "name": "durabl",
         "rawType": "float64",
         "type": "float"
        },
        {
         "name": "ear",
         "rawType": "float64",
         "type": "float"
        },
        {
         "name": "earbud",
         "rawType": "float64",
         "type": "float"
        },
        {
         "name": "earli",
         "rawType": "float64",
         "type": "float"
        },
        {
         "name": "earlier",
         "rawType": "float64",
         "type": "float"
        },
        {
         "name": "eas",
         "rawType": "float64",
         "type": "float"
        },
        {
         "name": "easi",
         "rawType": "float64",
         "type": "float"
        },
        {
         "name": "easier",
         "rawType": "float64",
         "type": "float"
        },
        {
         "name": "easili",
         "rawType": "float64",
         "type": "float"
        },
        {
         "name": "ebook",
         "rawType": "float64",
         "type": "float"
        },
        {
         "name": "echo",
         "rawType": "float64",
         "type": "float"
        },
        {
         "name": "ecosystem",
         "rawType": "float64",
         "type": "float"
        },
        {
         "name": "edg",
         "rawType": "float64",
         "type": "float"
        },
        {
         "name": "edit",
         "rawType": "float64",
         "type": "float"
        },
        {
         "name": "effect",
         "rawType": "float64",
         "type": "float"
        },
        {
         "name": "either",
         "rawType": "float64",
         "type": "float"
        },
        {
         "name": "electron",
         "rawType": "float64",
         "type": "float"
        },
        {
         "name": "els",
         "rawType": "float64",
         "type": "float"
        },
        {
         "name": "email",
         "rawType": "float64",
         "type": "float"
        },
        {
         "name": "enabl",
         "rawType": "float64",
         "type": "float"
        },
        {
         "name": "end",
         "rawType": "float64",
         "type": "float"
        },
        {
         "name": "enhanc",
         "rawType": "float64",
         "type": "float"
        },
        {
         "name": "enjoy",
         "rawType": "float64",
         "type": "float"
        },
        {
         "name": "enough",
         "rawType": "float64",
         "type": "float"
        },
        {
         "name": "entertain",
         "rawType": "float64",
         "type": "float"
        },
        {
         "name": "entir",
         "rawType": "float64",
         "type": "float"
        },
        {
         "name": "entri",
         "rawType": "float64",
         "type": "float"
        },
        {
         "name": "episod",
         "rawType": "float64",
         "type": "float"
        },
        {
         "name": "especi",
         "rawType": "float64",
         "type": "float"
        },
        {
         "name": "essenti",
         "rawType": "float64",
         "type": "float"
        },
        {
         "name": "etc",
         "rawType": "float64",
         "type": "float"
        },
        {
         "name": "even",
         "rawType": "float64",
         "type": "float"
        },
        {
         "name": "eventu",
         "rawType": "float64",
         "type": "float"
        },
        {
         "name": "ever",
         "rawType": "float64",
         "type": "float"
        },
        {
         "name": "everi",
         "rawType": "float64",
         "type": "float"
        },
        {
         "name": "everyday",
         "rawType": "float64",
         "type": "float"
        },
        {
         "name": "everyon",
         "rawType": "float64",
         "type": "float"
        },
        {
         "name": "everyth",
         "rawType": "float64",
         "type": "float"
        },
        {
         "name": "exact",
         "rawType": "float64",
         "type": "float"
        },
        {
         "name": "exactli",
         "rawType": "float64",
         "type": "float"
        },
        {
         "name": "exampl",
         "rawType": "float64",
         "type": "float"
        },
        {
         "name": "excel",
         "rawType": "float64",
         "type": "float"
        },
        {
         "name": "except",
         "rawType": "float64",
         "type": "float"
        },
        {
         "name": "exist",
         "rawType": "float64",
         "type": "float"
        },
        {
         "name": "expand",
         "rawType": "float64",
         "type": "float"
        },
        {
         "name": "expect",
         "rawType": "float64",
         "type": "float"
        },
        {
         "name": "expens",
         "rawType": "float64",
         "type": "float"
        },
        {
         "name": "experi",
         "rawType": "float64",
         "type": "float"
        },
        {
         "name": "extra",
         "rawType": "float64",
         "type": "float"
        },
        {
         "name": "eye",
         "rawType": "float64",
         "type": "float"
        },
        {
         "name": "fabric",
         "rawType": "float64",
         "type": "float"
        },
        {
         "name": "face",
         "rawType": "float64",
         "type": "float"
        },
        {
         "name": "facebook",
         "rawType": "float64",
         "type": "float"
        },
        {
         "name": "fact",
         "rawType": "float64",
         "type": "float"
        },
        {
         "name": "factor",
         "rawType": "float64",
         "type": "float"
        },
        {
         "name": "fade",
         "rawType": "float64",
         "type": "float"
        },
        {
         "name": "fairli",
         "rawType": "float64",
         "type": "float"
        },
        {
         "name": "fall",
         "rawType": "float64",
         "type": "float"
        },
        {
         "name": "famili",
         "rawType": "float64",
         "type": "float"
        },
        {
         "name": "fan",
         "rawType": "float64",
         "type": "float"
        },
        {
         "name": "fantast",
         "rawType": "float64",
         "type": "float"
        },
        {
         "name": "far",
         "rawType": "float64",
         "type": "float"
        },
        {
         "name": "fast",
         "rawType": "float64",
         "type": "float"
        },
        {
         "name": "faster",
         "rawType": "float64",
         "type": "float"
        },
        {
         "name": "fastest",
         "rawType": "float64",
         "type": "float"
        },
        {
         "name": "favorit",
         "rawType": "float64",
         "type": "float"
        },
        {
         "name": "featur",
         "rawType": "float64",
         "type": "float"
        },
        {
         "name": "feedback",
         "rawType": "float64",
         "type": "float"
        },
        {
         "name": "feel",
         "rawType": "float64",
         "type": "float"
        },
        {
         "name": "felt",
         "rawType": "float64",
         "type": "float"
        },
        {
         "name": "fi",
         "rawType": "float64",
         "type": "float"
        },
        {
         "name": "figur",
         "rawType": "float64",
         "type": "float"
        },
        {
         "name": "file",
         "rawType": "float64",
         "type": "float"
        },
        {
         "name": "final",
         "rawType": "float64",
         "type": "float"
        },
        {
         "name": "find",
         "rawType": "float64",
         "type": "float"
        },
        {
         "name": "fine",
         "rawType": "float64",
         "type": "float"
        },
        {
         "name": "finish",
         "rawType": "float64",
         "type": "float"
        },
        {
         "name": "fire",
         "rawType": "float64",
         "type": "float"
        },
        {
         "name": "firetv",
         "rawType": "float64",
         "type": "float"
        },
        {
         "name": "first",
         "rawType": "float64",
         "type": "float"
        },
        {
         "name": "fit",
         "rawType": "float64",
         "type": "float"
        },
        {
         "name": "fix",
         "rawType": "float64",
         "type": "float"
        },
        {
         "name": "flip",
         "rawType": "float64",
         "type": "float"
        },
        {
         "name": "fold",
         "rawType": "float64",
         "type": "float"
        },
        {
         "name": "follow",
         "rawType": "float64",
         "type": "float"
        },
        {
         "name": "font",
         "rawType": "float64",
         "type": "float"
        },
        {
         "name": "forc",
         "rawType": "float64",
         "type": "float"
        },
        {
         "name": "format",
         "rawType": "float64",
         "type": "float"
        },
        {
         "name": "forward",
         "rawType": "float64",
         "type": "float"
        },
        {
         "name": "found",
         "rawType": "float64",
         "type": "float"
        },
        {
         "name": "free",
         "rawType": "float64",
         "type": "float"
        },
        {
         "name": "freetim",
         "rawType": "float64",
         "type": "float"
        },
        {
         "name": "freez",
         "rawType": "float64",
         "type": "float"
        },
        {
         "name": "friend",
         "rawType": "float64",
         "type": "float"
        },
        {
         "name": "friendli",
         "rawType": "float64",
         "type": "float"
        },
        {
         "name": "front",
         "rawType": "float64",
         "type": "float"
        },
        {
         "name": "frontlitstorag",
         "rawType": "float64",
         "type": "float"
        },
        {
         "name": "frustrat",
         "rawType": "float64",
         "type": "float"
        },
        {
         "name": "full",
         "rawType": "float64",
         "type": "float"
        },
        {
         "name": "fulli",
         "rawType": "float64",
         "type": "float"
        },
        {
         "name": "fun",
         "rawType": "float64",
         "type": "float"
        },
        {
         "name": "function",
         "rawType": "float64",
         "type": "float"
        },
        {
         "name": "futur",
         "rawType": "float64",
         "type": "float"
        },
        {
         "name": "game",
         "rawType": "float64",
         "type": "float"
        },
        {
         "name": "gave",
         "rawType": "float64",
         "type": "float"
        },
        {
         "name": "gb",
         "rawType": "float64",
         "type": "float"
        },
        {
         "name": "gener",
         "rawType": "float64",
         "type": "float"
        },
        {
         "name": "get",
         "rawType": "float64",
         "type": "float"
        },
        {
         "name": "gift",
         "rawType": "float64",
         "type": "float"
        },
        {
         "name": "give",
         "rawType": "float64",
         "type": "float"
        },
        {
         "name": "given",
         "rawType": "float64",
         "type": "float"
        },
        {
         "name": "glad",
         "rawType": "float64",
         "type": "float"
        },
        {
         "name": "glare",
         "rawType": "float64",
         "type": "float"
        },
        {
         "name": "glossi",
         "rawType": "float64",
         "type": "float"
        },
        {
         "name": "go",
         "rawType": "float64",
         "type": "float"
        },
        {
         "name": "goe",
         "rawType": "float64",
         "type": "float"
        },
        {
         "name": "gone",
         "rawType": "float64",
         "type": "float"
        },
        {
         "name": "good",
         "rawType": "float64",
         "type": "float"
        },
        {
         "name": "googl",
         "rawType": "float64",
         "type": "float"
        },
        {
         "name": "got",
         "rawType": "float64",
         "type": "float"
        },
        {
         "name": "gotten",
         "rawType": "float64",
         "type": "float"
        },
        {
         "name": "grab",
         "rawType": "float64",
         "type": "float"
        },
        {
         "name": "grayscal",
         "rawType": "float64",
         "type": "float"
        },
        {
         "name": "great",
         "rawType": "float64",
         "type": "float"
        },
        {
         "name": "grey",
         "rawType": "float64",
         "type": "float"
        },
        {
         "name": "grow",
         "rawType": "float64",
         "type": "float"
        },
        {
         "name": "guess",
         "rawType": "float64",
         "type": "float"
        },
        {
         "name": "guy",
         "rawType": "float64",
         "type": "float"
        },
        {
         "name": "half",
         "rawType": "float64",
         "type": "float"
        },
        {
         "name": "hand",
         "rawType": "float64",
         "type": "float"
        },
        {
         "name": "handl",
         "rawType": "float64",
         "type": "float"
        },
        {
         "name": "hang",
         "rawType": "float64",
         "type": "float"
        },
        {
         "name": "happen",
         "rawType": "float64",
         "type": "float"
        },
        {
         "name": "happi",
         "rawType": "float64",
         "type": "float"
        },
        {
         "name": "hard",
         "rawType": "float64",
         "type": "float"
        },
        {
         "name": "hardwar",
         "rawType": "float64",
         "type": "float"
        },
        {
         "name": "hate",
         "rawType": "float64",
         "type": "float"
        },
        {
         "name": "hbo",
         "rawType": "float64",
         "type": "float"
        },
        {
         "name": "hd",
         "rawType": "float64",
         "type": "float"
        },
        {
         "name": "hd7",
         "rawType": "float64",
         "type": "float"
        },
        {
         "name": "hd8",
         "rawType": "float64",
         "type": "float"
        },
        {
         "name": "hdmi",
         "rawType": "float64",
         "type": "float"
        },
        {
         "name": "hdx",
         "rawType": "float64",
         "type": "float"
        },
        {
         "name": "headphon",
         "rawType": "float64",
         "type": "float"
        },
        {
         "name": "hear",
         "rawType": "float64",
         "type": "float"
        },
        {
         "name": "heavi",
         "rawType": "float64",
         "type": "float"
        },
        {
         "name": "help",
         "rawType": "float64",
         "type": "float"
        },
        {
         "name": "hesit",
         "rawType": "float64",
         "type": "float"
        },
        {
         "name": "high",
         "rawType": "float64",
         "type": "float"
        },
        {
         "name": "higher",
         "rawType": "float64",
         "type": "float"
        },
        {
         "name": "highli",
         "rawType": "float64",
         "type": "float"
        },
        {
         "name": "highlight",
         "rawType": "float64",
         "type": "float"
        },
        {
         "name": "hit",
         "rawType": "float64",
         "type": "float"
        },
        {
         "name": "hockey",
         "rawType": "float64",
         "type": "float"
        },
        {
         "name": "hold",
         "rawType": "float64",
         "type": "float"
        },
        {
         "name": "hole",
         "rawType": "float64",
         "type": "float"
        },
        {
         "name": "home",
         "rawType": "float64",
         "type": "float"
        },
        {
         "name": "honestli",
         "rawType": "float64",
         "type": "float"
        },
        {
         "name": "hook",
         "rawType": "float64",
         "type": "float"
        },
        {
         "name": "hope",
         "rawType": "float64",
         "type": "float"
        },
        {
         "name": "hour",
         "rawType": "float64",
         "type": "float"
        },
        {
         "name": "hous",
         "rawType": "float64",
         "type": "float"
        },
        {
         "name": "howev",
         "rawType": "float64",
         "type": "float"
        },
        {
         "name": "hue",
         "rawType": "float64",
         "type": "float"
        },
        {
         "name": "huge",
         "rawType": "float64",
         "type": "float"
        },
        {
         "name": "hurt",
         "rawType": "float64",
         "type": "float"
        },
        {
         "name": "husband",
         "rawType": "float64",
         "type": "float"
        },
        {
         "name": "idea",
         "rawType": "float64",
         "type": "float"
        },
        {
         "name": "ident",
         "rawType": "float64",
         "type": "float"
        },
        {
         "name": "im",
         "rawType": "float64",
         "type": "float"
        },
        {
         "name": "imag",
         "rawType": "float64",
         "type": "float"
        },
        {
         "name": "imagin",
         "rawType": "float64",
         "type": "float"
        },
        {
         "name": "immedi",
         "rawType": "float64",
         "type": "float"
        },
        {
         "name": "import",
         "rawType": "float64",
         "type": "float"
        },
        {
         "name": "impress",
         "rawType": "float64",
         "type": "float"
        },
        {
         "name": "improv",
         "rawType": "float64",
         "type": "float"
        },
        {
         "name": "inch",
         "rawType": "float64",
         "type": "float"
        },
        {
         "name": "includ",
         "rawType": "float64",
         "type": "float"
        },
        {
         "name": "increas",
         "rawType": "float64",
         "type": "float"
        },
        {
         "name": "incred",
         "rawType": "float64",
         "type": "float"
        },
        {
         "name": "inform",
         "rawType": "float64",
         "type": "float"
        },
        {
         "name": "initi",
         "rawType": "float64",
         "type": "float"
        },
        {
         "name": "ink",
         "rawType": "float64",
         "type": "float"
        },
        {
         "name": "insid",
         "rawType": "float64",
         "type": "float"
        },
        {
         "name": "instal",
         "rawType": "float64",
         "type": "float"
        },
        {
         "name": "instant",
         "rawType": "float64",
         "type": "float"
        },
        {
         "name": "instead",
         "rawType": "float64",
         "type": "float"
        },
        {
         "name": "instruct",
         "rawType": "float64",
         "type": "float"
        },
        {
         "name": "integr",
         "rawType": "float64",
         "type": "float"
        },
        {
         "name": "interest",
         "rawType": "float64",
         "type": "float"
        },
        {
         "name": "interfac",
         "rawType": "float64",
         "type": "float"
        },
        {
         "name": "internet",
         "rawType": "float64",
         "type": "float"
        },
        {
         "name": "invest",
         "rawType": "float64",
         "type": "float"
        },
        {
         "name": "ipad",
         "rawType": "float64",
         "type": "float"
        },
        {
         "name": "iphon",
         "rawType": "float64",
         "type": "float"
        },
        {
         "name": "issu",
         "rawType": "float64",
         "type": "float"
        },
        {
         "name": "item",
         "rawType": "float64",
         "type": "float"
        },
        {
         "name": "ive",
         "rawType": "float64",
         "type": "float"
        },
        {
         "name": "jack",
         "rawType": "float64",
         "type": "float"
        },
        {
         "name": "job",
         "rawType": "float64",
         "type": "float"
        },
        {
         "name": "jump",
         "rawType": "float64",
         "type": "float"
        },
        {
         "name": "keep",
         "rawType": "float64",
         "type": "float"
        },
        {
         "name": "kept",
         "rawType": "float64",
         "type": "float"
        },
        {
         "name": "key",
         "rawType": "float64",
         "type": "float"
        },
        {
         "name": "keyboard",
         "rawType": "float64",
         "type": "float"
        },
        {
         "name": "kid",
         "rawType": "float64",
         "type": "float"
        },
        {
         "name": "kind",
         "rawType": "float64",
         "type": "float"
        },
        {
         "name": "kindl",
         "rawType": "float64",
         "type": "float"
        },
        {
         "name": "kitchen",
         "rawType": "float64",
         "type": "float"
        },
        {
         "name": "knock",
         "rawType": "float64",
         "type": "float"
        },
        {
         "name": "know",
         "rawType": "float64",
         "type": "float"
        },
        {
         "name": "lack",
         "rawType": "float64",
         "type": "float"
        },
        {
         "name": "lag",
         "rawType": "float64",
         "type": "float"
        },
        {
         "name": "landscap",
         "rawType": "float64",
         "type": "float"
        },
        {
         "name": "laptop",
         "rawType": "float64",
         "type": "float"
        },
        {
         "name": "larg",
         "rawType": "float64",
         "type": "float"
        },
        {
         "name": "larger",
         "rawType": "float64",
         "type": "float"
        },
        {
         "name": "last",
         "rawType": "float64",
         "type": "float"
        },
        {
         "name": "late",
         "rawType": "float64",
         "type": "float"
        },
        {
         "name": "later",
         "rawType": "float64",
         "type": "float"
        },
        {
         "name": "latest",
         "rawType": "float64",
         "type": "float"
        },
        {
         "name": "launch",
         "rawType": "float64",
         "type": "float"
        },
        {
         "name": "lay",
         "rawType": "float64",
         "type": "float"
        },
        {
         "name": "learn",
         "rawType": "float64",
         "type": "float"
        },
        {
         "name": "least",
         "rawType": "float64",
         "type": "float"
        },
        {
         "name": "leather",
         "rawType": "float64",
         "type": "float"
        },
        {
         "name": "leav",
         "rawType": "float64",
         "type": "float"
        },
        {
         "name": "led",
         "rawType": "float64",
         "type": "float"
        },
        {
         "name": "left",
         "rawType": "float64",
         "type": "float"
        },
        {
         "name": "less",
         "rawType": "float64",
         "type": "float"
        },
        {
         "name": "let",
         "rawType": "float64",
         "type": "float"
        },
        {
         "name": "level",
         "rawType": "float64",
         "type": "float"
        },
        {
         "name": "librari",
         "rawType": "float64",
         "type": "float"
        },
        {
         "name": "life",
         "rawType": "float64",
         "type": "float"
        },
        {
         "name": "light",
         "rawType": "float64",
         "type": "float"
        },
        {
         "name": "lighter",
         "rawType": "float64",
         "type": "float"
        },
        {
         "name": "like",
         "rawType": "float64",
         "type": "float"
        },
        {
         "name": "limit",
         "rawType": "float64",
         "type": "float"
        },
        {
         "name": "line",
         "rawType": "float64",
         "type": "float"
        },
        {
         "name": "link",
         "rawType": "float64",
         "type": "float"
        },
        {
         "name": "list",
         "rawType": "float64",
         "type": "float"
        },
        {
         "name": "listen",
         "rawType": "float64",
         "type": "float"
        },
        {
         "name": "littl",
         "rawType": "float64",
         "type": "float"
        },
        {
         "name": "live",
         "rawType": "float64",
         "type": "float"
        },
        {
         "name": "load",
         "rawType": "float64",
         "type": "float"
        },
        {
         "name": "local",
         "rawType": "float64",
         "type": "float"
        },
        {
         "name": "locat",
         "rawType": "float64",
         "type": "float"
        },
        {
         "name": "lock",
         "rawType": "float64",
         "type": "float"
        },
        {
         "name": "long",
         "rawType": "float64",
         "type": "float"
        },
        {
         "name": "longer",
         "rawType": "float64",
         "type": "float"
        },
        {
         "name": "look",
         "rawType": "float64",
         "type": "float"
        },
        {
         "name": "loos",
         "rawType": "float64",
         "type": "float"
        },
        {
         "name": "lose",
         "rawType": "float64",
         "type": "float"
        },
        {
         "name": "lost",
         "rawType": "float64",
         "type": "float"
        },
        {
         "name": "lot",
         "rawType": "float64",
         "type": "float"
        },
        {
         "name": "loud",
         "rawType": "float64",
         "type": "float"
        },
        {
         "name": "love",
         "rawType": "float64",
         "type": "float"
        },
        {
         "name": "low",
         "rawType": "float64",
         "type": "float"
        },
        {
         "name": "lower",
         "rawType": "float64",
         "type": "float"
        },
        {
         "name": "lyric",
         "rawType": "float64",
         "type": "float"
        },
        {
         "name": "made",
         "rawType": "float64",
         "type": "float"
        },
        {
         "name": "magnet",
         "rawType": "float64",
         "type": "float"
        },
        {
         "name": "main",
         "rawType": "float64",
         "type": "float"
        },
        {
         "name": "major",
         "rawType": "float64",
         "type": "float"
        },
        {
         "name": "make",
         "rawType": "float64",
         "type": "float"
        },
        {
         "name": "mani",
         "rawType": "float64",
         "type": "float"
        },
        {
         "name": "manual",
         "rawType": "float64",
         "type": "float"
        },
        {
         "name": "market",
         "rawType": "float64",
         "type": "float"
        },
        {
         "name": "materi",
         "rawType": "float64",
         "type": "float"
        },
        {
         "name": "matter",
         "rawType": "float64",
         "type": "float"
        },
        {
         "name": "may",
         "rawType": "float64",
         "type": "float"
        },
        {
         "name": "mayb",
         "rawType": "float64",
         "type": "float"
        },
        {
         "name": "mayday",
         "rawType": "float64",
         "type": "float"
        },
        {
         "name": "mean",
         "rawType": "float64",
         "type": "float"
        },
        {
         "name": "meant",
         "rawType": "float64",
         "type": "float"
        },
        {
         "name": "media",
         "rawType": "float64",
         "type": "float"
        },
        {
         "name": "member",
         "rawType": "float64",
         "type": "float"
        },
        {
         "name": "membership",
         "rawType": "float64",
         "type": "float"
        },
        {
         "name": "memori",
         "rawType": "float64",
         "type": "float"
        },
        {
         "name": "mention",
         "rawType": "float64",
         "type": "float"
        },
        {
         "name": "merlot",
         "rawType": "float64",
         "type": "float"
        },
        {
         "name": "micro",
         "rawType": "float64",
         "type": "float"
        },
        {
         "name": "microphon",
         "rawType": "float64",
         "type": "float"
        },
        {
         "name": "middl",
         "rawType": "float64",
         "type": "float"
        },
        {
         "name": "might",
         "rawType": "float64",
         "type": "float"
        },
        {
         "name": "mind",
         "rawType": "float64",
         "type": "float"
        },
        {
         "name": "mine",
         "rawType": "float64",
         "type": "float"
        },
        {
         "name": "mini",
         "rawType": "float64",
         "type": "float"
        },
        {
         "name": "minim",
         "rawType": "float64",
         "type": "float"
        },
        {
         "name": "minut",
         "rawType": "float64",
         "type": "float"
        },
        {
         "name": "miss",
         "rawType": "float64",
         "type": "float"
        },
        {
         "name": "mobil",
         "rawType": "float64",
         "type": "float"
        },
        {
         "name": "mode",
         "rawType": "float64",
         "type": "float"
        },
        {
         "name": "model",
         "rawType": "float64",
         "type": "float"
        },
        {
         "name": "mom",
         "rawType": "float64",
         "type": "float"
        },
        {
         "name": "money",
         "rawType": "float64",
         "type": "float"
        },
        {
         "name": "month",
         "rawType": "float64",
         "type": "float"
        },
        {
         "name": "morn",
         "rawType": "float64",
         "type": "float"
        },
        {
         "name": "mostli",
         "rawType": "float64",
         "type": "float"
        },
        {
         "name": "move",
         "rawType": "float64",
         "type": "float"
        },
        {
         "name": "movi",
         "rawType": "float64",
         "type": "float"
        },
        {
         "name": "much",
         "rawType": "float64",
         "type": "float"
        },
        {
         "name": "multipl",
         "rawType": "float64",
         "type": "float"
        },
        {
         "name": "music",
         "rawType": "float64",
         "type": "float"
        },
        {
         "name": "must",
         "rawType": "float64",
         "type": "float"
        },
        {
         "name": "name",
         "rawType": "float64",
         "type": "float"
        },
        {
         "name": "navig",
         "rawType": "float64",
         "type": "float"
        },
        {
         "name": "near",
         "rawType": "float64",
         "type": "float"
        },
        {
         "name": "nearli",
         "rawType": "float64",
         "type": "float"
        },
        {
         "name": "need",
         "rawType": "float64",
         "type": "float"
        },
        {
         "name": "neg",
         "rawType": "float64",
         "type": "float"
        },
        {
         "name": "netflix",
         "rawType": "float64",
         "type": "float"
        },
        {
         "name": "network",
         "rawType": "float64",
         "type": "float"
        },
        {
         "name": "never",
         "rawType": "float64",
         "type": "float"
        },
        {
         "name": "new",
         "rawType": "float64",
         "type": "float"
        },
        {
         "name": "newer",
         "rawType": "float64",
         "type": "float"
        },
        {
         "name": "news",
         "rawType": "float64",
         "type": "float"
        },
        {
         "name": "next",
         "rawType": "float64",
         "type": "float"
        },
        {
         "name": "nexu",
         "rawType": "float64",
         "type": "float"
        },
        {
         "name": "nice",
         "rawType": "float64",
         "type": "float"
        },
        {
         "name": "night",
         "rawType": "float64",
         "type": "float"
        },
        {
         "name": "nois",
         "rawType": "float64",
         "type": "float"
        },
        {
         "name": "non",
         "rawType": "float64",
         "type": "float"
        },
        {
         "name": "none",
         "rawType": "float64",
         "type": "float"
        },
        {
         "name": "normal",
         "rawType": "float64",
         "type": "float"
        },
        {
         "name": "note",
         "rawType": "float64",
         "type": "float"
        },
        {
         "name": "noth",
         "rawType": "float64",
         "type": "float"
        },
        {
         "name": "notic",
         "rawType": "float64",
         "type": "float"
        },
        {
         "name": "number",
         "rawType": "float64",
         "type": "float"
        },
        {
         "name": "oasi",
         "rawType": "float64",
         "type": "float"
        },
        {
         "name": "occasion",
         "rawType": "float64",
         "type": "float"
        },
        {
         "name": "offer",
         "rawType": "float64",
         "type": "float"
        },
        {
         "name": "offic",
         "rawType": "float64",
         "type": "float"
        },
        {
         "name": "offlin",
         "rawType": "float64",
         "type": "float"
        },
        {
         "name": "often",
         "rawType": "float64",
         "type": "float"
        },
        {
         "name": "ok",
         "rawType": "float64",
         "type": "float"
        },
        {
         "name": "old",
         "rawType": "float64",
         "type": "float"
        },
        {
         "name": "older",
         "rawType": "float64",
         "type": "float"
        },
        {
         "name": "one",
         "rawType": "float64",
         "type": "float"
        },
        {
         "name": "onlin",
         "rawType": "float64",
         "type": "float"
        },
        {
         "name": "onto",
         "rawType": "float64",
         "type": "float"
        },
        {
         "name": "open",
         "rawType": "float64",
         "type": "float"
        },
        {
         "name": "oper",
         "rawType": "float64",
         "type": "float"
        },
        {
         "name": "opinion",
         "rawType": "float64",
         "type": "float"
        },
        {
         "name": "option",
         "rawType": "float64",
         "type": "float"
        },
        {
         "name": "order",
         "rawType": "float64",
         "type": "float"
        },
        {
         "name": "origami",
         "rawType": "float64",
         "type": "float"
        },
        {
         "name": "origin",
         "rawType": "float64",
         "type": "float"
        },
        {
         "name": "os",
         "rawType": "float64",
         "type": "float"
        },
        {
         "name": "other",
         "rawType": "float64",
         "type": "float"
        },
        {
         "name": "otherwis",
         "rawType": "float64",
         "type": "float"
        },
        {
         "name": "ounc",
         "rawType": "float64",
         "type": "float"
        },
        {
         "name": "ouncesdisplay",
         "rawType": "float64",
         "type": "float"
        },
        {
         "name": "outsid",
         "rawType": "float64",
         "type": "float"
        },
        {
         "name": "outstand",
         "rawType": "float64",
         "type": "float"
        },
        {
         "name": "overal",
         "rawType": "float64",
         "type": "float"
        },
        {
         "name": "own",
         "rawType": "float64",
         "type": "float"
        },
        {
         "name": "owner",
         "rawType": "float64",
         "type": "float"
        },
        {
         "name": "oz",
         "rawType": "float64",
         "type": "float"
        },
        {
         "name": "packag",
         "rawType": "float64",
         "type": "float"
        },
        {
         "name": "page",
         "rawType": "float64",
         "type": "float"
        },
        {
         "name": "paid",
         "rawType": "float64",
         "type": "float"
        },
        {
         "name": "pair",
         "rawType": "float64",
         "type": "float"
        },
        {
         "name": "pandora",
         "rawType": "float64",
         "type": "float"
        },
        {
         "name": "paper",
         "rawType": "float64",
         "type": "float"
        },
        {
         "name": "paperwhit",
         "rawType": "float64",
         "type": "float"
        },
        {
         "name": "parent",
         "rawType": "float64",
         "type": "float"
        },
        {
         "name": "part",
         "rawType": "float64",
         "type": "float"
        },
        {
         "name": "parti",
         "rawType": "float64",
         "type": "float"
        },
        {
         "name": "particularli",
         "rawType": "float64",
         "type": "float"
        },
        {
         "name": "past",
         "rawType": "float64",
         "type": "float"
        },
        {
         "name": "pay",
         "rawType": "float64",
         "type": "float"
        },
        {
         "name": "peopl",
         "rawType": "float64",
         "type": "float"
        },
        {
         "name": "per",
         "rawType": "float64",
         "type": "float"
        },
        {
         "name": "perfect",
         "rawType": "float64",
         "type": "float"
        },
        {
         "name": "perfectli",
         "rawType": "float64",
         "type": "float"
        },
        {
         "name": "perform",
         "rawType": "float64",
         "type": "float"
        },
        {
         "name": "period",
         "rawType": "float64",
         "type": "float"
        },
        {
         "name": "person",
         "rawType": "float64",
         "type": "float"
        },
        {
         "name": "perspect",
         "rawType": "float64",
         "type": "float"
        },
        {
         "name": "philip",
         "rawType": "float64",
         "type": "float"
        },
        {
         "name": "phone",
         "rawType": "float64",
         "type": "float"
        },
        {
         "name": "photo",
         "rawType": "float64",
         "type": "float"
        },
        {
         "name": "physic",
         "rawType": "float64",
         "type": "float"
        },
        {
         "name": "pick",
         "rawType": "float64",
         "type": "float"
        },
        {
         "name": "pictur",
         "rawType": "float64",
         "type": "float"
        },
        {
         "name": "piec",
         "rawType": "float64",
         "type": "float"
        },
        {
         "name": "pixel",
         "rawType": "float64",
         "type": "float"
        },
        {
         "name": "place",
         "rawType": "float64",
         "type": "float"
        },
        {
         "name": "plan",
         "rawType": "float64",
         "type": "float"
        },
        {
         "name": "plastic",
         "rawType": "float64",
         "type": "float"
        },
        {
         "name": "platform",
         "rawType": "float64",
         "type": "float"
        },
        {
         "name": "play",
         "rawType": "float64",
         "type": "float"
        },
        {
         "name": "playback",
         "rawType": "float64",
         "type": "float"
        },
        {
         "name": "player",
         "rawType": "float64",
         "type": "float"
        },
        {
         "name": "pleas",
         "rawType": "float64",
         "type": "float"
        },
        {
         "name": "plenti",
         "rawType": "float64",
         "type": "float"
        },
        {
         "name": "plex",
         "rawType": "float64",
         "type": "float"
        },
        {
         "name": "plu",
         "rawType": "float64",
         "type": "float"
        },
        {
         "name": "plug",
         "rawType": "float64",
         "type": "float"
        },
        {
         "name": "point",
         "rawType": "float64",
         "type": "float"
        },
        {
         "name": "pop",
         "rawType": "float64",
         "type": "float"
        },
        {
         "name": "popul",
         "rawType": "float64",
         "type": "float"
        },
        {
         "name": "popular",
         "rawType": "float64",
         "type": "float"
        },
        {
         "name": "port",
         "rawType": "float64",
         "type": "float"
        },
        {
         "name": "portabl",
         "rawType": "float64",
         "type": "float"
        },
        {
         "name": "portrait",
         "rawType": "float64",
         "type": "float"
        },
        {
         "name": "posit",
         "rawType": "float64",
         "type": "float"
        },
        {
         "name": "possibl",
         "rawType": "float64",
         "type": "float"
        },
        {
         "name": "post",
         "rawType": "float64",
         "type": "float"
        },
        {
         "name": "power",
         "rawType": "float64",
         "type": "float"
        },
        {
         "name": "ppi",
         "rawType": "float64",
         "type": "float"
        },
        {
         "name": "prefer",
         "rawType": "float64",
         "type": "float"
        },
        {
         "name": "present",
         "rawType": "float64",
         "type": "float"
        },
        {
         "name": "press",
         "rawType": "float64",
         "type": "float"
        },
        {
         "name": "pretti",
         "rawType": "float64",
         "type": "float"
        },
        {
         "name": "previou",
         "rawType": "float64",
         "type": "float"
        },
        {
         "name": "price",
         "rawType": "float64",
         "type": "float"
        },
        {
         "name": "primarili",
         "rawType": "float64",
         "type": "float"
        },
        {
         "name": "prime",
         "rawType": "float64",
         "type": "float"
        },
        {
         "name": "print",
         "rawType": "float64",
         "type": "float"
        },
        {
         "name": "pro",
         "rawType": "float64",
         "type": "float"
        },
        {
         "name": "probabl",
         "rawType": "float64",
         "type": "float"
        },
        {
         "name": "problem",
         "rawType": "float64",
         "type": "float"
        },
        {
         "name": "process",
         "rawType": "float64",
         "type": "float"
        },
        {
         "name": "processor",
         "rawType": "float64",
         "type": "float"
        },
        {
         "name": "product",
         "rawType": "float64",
         "type": "float"
        },
        {
         "name": "program",
         "rawType": "float64",
         "type": "float"
        },
        {
         "name": "protect",
         "rawType": "float64",
         "type": "float"
        },
        {
         "name": "protector",
         "rawType": "float64",
         "type": "float"
        },
        {
         "name": "provid",
         "rawType": "float64",
         "type": "float"
        },
        {
         "name": "puck",
         "rawType": "float64",
         "type": "float"
        },
        {
         "name": "pull",
         "rawType": "float64",
         "type": "float"
        },
        {
         "name": "purchas",
         "rawType": "float64",
         "type": "float"
        },
        {
         "name": "purpos",
         "rawType": "float64",
         "type": "float"
        },
        {
         "name": "push",
         "rawType": "float64",
         "type": "float"
        },
        {
         "name": "put",
         "rawType": "float64",
         "type": "float"
        },
        {
         "name": "quad",
         "rawType": "float64",
         "type": "float"
        },
        {
         "name": "qualiti",
         "rawType": "float64",
         "type": "float"
        },
        {
         "name": "question",
         "rawType": "float64",
         "type": "float"
        },
        {
         "name": "quick",
         "rawType": "float64",
         "type": "float"
        },
        {
         "name": "quickli",
         "rawType": "float64",
         "type": "float"
        },
        {
         "name": "quit",
         "rawType": "float64",
         "type": "float"
        },
        {
         "name": "radio",
         "rawType": "float64",
         "type": "float"
        },
        {
         "name": "rang",
         "rawType": "float64",
         "type": "float"
        },
        {
         "name": "rate",
         "rawType": "float64",
         "type": "float"
        },
        {
         "name": "rather",
         "rawType": "float64",
         "type": "float"
        },
        {
         "name": "ratio",
         "rawType": "float64",
         "type": "float"
        },
        {
         "name": "ray",
         "rawType": "float64",
         "type": "float"
        },
        {
         "name": "read",
         "rawType": "float64",
         "type": "float"
        },
        {
         "name": "reader",
         "rawType": "float64",
         "type": "float"
        },
        {
         "name": "readi",
         "rawType": "float64",
         "type": "float"
        },
        {
         "name": "real",
         "rawType": "float64",
         "type": "float"
        },
        {
         "name": "realiz",
         "rawType": "float64",
         "type": "float"
        },
        {
         "name": "realli",
         "rawType": "float64",
         "type": "float"
        },
        {
         "name": "rear",
         "rawType": "float64",
         "type": "float"
        },
        {
         "name": "reason",
         "rawType": "float64",
         "type": "float"
        },
        {
         "name": "reboot",
         "rawType": "float64",
         "type": "float"
        },
        {
         "name": "receiv",
         "rawType": "float64",
         "type": "float"
        },
        {
         "name": "recent",
         "rawType": "float64",
         "type": "float"
        },
        {
         "name": "recharg",
         "rawType": "float64",
         "type": "float"
        },
        {
         "name": "recogn",
         "rawType": "float64",
         "type": "float"
        },
        {
         "name": "recognit",
         "rawType": "float64",
         "type": "float"
        },
        {
         "name": "recommend",
         "rawType": "float64",
         "type": "float"
        },
        {
         "name": "reduc",
         "rawType": "float64",
         "type": "float"
        },
        {
         "name": "refurbish",
         "rawType": "float64",
         "type": "float"
        },
        {
         "name": "regret",
         "rawType": "float64",
         "type": "float"
        },
        {
         "name": "regular",
         "rawType": "float64",
         "type": "float"
        },
        {
         "name": "releas",
         "rawType": "float64",
         "type": "float"
        },
        {
         "name": "rememb",
         "rawType": "float64",
         "type": "float"
        },
        {
         "name": "remot",
         "rawType": "float64",
         "type": "float"
        },
        {
         "name": "remov",
         "rawType": "float64",
         "type": "float"
        },
        {
         "name": "rent",
         "rawType": "float64",
         "type": "float"
        },
        {
         "name": "replac",
         "rawType": "float64",
         "type": "float"
        },
        {
         "name": "report",
         "rawType": "float64",
         "type": "float"
        },
        {
         "name": "request",
         "rawType": "float64",
         "type": "float"
        },
        {
         "name": "requir",
         "rawType": "float64",
         "type": "float"
        },
        {
         "name": "research",
         "rawType": "float64",
         "type": "float"
        },
        {
         "name": "resolut",
         "rawType": "float64",
         "type": "float"
        },
        {
         "name": "respond",
         "rawType": "float64",
         "type": "float"
        },
        {
         "name": "respons",
         "rawType": "float64",
         "type": "float"
        },
        {
         "name": "result",
         "rawType": "float64",
         "type": "float"
        },
        {
         "name": "return",
         "rawType": "float64",
         "type": "float"
        },
        {
         "name": "review",
         "rawType": "float64",
         "type": "float"
        },
        {
         "name": "ridicul",
         "rawType": "float64",
         "type": "float"
        },
        {
         "name": "right",
         "rawType": "float64",
         "type": "float"
        },
        {
         "name": "ring",
         "rawType": "float64",
         "type": "float"
        },
        {
         "name": "roku",
         "rawType": "float64",
         "type": "float"
        },
        {
         "name": "room",
         "rawType": "float64",
         "type": "float"
        },
        {
         "name": "rubber",
         "rawType": "float64",
         "type": "float"
        },
        {
         "name": "run",
         "rawType": "float64",
         "type": "float"
        },
        {
         "name": "safe",
         "rawType": "float64",
         "type": "float"
        },
        {
         "name": "said",
         "rawType": "float64",
         "type": "float"
        },
        {
         "name": "sale",
         "rawType": "float64",
         "type": "float"
        },
        {
         "name": "samsung",
         "rawType": "float64",
         "type": "float"
        },
        {
         "name": "sat",
         "rawType": "float64",
         "type": "float"
        },
        {
         "name": "save",
         "rawType": "float64",
         "type": "float"
        },
        {
         "name": "saver",
         "rawType": "float64",
         "type": "float"
        },
        {
         "name": "say",
         "rawType": "float64",
         "type": "float"
        },
        {
         "name": "scratch",
         "rawType": "float64",
         "type": "float"
        },
        {
         "name": "screen",
         "rawType": "float64",
         "type": "float"
        },
        {
         "name": "scroll",
         "rawType": "float64",
         "type": "float"
        },
        {
         "name": "sd",
         "rawType": "float64",
         "type": "float"
        },
        {
         "name": "search",
         "rawType": "float64",
         "type": "float"
        },
        {
         "name": "season",
         "rawType": "float64",
         "type": "float"
        },
        {
         "name": "second",
         "rawType": "float64",
         "type": "float"
        },
        {
         "name": "section",
         "rawType": "float64",
         "type": "float"
        },
        {
         "name": "secur",
         "rawType": "float64",
         "type": "float"
        },
        {
         "name": "see",
         "rawType": "float64",
         "type": "float"
        },
        {
         "name": "seem",
         "rawType": "float64",
         "type": "float"
        },
        {
         "name": "seen",
         "rawType": "float64",
         "type": "float"
        },
        {
         "name": "select",
         "rawType": "float64",
         "type": "float"
        },
        {
         "name": "send",
         "rawType": "float64",
         "type": "float"
        },
        {
         "name": "sensor",
         "rawType": "float64",
         "type": "float"
        },
        {
         "name": "separ",
         "rawType": "float64",
         "type": "float"
        },
        {
         "name": "seri",
         "rawType": "float64",
         "type": "float"
        },
        {
         "name": "servic",
         "rawType": "float64",
         "type": "float"
        },
        {
         "name": "set",
         "rawType": "float64",
         "type": "float"
        },
        {
         "name": "setup",
         "rawType": "float64",
         "type": "float"
        },
        {
         "name": "sever",
         "rawType": "float64",
         "type": "float"
        },
        {
         "name": "share",
         "rawType": "float64",
         "type": "float"
        },
        {
         "name": "sharp",
         "rawType": "float64",
         "type": "float"
        },
        {
         "name": "shell",
         "rawType": "float64",
         "type": "float"
        },
        {
         "name": "shield",
         "rawType": "float64",
         "type": "float"
        },
        {
         "name": "shift",
         "rawType": "float64",
         "type": "float"
        },
        {
         "name": "ship",
         "rawType": "float64",
         "type": "float"
        },
        {
         "name": "shop",
         "rawType": "float64",
         "type": "float"
        },
        {
         "name": "short",
         "rawType": "float64",
         "type": "float"
        },
        {
         "name": "show",
         "rawType": "float64",
         "type": "float"
        },
        {
         "name": "side",
         "rawType": "float64",
         "type": "float"
        },
        {
         "name": "sign",
         "rawType": "float64",
         "type": "float"
        },
        {
         "name": "silicon",
         "rawType": "float64",
         "type": "float"
        },
        {
         "name": "similar",
         "rawType": "float64",
         "type": "float"
        },
        {
         "name": "simpl",
         "rawType": "float64",
         "type": "float"
        },
        {
         "name": "simpli",
         "rawType": "float64",
         "type": "float"
        },
        {
         "name": "sinc",
         "rawType": "float64",
         "type": "float"
        },
        {
         "name": "singl",
         "rawType": "float64",
         "type": "float"
        },
        {
         "name": "sit",
         "rawType": "float64",
         "type": "float"
        },
        {
         "name": "site",
         "rawType": "float64",
         "type": "float"
        },
        {
         "name": "size",
         "rawType": "float64",
         "type": "float"
        },
        {
         "name": "skill",
         "rawType": "float64",
         "type": "float"
        },
        {
         "name": "skin",
         "rawType": "float64",
         "type": "float"
        },
        {
         "name": "sleep",
         "rawType": "float64",
         "type": "float"
        },
        {
         "name": "slightli",
         "rawType": "float64",
         "type": "float"
        },
        {
         "name": "sling",
         "rawType": "float64",
         "type": "float"
        },
        {
         "name": "slot",
         "rawType": "float64",
         "type": "float"
        },
        {
         "name": "slow",
         "rawType": "float64",
         "type": "float"
        },
        {
         "name": "small",
         "rawType": "float64",
         "type": "float"
        },
        {
         "name": "smaller",
         "rawType": "float64",
         "type": "float"
        },
        {
         "name": "smart",
         "rawType": "float64",
         "type": "float"
        },
        {
         "name": "smartphon",
         "rawType": "float64",
         "type": "float"
        },
        {
         "name": "smooth",
         "rawType": "float64",
         "type": "float"
        },
        {
         "name": "snapdragon",
         "rawType": "float64",
         "type": "float"
        },
        {
         "name": "snug",
         "rawType": "float64",
         "type": "float"
        },
        {
         "name": "softwar",
         "rawType": "float64",
         "type": "float"
        },
        {
         "name": "solid",
         "rawType": "float64",
         "type": "float"
        },
        {
         "name": "solut",
         "rawType": "float64",
         "type": "float"
        },
        {
         "name": "someon",
         "rawType": "float64",
         "type": "float"
        },
        {
         "name": "someth",
         "rawType": "float64",
         "type": "float"
        },
        {
         "name": "sometim",
         "rawType": "float64",
         "type": "float"
        },
        {
         "name": "somewher",
         "rawType": "float64",
         "type": "float"
        },
        {
         "name": "son",
         "rawType": "float64",
         "type": "float"
        },
        {
         "name": "song",
         "rawType": "float64",
         "type": "float"
        },
        {
         "name": "soon",
         "rawType": "float64",
         "type": "float"
        },
        {
         "name": "sort",
         "rawType": "float64",
         "type": "float"
        },
        {
         "name": "sound",
         "rawType": "float64",
         "type": "float"
        },
        {
         "name": "speak",
         "rawType": "float64",
         "type": "float"
        },
        {
         "name": "speaker",
         "rawType": "float64",
         "type": "float"
        },
        {
         "name": "spec",
         "rawType": "float64",
         "type": "float"
        },
        {
         "name": "special",
         "rawType": "float64",
         "type": "float"
        },
        {
         "name": "specif",
         "rawType": "float64",
         "type": "float"
        },
        {
         "name": "speed",
         "rawType": "float64",
         "type": "float"
        },
        {
         "name": "spend",
         "rawType": "float64",
         "type": "float"
        },
        {
         "name": "spent",
         "rawType": "float64",
         "type": "float"
        },
        {
         "name": "spotifi",
         "rawType": "float64",
         "type": "float"
        },
        {
         "name": "stand",
         "rawType": "float64",
         "type": "float"
        },
        {
         "name": "standard",
         "rawType": "float64",
         "type": "float"
        },
        {
         "name": "star",
         "rawType": "float64",
         "type": "float"
        },
        {
         "name": "start",
         "rawType": "float64",
         "type": "float"
        },
        {
         "name": "station",
         "rawType": "float64",
         "type": "float"
        },
        {
         "name": "stationari",
         "rawType": "float64",
         "type": "float"
        },
        {
         "name": "stay",
         "rawType": "float64",
         "type": "float"
        },
        {
         "name": "step",
         "rawType": "float64",
         "type": "float"
        },
        {
         "name": "stereo",
         "rawType": "float64",
         "type": "float"
        },
        {
         "name": "stick",
         "rawType": "float64",
         "type": "float"
        },
        {
         "name": "still",
         "rawType": "float64",
         "type": "float"
        },
        {
         "name": "stop",
         "rawType": "float64",
         "type": "float"
        },
        {
         "name": "storag",
         "rawType": "float64",
         "type": "float"
        },
        {
         "name": "store",
         "rawType": "float64",
         "type": "float"
        },
        {
         "name": "stream",
         "rawType": "float64",
         "type": "float"
        },
        {
         "name": "streamer",
         "rawType": "float64",
         "type": "float"
        },
        {
         "name": "stretch",
         "rawType": "float64",
         "type": "float"
        },
        {
         "name": "strong",
         "rawType": "float64",
         "type": "float"
        },
        {
         "name": "stuff",
         "rawType": "float64",
         "type": "float"
        },
        {
         "name": "sturdi",
         "rawType": "float64",
         "type": "float"
        },
        {
         "name": "style",
         "rawType": "float64",
         "type": "float"
        },
        {
         "name": "subscript",
         "rawType": "float64",
         "type": "float"
        },
        {
         "name": "suggest",
         "rawType": "float64",
         "type": "float"
        },
        {
         "name": "suit",
         "rawType": "float64",
         "type": "float"
        },
        {
         "name": "summari",
         "rawType": "float64",
         "type": "float"
        },
        {
         "name": "sunlight",
         "rawType": "float64",
         "type": "float"
        },
        {
         "name": "super",
         "rawType": "float64",
         "type": "float"
        },
        {
         "name": "suppli",
         "rawType": "float64",
         "type": "float"
        },
        {
         "name": "support",
         "rawType": "float64",
         "type": "float"
        },
        {
         "name": "suppos",
         "rawType": "float64",
         "type": "float"
        },
        {
         "name": "sure",
         "rawType": "float64",
         "type": "float"
        },
        {
         "name": "surf",
         "rawType": "float64",
         "type": "float"
        },
        {
         "name": "surpris",
         "rawType": "float64",
         "type": "float"
        },
        {
         "name": "surround",
         "rawType": "float64",
         "type": "float"
        },
        {
         "name": "swipe",
         "rawType": "float64",
         "type": "float"
        },
        {
         "name": "switch",
         "rawType": "float64",
         "type": "float"
        },
        {
         "name": "sync",
         "rawType": "float64",
         "type": "float"
        },
        {
         "name": "system",
         "rawType": "float64",
         "type": "float"
        },
        {
         "name": "tab",
         "rawType": "float64",
         "type": "float"
        },
        {
         "name": "tabl",
         "rawType": "float64",
         "type": "float"
        },
        {
         "name": "tablet",
         "rawType": "float64",
         "type": "float"
        },
        {
         "name": "take",
         "rawType": "float64",
         "type": "float"
        },
        {
         "name": "talk",
         "rawType": "float64",
         "type": "float"
        },
        {
         "name": "tap",
         "rawType": "float64",
         "type": "float"
        },
        {
         "name": "tech",
         "rawType": "float64",
         "type": "float"
        },
        {
         "name": "technic",
         "rawType": "float64",
         "type": "float"
        },
        {
         "name": "technolog",
         "rawType": "float64",
         "type": "float"
        },
        {
         "name": "tell",
         "rawType": "float64",
         "type": "float"
        },
        {
         "name": "term",
         "rawType": "float64",
         "type": "float"
        },
        {
         "name": "terribl",
         "rawType": "float64",
         "type": "float"
        },
        {
         "name": "test",
         "rawType": "float64",
         "type": "float"
        },
        {
         "name": "text",
         "rawType": "float64",
         "type": "float"
        },
        {
         "name": "textur",
         "rawType": "float64",
         "type": "float"
        },
        {
         "name": "thank",
         "rawType": "float64",
         "type": "float"
        },
        {
         "name": "thin",
         "rawType": "float64",
         "type": "float"
        },
        {
         "name": "thing",
         "rawType": "float64",
         "type": "float"
        },
        {
         "name": "think",
         "rawType": "float64",
         "type": "float"
        },
        {
         "name": "third",
         "rawType": "float64",
         "type": "float"
        },
        {
         "name": "though",
         "rawType": "float64",
         "type": "float"
        },
        {
         "name": "thought",
         "rawType": "float64",
         "type": "float"
        },
        {
         "name": "three",
         "rawType": "float64",
         "type": "float"
        },
        {
         "name": "throughout",
         "rawType": "float64",
         "type": "float"
        },
        {
         "name": "throw",
         "rawType": "float64",
         "type": "float"
        },
        {
         "name": "tight",
         "rawType": "float64",
         "type": "float"
        },
        {
         "name": "time",
         "rawType": "float64",
         "type": "float"
        },
        {
         "name": "timer",
         "rawType": "float64",
         "type": "float"
        },
        {
         "name": "tini",
         "rawType": "float64",
         "type": "float"
        },
        {
         "name": "tip",
         "rawType": "float64",
         "type": "float"
        },
        {
         "name": "titl",
         "rawType": "float64",
         "type": "float"
        },
        {
         "name": "today",
         "rawType": "float64",
         "type": "float"
        },
        {
         "name": "ton",
         "rawType": "float64",
         "type": "float"
        },
        {
         "name": "took",
         "rawType": "float64",
         "type": "float"
        },
        {
         "name": "tool",
         "rawType": "float64",
         "type": "float"
        },
        {
         "name": "tooth",
         "rawType": "float64",
         "type": "float"
        },
        {
         "name": "top",
         "rawType": "float64",
         "type": "float"
        },
        {
         "name": "total",
         "rawType": "float64",
         "type": "float"
        },
        {
         "name": "touch",
         "rawType": "float64",
         "type": "float"
        },
        {
         "name": "touchscreen",
         "rawType": "float64",
         "type": "float"
        },
        {
         "name": "travel",
         "rawType": "float64",
         "type": "float"
        },
        {
         "name": "tri",
         "rawType": "float64",
         "type": "float"
        },
        {
         "name": "troubl",
         "rawType": "float64",
         "type": "float"
        },
        {
         "name": "true",
         "rawType": "float64",
         "type": "float"
        },
        {
         "name": "turn",
         "rawType": "float64",
         "type": "float"
        },
        {
         "name": "tv",
         "rawType": "float64",
         "type": "float"
        },
        {
         "name": "two",
         "rawType": "float64",
         "type": "float"
        },
        {
         "name": "type",
         "rawType": "float64",
         "type": "float"
        },
        {
         "name": "typic",
         "rawType": "float64",
         "type": "float"
        },
        {
         "name": "understand",
         "rawType": "float64",
         "type": "float"
        },
        {
         "name": "unfortun",
         "rawType": "float64",
         "type": "float"
        },
        {
         "name": "unit",
         "rawType": "float64",
         "type": "float"
        },
        {
         "name": "unless",
         "rawType": "float64",
         "type": "float"
        },
        {
         "name": "unlik",
         "rawType": "float64",
         "type": "float"
        },
        {
         "name": "unlimit",
         "rawType": "float64",
         "type": "float"
        },
        {
         "name": "unlock",
         "rawType": "float64",
         "type": "float"
        },
        {
         "name": "updat",
         "rawType": "float64",
         "type": "float"
        },
        {
         "name": "upgrad",
         "rawType": "float64",
         "type": "float"
        },
        {
         "name": "us",
         "rawType": "float64",
         "type": "float"
        },
        {
         "name": "usabl",
         "rawType": "float64",
         "type": "float"
        },
        {
         "name": "usb",
         "rawType": "float64",
         "type": "float"
        },
        {
         "name": "use",
         "rawType": "float64",
         "type": "float"
        },
        {
         "name": "user",
         "rawType": "float64",
         "type": "float"
        },
        {
         "name": "usual",
         "rawType": "float64",
         "type": "float"
        },
        {
         "name": "valu",
         "rawType": "float64",
         "type": "float"
        },
        {
         "name": "variou",
         "rawType": "float64",
         "type": "float"
        },
        {
         "name": "version",
         "rawType": "float64",
         "type": "float"
        },
        {
         "name": "versu",
         "rawType": "float64",
         "type": "float"
        },
        {
         "name": "vevo",
         "rawType": "float64",
         "type": "float"
        },
        {
         "name": "via",
         "rawType": "float64",
         "type": "float"
        },
        {
         "name": "vibrant",
         "rawType": "float64",
         "type": "float"
        },
        {
         "name": "video",
         "rawType": "float64",
         "type": "float"
        },
        {
         "name": "view",
         "rawType": "float64",
         "type": "float"
        },
        {
         "name": "voic",
         "rawType": "float64",
         "type": "float"
        },
        {
         "name": "volum",
         "rawType": "float64",
         "type": "float"
        },
        {
         "name": "voyag",
         "rawType": "float64",
         "type": "float"
        },
        {
         "name": "vs",
         "rawType": "float64",
         "type": "float"
        },
        {
         "name": "wait",
         "rawType": "float64",
         "type": "float"
        },
        {
         "name": "wake",
         "rawType": "float64",
         "type": "float"
        },
        {
         "name": "want",
         "rawType": "float64",
         "type": "float"
        },
        {
         "name": "watch",
         "rawType": "float64",
         "type": "float"
        },
        {
         "name": "way",
         "rawType": "float64",
         "type": "float"
        },
        {
         "name": "wear",
         "rawType": "float64",
         "type": "float"
        },
        {
         "name": "weather",
         "rawType": "float64",
         "type": "float"
        },
        {
         "name": "web",
         "rawType": "float64",
         "type": "float"
        },
        {
         "name": "week",
         "rawType": "float64",
         "type": "float"
        },
        {
         "name": "weight",
         "rawType": "float64",
         "type": "float"
        },
        {
         "name": "well",
         "rawType": "float64",
         "type": "float"
        },
        {
         "name": "went",
         "rawType": "float64",
         "type": "float"
        },
        {
         "name": "whatev",
         "rawType": "float64",
         "type": "float"
        },
        {
         "name": "whether",
         "rawType": "float64",
         "type": "float"
        },
        {
         "name": "white",
         "rawType": "float64",
         "type": "float"
        },
        {
         "name": "whole",
         "rawType": "float64",
         "type": "float"
        },
        {
         "name": "wi",
         "rawType": "float64",
         "type": "float"
        },
        {
         "name": "wife",
         "rawType": "float64",
         "type": "float"
        },
        {
         "name": "wifi",
         "rawType": "float64",
         "type": "float"
        },
        {
         "name": "win",
         "rawType": "float64",
         "type": "float"
        },
        {
         "name": "wireless",
         "rawType": "float64",
         "type": "float"
        },
        {
         "name": "wish",
         "rawType": "float64",
         "type": "float"
        },
        {
         "name": "within",
         "rawType": "float64",
         "type": "float"
        },
        {
         "name": "without",
         "rawType": "float64",
         "type": "float"
        },
        {
         "name": "wonder",
         "rawType": "float64",
         "type": "float"
        },
        {
         "name": "word",
         "rawType": "float64",
         "type": "float"
        },
        {
         "name": "work",
         "rawType": "float64",
         "type": "float"
        },
        {
         "name": "world",
         "rawType": "float64",
         "type": "float"
        },
        {
         "name": "worri",
         "rawType": "float64",
         "type": "float"
        },
        {
         "name": "worth",
         "rawType": "float64",
         "type": "float"
        },
        {
         "name": "would",
         "rawType": "float64",
         "type": "float"
        },
        {
         "name": "write",
         "rawType": "float64",
         "type": "float"
        },
        {
         "name": "wrong",
         "rawType": "float64",
         "type": "float"
        },
        {
         "name": "xbox",
         "rawType": "float64",
         "type": "float"
        },
        {
         "name": "ye",
         "rawType": "float64",
         "type": "float"
        },
        {
         "name": "year",
         "rawType": "float64",
         "type": "float"
        },
        {
         "name": "yet",
         "rawType": "float64",
         "type": "float"
        },
        {
         "name": "youll",
         "rawType": "float64",
         "type": "float"
        },
        {
         "name": "youtub",
         "rawType": "float64",
         "type": "float"
        }
       ],
       "ref": "39a6feb4-94a0-4182-94a9-98b8fcc91b41",
       "rows": [
        [
         "0",
         "0.0",
         "0.0",
         "0.0",
         "0.0",
         "0.0",
         "0.0",
         "0.0",
         "0.0",
         "0.0",
         "0.0",
         "0.0",
         "0.0",
         "0.0",
         "0.0",
         "0.0",
         "0.0",
         "0.0",
         "0.0",
         "0.1059099191461716",
         "0.0",
         "0.0",
         "0.0",
         "0.0",
         "0.0",
         "0.0",
         "0.0",
         "0.0",
         "0.0",
         "0.0",
         "0.0",
         "0.12113193990692493",
         "0.0",
         "0.0",
         "0.0",
         "0.0",
         "0.0",
         "0.0",
         "0.0",
         "0.0",
         "0.0",
         "0.0",
         "0.0",
         "0.0",
         "0.0",
         "0.0",
         "0.0",
         "0.0",
         "0.0",
         "0.11031679488348914",
         "0.0",
         "0.0",
         "0.0",
         "0.0",
         "0.0",
         "0.0",
         "0.0",
         "0.0",
         "0.0",
         "0.0",
         "0.0",
         "0.06192898729739039",
         "0.0",
         "0.084621171502298",
         "0.0",
         "0.048313714315301355",
         "0.0",
         "0.0",
         "0.0",
         "0.0",
         "0.0",
         "0.0",
         "0.0",
         "0.0",
         "0.0",
         "0.0",
         "0.0",
         "0.0",
         "0.0",
         "0.0",
         "0.0",
         "0.0",
         "0.0",
         "0.0",
         "0.0",
         "0.0",
         "0.0",
         "0.0",
         "0.0",
         "0.0",
         "0.0",
         "0.0",
         "0.0",
         "0.0",
         "0.0",
         "0.0",
         "0.0",
         "0.0",
         "0.0",
         "0.0",
         "0.0",
         "0.0",
         "0.12322502140012319",
         "0.0",
         "0.0",
         "0.0",
         "0.0",
         "0.0",
         "0.0",
         "0.0",
         "0.0",
         "0.0",
         "0.0",
         "0.0",
         "0.0",
         "0.0",
         "0.0",
         "0.0",
         "0.0",
         "0.0",
         "0.0",
         "0.0",
         "0.0",
         "0.0",
         "0.0",
         "0.0",
         "0.0",
         "0.0",
         "0.0",
         "0.0",
         "0.0",
         "0.0",
         "0.0",
         "0.0",
         "0.0",
         "0.0",
         "0.0",
         "0.0",
         "0.0",
         "0.0",
         "0.0",
         "0.0",
         "0.0",
         "0.0",
         "0.0640490310209415",
         "0.0",
         "0.0",
         "0.0",
         "0.0",
         "0.0",
         "0.0",
         "0.0",
         "0.0",
         "0.0",
         "0.0",
         "0.0",
         "0.0",
         "0.06639582412005093",
         "0.0",
         "0.0",
         "0.12322502140012319",
         "0.0",
         "0.17078360527520894",
         "0.0",
         "0.0",
         "0.0",
         "0.0",
         "0.0",
         "0.0",
         "0.0",
         "0.0",
         "0.0",
         "0.0",
         "0.0",
         "0.0",
         "0.0",
         "0.0",
         "0.0",
         "0.0",
         "0.0",
         "0.0",
         "0.0",
         "0.0",
         "0.0",
         "0.0",
         "0.0",
         "0.0",
         "0.0",
         "0.0",
         "0.0",
         "0.0",
         "0.0",
         "0.0",
         "0.0",
         "0.0",
         "0.0",
         "0.0",
         "0.0",
         "0.0",
         "0.0",
         "0.0",
         "0.0",
         "0.0",
         "0.0",
         "0.0",
         "0.0",
         "0.0",
         "0.0",
         "0.0",
         "0.0",
         "0.0",
         "0.0",
         "0.0",
         "0.0",
         "0.0",
         "0.0",
         "0.0",
         "0.0",
         "0.0",
         "0.0",
         "0.0",
         "0.0",
         "0.0",
         "0.0",
         "0.0",
         "0.0",
         "0.0",
         "0.09909868930913023",
         "0.0",
         "0.0",
         "0.0",
         "0.0",
         "0.0",
         "0.15143372034411676",
         "0.0",
         "0.0",
         "0.09278097987861651",
         "0.0",
         "0.0",
         "0.0",
         "0.0",
         "0.0",
         "0.0",
         "0.0",
         "0.0",
         "0.0",
         "0.0",
         "0.0",
         "0.0",
         "0.0",
         "0.0",
         "0.0",
         "0.0",
         "0.0",
         "0.0",
         "0.0",
         "0.0",
         "0.0",
         "0.0",
         "0.0",
         "0.0",
         "0.0",
         "0.0",
         "0.0",
         "0.0",
         "0.0",
         "0.0",
         "0.0",
         "0.0",
         "0.0",
         "0.0",
         "0.0",
         "0.0",
         "0.0",
         "0.0",
         "0.0",
         "0.0",
         "0.0",
         "0.06542681102265153",
         "0.0",
         "0.0",
         "0.0",
         "0.0",
         "0.0",
         "0.0",
         "0.0",
         "0.0",
         "0.10310260449552465",
         "0.0",
         "0.0",
         "0.0",
         "0.0",
         "0.09278097987861651",
         "0.0",
         "0.0",
         "0.0",
         "0.0",
         "0.0",
         "0.0",
         "0.0",
         "0.0",
         "0.0",
         "0.0",
         "0.0",
         "0.0",
         "0.0",
         "0.08049140649375927",
         "0.0",
         "0.0",
         "0.0",
         "0.0",
         "0.0",
         "0.0",
         "0.0",
         "0.0",
         "0.0",
         "0.0",
         "0.0",
         "0.0933369775217755",
         "0.0",
         "0.09768137602246173",
         "0.0",
         "0.0",
         "0.0",
         "0.0",
         "0.0",
         "0.0",
         "0.0",
         "0.0",
         "0.0",
         "0.0",
         "0.0",
         "0.0",
         "0.0",
         "0.0",
         "0.0",
         "0.0",
         "0.0",
         "0.0",
         "0.0",
         "0.0",
         "0.0",
         "0.0",
         "0.0",
         "0.0",
         "0.0",
         "0.0",
         "0.09119276507680894",
         "0.0",
         "0.0",
         "0.0",
         "0.0",
         "0.0",
         "0.0",
         "0.0",
         "0.0",
         "0.0",
         "0.0",
         "0.0",
         "0.0",
         "0.0",
         "0.0",
         "0.0",
         "0.0",
         "0.0",
         "0.10693153282887151",
         "0.0",
         "0.0",
         "0.0",
         "0.0",
         "0.0",
         "0.0",
         "0.0",
         "0.0",
         "0.0",
         "0.0",
         "0.0",
         "0.0",
         "0.0",
         "0.0",
         "0.0",
         "0.0",
         "0.0",
         "0.1059099191461716",
         "0.0",
         "0.0",
         "0.06793455921516513",
         "0.0",
         "0.0",
         "0.0",
         "0.0",
         "0.0",
         "0.0",
         "0.0",
         "0.0",
         "0.04471208860055103",
         "0.0",
         "0.0",
         "0.0",
         "0.0",
         "0.0",
         "0.0",
         "0.0",
         "0.0",
         "0.0",
         "0.0",
         "0.09571342725451261",
         "0.0",
         "0.0",
         "0.0",
         "0.0",
         "0.0",
         "0.0",
         "0.0",
         "0.0",
         "0.0",
         "0.0",
         "0.0",
         "0.0",
         "0.0",
         "0.0",
         "0.0",
         "0.0",
         "0.0",
         "0.0",
         "0.0",
         "0.0",
         "0.0",
         "0.0",
         "0.0",
         "0.0",
         "0.0",
         "0.0",
         "0.0",
         "0.0",
         "0.0",
         "0.0",
         "0.0",
         "0.0",
         "0.0",
         "0.0",
         "0.0",
         "0.0",
         "0.0",
         "0.0",
         "0.0",
         "0.0",
         "0.0",
         "0.0",
         "0.0",
         "0.0",
         "0.0",
         "0.0",
         "0.1014124835532495",
         "0.0",
         "0.0",
         "0.0",
         "0.0",
         "0.0",
         "0.0",
         "0.0",
         "0.0",
         "0.0",
         "0.0",
         "0.0",
         "0.0",
         "0.0",
         "0.0",
         "0.0",
         "0.0",
         "0.0",
         "0.0",
         "0.12113193990692493",
         "0.08500310693542187",
         "0.0",
         "0.0",
         "0.0",
         "0.0",
         "0.0",
         "0.0",
         "0.0",
         "0.0",
         "0.0",
         "0.0",
         "0.0",
         "0.0",
         "0.0",
         "0.0",
         "0.0",
         "0.0",
         "0.0",
         "0.0",
         "0.0",
         "0.0",
         "0.0",
         "0.0",
         "0.0",
         "0.0",
         "0.0",
         "0.0",
         "0.0",
         "0.09223871198511627",
         "0.0",
         "0.0933369775217755",
         "0.0",
         "0.0",
         "0.23185845438676964",
         "0.0",
         "0.0",
         "0.0",
         "0.0",
         "0.0",
         "0.0",
         "0.0",
         "0.0",
         "0.0",
         "0.0",
         "0.0",
         "0.0",
         "0.0",
         "0.0",
         "0.0",
         "0.0",
         "0.0",
         "0.0",
         "0.0",
         "0.0",
         "0.0",
         "0.05117380335929759",
         "0.0",
         "0.0",
         "0.0",
         "0.0",
         "0.0",
         "0.0",
         "0.0",
         "0.0",
         "0.0",
         "0.0",
         "0.0",
         "0.0",
         "0.0",
         "0.09768137602246173",
         "0.0",
         "0.0",
         "0.0",
         "0.0",
         "0.0",
         "0.0",
         "0.0",
         "0.0",
         "0.0",
         "0.0",
         "0.0",
         "0.0",
         "0.0",
         "0.0",
         "0.0",
         "0.0",
         "0.0",
         "0.0",
         "0.0",
         "0.0",
         "0.0",
         "0.0",
         "0.08539180263760447",
         "0.0",
         "0.0933369775217755",
         "0.0",
         "0.0",
         "0.0",
         "0.0",
         "0.0",
         "0.0",
         "0.0",
         "0.0",
         "0.0",
         "0.0",
         "0.0",
         "0.0",
         "0.0",
         "0.1302261618350988",
         "0.0",
         "0.0",
         "0.0",
         "0.0",
         "0.0",
         "0.0",
         "0.0",
         "0.0",
         "0.0",
         "0.0",
         "0.0",
         "0.0",
         "0.0",
         "0.0",
         "0.0",
         "0.0",
         "0.0",
         "0.0",
         "0.0",
         "0.0",
         "0.0",
         "0.0",
         "0.0",
         "0.0",
         "0.0",
         "0.0",
         "0.0",
         "0.0",
         "0.0",
         "0.0",
         "0.0",
         "0.0",
         "0.0",
         "0.0",
         "0.08080739372758161",
         "0.0",
         "0.0",
         "0.0",
         "0.0",
         "0.0",
         "0.0",
         "0.0",
         "0.0",
         "0.0",
         "0.0",
         "0.0",
         "0.0983786007366718",
         "0.0",
         "0.0",
         "0.0",
         "0.08744570350691495",
         "0.0",
         "0.0",
         "0.0",
         "0.0",
         "0.3400124277416875",
         "0.0",
         "0.0",
         "0.11290339678321504",
         "0.0",
         "0.0",
         "0.0",
         "0.0",
         "0.0",
         "0.0",
         "0.0",
         "0.0",
         "0.0",
         "0.0",
         "0.0",
         "0.0",
         "0.0",
         "0.0",
         "0.0",
         "0.0",
         "0.0",
         "0.0",
         "0.0",
         "0.0",
         "0.0",
         "0.0",
         "0.0",
         "0.0",
         "0.0",
         "0.0",
         "0.0",
         "0.0",
         "0.0",
         "0.0",
         "0.0",
         "0.0",
         "0.0",
         "0.0",
         "0.0",
         "0.0",
         "0.0",
         "0.0",
         "0.0",
         "0.0",
         "0.0",
         "0.0",
         "0.1115720355979079",
         "0.0",
         "0.0",
         "0.09909868930913023",
         "0.0",
         "0.0",
         "0.0",
         "0.0",
         "0.0",
         "0.0",
         "0.0",
         "0.0",
         "0.0",
         "0.0",
         "0.0",
         "0.0",
         "0.0",
         "0.0",
         "0.0",
         "0.0",
         "0.0",
         "0.0",
         "0.0",
         "0.0",
         "0.0",
         "0.0",
         "0.0",
         "0.0",
         "0.0",
         "0.0",
         "0.0",
         "0.0",
         "0.0",
         "0.0",
         "0.0",
         "0.0",
         "0.0",
         "0.0",
         "0.05856298060030963",
         "0.0",
         "0.0",
         "0.0",
         "0.0",
         "0.0",
         "0.0",
         "0.0",
         "0.0",
         "0.0",
         "0.0",
         "0.0",
         "0.0",
         "0.0",
         "0.0",
         "0.0",
         "0.0",
         "0.11922110621372875",
         "0.0",
         "0.0",
         "0.0",
         "0.0",
         "0.0",
         "0.0",
         "0.0",
         "0.0",
         "0.0",
         "0.0",
         "0.0",
         "0.0",
         "0.0",
         "0.0",
         "0.0",
         "0.0",
         "0.06526938573300593",
         "0.0",
         "0.0",
         "0.0",
         "0.0",
         "0.0",
         "0.0",
         "0.0",
         "0.0",
         "0.09635001483715457",
         "0.0",
         "0.0",
         "0.0",
         "0.0",
         "0.0",
         "0.0",
         "0.0",
         "0.06775816683017279",
         "0.0",
         "0.0",
         "0.0",
         "0.0",
         "0.0",
         "0.0",
         "0.0",
         "0.0",
         "0.0",
         "0.0",
         "0.0",
         "0.0",
         "0.0",
         "0.0",
         "0.0",
         "0.09170951206811817",
         "0.23185845438676964",
         "0.0",
         "0.0",
         "0.0",
         "0.0",
         "0.0",
         "0.0",
         "0.0",
         "0.22063358976697828",
         "0.0",
         "0.0",
         "0.0",
         "0.0",
         "0.0",
         "0.0",
         "0.0",
         "0.0",
         "0.0",
         "0.0",
         "0.0",
         "0.0",
         "0.0",
         "0.0",
         "0.0",
         "0.0",
         "0.0",
         "0.0",
         "0.0",
         "0.0",
         "0.0",
         "0.0",
         "0.0",
         "0.0",
         "0.0",
         "0.0",
         "0.0",
         "0.0",
         "0.0",
         "0.0",
         "0.0",
         "0.0",
         "0.0",
         "0.0",
         "0.0",
         "0.0",
         "0.0",
         "0.0",
         "0.0",
         "0.0",
         "0.0",
         "0.0",
         "0.0",
         "0.0",
         "0.2231440711958158",
         "0.0",
         "0.09768137602246173",
         "0.0",
         "0.0",
         "0.0",
         "0.0",
         "0.0",
         "0.0",
         "0.0",
         "0.0",
         "0.0",
         "0.0",
         "0.0",
         "0.0",
         "0.0",
         "0.0",
         "0.0",
         "0.0",
         "0.0",
         "0.0",
         "0.0",
         "0.0",
         "0.0",
         "0.0",
         "0.0",
         "0.0",
         "0.0",
         "0.0",
         "0.0",
         "0.0",
         "0.0",
         "0.0",
         "0.0",
         "0.0",
         "0.0",
         "0.0",
         "0.0",
         "0.0",
         "0.0",
         "0.0",
         "0.0",
         "0.0",
         "0.0",
         "0.0",
         "0.0",
         "0.0",
         "0.0",
         "0.0",
         "0.0",
         "0.0",
         "0.0",
         "0.0",
         "0.0",
         "0.0",
         "0.0",
         "0.0",
         "0.0",
         "0.0",
         "0.0",
         "0.06639582412005093",
         "0.0",
         "0.10224128885201512",
         "0.0",
         "0.0",
         "0.0",
         "0.0",
         "0.0",
         "0.0",
         "0.17744590463128893",
         "0.0",
         "0.0",
         "0.0",
         "0.0",
         "0.0",
         "0.0",
         "0.0",
         "0.0",
         "0.0",
         "0.0",
         "0.0",
         "0.08500310693542187",
         "0.0",
         "0.0",
         "0.0",
         "0.12113193990692493",
         "0.0",
         "0.07839832500056101",
         "0.0",
         "0.0",
         "0.0",
         "0.0",
         "0.0",
         "0.0",
         "0.0",
         "0.0",
         "0.0",
         "0.0",
         "0.0",
         "0.0",
         "0.0",
         "0.0",
         "0.0",
         "0.0",
         "0.09274540467606483",
         "0.0",
         "0.0",
         "0.0",
         "0.0",
         "0.0",
         "0.0",
         "0.0",
         "0.0",
         "0.0",
         "0.0",
         "0.0",
         "0.0",
         "0.0",
         "0.31772975743851484",
         "0.0",
         "0.0",
         "0.0",
         "0.0",
         "0.0",
         "0.0",
         "0.0",
         "0.0",
         "0.0",
         "0.09700560781593197",
         "0.0",
         "0.0",
         "0.0983786007366718",
         "0.0",
         "0.0",
         "0.0",
         "0.0",
         "0.0",
         "0.0",
         "0.0",
         "0.0",
         "0.0",
         "0.0",
         "0.0",
         "0.0",
         "0.0",
         "0.0",
         "0.0",
         "0.0",
         "0.1115720355979079",
         "0.0",
         "0.0",
         "0.0",
         "0.0",
         "0.0",
         "0.0",
         "0.0",
         "0.0",
         "0.0",
         "0.0"
        ],
        [
         "1",
         "0.0",
         "0.0",
         "0.0",
         "0.0",
         "0.10798277746517539",
         "0.0",
         "0.0",
         "0.0",
         "0.0",
         "0.0",
         "0.0",
         "0.0",
         "0.0",
         "0.0",
         "0.0",
         "0.0",
         "0.0",
         "0.0",
         "0.0",
         "0.0",
         "0.0",
         "0.0",
         "0.0",
         "0.0",
         "0.0",
         "0.0",
         "0.0",
         "0.0",
         "0.0",
         "0.0",
         "0.0",
         "0.0",
         "0.0",
         "0.0",
         "0.0",
         "0.0",
         "0.0",
         "0.0",
         "0.0",
         "0.0",
         "0.0",
         "0.0",
         "0.0",
         "0.0",
         "0.0",
         "0.0",
         "0.0",
         "0.0",
         "0.0",
         "0.0",
         "0.0",
         "0.0",
         "0.0",
         "0.0",
         "0.0",
         "0.07914010151276092",
         "0.0",
         "0.0",
         "0.0",
         "0.0",
         "0.0",
         "0.0",
         "0.0",
         "0.0",
         "0.04306914481377833",
         "0.0",
         "0.0",
         "0.0",
         "0.0",
         "0.0",
         "0.0",
         "0.0",
         "0.0",
         "0.0",
         "0.0",
         "0.0",
         "0.0",
         "0.0",
         "0.0",
         "0.0",
         "0.0",
         "0.0",
         "0.0",
         "0.0",
         "0.0",
         "0.0",
         "0.0",
         "0.0",
         "0.0",
         "0.0",
         "0.0",
         "0.0",
         "0.0",
         "0.07873644095285476",
         "0.13827949637874273",
         "0.0",
         "0.0",
         "0.0",
         "0.0",
         "0.0",
         "0.0",
         "0.0",
         "0.0",
         "0.0",
         "0.06326464753104959",
         "0.0",
         "0.0",
         "0.0",
         "0.0",
         "0.0",
         "0.0",
         "0.0",
         "0.0",
         "0.0",
         "0.0",
         "0.0",
         "0.0",
         "0.0",
         "0.0",
         "0.0",
         "0.0",
         "0.0",
         "0.0",
         "0.0",
         "0.06841904679669107",
         "0.0",
         "0.0",
         "0.0",
         "0.0",
         "0.0",
         "0.0",
         "0.0",
         "0.0",
         "0.0",
         "0.0",
         "0.0",
         "0.0",
         "0.0",
         "0.0",
         "0.0",
         "0.0",
         "0.0",
         "0.0",
         "0.11419271034392232",
         "0.0",
         "0.0",
         "0.0",
         "0.0",
         "0.0",
         "0.0",
         "0.0",
         "0.0",
         "0.0",
         "0.0",
         "0.0",
         "0.0",
         "0.0",
         "0.0",
         "0.0",
         "0.0",
         "0.0",
         "0.0",
         "0.0",
         "0.0",
         "0.0",
         "0.0",
         "0.0",
         "0.0",
         "0.0",
         "0.0",
         "0.0",
         "0.0",
         "0.0",
         "0.0",
         "0.0",
         "0.0",
         "0.0",
         "0.0",
         "0.0",
         "0.0",
         "0.0",
         "0.0",
         "0.0",
         "0.0",
         "0.0",
         "0.0",
         "0.0",
         "0.0",
         "0.0",
         "0.0",
         "0.0",
         "0.0",
         "0.0",
         "0.0",
         "0.0",
         "0.0",
         "0.0",
         "0.0",
         "0.0",
         "0.0",
         "0.0",
         "0.0",
         "0.07834093571219211",
         "0.0",
         "0.0",
         "0.0",
         "0.0",
         "0.0",
         "0.0",
         "0.0",
         "0.0",
         "0.0",
         "0.0",
         "0.0",
         "0.0",
         "0.0",
         "0.0",
         "0.0",
         "0.0",
         "0.0",
         "0.0",
         "0.0",
         "0.0",
         "0.0",
         "0.0",
         "0.0",
         "0.0",
         "0.0",
         "0.0",
         "0.0",
         "0.0",
         "0.0",
         "0.0",
         "0.0",
         "0.0",
         "0.0",
         "0.0",
         "0.0",
         "0.0",
         "0.0",
         "0.0",
         "0.0",
         "0.0",
         "0.0",
         "0.0",
         "0.0",
         "0.0",
         "0.0",
         "0.0",
         "0.0",
         "0.0",
         "0.0",
         "0.0",
         "0.0",
         "0.0",
         "0.0",
         "0.0",
         "0.0",
         "0.0",
         "0.0",
         "0.0",
         "0.0",
         "0.0",
         "0.0",
         "0.08084350962810942",
         "0.0",
         "0.0",
         "0.0",
         "0.0",
         "0.0",
         "0.0",
         "0.0",
         "0.0",
         "0.0",
         "0.0",
         "0.0",
         "0.0",
         "0.0",
         "0.0",
         "0.0",
         "0.0",
         "0.0",
         "0.0",
         "0.0",
         "0.0",
         "0.0",
         "0.0",
         "0.0",
         "0.0",
         "0.0",
         "0.0",
         "0.0",
         "0.0",
         "0.0",
         "0.0",
         "0.0",
         "0.10471238578350751",
         "0.0",
         "0.0",
         "0.0",
         "0.0",
         "0.0",
         "0.0",
         "0.0",
         "0.0",
         "0.0",
         "0.0",
         "0.0",
         "0.0",
         "0.0",
         "0.0",
         "0.0",
         "0.0",
         "0.0",
         "0.0",
         "0.0",
         "0.0",
         "0.0",
         "0.16445195738822319",
         "0.0",
         "0.0",
         "0.0",
         "0.0",
         "0.0",
         "0.0",
         "0.0",
         "0.0",
         "0.0",
         "0.0",
         "0.0",
         "0.0",
         "0.0",
         "0.0",
         "0.0927097354312939",
         "0.0",
         "0.0",
         "0.0",
         "0.0",
         "0.0",
         "0.1332352144235883",
         "0.0",
         "0.0",
         "0.0",
         "0.0",
         "0.0",
         "0.0",
         "0.0",
         "0.0",
         "0.0",
         "0.0",
         "0.0",
         "0.0",
         "0.0",
         "0.0",
         "0.0",
         "0.0",
         "0.0",
         "0.0",
         "0.0",
         "0.11191127627750419",
         "0.0",
         "0.0",
         "0.0",
         "0.0",
         "0.0",
         "0.0",
         "0.0",
         "0.0",
         "0.0",
         "0.1808078307362311",
         "0.0",
         "0.0",
         "0.0",
         "0.0",
         "0.07510068544303879",
         "0.0",
         "0.0",
         "0.0",
         "0.10182039167499286",
         "0.0",
         "0.0",
         "0.0",
         "0.0",
         "0.0",
         "0.0",
         "0.06056009996671886",
         "0.0",
         "0.0",
         "0.0",
         "0.0",
         "0.0",
         "0.10798277746517539",
         "0.0",
         "0.0",
         "0.0",
         "0.0",
         "0.0",
         "0.0",
         "0.0",
         "0.0944131435466424",
         "0.07290578263725375",
         "0.0",
         "0.0",
         "0.0",
         "0.07381649770579082",
         "0.0",
         "0.0",
         "0.0",
         "0.0",
         "0.0",
         "0.0",
         "0.0",
         "0.0",
         "0.0",
         "0.0",
         "0.0",
         "0.0",
         "0.0",
         "0.0",
         "0.0",
         "0.0",
         "0.0",
         "0.0",
         "0.0",
         "0.0",
         "0.0",
         "0.0",
         "0.0",
         "0.0",
         "0.0",
         "0.0",
         "0.0",
         "0.0",
         "0.07543534049067682",
         "0.0",
         "0.0",
         "0.0",
         "0.0",
         "0.0",
         "0.0",
         "0.0",
         "0.0",
         "0.0",
         "0.0",
         "0.0",
         "0.0",
         "0.0",
         "0.0",
         "0.07997328442625189",
         "0.0",
         "0.0",
         "0.0",
         "0.0",
         "0.0",
         "0.10984864994497032",
         "0.0",
         "0.0",
         "0.0",
         "0.0",
         "0.0",
         "0.0",
         "0.0",
         "0.0",
         "0.0927097354312939",
         "0.0",
         "0.0",
         "0.0",
         "0.0",
         "0.0",
         "0.0",
         "0.0",
         "0.0",
         "0.0",
         "0.0",
         "0.10326158560603516",
         "0.0",
         "0.0",
         "0.0",
         "0.28095826785503303",
         "0.0",
         "0.0",
         "0.0",
         "0.0",
         "0.0",
         "0.0",
         "0.0",
         "0.0",
         "0.0",
         "0.0",
         "0.0",
         "0.0",
         "0.0",
         "0.0",
         "0.0",
         "0.0",
         "0.0",
         "0.0",
         "0.0",
         "0.0",
         "0.09191056963072508",
         "0.0",
         "0.08222597869411159",
         "0.0",
         "0.0",
         "0.0",
         "0.0",
         "0.0",
         "0.0",
         "0.0",
         "0.0",
         "0.0",
         "0.0",
         "0.0",
         "0.0591883982546746",
         "0.0",
         "0.0",
         "0.0",
         "0.0",
         "0.0",
         "0.0",
         "0.0",
         "0.0",
         "0.0",
         "0.0",
         "0.0",
         "0.0",
         "0.0",
         "0.09123752867228323",
         "0.0",
         "0.0",
         "0.0",
         "0.0",
         "0.0",
         "0.0",
         "0.0",
         "0.05904175454606647",
         "0.07381649770579082",
         "0.0",
         "0.0",
         "0.0",
         "0.0",
         "0.08707782850361662",
         "0.0",
         "0.0",
         "0.0",
         "0.0",
         "0.0",
         "0.0",
         "0.0",
         "0.0",
         "0.0",
         "0.0",
         "0.0",
         "0.0",
         "0.0",
         "0.0",
         "0.0",
         "0.0",
         "0.0",
         "0.0",
         "0.0",
         "0.0",
         "0.0",
         "0.0",
         "0.0",
         "0.0",
         "0.0",
         "0.0",
         "0.0",
         "0.0",
         "0.07683428144958257",
         "0.0",
         "0.058608301188505046",
         "0.0",
         "0.0",
         "0.0",
         "0.0",
         "0.0",
         "0.0",
         "0.0",
         "0.0",
         "0.0",
         "0.0",
         "0.0",
         "0.15910452162210298",
         "0.11472542178760362",
         "0.0",
         "0.0",
         "0.0",
         "0.0",
         "0.0",
         "0.0",
         "0.0",
         "0.0",
         "0.0",
         "0.0",
         "0.0",
         "0.0",
         "0.0",
         "0.0",
         "0.0",
         "0.0",
         "0.0",
         "0.0",
         "0.0",
         "0.0",
         "0.0",
         "0.0",
         "0.0",
         "0.04675507030352818",
         "0.0",
         "0.11683121952456814",
         "0.0",
         "0.0",
         "0.0",
         "0.0",
         "0.0",
         "0.0",
         "0.0",
         "0.0",
         "0.0927097354312939",
         "0.0",
         "0.0",
         "0.0",
         "0.0",
         "0.0",
         "0.0",
         "0.08769936780378483",
         "0.0",
         "0.0",
         "0.0",
         "0.0",
         "0.0",
         "0.0",
         "0.0",
         "0.0",
         "0.15155163183399864",
         "0.0",
         "0.0",
         "0.0",
         "0.0",
         "0.09354291834478487",
         "0.08707782850361662",
         "0.0",
         "0.0",
         "0.0",
         "0.0",
         "0.0",
         "0.0",
         "0.0",
         "0.0",
         "0.0",
         "0.0",
         "0.0",
         "0.0",
         "0.08769936780378483",
         "0.0",
         "0.0",
         "0.0",
         "0.0",
         "0.0",
         "0.0",
         "0.0",
         "0.0",
         "0.0",
         "0.0",
         "0.0",
         "0.0",
         "0.0",
         "0.0",
         "0.0",
         "0.0",
         "0.0",
         "0.0",
         "0.0",
         "0.0",
         "0.0",
         "0.0",
         "0.0",
         "0.0",
         "0.0",
         "0.0",
         "0.0",
         "0.0",
         "0.0",
         "0.0",
         "0.0",
         "0.0",
         "0.0",
         "0.0",
         "0.0",
         "0.0",
         "0.0",
         "0.0",
         "0.0",
         "0.0",
         "0.0",
         "0.0",
         "0.0",
         "0.0",
         "0.0",
         "0.0",
         "0.0",
         "0.0",
         "0.06009210532472589",
         "0.0",
         "0.0",
         "0.0",
         "0.0",
         "0.0",
         "0.0",
         "0.0",
         "0.0",
         "0.0",
         "0.0",
         "0.0",
         "0.0",
         "0.0",
         "0.0",
         "0.0",
         "0.31323497205046064",
         "0.15590652555103812",
         "0.0",
         "0.0",
         "0.0",
         "0.0",
         "0.0",
         "0.0",
         "0.0",
         "0.08423562300902712",
         "0.0",
         "0.0",
         "0.0",
         "0.0",
         "0.0",
         "0.0",
         "0.0",
         "0.0",
         "0.0",
         "0.0",
         "0.0",
         "0.0",
         "0.0",
         "0.0",
         "0.0",
         "0.0",
         "0.0",
         "0.0",
         "0.0",
         "0.0",
         "0.0",
         "0.0",
         "0.0",
         "0.0",
         "0.05818423745472396",
         "0.0",
         "0.0",
         "0.0",
         "0.0",
         "0.0",
         "0.0",
         "0.0",
         "0.0",
         "0.0",
         "0.0",
         "0.0",
         "0.0",
         "0.0",
         "0.0",
         "0.06220618199846633",
         "0.0",
         "0.06040285539794686",
         "0.0",
         "0.0",
         "0.0",
         "0.0",
         "0.0",
         "0.0",
         "0.0",
         "0.0",
         "0.0",
         "0.0",
         "0.0",
         "0.0",
         "0.0",
         "0.0",
         "0.33573382883251257",
         "0.0",
         "0.0",
         "0.0",
         "0.0",
         "0.0",
         "0.0",
         "0.0",
         "0.0",
         "0.0",
         "0.0",
         "0.0",
         "0.0",
         "0.0",
         "0.0",
         "0.0",
         "0.0",
         "0.0",
         "0.08423562300902712",
         "0.28323943063992724",
         "0.0",
         "0.0",
         "0.0",
         "0.0",
         "0.0",
         "0.0",
         "0.0",
         "0.0",
         "0.0",
         "0.0",
         "0.0",
         "0.0",
         "0.0",
         "0.0",
         "0.0",
         "0.0",
         "0.0",
         "0.0",
         "0.0",
         "0.0",
         "0.0",
         "0.0",
         "0.0",
         "0.0",
         "0.0",
         "0.0",
         "0.0",
         "0.0",
         "0.09946062368490771",
         "0.0",
         "0.0",
         "0.0",
         "0.0",
         "0.0",
         "0.0",
         "0.0",
         "0.0",
         "0.0",
         "0.0",
         "0.0",
         "0.0",
         "0.0",
         "0.0",
         "0.0",
         "0.0",
         "0.0",
         "0.0",
         "0.0",
         "0.0",
         "0.0",
         "0.06136584511319434",
         "0.08707782850361662",
         "0.0",
         "0.0",
         "0.0",
         "0.0",
         "0.0",
         "0.0",
         "0.0",
         "0.0",
         "0.0",
         "0.0",
         "0.0",
         "0.0",
         "0.0",
         "0.0",
         "0.0",
         "0.0",
         "0.0",
         "0.0",
         "0.0",
         "0.0",
         "0.0",
         "0.0",
         "0.0",
         "0.0",
         "0.0",
         "0.0",
         "0.0",
         "0.0",
         "0.0",
         "0.0",
         "0.0",
         "0.0",
         "0.0",
         "0.0",
         "0.0",
         "0.0",
         "0.0",
         "0.0",
         "0.0",
         "0.0",
         "0.0",
         "0.0",
         "0.0",
         "0.1183767965093492",
         "0.06557046759422795",
         "0.0",
         "0.0",
         "0.0",
         "0.0",
         "0.0",
         "0.0",
         "0.0",
         "0.0",
         "0.0",
         "0.0",
         "0.0",
         "0.10191092295411464",
         "0.08900497440920982",
         "0.10798277746517539",
         "0.0",
         "0.0",
         "0.0",
         "0.0",
         "0.0",
         "0.07577581591699932",
         "0.0",
         "0.0",
         "0.0",
         "0.0",
         "0.0",
         "0.0",
         "0.0",
         "0.0",
         "0.0",
         "0.0",
         "0.0",
         "0.0",
         "0.0",
         "0.0",
         "0.0",
         "0.0",
         "0.0",
         "0.0",
         "0.0",
         "0.0",
         "0.0",
         "0.0",
         "0.04133883433943342",
         "0.0",
         "0.0",
         "0.0",
         "0.0",
         "0.0",
         "0.0",
         "0.0",
         "0.0",
         "0.0",
         "0.0",
         "0.0",
         "0.0",
         "0.0",
         "0.0",
         "0.0",
         "0.0",
         "0.0",
         "0.0",
         "0.0",
         "0.0",
         "0.0",
         "0.0",
         "0.0",
         "0.17295083311157347",
         "0.0",
         "0.05631836497492903",
         "0.0",
         "0.0",
         "0.0",
         "0.0",
         "0.0",
         "0.0",
         "0.0",
         "0.0",
         "0.0",
         "0.0",
         "0.0",
         "0.0",
         "0.0",
         "0.0",
         "0.0",
         "0.0",
         "0.0944131435466424",
         "0.0",
         "0.0",
         "0.0",
         "0.0",
         "0.0",
         "0.0",
         "0.0",
         "0.06363058049484889",
         "0.0",
         "0.0",
         "0.0"
        ],
        [
         "2",
         "0.0",
         "0.0",
         "0.0",
         "0.0",
         "0.0",
         "0.0",
         "0.0",
         "0.0",
         "0.0",
         "0.0",
         "0.0",
         "0.0",
         "0.0",
         "0.0",
         "0.0",
         "0.0",
         "0.0",
         "0.0",
         "0.0",
         "0.0",
         "0.0",
         "0.0",
         "0.0",
         "0.0",
         "0.0",
         "0.0",
         "0.0",
         "0.0",
         "0.0",
         "0.0",
         "0.0",
         "0.0",
         "0.0",
         "0.0",
         "0.0",
         "0.0",
         "0.0",
         "0.0",
         "0.0",
         "0.0",
         "0.0",
         "0.0",
         "0.0",
         "0.0",
         "0.0",
         "0.0",
         "0.0",
         "0.0",
         "0.0",
         "0.0",
         "0.0",
         "0.0",
         "0.0",
         "0.0",
         "0.0",
         "0.0",
         "0.0",
         "0.0",
         "0.0",
         "0.0",
         "0.0",
         "0.0",
         "0.0",
         "0.0",
         "0.0",
         "0.0",
         "0.0",
         "0.0",
         "0.0",
         "0.0",
         "0.0",
         "0.0",
         "0.0",
         "0.0",
         "0.0",
         "0.0",
         "0.0",
         "0.0",
         "0.0",
         "0.0",
         "0.0",
         "0.0",
         "0.0",
         "0.0",
         "0.0",
         "0.0",
         "0.0",
         "0.0",
         "0.0",
         "0.0",
         "0.0",
         "0.0",
         "0.0",
         "0.0",
         "0.0",
         "0.0",
         "0.0",
         "0.0",
         "0.0",
         "0.0",
         "0.0",
         "0.0",
         "0.0",
         "0.0",
         "0.0",
         "0.0",
         "0.0",
         "0.0",
         "0.0",
         "0.0",
         "0.0",
         "0.0",
         "0.0",
         "0.0",
         "0.0",
         "0.0",
         "0.0",
         "0.0",
         "0.0",
         "0.0",
         "0.0",
         "0.0",
         "0.0",
         "0.0",
         "0.0",
         "0.0",
         "0.0",
         "0.0",
         "0.0",
         "0.0",
         "0.0",
         "0.0",
         "0.0",
         "0.0",
         "0.0",
         "0.0",
         "0.0",
         "0.0",
         "0.0",
         "0.0",
         "0.0",
         "0.0",
         "0.0",
         "0.0",
         "0.0",
         "0.0",
         "0.0",
         "0.0",
         "0.0",
         "0.0",
         "0.0",
         "0.0",
         "0.0",
         "0.0",
         "0.0",
         "0.0",
         "0.0",
         "0.0",
         "0.0",
         "0.0",
         "0.0",
         "0.0",
         "0.0",
         "0.0",
         "0.0",
         "0.0",
         "0.0",
         "0.0",
         "0.0",
         "0.0",
         "0.0",
         "0.0",
         "0.0",
         "0.0",
         "0.0",
         "0.0",
         "0.0",
         "0.0",
         "0.0",
         "0.0",
         "0.0",
         "0.0",
         "0.0",
         "0.0",
         "0.0",
         "0.0",
         "0.0",
         "0.0",
         "0.0",
         "0.0",
         "0.0",
         "0.0",
         "0.0",
         "0.0",
         "0.0",
         "0.0",
         "0.0",
         "0.0",
         "0.0",
         "0.0",
         "0.0",
         "0.0",
         "0.0",
         "0.0",
         "0.0",
         "0.0",
         "0.0",
         "0.0",
         "0.0",
         "0.0",
         "0.0",
         "0.0",
         "0.0",
         "0.0",
         "0.0",
         "0.0",
         "0.0",
         "0.0",
         "0.0",
         "0.0",
         "0.0",
         "0.0",
         "0.0",
         "0.0",
         "0.0",
         "0.0",
         "0.0",
         "0.0",
         "0.0",
         "0.0",
         "0.0",
         "0.0",
         "0.0",
         "0.0",
         "0.0",
         "0.0",
         "0.0",
         "0.0",
         "0.0",
         "0.0",
         "0.0",
         "0.0",
         "0.0",
         "0.0",
         "0.0",
         "0.0",
         "0.0",
         "0.0",
         "0.0",
         "0.0",
         "0.0",
         "0.0",
         "0.0",
         "0.0",
         "0.0",
         "0.0",
         "0.0",
         "0.0",
         "0.0",
         "0.0",
         "0.0",
         "0.0",
         "0.0",
         "0.0",
         "0.0",
         "0.0",
         "0.0",
         "0.0",
         "0.0",
         "0.0",
         "0.0",
         "0.0",
         "0.0",
         "0.0",
         "0.0",
         "0.0",
         "0.0",
         "0.0",
         "0.0",
         "0.0",
         "0.0",
         "0.0",
         "0.0",
         "0.0",
         "0.0",
         "0.0",
         "0.0",
         "0.0",
         "0.0",
         "0.0",
         "0.0",
         "0.0",
         "0.0",
         "0.2557276946056664",
         "0.0",
         "0.0",
         "0.0",
         "0.0",
         "0.0",
         "0.0",
         "0.0",
         "0.0",
         "0.0",
         "0.0",
         "0.0",
         "0.0",
         "0.0",
         "0.0",
         "0.0",
         "0.0",
         "0.0",
         "0.0",
         "0.0",
         "0.0",
         "0.0",
         "0.0",
         "0.0",
         "0.0",
         "0.0",
         "0.0",
         "0.32044564409050763",
         "0.0",
         "0.0",
         "0.0",
         "0.0",
         "0.0",
         "0.0",
         "0.0",
         "0.0",
         "0.0",
         "0.0",
         "0.0",
         "0.23881855545633154",
         "0.0",
         "0.0",
         "0.0",
         "0.0",
         "0.0",
         "0.0",
         "0.0",
         "0.0",
         "0.0",
         "0.0",
         "0.0",
         "0.0",
         "0.0",
         "0.0",
         "0.0",
         "0.36511082400138517",
         "0.0",
         "0.0",
         "0.0",
         "0.0",
         "0.0",
         "0.0",
         "0.0",
         "0.0",
         "0.0",
         "0.0",
         "0.0",
         "0.0",
         "0.0",
         "0.0",
         "0.0",
         "0.0",
         "0.0",
         "0.0",
         "0.0",
         "0.0",
         "0.0",
         "0.0",
         "0.0",
         "0.0",
         "0.0",
         "0.0",
         "0.0",
         "0.0",
         "0.0",
         "0.0",
         "0.0",
         "0.0",
         "0.0",
         "0.0",
         "0.0",
         "0.0",
         "0.0",
         "0.0",
         "0.0",
         "0.0",
         "0.0",
         "0.0",
         "0.0",
         "0.0",
         "0.0",
         "0.13266107372402552",
         "0.0",
         "0.0",
         "0.0",
         "0.0",
         "0.0",
         "0.0",
         "0.0",
         "0.0",
         "0.0",
         "0.0",
         "0.0",
         "0.0",
         "0.0",
         "0.0",
         "0.0",
         "0.0",
         "0.0",
         "0.0",
         "0.0",
         "0.0",
         "0.0",
         "0.0",
         "0.0",
         "0.0",
         "0.0",
         "0.0",
         "0.0",
         "0.0",
         "0.0",
         "0.0",
         "0.0",
         "0.0",
         "0.0",
         "0.0",
         "0.0",
         "0.0",
         "0.0",
         "0.0",
         "0.0",
         "0.0",
         "0.0",
         "0.36560948415200856",
         "0.0",
         "0.0",
         "0.0",
         "0.0",
         "0.0",
         "0.0",
         "0.0",
         "0.0",
         "0.0",
         "0.0",
         "0.0",
         "0.0",
         "0.0",
         "0.0",
         "0.0",
         "0.0",
         "0.0",
         "0.0",
         "0.0",
         "0.0",
         "0.0",
         "0.0",
         "0.0",
         "0.0",
         "0.0",
         "0.0",
         "0.0",
         "0.0",
         "0.0",
         "0.0",
         "0.0",
         "0.0",
         "0.0",
         "0.0",
         "0.0",
         "0.0",
         "0.0",
         "0.0",
         "0.0",
         "0.0",
         "0.0",
         "0.0",
         "0.0",
         "0.0",
         "0.0",
         "0.0",
         "0.0",
         "0.0",
         "0.0",
         "0.0",
         "0.0",
         "0.0",
         "0.0",
         "0.0",
         "0.0",
         "0.0",
         "0.0",
         "0.0",
         "0.0",
         "0.0",
         "0.0",
         "0.0",
         "0.0",
         "0.0",
         "0.0",
         "0.0",
         "0.0",
         "0.0",
         "0.0",
         "0.0",
         "0.0",
         "0.0",
         "0.0",
         "0.0",
         "0.0",
         "0.0",
         "0.0",
         "0.0",
         "0.0",
         "0.0",
         "0.0",
         "0.0",
         "0.2416726313286734",
         "0.0",
         "0.0",
         "0.0",
         "0.0",
         "0.0",
         "0.0",
         "0.0",
         "0.0",
         "0.0",
         "0.0",
         "0.0",
         "0.0",
         "0.0",
         "0.0",
         "0.0",
         "0.19650879126717247",
         "0.0",
         "0.0",
         "0.0",
         "0.0",
         "0.0",
         "0.0",
         "0.0",
         "0.0",
         "0.0",
         "0.0",
         "0.0",
         "0.0",
         "0.0",
         "0.0",
         "0.0",
         "0.0",
         "0.0",
         "0.0",
         "0.0",
         "0.0",
         "0.0",
         "0.0",
         "0.0",
         "0.0",
         "0.0",
         "0.0",
         "0.0",
         "0.0",
         "0.0",
         "0.0",
         "0.0",
         "0.0",
         "0.0",
         "0.0",
         "0.0",
         "0.0",
         "0.0",
         "0.0",
         "0.0",
         "0.0",
         "0.0",
         "0.0",
         "0.0",
         "0.0",
         "0.0",
         "0.0",
         "0.0",
         "0.0",
         "0.0",
         "0.0",
         "0.0",
         "0.0",
         "0.0",
         "0.0",
         "0.0",
         "0.0",
         "0.0",
         "0.0",
         "0.0",
         "0.0",
         "0.0",
         "0.0",
         "0.0",
         "0.0",
         "0.0",
         "0.0",
         "0.0",
         "0.0",
         "0.0",
         "0.0",
         "0.0",
         "0.0",
         "0.0",
         "0.0",
         "0.0",
         "0.0",
         "0.0",
         "0.0",
         "0.0",
         "0.0",
         "0.0",
         "0.0",
         "0.2467261434682161",
         "0.0",
         "0.0",
         "0.0",
         "0.0",
         "0.0",
         "0.0",
         "0.0",
         "0.0",
         "0.0",
         "0.0",
         "0.0",
         "0.0",
         "0.0",
         "0.0",
         "0.0",
         "0.0",
         "0.0",
         "0.2522048016292456",
         "0.0",
         "0.0",
         "0.0",
         "0.0",
         "0.0",
         "0.0",
         "0.0",
         "0.0",
         "0.0",
         "0.0",
         "0.0",
         "0.0",
         "0.0",
         "0.0",
         "0.0",
         "0.0",
         "0.0",
         "0.0",
         "0.0",
         "0.0",
         "0.0",
         "0.0",
         "0.0",
         "0.0",
         "0.0",
         "0.0",
         "0.0",
         "0.0",
         "0.0",
         "0.0",
         "0.0",
         "0.0",
         "0.0",
         "0.0",
         "0.0",
         "0.0",
         "0.0",
         "0.0",
         "0.0",
         "0.0",
         "0.0",
         "0.0",
         "0.0",
         "0.0",
         "0.0",
         "0.0",
         "0.0",
         "0.0",
         "0.0",
         "0.0",
         "0.0",
         "0.0",
         "0.0",
         "0.0",
         "0.0",
         "0.0",
         "0.0",
         "0.0",
         "0.0",
         "0.0",
         "0.0",
         "0.0",
         "0.0",
         "0.0",
         "0.0",
         "0.0",
         "0.0",
         "0.0",
         "0.0",
         "0.0",
         "0.0",
         "0.0",
         "0.0",
         "0.0",
         "0.0",
         "0.0",
         "0.0",
         "0.0",
         "0.0",
         "0.0",
         "0.0",
         "0.0",
         "0.0",
         "0.34751353068398627",
         "0.0",
         "0.0",
         "0.0",
         "0.0",
         "0.0",
         "0.0",
         "0.0",
         "0.0",
         "0.0",
         "0.0",
         "0.0",
         "0.0",
         "0.0",
         "0.0",
         "0.0",
         "0.0",
         "0.0",
         "0.0",
         "0.0",
         "0.0",
         "0.0",
         "0.0",
         "0.0",
         "0.0",
         "0.0",
         "0.0",
         "0.0",
         "0.0",
         "0.0",
         "0.0",
         "0.0",
         "0.0",
         "0.0",
         "0.0",
         "0.0",
         "0.0",
         "0.0",
         "0.0",
         "0.0",
         "0.0",
         "0.0",
         "0.0",
         "0.0",
         "0.0",
         "0.0",
         "0.0",
         "0.0",
         "0.0",
         "0.0",
         "0.0",
         "0.0",
         "0.0",
         "0.0",
         "0.0",
         "0.0",
         "0.0",
         "0.0",
         "0.0",
         "0.0",
         "0.0",
         "0.0",
         "0.0",
         "0.0",
         "0.0",
         "0.0",
         "0.0",
         "0.0",
         "0.0",
         "0.0",
         "0.0",
         "0.0",
         "0.0",
         "0.0",
         "0.0",
         "0.0",
         "0.0",
         "0.0",
         "0.0",
         "0.0",
         "0.0",
         "0.0",
         "0.0",
         "0.0",
         "0.0",
         "0.0",
         "0.2123994026317856",
         "0.0",
         "0.0",
         "0.0",
         "0.0",
         "0.0",
         "0.0",
         "0.0",
         "0.0",
         "0.0",
         "0.0",
         "0.0",
         "0.0",
         "0.0",
         "0.0",
         "0.0",
         "0.0",
         "0.0",
         "0.0",
         "0.0",
         "0.0",
         "0.0",
         "0.0",
         "0.0",
         "0.0",
         "0.0",
         "0.0",
         "0.0",
         "0.0",
         "0.0",
         "0.0",
         "0.0",
         "0.0",
         "0.0",
         "0.0",
         "0.0",
         "0.0",
         "0.0",
         "0.0",
         "0.0",
         "0.0",
         "0.0",
         "0.0",
         "0.0",
         "0.0",
         "0.0",
         "0.0",
         "0.0",
         "0.0",
         "0.0",
         "0.0",
         "0.0",
         "0.0",
         "0.0",
         "0.0",
         "0.0",
         "0.0",
         "0.0",
         "0.0",
         "0.0",
         "0.0",
         "0.0",
         "0.0",
         "0.0",
         "0.0",
         "0.0",
         "0.0",
         "0.0",
         "0.0",
         "0.0",
         "0.0",
         "0.0",
         "0.0",
         "0.0",
         "0.0",
         "0.0",
         "0.0",
         "0.0",
         "0.0",
         "0.0",
         "0.0",
         "0.0",
         "0.0",
         "0.0",
         "0.0",
         "0.0",
         "0.0",
         "0.0",
         "0.0",
         "0.0",
         "0.0",
         "0.0",
         "0.0",
         "0.0",
         "0.0",
         "0.0",
         "0.0",
         "0.0",
         "0.0",
         "0.0",
         "0.0",
         "0.0",
         "0.0",
         "0.0",
         "0.0",
         "0.0",
         "0.0",
         "0.0",
         "0.0",
         "0.0",
         "0.0",
         "0.0",
         "0.0",
         "0.0",
         "0.0",
         "0.0",
         "0.0",
         "0.0",
         "0.0",
         "0.0",
         "0.0",
         "0.0",
         "0.0",
         "0.0",
         "0.0",
         "0.0",
         "0.0",
         "0.0",
         "0.0",
         "0.0",
         "0.0",
         "0.0",
         "0.0",
         "0.0",
         "0.0",
         "0.0",
         "0.0",
         "0.0",
         "0.0",
         "0.13758812607944676",
         "0.0",
         "0.0",
         "0.0",
         "0.0",
         "0.0",
         "0.0",
         "0.0",
         "0.0",
         "0.0",
         "0.0",
         "0.0",
         "0.0",
         "0.0",
         "0.0",
         "0.0",
         "0.0",
         "0.0",
         "0.0",
         "0.0",
         "0.0",
         "0.0",
         "0.0",
         "0.0",
         "0.0",
         "0.0",
         "0.0",
         "0.0",
         "0.0",
         "0.0",
         "0.0",
         "0.0",
         "0.0",
         "0.0",
         "0.0",
         "0.0",
         "0.0",
         "0.0",
         "0.0",
         "0.0",
         "0.0",
         "0.0",
         "0.0",
         "0.0",
         "0.0",
         "0.0",
         "0.0",
         "0.0",
         "0.0",
         "0.0",
         "0.0",
         "0.0",
         "0.2898213130178033",
         "0.0",
         "0.0"
        ],
        [
         "3",
         "0.0",
         "0.0",
         "0.0",
         "0.0",
         "0.0",
         "0.0",
         "0.0",
         "0.0",
         "0.0",
         "0.0",
         "0.0",
         "0.0",
         "0.0",
         "0.0",
         "0.0",
         "0.0",
         "0.0",
         "0.0",
         "0.0",
         "0.0",
         "0.0",
         "0.0",
         "0.0",
         "0.0",
         "0.0",
         "0.0",
         "0.0",
         "0.0",
         "0.0",
         "0.0",
         "0.0",
         "0.0",
         "0.0",
         "0.0",
         "0.0",
         "0.0",
         "0.0",
         "0.0",
         "0.0",
         "0.0",
         "0.0",
         "0.0",
         "0.06548014244804633",
         "0.0",
         "0.0",
         "0.0",
         "0.0",
         "0.0",
         "0.0",
         "0.0",
         "0.0",
         "0.0",
         "0.0",
         "0.0",
         "0.0",
         "0.0",
         "0.0",
         "0.0",
         "0.0",
         "0.0",
         "0.04591172763172674",
         "0.0",
         "0.0",
         "0.0",
         "0.0716357941352819",
         "0.0",
         "0.0",
         "0.0",
         "0.0",
         "0.0",
         "0.0",
         "0.0",
         "0.0",
         "0.0",
         "0.05261322561860566",
         "0.07241714948606186",
         "0.0",
         "0.0",
         "0.0",
         "0.0",
         "0.0",
         "0.09135420853514511",
         "0.0",
         "0.0",
         "0.0",
         "0.0",
         "0.0",
         "0.08370215997422215",
         "0.0",
         "0.0",
         "0.0",
         "0.09135420853514511",
         "0.0",
         "0.0",
         "0.0",
         "0.0",
         "0.0",
         "0.0",
         "0.0",
         "0.0",
         "0.0",
         "0.0",
         "0.0",
         "0.0",
         "0.0",
         "0.0",
         "0.0",
         "0.0",
         "0.08271514089338777",
         "0.0",
         "0.0",
         "0.0898024798274681",
         "0.08090429538470778",
         "0.0",
         "0.0",
         "0.05689981508167781",
         "0.0",
         "0.0",
         "0.0",
         "0.0",
         "0.0",
         "0.0",
         "0.0",
         "0.0",
         "0.34139889049006683",
         "0.0",
         "0.0",
         "0.0",
         "0.09677633661515256",
         "0.0",
         "0.0",
         "0.0",
         "0.0",
         "0.0",
         "0.0",
         "0.0",
         "0.0",
         "0.0",
         "0.0",
         "0.0",
         "0.0",
         "0.0",
         "0.0",
         "0.0",
         "0.0",
         "0.0",
         "0.0",
         "0.0",
         "0.0",
         "0.0",
         "0.0",
         "0.0",
         "0.0",
         "0.0",
         "0.0",
         "0.0",
         "0.0",
         "0.0",
         "0.0",
         "0.0",
         "0.0",
         "0.0",
         "0.0",
         "0.0",
         "0.0",
         "0.0",
         "0.0",
         "0.0",
         "0.0",
         "0.0",
         "0.0",
         "0.0",
         "0.0",
         "0.0",
         "0.0",
         "0.0",
         "0.0",
         "0.0",
         "0.0",
         "0.0",
         "0.0",
         "0.0",
         "0.0",
         "0.0",
         "0.0",
         "0.0",
         "0.05419513195988603",
         "0.0",
         "0.0",
         "0.0",
         "0.0",
         "0.0",
         "0.0",
         "0.0",
         "0.0",
         "0.0",
         "0.0",
         "0.07459115121113426",
         "0.0",
         "0.0",
         "0.0",
         "0.0",
         "0.0",
         "0.0",
         "0.0",
         "0.0",
         "0.0",
         "0.0",
         "0.0",
         "0.0",
         "0.0",
         "0.0",
         "0.0",
         "0.07927485374347581",
         "0.0",
         "0.0",
         "0.0",
         "0.0",
         "0.0",
         "0.0",
         "0.08178455455074501",
         "0.0",
         "0.0",
         "0.0",
         "0.0",
         "0.0",
         "0.0",
         "0.0",
         "0.0740198354455653",
         "0.0",
         "0.0",
         "0.0",
         "0.1122670340031725",
         "0.07191616138348905",
         "0.0",
         "0.0",
         "0.0",
         "0.0",
         "0.0",
         "0.0",
         "0.0930695650389053",
         "0.0",
         "0.0",
         "0.0",
         "0.0",
         "0.0",
         "0.0",
         "0.0",
         "0.0",
         "0.0",
         "0.0",
         "0.0",
         "0.0",
         "0.0",
         "0.0",
         "0.0",
         "0.0",
         "0.0",
         "0.0",
         "0.0",
         "0.0",
         "0.0",
         "0.0",
         "0.0",
         "0.06723245885114748",
         "0.0",
         "0.0",
         "0.0898024798274681",
         "0.0",
         "0.0",
         "0.0",
         "0.0",
         "0.0",
         "0.0",
         "0.0",
         "0.0",
         "0.0",
         "0.0",
         "0.0",
         "0.0",
         "0.0",
         "0.0",
         "0.0",
         "0.0",
         "0.0",
         "0.07851746933930778",
         "0.0",
         "0.0",
         "0.0",
         "0.0",
         "0.0",
         "0.0",
         "0.0",
         "0.0",
         "0.0",
         "0.0",
         "0.0",
         "0.0",
         "0.0",
         "0.0",
         "0.0",
         "0.0",
         "0.05010352481133648",
         "0.0",
         "0.07579769040867587",
         "0.17901953638720977",
         "0.0",
         "0.0",
         "0.0",
         "0.0",
         "0.07927485374347581",
         "0.0",
         "0.0",
         "0.0",
         "0.0",
         "0.0",
         "0.06087971799327822",
         "0.0",
         "0.0",
         "0.0",
         "0.0",
         "0.0",
         "0.0",
         "0.0",
         "0.0",
         "0.0",
         "0.0",
         "0.0",
         "0.0",
         "0.0",
         "0.0",
         "0.0",
         "0.0",
         "0.0",
         "0.0",
         "0.0",
         "0.0",
         "0.0",
         "0.0",
         "0.0",
         "0.0",
         "0.0",
         "0.07518324659492627",
         "0.0",
         "0.0",
         "0.0",
         "0.0",
         "0.0",
         "0.0",
         "0.0",
         "0.0977202188578137",
         "0.0",
         "0.0",
         "0.0",
         "0.0",
         "0.0",
         "0.0",
         "0.0",
         "0.0",
         "0.0",
         "0.06389823610676597",
         "0.0",
         "0.0",
         "0.0",
         "0.0",
         "0.0",
         "0.0",
         "0.0",
         "0.0",
         "0.0",
         "0.0",
         "0.0",
         "0.0",
         "0.0",
         "0.0",
         "0.0",
         "0.0",
         "0.056321736770355284",
         "0.042338805706156765",
         "0.0",
         "0.05944224118371941",
         "0.0",
         "0.0",
         "0.0",
         "0.0",
         "0.0",
         "0.0",
         "0.0",
         "0.08451760294617625",
         "0.0",
         "0.0",
         "0.0",
         "0.0",
         "0.0",
         "0.0",
         "0.0",
         "0.0",
         "0.0",
         "0.0",
         "0.0",
         "0.0",
         "0.0",
         "0.0",
         "0.0",
         "0.0",
         "0.0",
         "0.0",
         "0.0",
         "0.0",
         "0.0",
         "0.0",
         "0.0",
         "0.0",
         "0.0",
         "0.0",
         "0.0",
         "0.0",
         "0.0",
         "0.0",
         "0.0",
         "0.0",
         "0.0",
         "0.0",
         "0.0",
         "0.0",
         "0.058989966860030135",
         "0.0",
         "0.0",
         "0.0",
         "0.0",
         "0.0",
         "0.0",
         "0.0",
         "0.12546964991480994",
         "0.0",
         "0.0",
         "0.0",
         "0.0",
         "0.0",
         "0.0",
         "0.09135420853514511",
         "0.0",
         "0.0",
         "0.0",
         "0.0",
         "0.0",
         "0.0",
         "0.0",
         "0.0",
         "0.0",
         "0.0",
         "0.0",
         "0.0",
         "0.0",
         "0.0",
         "0.0",
         "0.0",
         "0.0",
         "0.0",
         "0.0",
         "0.0",
         "0.0",
         "0.0",
         "0.0",
         "0.0",
         "0.0800691980469848",
         "0.0",
         "0.0",
         "0.45677104267572555",
         "0.0",
         "0.0",
         "0.0",
         "0.06301797694072875",
         "0.0",
         "0.0",
         "0.0",
         "0.0",
         "0.0",
         "0.18692424680073771",
         "0.0",
         "0.0",
         "0.0",
         "0.0",
         "0.0",
         "0.0",
         "0.0",
         "0.0",
         "0.0",
         "0.0",
         "0.0",
         "0.0",
         "0.0",
         "0.0",
         "0.0",
         "0.0",
         "0.0",
         "0.0",
         "0.0",
         "0.0",
         "0.0",
         "0.0",
         "0.0",
         "0.0",
         "0.0",
         "0.0",
         "0.0",
         "0.0",
         "0.03675796830928059",
         "0.0",
         "0.0",
         "0.0",
         "0.0704995440625847",
         "0.0",
         "0.0",
         "0.0",
         "0.0",
         "0.0",
         "0.0",
         "0.0",
         "0.0",
         "0.0",
         "0.0",
         "0.0",
         "0.0",
         "0.0",
         "0.0",
         "0.0",
         "0.0",
         "0.0",
         "0.0",
         "0.0",
         "0.05944224118371941",
         "0.0",
         "0.0",
         "0.0",
         "0.0",
         "0.18416560589849035",
         "0.0",
         "0.0",
         "0.0",
         "0.0",
         "0.0",
         "0.0",
         "0.0",
         "0.0",
         "0.0",
         "0.0",
         "0.07579769040867587",
         "0.0",
         "0.0",
         "0.0",
         "0.0",
         "0.0",
         "0.0",
         "0.0",
         "0.0",
         "0.08178455455074501",
         "0.0",
         "0.0",
         "0.0",
         "0.0",
         "0.0",
         "0.0",
         "0.0",
         "0.0",
         "0.0",
         "0.0",
         "0.0",
         "0.0",
         "0.0",
         "0.0",
         "0.0",
         "0.04874083542535548",
         "0.0",
         "0.0",
         "0.0",
         "0.0",
         "0.0",
         "0.0",
         "0.0",
         "0.04827229003428389",
         "0.0",
         "0.0",
         "0.0",
         "0.0",
         "0.0",
         "0.0",
         "0.0",
         "0.0",
         "0.0",
         "0.0",
         "0.0",
         "0.0",
         "0.0",
         "0.0",
         "0.0",
         "0.0",
         "0.0",
         "0.06919638245285716",
         "0.08587616169929455",
         "0.0",
         "0.0",
         "0.0",
         "0.0",
         "0.0",
         "0.0",
         "0.0",
         "0.0",
         "0.0",
         "0.11664974794110669",
         "0.0",
         "0.09716117218745486",
         "0.0",
         "0.0",
         "0.0",
         "0.0",
         "0.0",
         "0.0",
         "0.0",
         "0.0",
         "0.0",
         "0.0",
         "0.0",
         "0.0",
         "0.0",
         "0.0",
         "0.0",
         "0.0",
         "0.0",
         "0.0",
         "0.0",
         "0.06482882244940874",
         "0.0",
         "0.0",
         "0.0",
         "0.0",
         "0.31508988470364374",
         "0.0",
         "0.0",
         "0.0",
         "0.0",
         "0.07779375780891704",
         "0.0",
         "0.0",
         "0.0",
         "0.0",
         "0.0",
         "0.0",
         "0.0",
         "0.0",
         "0.0",
         "0.0",
         "0.0",
         "0.0",
         "0.0",
         "0.0",
         "0.0",
         "0.0",
         "0.0",
         "0.0",
         "0.0",
         "0.0",
         "0.0",
         "0.0",
         "0.0",
         "0.0",
         "0.0687841875588245",
         "0.0",
         "0.0",
         "0.0",
         "0.0",
         "0.0",
         "0.0",
         "0.0",
         "0.0",
         "0.0",
         "0.0",
         "0.0",
         "0.08587616169929455",
         "0.0",
         "0.0",
         "0.0",
         "0.0",
         "0.0",
         "0.0",
         "0.0",
         "0.0",
         "0.0",
         "0.0",
         "0.0",
         "0.0",
         "0.0",
         "0.0",
         "0.0",
         "0.0",
         "0.0",
         "0.0",
         "0.0",
         "0.0",
         "0.0",
         "0.0",
         "0.0",
         "0.0",
         "0.0",
         "0.0",
         "0.0",
         "0.0",
         "0.0",
         "0.0",
         "0.0",
         "0.0",
         "0.0",
         "0.0",
         "0.0",
         "0.0",
         "0.0",
         "0.0",
         "0.0",
         "0.0",
         "0.0",
         "0.17366520797195806",
         "0.0",
         "0.0",
         "0.0",
         "0.0",
         "0.0",
         "0.0",
         "0.07241714948606186",
         "0.0",
         "0.0",
         "0.0",
         "0.0",
         "0.0",
         "0.0",
         "0.0",
         "0.0",
         "0.0",
         "0.0",
         "0.0",
         "0.0",
         "0.0",
         "0.0",
         "0.0",
         "0.0",
         "0.0",
         "0.0",
         "0.0",
         "0.0",
         "0.0",
         "0.0",
         "0.0",
         "0.0",
         "0.0",
         "0.0",
         "0.0",
         "0.0",
         "0.0",
         "0.0",
         "0.0",
         "0.0",
         "0.0",
         "0.0",
         "0.0",
         "0.0",
         "0.0",
         "0.0",
         "0.0",
         "0.0",
         "0.0",
         "0.0",
         "0.0",
         "0.05023325321618949",
         "0.0",
         "0.0",
         "0.0",
         "0.0",
         "0.06330614072297394",
         "0.0",
         "0.0",
         "0.0",
         "0.06063115089532875",
         "0.0",
         "0.0",
         "0.0",
         "0.0",
         "0.0",
         "0.0",
         "0.0",
         "0.0",
         "0.0",
         "0.0",
         "0.0",
         "0.0",
         "0.0",
         "0.0",
         "0.0",
         "0.0",
         "0.0",
         "0.0",
         "0.0",
         "0.0",
         "0.0",
         "0.0",
         "0.0",
         "0.0",
         "0.0",
         "0.0",
         "0.0",
         "0.0",
         "0.0",
         "0.0",
         "0.0",
         "0.0",
         "0.0",
         "0.0",
         "0.0",
         "0.0",
         "0.1674043199484443",
         "0.0",
         "0.0",
         "0.0",
         "0.0",
         "0.0",
         "0.0",
         "0.0",
         "0.0",
         "0.0",
         "0.0",
         "0.0",
         "0.0",
         "0.0",
         "0.08587616169929455",
         "0.0",
         "0.0",
         "0.0",
         "0.0",
         "0.0",
         "0.0",
         "0.0",
         "0.0",
         "0.0",
         "0.0",
         "0.0",
         "0.0",
         "0.0",
         "0.0",
         "0.0",
         "0.0",
         "0.0",
         "0.0",
         "0.0",
         "0.0",
         "0.0",
         "0.0",
         "0.0",
         "0.0",
         "0.0",
         "0.0",
         "0.0",
         "0.0",
         "0.0",
         "0.0",
         "0.0",
         "0.0",
         "0.08587616169929455",
         "0.0",
         "0.0",
         "0.0",
         "0.0",
         "0.0",
         "0.0",
         "0.0",
         "0.0",
         "0.0",
         "0.0",
         "0.08587616169929455",
         "0.0",
         "0.0",
         "0.0",
         "0.0",
         "0.0",
         "0.0",
         "0.0",
         "0.0",
         "0.0",
         "0.0",
         "0.0",
         "0.04984712850974123",
         "0.0",
         "0.0",
         "0.0",
         "0.0",
         "0.0",
         "0.0",
         "0.0",
         "0.0",
         "0.0",
         "0.0",
         "0.0",
         "0.0",
         "0.0",
         "0.0",
         "0.054530831042082804",
         "0.0",
         "0.0",
         "0.0",
         "0.07191616138348905",
         "0.0",
         "0.0",
         "0.0",
         "0.04385048315460071",
         "0.0",
         "0.0",
         "0.0",
         "0.0",
         "0.0",
         "0.0",
         "0.0",
         "0.0",
         "0.0",
         "0.0",
         "0.0",
         "0.0",
         "0.0",
         "0.0",
         "0.0",
         "0.0",
         "0.0",
         "0.058121450088059565",
         "0.0",
         "0.05944224118371941",
         "0.0",
         "0.0",
         "0.0",
         "0.0",
         "0.0",
         "0.0",
         "0.0",
         "0.0",
         "0.0",
         "0.0",
         "0.0",
         "0.0",
         "0.09135420853514511",
         "0.0",
         "0.03437890674793253",
         "0.0",
         "0.0",
         "0.0",
         "0.0",
         "0.0",
         "0.0",
         "0.0",
         "0.0",
         "0.0",
         "0.0",
         "0.0",
         "0.0",
         "0.0",
         "0.0",
         "0.0",
         "0.0704995440625847",
         "0.0",
         "0.0",
         "0.0",
         "0.0",
         "0.0",
         "0.0",
         "0.0",
         "0.0",
         "0.0",
         "0.046836439599899256",
         "0.0",
         "0.0",
         "0.0",
         "0.0",
         "0.0",
         "0.0",
         "0.0",
         "0.0",
         "0.0",
         "0.0",
         "0.0",
         "0.0",
         "0.0",
         "0.0",
         "0.0",
         "0.038754035709521746",
         "0.07851746933930778",
         "0.0",
         "0.0",
         "0.08435837692065212",
         "0.0",
         "0.0",
         "0.0",
         "0.0",
         "0.052917549033609415",
         "0.0",
         "0.0",
         "0.0"
        ],
        [
         "4",
         "0.0",
         "0.0",
         "0.0",
         "0.0",
         "0.0",
         "0.0",
         "0.0",
         "0.0",
         "0.0",
         "0.0",
         "0.0",
         "0.0",
         "0.0",
         "0.0",
         "0.0",
         "0.0",
         "0.0",
         "0.0",
         "0.07153261004520046",
         "0.0",
         "0.0",
         "0.0",
         "0.0",
         "0.0",
         "0.0",
         "0.0",
         "0.0",
         "0.0",
         "0.0",
         "0.0",
         "0.0",
         "0.0",
         "0.0",
         "0.0",
         "0.0",
         "0.0",
         "0.0",
         "0.0",
         "0.06849499743001294",
         "0.0",
         "0.0",
         "0.0",
         "0.1789652239757822",
         "0.0",
         "0.0",
         "0.0",
         "0.0",
         "0.0",
         "0.0",
         "0.0",
         "0.0",
         "0.0",
         "0.0",
         "0.0",
         "0.0",
         "0.0",
         "0.06507575583815932",
         "0.0",
         "0.0",
         "0.0",
         "0.0",
         "0.0",
         "0.0",
         "0.0",
         "0.16315780966567747",
         "0.0",
         "0.0",
         "0.0",
         "0.0",
         "0.0",
         "0.0",
         "0.13015151167631864",
         "0.0",
         "0.0",
         "0.0",
         "0.0",
         "0.06382155859096526",
         "0.0",
         "0.0",
         "0.0",
         "0.0",
         "0.0",
         "0.0",
         "0.0",
         "0.0",
         "0.0",
         "0.0",
         "0.0",
         "0.0",
         "0.0",
         "0.0",
         "0.0",
         "0.0",
         "0.0",
         "0.0",
         "0.0",
         "0.0",
         "0.0",
         "0.0",
         "0.0",
         "0.0",
         "0.0",
         "0.0",
         "0.0",
         "0.04793278977359676",
         "0.0",
         "0.0",
         "0.0",
         "0.0",
         "0.0",
         "0.0",
         "0.0",
         "0.0",
         "0.0",
         "0.0",
         "0.05183804722860619",
         "0.0",
         "0.0",
         "0.0",
         "0.0",
         "0.1369899948600259",
         "0.0",
         "0.0",
         "0.0",
         "0.20735218891442475",
         "0.0",
         "0.0",
         "0.06382155859096526",
         "0.04408359061331277",
         "0.0",
         "0.0",
         "0.0",
         "0.0",
         "0.0",
         "0.0",
         "0.0",
         "0.0",
         "0.0",
         "0.0",
         "0.0",
         "0.0",
         "0.0",
         "0.0",
         "0.08651870186909817",
         "0.0",
         "0.0",
         "0.0",
         "0.0",
         "0.0",
         "0.0",
         "0.0",
         "0.0",
         "0.07153261004520046",
         "0.0",
         "0.0",
         "0.0",
         "0.08968879654896801",
         "0.0",
         "0.0",
         "0.0",
         "0.0",
         "0.0",
         "0.0",
         "0.0",
         "0.0",
         "0.0",
         "0.0",
         "0.0",
         "0.0",
         "0.0",
         "0.0",
         "0.0",
         "0.0",
         "0.0",
         "0.0",
         "0.0",
         "0.0",
         "0.0",
         "0.0",
         "0.0",
         "0.06743508252483636",
         "0.0",
         "0.0",
         "0.0",
         "0.0",
         "0.0",
         "0.0",
         "0.0",
         "0.0",
         "0.0",
         "0.0",
         "0.0",
         "0.0",
         "0.0",
         "0.0",
         "0.0",
         "0.0",
         "0.0",
         "0.0",
         "0.0",
         "0.0",
         "0.0",
         "0.0",
         "0.0",
         "0.0",
         "0.0",
         "0.0",
         "0.0",
         "0.0",
         "0.0",
         "0.0",
         "0.0",
         "0.0",
         "0.0",
         "0.0",
         "0.0",
         "0.0",
         "0.0",
         "0.0",
         "0.0",
         "0.0",
         "0.0",
         "0.0",
         "0.0",
         "0.0",
         "0.0",
         "0.06693223784409558",
         "0.0",
         "0.0",
         "0.07933588457897094",
         "0.0",
         "0.0",
         "0.05113991849110581",
         "0.0",
         "0.0",
         "0.0",
         "0.0",
         "0.0",
         "0.0",
         "0.065518549839678",
         "0.0",
         "0.0",
         "0.0",
         "0.0",
         "0.0",
         "0.0",
         "0.0",
         "0.12257644398869316",
         "0.0",
         "0.0",
         "0.0",
         "0.0",
         "0.0",
         "0.0",
         "0.0",
         "0.08181371387340856",
         "0.0",
         "0.0",
         "0.0",
         "0.0",
         "0.0",
         "0.0",
         "0.0",
         "0.0",
         "0.0",
         "0.0",
         "0.0",
         "0.0",
         "0.0",
         "0.0",
         "0.0",
         "0.0",
         "0.0",
         "0.0",
         "0.0",
         "0.0",
         "0.0",
         "0.0",
         "0.0",
         "0.0",
         "0.0",
         "0.0",
         "0.0",
         "0.0",
         "0.0",
         "0.0",
         "0.0",
         "0.0",
         "0.0",
         "0.0",
         "0.07370710571078926",
         "0.0",
         "0.0",
         "0.0",
         "0.0",
         "0.0",
         "0.0",
         "0.0",
         "0.0",
         "0.0",
         "0.0",
         "0.0",
         "0.0",
         "0.0",
         "0.0",
         "0.0",
         "0.0",
         "0.0",
         "0.0",
         "0.0",
         "0.0",
         "0.0",
         "0.0",
         "0.20716434225228852",
         "0.0",
         "0.0",
         "0.0",
         "0.0",
         "0.0",
         "0.0",
         "0.07294629804961802",
         "0.0",
         "0.0",
         "0.0",
         "0.0",
         "0.0",
         "0.0",
         "0.07823667826669124",
         "0.0",
         "0.0",
         "0.0",
         "0.0",
         "0.05436469444152086",
         "0.0",
         "0.0",
         "0.0",
         "0.0",
         "0.0",
         "0.0",
         "0.0",
         "0.0",
         "0.0",
         "0.0",
         "0.0",
         "0.0",
         "0.0",
         "0.24636999275506483",
         "0.0",
         "0.0",
         "0.0",
         "0.0",
         "0.0",
         "0.0",
         "0.0",
         "0.0",
         "0.0",
         "0.0",
         "0.0",
         "0.0",
         "0.0",
         "0.0",
         "0.0",
         "0.0",
         "0.0",
         "0.07222261806116878",
         "0.0",
         "0.0",
         "0.0",
         "0.0",
         "0.0",
         "0.07933588457897094",
         "0.0",
         "0.05877367692255475",
         "0.08322740187782611",
         "0.0",
         "0.0",
         "0.0",
         "0.0",
         "0.0385723750885311",
         "0.0",
         "0.0",
         "0.0",
         "0.0",
         "0.0",
         "0.0",
         "0.0",
         "0.0",
         "0.0",
         "0.0",
         "0.0",
         "0.0",
         "0.0",
         "0.0",
         "0.0",
         "0.0",
         "0.0",
         "0.0",
         "0.0",
         "0.07933588457897094",
         "0.0",
         "0.055237446011469925",
         "0.0",
         "0.08052311784105785",
         "0.0",
         "0.16778236208231467",
         "0.0",
         "0.0",
         "0.0",
         "0.0",
         "0.0",
         "0.0",
         "0.0",
         "0.0",
         "0.0",
         "0.0",
         "0.0",
         "0.0",
         "0.0",
         "0.0",
         "0.0",
         "0.0",
         "0.0",
         "0.0",
         "0.0",
         "0.0",
         "0.0",
         "0.0",
         "0.0",
         "0.0",
         "0.0",
         "0.0",
         "0.0",
         "0.0",
         "0.0",
         "0.0",
         "0.0",
         "0.08322740187782611",
         "0.0",
         "0.0",
         "0.0",
         "0.0",
         "0.0",
         "0.0",
         "0.0",
         "0.0",
         "0.0",
         "0.0",
         "0.0",
         "0.0",
         "0.0",
         "0.0",
         "0.0",
         "0.0",
         "0.0",
         "0.0",
         "0.0",
         "0.0",
         "0.0",
         "0.0",
         "0.0",
         "0.0",
         "0.0",
         "0.0",
         "0.0",
         "0.0",
         "0.0",
         "0.0",
         "0.0",
         "0.0",
         "0.0",
         "0.0",
         "0.0",
         "0.0",
         "0.0",
         "0.0",
         "0.0",
         "0.0",
         "0.0",
         "0.1277216971608639",
         "0.0",
         "0.0",
         "0.0",
         "0.0",
         "0.0",
         "0.0",
         "0.0",
         "0.0",
         "0.0",
         "0.0",
         "0.0",
         "0.0",
         "0.0",
         "0.0",
         "0.0",
         "0.0",
         "0.06963652188086382",
         "0.0",
         "0.0",
         "0.0",
         "0.0",
         "0.0",
         "0.0",
         "0.0",
         "0.0",
         "0.05354045476275718",
         "0.31319900037769444",
         "0.0",
         "0.2344160356507677",
         "0.0",
         "0.0",
         "0.0",
         "0.0",
         "0.0",
         "0.0",
         "0.06382155859096526",
         "0.0",
         "0.0",
         "0.0",
         "0.0",
         "0.0",
         "0.0",
         "0.0",
         "0.0",
         "0.0",
         "0.0753568596663674",
         "0.0",
         "0.0",
         "0.0",
         "0.0",
         "0.0",
         "0.0",
         "0.0",
         "0.0",
         "0.0",
         "0.0",
         "0.08946658580945875",
         "0.05592745402743823",
         "0.0",
         "0.0",
         "0.0",
         "0.0",
         "0.0",
         "0.06422795380732732",
         "0.0",
         "0.0",
         "0.0",
         "0.0",
         "0.0",
         "0.0",
         "0.0",
         "0.0",
         "0.0",
         "0.0",
         "0.0",
         "0.0",
         "0.0",
         "0.0",
         "0.06905478075076284",
         "0.0",
         "0.0",
         "0.0",
         "0.0",
         "0.0",
         "0.0",
         "0.0",
         "0.0",
         "0.0",
         "0.0",
         "0.0",
         "0.0",
         "0.0",
         "0.0",
         "0.0",
         "0.0",
         "0.0",
         "0.0",
         "0.0",
         "0.0",
         "0.0",
         "0.0",
         "0.0",
         "0.0",
         "0.0",
         "0.0",
         "0.0",
         "0.0",
         "0.0",
         "0.0",
         "0.0",
         "0.0",
         "0.0",
         "0.0",
         "0.0",
         "0.0",
         "0.0",
         "0.0",
         "0.0",
         "0.0",
         "0.0",
         "0.0",
         "0.0",
         "0.0",
         "0.0",
         "0.0",
         "0.0",
         "0.0",
         "0.0",
         "0.0",
         "0.0",
         "0.10627266774586135",
         "0.07087327938765035",
         "0.0",
         "0.0",
         "0.0",
         "0.0",
         "0.0",
         "0.0",
         "0.0",
         "0.0",
         "0.0",
         "0.0",
         "0.0",
         "0.0",
         "0.0",
         "0.0",
         "0.0",
         "0.0",
         "0.0",
         "0.0",
         "0.0",
         "0.08181371387340856",
         "0.0",
         "0.0",
         "0.0",
         "0.0",
         "0.0",
         "0.11482388335411743",
         "0.0",
         "0.0",
         "0.0",
         "0.0",
         "0.0",
         "0.0",
         "0.0",
         "0.0",
         "0.05640596318589014",
         "0.0",
         "0.0",
         "0.0",
         "0.0",
         "0.0",
         "0.0",
         "0.0",
         "0.0",
         "0.0",
         "0.0",
         "0.12318499637753241",
         "0.0",
         "0.0",
         "0.0",
         "0.0",
         "0.06422795380732732",
         "0.0",
         "0.0",
         "0.0",
         "0.0",
         "0.0",
         "0.0",
         "0.0",
         "0.0",
         "0.0",
         "0.0",
         "0.0",
         "0.0",
         "0.0",
         "0.0",
         "0.0",
         "0.0",
         "0.0",
         "0.0",
         "0.0",
         "0.0",
         "0.0753568596663674",
         "0.0",
         "0.0",
         "0.0",
         "0.0",
         "0.0",
         "0.0",
         "0.0",
         "0.0",
         "0.0",
         "0.0",
         "0.0",
         "0.10830860175670665",
         "0.0",
         "0.0",
         "0.0",
         "0.0",
         "0.0",
         "0.0",
         "0.0",
         "0.0",
         "0.0",
         "0.0",
         "0.0",
         "0.0",
         "0.056900425556428845",
         "0.0",
         "0.0",
         "0.0",
         "0.0",
         "0.0",
         "0.0",
         "0.0",
         "0.0",
         "0.0",
         "0.0",
         "0.0",
         "0.0",
         "0.039554018057410795",
         "0.0",
         "0.0",
         "0.0",
         "0.0",
         "0.04366574615091113",
         "0.0",
         "0.0",
         "0.0",
         "0.0",
         "0.0",
         "0.0",
         "0.0",
         "0.0",
         "0.052759616717032304",
         "0.0",
         "0.0",
         "0.0",
         "0.0",
         "0.0",
         "0.0",
         "0.0",
         "0.0",
         "0.0",
         "0.0",
         "0.0",
         "0.0",
         "0.0",
         "0.0",
         "0.0",
         "0.0",
         "0.0",
         "0.0",
         "0.0",
         "0.04408359061331277",
         "0.0",
         "0.0",
         "0.0",
         "0.0",
         "0.0",
         "0.0",
         "0.0",
         "0.0",
         "0.0",
         "0.0",
         "0.0",
         "0.0",
         "0.0",
         "0.0",
         "0.047130837848850624",
         "0.0",
         "0.13729361416708036",
         "0.0",
         "0.0",
         "0.0",
         "0.0",
         "0.0",
         "0.0",
         "0.0",
         "0.15943469416311926",
         "0.0",
         "0.07153261004520046",
         "0.0",
         "0.0",
         "0.0",
         "0.0",
         "0.0",
         "0.0",
         "0.0",
         "0.0",
         "0.0609181776385731",
         "0.07153261004520046",
         "0.0",
         "0.0",
         "0.0",
         "0.0",
         "0.0745090576355354",
         "0.0",
         "0.0",
         "0.0",
         "0.0",
         "0.0",
         "0.0",
         "0.07625607421837222",
         "0.0",
         "0.0",
         "0.3384544396519888",
         "0.0",
         "0.05996091018464167",
         "0.0",
         "0.05201783727849359",
         "0.0",
         "0.0",
         "0.0",
         "0.0",
         "0.0",
         "0.0",
         "0.0",
         "0.0",
         "0.0",
         "0.0",
         "0.0",
         "0.0",
         "0.0",
         "0.0",
         "0.0",
         "0.0",
         "0.0",
         "0.0",
         "0.0",
         "0.0",
         "0.0",
         "0.0",
         "0.0",
         "0.0",
         "0.0",
         "0.0",
         "0.0",
         "0.0",
         "0.0",
         "0.0",
         "0.0",
         "0.0",
         "0.0",
         "0.0",
         "0.0",
         "0.0",
         "0.0",
         "0.0",
         "0.0",
         "0.0",
         "0.0",
         "0.0",
         "0.0",
         "0.0",
         "0.0",
         "0.0",
         "0.0",
         "0.0",
         "0.06382155859096526",
         "0.0",
         "0.0",
         "0.0",
         "0.0",
         "0.07823667826669124",
         "0.0",
         "0.0",
         "0.0",
         "0.0",
         "0.0",
         "0.0",
         "0.0",
         "0.0",
         "0.0",
         "0.0",
         "0.0",
         "0.0",
         "0.0",
         "0.0",
         "0.0",
         "0.0",
         "0.0",
         "0.0",
         "0.0",
         "0.08322740187782611",
         "0.0",
         "0.0",
         "0.0",
         "0.0",
         "0.0",
         "0.0",
         "0.0",
         "0.07024201401284975",
         "0.0",
         "0.0",
         "0.0",
         "0.0",
         "0.0",
         "0.0",
         "0.0",
         "0.0",
         "0.044844398274484006",
         "0.0",
         "0.0",
         "0.0",
         "0.0",
         "0.0",
         "0.0",
         "0.0",
         "0.0",
         "0.0",
         "0.0",
         "0.0",
         "0.0",
         "0.0",
         "0.0",
         "0.0",
         "0.0",
         "0.0",
         "0.0",
         "0.0",
         "0.0",
         "0.057411941677058716",
         "0.08653717804658032",
         "0.0",
         "0.0",
         "0.0",
         "0.0",
         "0.0",
         "0.0",
         "0.05415430087835332",
         "0.0",
         "0.0",
         "0.0",
         "0.0",
         "0.0",
         "0.0",
         "0.0",
         "0.0",
         "0.0",
         "0.0",
         "0.06963652188086382",
         "0.0",
         "0.0",
         "0.0",
         "0.15660291594172823",
         "0.05996091018464167",
         "0.0",
         "0.0",
         "0.0",
         "0.0",
         "0.0",
         "0.0",
         "0.0",
         "0.0",
         "0.0",
         "0.0",
         "0.0",
         "0.0",
         "0.0",
         "0.0",
         "0.0",
         "0.0",
         "0.04120377201298893",
         "0.0",
         "0.0",
         "0.0",
         "0.0",
         "0.0",
         "0.0",
         "0.0",
         "0.04266990260889521",
         "0.0",
         "0.0",
         "0.0",
         "0.0",
         "0.0",
         "0.0",
         "0.0",
         "0.0",
         "0.0",
         "0.0",
         "0.0",
         "0.0",
         "0.05097040238878429",
         "0.0",
         "0.0",
         "0.07061300745970865",
         "0.0",
         "0.0",
         "0.0",
         "0.0",
         "0.0",
         "0.0",
         "0.0",
         "0.0",
         "0.04821004078991536",
         "0.0",
         "0.0",
         "0.0"
        ]
       ],
       "shape": {
        "columns": 1000,
        "rows": 5
       }
      },
      "text/html": [
       "<div>\n",
       "<style scoped>\n",
       "    .dataframe tbody tr th:only-of-type {\n",
       "        vertical-align: middle;\n",
       "    }\n",
       "\n",
       "    .dataframe tbody tr th {\n",
       "        vertical-align: top;\n",
       "    }\n",
       "\n",
       "    .dataframe thead th {\n",
       "        text-align: right;\n",
       "    }\n",
       "</style>\n",
       "<table border=\"1\" class=\"dataframe\">\n",
       "  <thead>\n",
       "    <tr style=\"text-align: right;\">\n",
       "      <th></th>\n",
       "      <th>000</th>\n",
       "      <th>10</th>\n",
       "      <th>100</th>\n",
       "      <th>11</th>\n",
       "      <th>139</th>\n",
       "      <th>15</th>\n",
       "      <th>16</th>\n",
       "      <th>16gb</th>\n",
       "      <th>17</th>\n",
       "      <th>20</th>\n",
       "      <th>...</th>\n",
       "      <th>worth</th>\n",
       "      <th>would</th>\n",
       "      <th>write</th>\n",
       "      <th>wrong</th>\n",
       "      <th>xbox</th>\n",
       "      <th>ye</th>\n",
       "      <th>year</th>\n",
       "      <th>yet</th>\n",
       "      <th>youll</th>\n",
       "      <th>youtub</th>\n",
       "    </tr>\n",
       "  </thead>\n",
       "  <tbody>\n",
       "    <tr>\n",
       "      <th>0</th>\n",
       "      <td>0.0</td>\n",
       "      <td>0.0</td>\n",
       "      <td>0.0</td>\n",
       "      <td>0.0</td>\n",
       "      <td>0.000000</td>\n",
       "      <td>0.0</td>\n",
       "      <td>0.0</td>\n",
       "      <td>0.0</td>\n",
       "      <td>0.0</td>\n",
       "      <td>0.0</td>\n",
       "      <td>...</td>\n",
       "      <td>0.0</td>\n",
       "      <td>0.000000</td>\n",
       "      <td>0.0</td>\n",
       "      <td>0.0</td>\n",
       "      <td>0.0</td>\n",
       "      <td>0.0</td>\n",
       "      <td>0.000000</td>\n",
       "      <td>0.000000</td>\n",
       "      <td>0.0</td>\n",
       "      <td>0.0</td>\n",
       "    </tr>\n",
       "    <tr>\n",
       "      <th>1</th>\n",
       "      <td>0.0</td>\n",
       "      <td>0.0</td>\n",
       "      <td>0.0</td>\n",
       "      <td>0.0</td>\n",
       "      <td>0.107983</td>\n",
       "      <td>0.0</td>\n",
       "      <td>0.0</td>\n",
       "      <td>0.0</td>\n",
       "      <td>0.0</td>\n",
       "      <td>0.0</td>\n",
       "      <td>...</td>\n",
       "      <td>0.0</td>\n",
       "      <td>0.000000</td>\n",
       "      <td>0.0</td>\n",
       "      <td>0.0</td>\n",
       "      <td>0.0</td>\n",
       "      <td>0.0</td>\n",
       "      <td>0.063631</td>\n",
       "      <td>0.000000</td>\n",
       "      <td>0.0</td>\n",
       "      <td>0.0</td>\n",
       "    </tr>\n",
       "    <tr>\n",
       "      <th>2</th>\n",
       "      <td>0.0</td>\n",
       "      <td>0.0</td>\n",
       "      <td>0.0</td>\n",
       "      <td>0.0</td>\n",
       "      <td>0.000000</td>\n",
       "      <td>0.0</td>\n",
       "      <td>0.0</td>\n",
       "      <td>0.0</td>\n",
       "      <td>0.0</td>\n",
       "      <td>0.0</td>\n",
       "      <td>...</td>\n",
       "      <td>0.0</td>\n",
       "      <td>0.000000</td>\n",
       "      <td>0.0</td>\n",
       "      <td>0.0</td>\n",
       "      <td>0.0</td>\n",
       "      <td>0.0</td>\n",
       "      <td>0.000000</td>\n",
       "      <td>0.289821</td>\n",
       "      <td>0.0</td>\n",
       "      <td>0.0</td>\n",
       "    </tr>\n",
       "    <tr>\n",
       "      <th>3</th>\n",
       "      <td>0.0</td>\n",
       "      <td>0.0</td>\n",
       "      <td>0.0</td>\n",
       "      <td>0.0</td>\n",
       "      <td>0.000000</td>\n",
       "      <td>0.0</td>\n",
       "      <td>0.0</td>\n",
       "      <td>0.0</td>\n",
       "      <td>0.0</td>\n",
       "      <td>0.0</td>\n",
       "      <td>...</td>\n",
       "      <td>0.0</td>\n",
       "      <td>0.084358</td>\n",
       "      <td>0.0</td>\n",
       "      <td>0.0</td>\n",
       "      <td>0.0</td>\n",
       "      <td>0.0</td>\n",
       "      <td>0.052918</td>\n",
       "      <td>0.000000</td>\n",
       "      <td>0.0</td>\n",
       "      <td>0.0</td>\n",
       "    </tr>\n",
       "    <tr>\n",
       "      <th>4</th>\n",
       "      <td>0.0</td>\n",
       "      <td>0.0</td>\n",
       "      <td>0.0</td>\n",
       "      <td>0.0</td>\n",
       "      <td>0.000000</td>\n",
       "      <td>0.0</td>\n",
       "      <td>0.0</td>\n",
       "      <td>0.0</td>\n",
       "      <td>0.0</td>\n",
       "      <td>0.0</td>\n",
       "      <td>...</td>\n",
       "      <td>0.0</td>\n",
       "      <td>0.000000</td>\n",
       "      <td>0.0</td>\n",
       "      <td>0.0</td>\n",
       "      <td>0.0</td>\n",
       "      <td>0.0</td>\n",
       "      <td>0.048210</td>\n",
       "      <td>0.000000</td>\n",
       "      <td>0.0</td>\n",
       "      <td>0.0</td>\n",
       "    </tr>\n",
       "  </tbody>\n",
       "</table>\n",
       "<p>5 rows × 1000 columns</p>\n",
       "</div>"
      ],
      "text/plain": [
       "   000   10  100   11       139   15   16  16gb   17   20  ...  worth  \\\n",
       "0  0.0  0.0  0.0  0.0  0.000000  0.0  0.0   0.0  0.0  0.0  ...    0.0   \n",
       "1  0.0  0.0  0.0  0.0  0.107983  0.0  0.0   0.0  0.0  0.0  ...    0.0   \n",
       "2  0.0  0.0  0.0  0.0  0.000000  0.0  0.0   0.0  0.0  0.0  ...    0.0   \n",
       "3  0.0  0.0  0.0  0.0  0.000000  0.0  0.0   0.0  0.0  0.0  ...    0.0   \n",
       "4  0.0  0.0  0.0  0.0  0.000000  0.0  0.0   0.0  0.0  0.0  ...    0.0   \n",
       "\n",
       "      would  write  wrong  xbox   ye      year       yet  youll  youtub  \n",
       "0  0.000000    0.0    0.0   0.0  0.0  0.000000  0.000000    0.0     0.0  \n",
       "1  0.000000    0.0    0.0   0.0  0.0  0.063631  0.000000    0.0     0.0  \n",
       "2  0.000000    0.0    0.0   0.0  0.0  0.000000  0.289821    0.0     0.0  \n",
       "3  0.084358    0.0    0.0   0.0  0.0  0.052918  0.000000    0.0     0.0  \n",
       "4  0.000000    0.0    0.0   0.0  0.0  0.048210  0.000000    0.0     0.0  \n",
       "\n",
       "[5 rows x 1000 columns]"
      ]
     },
     "execution_count": 30,
     "metadata": {},
     "output_type": "execute_result"
    }
   ],
   "source": [
    "from sklearn.feature_extraction.text import TfidfVectorizer\n",
    "\n",
    "# Initializing tfidf\n",
    "tfidf = TfidfVectorizer(max_features=1000)\n",
    "\n",
    "# Applying TfidfVectorizer on data\n",
    "data_features_tfidf = tfidf.fit_transform(data['final_cleaned_text'])\n",
    "\n",
    "# Convert the data features to array\n",
    "data_features_tfidf = data_features_tfidf.toarray()\n",
    "\n",
    "# Shape of the feature vector\n",
    "print(\"Shape of the feature vector\",data_features_tfidf.shape)\n",
    "\n",
    "# Getting the 1000 words considered by the BoW model\n",
    "words = tfidf.get_feature_names_out()\n",
    "\n",
    "print(\"first 10 words\",words[:10])\n",
    "print(\"last 10 words\",words[-10:])\n",
    "\n",
    "# Creating a DataFrame from the data features\n",
    "df_tfidf = pd.DataFrame(data_features_tfidf, columns=tfidf.get_feature_names_out())\n",
    "df_tfidf.head()\n"
   ]
  },
  {
   "cell_type": "markdown",
   "metadata": {
    "id": "hkBPgJZAVGnO"
   },
   "source": [
    "### 3. n-grams"
   ]
  },
  {
   "cell_type": "code",
   "execution_count": 31,
   "metadata": {
    "id": "ipxybmbEVJmv"
   },
   "outputs": [
    {
     "name": "stdout",
     "output_type": "stream",
     "text": [
      "Shape of the feature vector (1005, 1000)\n",
      "first 10 words ['10' '100' '11' '15' '16' '17' '20' '2013' '2014' '2015']\n",
      "last 10 words ['write' 'write review' 'wrong' 'ye' 'year' 'year kindl' 'year model'\n",
      " 'year old' 'yet' 'youtub']\n"
     ]
    },
    {
     "data": {
      "application/vnd.microsoft.datawrangler.viewer.v0+json": {
       "columns": [
        {
         "name": "index",
         "rawType": "int64",
         "type": "integer"
        },
        {
         "name": "10",
         "rawType": "int64",
         "type": "integer"
        },
        {
         "name": "100",
         "rawType": "int64",
         "type": "integer"
        },
        {
         "name": "11",
         "rawType": "int64",
         "type": "integer"
        },
        {
         "name": "15",
         "rawType": "int64",
         "type": "integer"
        },
        {
         "name": "16",
         "rawType": "int64",
         "type": "integer"
        },
        {
         "name": "17",
         "rawType": "int64",
         "type": "integer"
        },
        {
         "name": "20",
         "rawType": "int64",
         "type": "integer"
        },
        {
         "name": "2013",
         "rawType": "int64",
         "type": "integer"
        },
        {
         "name": "2014",
         "rawType": "int64",
         "type": "integer"
        },
        {
         "name": "2015",
         "rawType": "int64",
         "type": "integer"
        },
        {
         "name": "2017",
         "rawType": "int64",
         "type": "integer"
        },
        {
         "name": "24",
         "rawType": "int64",
         "type": "integer"
        },
        {
         "name": "2nd",
         "rawType": "int64",
         "type": "integer"
        },
        {
         "name": "30",
         "rawType": "int64",
         "type": "integer"
        },
        {
         "name": "300",
         "rawType": "int64",
         "type": "integer"
        },
        {
         "name": "3rd",
         "rawType": "int64",
         "type": "integer"
        },
        {
         "name": "50",
         "rawType": "int64",
         "type": "integer"
        },
        {
         "name": "6x0",
         "rawType": "int64",
         "type": "integer"
        },
        {
         "name": "7x4",
         "rawType": "int64",
         "type": "integer"
        },
        {
         "name": "7x4 6x0",
         "rawType": "int64",
         "type": "integer"
        },
        {
         "name": "99",
         "rawType": "int64",
         "type": "integer"
        },
        {
         "name": "abil",
         "rawType": "int64",
         "type": "integer"
        },
        {
         "name": "abl",
         "rawType": "int64",
         "type": "integer"
        },
        {
         "name": "absolut",
         "rawType": "int64",
         "type": "integer"
        },
        {
         "name": "access",
         "rawType": "int64",
         "type": "integer"
        },
        {
         "name": "account",
         "rawType": "int64",
         "type": "integer"
        },
        {
         "name": "accur",
         "rawType": "int64",
         "type": "integer"
        },
        {
         "name": "across",
         "rawType": "int64",
         "type": "integer"
        },
        {
         "name": "activ",
         "rawType": "int64",
         "type": "integer"
        },
        {
         "name": "actual",
         "rawType": "int64",
         "type": "integer"
        },
        {
         "name": "ad",
         "rawType": "int64",
         "type": "integer"
        },
        {
         "name": "adapt",
         "rawType": "int64",
         "type": "integer"
        },
        {
         "name": "add",
         "rawType": "int64",
         "type": "integer"
        },
        {
         "name": "addit",
         "rawType": "int64",
         "type": "integer"
        },
        {
         "name": "adjust",
         "rawType": "int64",
         "type": "integer"
        },
        {
         "name": "age",
         "rawType": "int64",
         "type": "integer"
        },
        {
         "name": "ago",
         "rawType": "int64",
         "type": "integer"
        },
        {
         "name": "alarm",
         "rawType": "int64",
         "type": "integer"
        },
        {
         "name": "alexa",
         "rawType": "int64",
         "type": "integer"
        },
        {
         "name": "alexa app",
         "rawType": "int64",
         "type": "integer"
        },
        {
         "name": "allow",
         "rawType": "int64",
         "type": "integer"
        },
        {
         "name": "almost",
         "rawType": "int64",
         "type": "integer"
        },
        {
         "name": "along",
         "rawType": "int64",
         "type": "integer"
        },
        {
         "name": "alreadi",
         "rawType": "int64",
         "type": "integer"
        },
        {
         "name": "also",
         "rawType": "int64",
         "type": "integer"
        },
        {
         "name": "although",
         "rawType": "int64",
         "type": "integer"
        },
        {
         "name": "alway",
         "rawType": "int64",
         "type": "integer"
        },
        {
         "name": "alway listen",
         "rawType": "int64",
         "type": "integer"
        },
        {
         "name": "amaz",
         "rawType": "int64",
         "type": "integer"
        },
        {
         "name": "amazon",
         "rawType": "int64",
         "type": "integer"
        },
        {
         "name": "amazon account",
         "rawType": "int64",
         "type": "integer"
        },
        {
         "name": "amazon com",
         "rawType": "int64",
         "type": "integer"
        },
        {
         "name": "amazon content",
         "rawType": "int64",
         "type": "integer"
        },
        {
         "name": "amazon echo",
         "rawType": "int64",
         "type": "integer"
        },
        {
         "name": "amazon fire",
         "rawType": "int64",
         "type": "integer"
        },
        {
         "name": "amazon prime",
         "rawType": "int64",
         "type": "integer"
        },
        {
         "name": "amazon tap",
         "rawType": "int64",
         "type": "integer"
        },
        {
         "name": "amount",
         "rawType": "int64",
         "type": "integer"
        },
        {
         "name": "android",
         "rawType": "int64",
         "type": "integer"
        },
        {
         "name": "annoy",
         "rawType": "int64",
         "type": "integer"
        },
        {
         "name": "anoth",
         "rawType": "int64",
         "type": "integer"
        },
        {
         "name": "answer",
         "rawType": "int64",
         "type": "integer"
        },
        {
         "name": "answer question",
         "rawType": "int64",
         "type": "integer"
        },
        {
         "name": "anyon",
         "rawType": "int64",
         "type": "integer"
        },
        {
         "name": "anyth",
         "rawType": "int64",
         "type": "integer"
        },
        {
         "name": "anyway",
         "rawType": "int64",
         "type": "integer"
        },
        {
         "name": "anywher",
         "rawType": "int64",
         "type": "integer"
        },
        {
         "name": "app",
         "rawType": "int64",
         "type": "integer"
        },
        {
         "name": "app store",
         "rawType": "int64",
         "type": "integer"
        },
        {
         "name": "appear",
         "rawType": "int64",
         "type": "integer"
        },
        {
         "name": "appl",
         "rawType": "int64",
         "type": "integer"
        },
        {
         "name": "appl tv",
         "rawType": "int64",
         "type": "integer"
        },
        {
         "name": "area",
         "rawType": "int64",
         "type": "integer"
        },
        {
         "name": "around",
         "rawType": "int64",
         "type": "integer"
        },
        {
         "name": "around hous",
         "rawType": "int64",
         "type": "integer"
        },
        {
         "name": "arriv",
         "rawType": "int64",
         "type": "integer"
        },
        {
         "name": "ask",
         "rawType": "int64",
         "type": "integer"
        },
        {
         "name": "ask alexa",
         "rawType": "int64",
         "type": "integer"
        },
        {
         "name": "aspect",
         "rawType": "int64",
         "type": "integer"
        },
        {
         "name": "attach",
         "rawType": "int64",
         "type": "integer"
        },
        {
         "name": "attempt",
         "rawType": "int64",
         "type": "integer"
        },
        {
         "name": "attent",
         "rawType": "int64",
         "type": "integer"
        },
        {
         "name": "attract",
         "rawType": "int64",
         "type": "integer"
        },
        {
         "name": "audio",
         "rawType": "int64",
         "type": "integer"
        },
        {
         "name": "automat",
         "rawType": "int64",
         "type": "integer"
        },
        {
         "name": "avail",
         "rawType": "int64",
         "type": "integer"
        },
        {
         "name": "avail amazon",
         "rawType": "int64",
         "type": "integer"
        },
        {
         "name": "away",
         "rawType": "int64",
         "type": "integer"
        },
        {
         "name": "awesom",
         "rawType": "int64",
         "type": "integer"
        },
        {
         "name": "back",
         "rawType": "int64",
         "type": "integer"
        },
        {
         "name": "background",
         "rawType": "int64",
         "type": "integer"
        },
        {
         "name": "bad",
         "rawType": "int64",
         "type": "integer"
        },
        {
         "name": "bag",
         "rawType": "int64",
         "type": "integer"
        },
        {
         "name": "base",
         "rawType": "int64",
         "type": "integer"
        },
        {
         "name": "basic",
         "rawType": "int64",
         "type": "integer"
        },
        {
         "name": "basic kindl",
         "rawType": "int64",
         "type": "integer"
        },
        {
         "name": "bass",
         "rawType": "int64",
         "type": "integer"
        },
        {
         "name": "batteri",
         "rawType": "int64",
         "type": "integer"
        },
        {
         "name": "batteri last",
         "rawType": "int64",
         "type": "integer"
        },
        {
         "name": "batteri life",
         "rawType": "int64",
         "type": "integer"
        },
        {
         "name": "beach",
         "rawType": "int64",
         "type": "integer"
        },
        {
         "name": "beauti",
         "rawType": "int64",
         "type": "integer"
        },
        {
         "name": "becom",
         "rawType": "int64",
         "type": "integer"
        },
        {
         "name": "bed",
         "rawType": "int64",
         "type": "integer"
        },
        {
         "name": "bedroom",
         "rawType": "int64",
         "type": "integer"
        },
        {
         "name": "believ",
         "rawType": "int64",
         "type": "integer"
        },
        {
         "name": "best",
         "rawType": "int64",
         "type": "integer"
        },
        {
         "name": "best buy",
         "rawType": "int64",
         "type": "integer"
        },
        {
         "name": "better",
         "rawType": "int64",
         "type": "integer"
        },
        {
         "name": "better option",
         "rawType": "int64",
         "type": "integer"
        },
        {
         "name": "big",
         "rawType": "int64",
         "type": "integer"
        },
        {
         "name": "bit",
         "rawType": "int64",
         "type": "integer"
        },
        {
         "name": "black",
         "rawType": "int64",
         "type": "integer"
        },
        {
         "name": "blend",
         "rawType": "int64",
         "type": "integer"
        },
        {
         "name": "blue",
         "rawType": "int64",
         "type": "integer"
        },
        {
         "name": "bluetooth",
         "rawType": "int64",
         "type": "integer"
        },
        {
         "name": "bluetooth speaker",
         "rawType": "int64",
         "type": "integer"
        },
        {
         "name": "book",
         "rawType": "int64",
         "type": "integer"
        },
        {
         "name": "book read",
         "rawType": "int64",
         "type": "integer"
        },
        {
         "name": "bottom",
         "rawType": "int64",
         "type": "integer"
        },
        {
         "name": "bought",
         "rawType": "int64",
         "type": "integer"
        },
        {
         "name": "box",
         "rawType": "int64",
         "type": "integer"
        },
        {
         "name": "brand",
         "rawType": "int64",
         "type": "integer"
        },
        {
         "name": "brand new",
         "rawType": "int64",
         "type": "integer"
        },
        {
         "name": "bright",
         "rawType": "int64",
         "type": "integer"
        },
        {
         "name": "bring",
         "rawType": "int64",
         "type": "integer"
        },
        {
         "name": "brows",
         "rawType": "int64",
         "type": "integer"
        },
        {
         "name": "browser",
         "rawType": "int64",
         "type": "integer"
        },
        {
         "name": "build",
         "rawType": "int64",
         "type": "integer"
        },
        {
         "name": "built",
         "rawType": "int64",
         "type": "integer"
        },
        {
         "name": "busi",
         "rawType": "int64",
         "type": "integer"
        },
        {
         "name": "button",
         "rawType": "int64",
         "type": "integer"
        },
        {
         "name": "buy",
         "rawType": "int64",
         "type": "integer"
        },
        {
         "name": "buy one",
         "rawType": "int64",
         "type": "integer"
        },
        {
         "name": "cabl",
         "rawType": "int64",
         "type": "integer"
        },
        {
         "name": "call",
         "rawType": "int64",
         "type": "integer"
        },
        {
         "name": "came",
         "rawType": "int64",
         "type": "integer"
        },
        {
         "name": "camera",
         "rawType": "int64",
         "type": "integer"
        },
        {
         "name": "cannot",
         "rawType": "int64",
         "type": "integer"
        },
        {
         "name": "capabl",
         "rawType": "int64",
         "type": "integer"
        },
        {
         "name": "card",
         "rawType": "int64",
         "type": "integer"
        },
        {
         "name": "care",
         "rawType": "int64",
         "type": "integer"
        },
        {
         "name": "carri",
         "rawType": "int64",
         "type": "integer"
        },
        {
         "name": "case",
         "rawType": "int64",
         "type": "integer"
        },
        {
         "name": "categori",
         "rawType": "int64",
         "type": "integer"
        },
        {
         "name": "caus",
         "rawType": "int64",
         "type": "integer"
        },
        {
         "name": "chang",
         "rawType": "int64",
         "type": "integer"
        },
        {
         "name": "channel",
         "rawType": "int64",
         "type": "integer"
        },
        {
         "name": "charg",
         "rawType": "int64",
         "type": "integer"
        },
        {
         "name": "charger",
         "rawType": "int64",
         "type": "integer"
        },
        {
         "name": "cheap",
         "rawType": "int64",
         "type": "integer"
        },
        {
         "name": "cheaper",
         "rawType": "int64",
         "type": "integer"
        },
        {
         "name": "check",
         "rawType": "int64",
         "type": "integer"
        },
        {
         "name": "child",
         "rawType": "int64",
         "type": "integer"
        },
        {
         "name": "choic",
         "rawType": "int64",
         "type": "integer"
        },
        {
         "name": "choos",
         "rawType": "int64",
         "type": "integer"
        },
        {
         "name": "christma",
         "rawType": "int64",
         "type": "integer"
        },
        {
         "name": "chromecast",
         "rawType": "int64",
         "type": "integer"
        },
        {
         "name": "class",
         "rawType": "int64",
         "type": "integer"
        },
        {
         "name": "clean",
         "rawType": "int64",
         "type": "integer"
        },
        {
         "name": "clear",
         "rawType": "int64",
         "type": "integer"
        },
        {
         "name": "click",
         "rawType": "int64",
         "type": "integer"
        },
        {
         "name": "close",
         "rawType": "int64",
         "type": "integer"
        },
        {
         "name": "cloud",
         "rawType": "int64",
         "type": "integer"
        },
        {
         "name": "collect",
         "rawType": "int64",
         "type": "integer"
        },
        {
         "name": "color",
         "rawType": "int64",
         "type": "integer"
        },
        {
         "name": "com",
         "rawType": "int64",
         "type": "integer"
        },
        {
         "name": "comcast",
         "rawType": "int64",
         "type": "integer"
        },
        {
         "name": "come",
         "rawType": "int64",
         "type": "integer"
        },
        {
         "name": "comfort",
         "rawType": "int64",
         "type": "integer"
        },
        {
         "name": "command",
         "rawType": "int64",
         "type": "integer"
        },
        {
         "name": "comment",
         "rawType": "int64",
         "type": "integer"
        },
        {
         "name": "compar",
         "rawType": "int64",
         "type": "integer"
        },
        {
         "name": "comparison",
         "rawType": "int64",
         "type": "integer"
        },
        {
         "name": "compet",
         "rawType": "int64",
         "type": "integer"
        },
        {
         "name": "complaint",
         "rawType": "int64",
         "type": "integer"
        },
        {
         "name": "complet",
         "rawType": "int64",
         "type": "integer"
        },
        {
         "name": "comput",
         "rawType": "int64",
         "type": "integer"
        },
        {
         "name": "con",
         "rawType": "int64",
         "type": "integer"
        },
        {
         "name": "concern",
         "rawType": "int64",
         "type": "integer"
        },
        {
         "name": "connect",
         "rawType": "int64",
         "type": "integer"
        },
        {
         "name": "consid",
         "rawType": "int64",
         "type": "integer"
        },
        {
         "name": "consider",
         "rawType": "int64",
         "type": "integer"
        },
        {
         "name": "consist",
         "rawType": "int64",
         "type": "integer"
        },
        {
         "name": "consol",
         "rawType": "int64",
         "type": "integer"
        },
        {
         "name": "contact",
         "rawType": "int64",
         "type": "integer"
        },
        {
         "name": "content",
         "rawType": "int64",
         "type": "integer"
        },
        {
         "name": "continu",
         "rawType": "int64",
         "type": "integer"
        },
        {
         "name": "contrast",
         "rawType": "int64",
         "type": "integer"
        },
        {
         "name": "control",
         "rawType": "int64",
         "type": "integer"
        },
        {
         "name": "conveni",
         "rawType": "int64",
         "type": "integer"
        },
        {
         "name": "cool",
         "rawType": "int64",
         "type": "integer"
        },
        {
         "name": "cord",
         "rawType": "int64",
         "type": "integer"
        },
        {
         "name": "core",
         "rawType": "int64",
         "type": "integer"
        },
        {
         "name": "cost",
         "rawType": "int64",
         "type": "integer"
        },
        {
         "name": "could",
         "rawType": "int64",
         "type": "integer"
        },
        {
         "name": "counter",
         "rawType": "int64",
         "type": "integer"
        },
        {
         "name": "coupl",
         "rawType": "int64",
         "type": "integer"
        },
        {
         "name": "cours",
         "rawType": "int64",
         "type": "integer"
        },
        {
         "name": "cover",
         "rawType": "int64",
         "type": "integer"
        },
        {
         "name": "crash",
         "rawType": "int64",
         "type": "integer"
        },
        {
         "name": "crisp",
         "rawType": "int64",
         "type": "integer"
        },
        {
         "name": "current",
         "rawType": "int64",
         "type": "integer"
        },
        {
         "name": "custom",
         "rawType": "int64",
         "type": "integer"
        },
        {
         "name": "custom servic",
         "rawType": "int64",
         "type": "integer"
        },
        {
         "name": "cut",
         "rawType": "int64",
         "type": "integer"
        },
        {
         "name": "daili",
         "rawType": "int64",
         "type": "integer"
        },
        {
         "name": "dark",
         "rawType": "int64",
         "type": "integer"
        },
        {
         "name": "date",
         "rawType": "int64",
         "type": "integer"
        },
        {
         "name": "daughter",
         "rawType": "int64",
         "type": "integer"
        },
        {
         "name": "day",
         "rawType": "int64",
         "type": "integer"
        },
        {
         "name": "deal",
         "rawType": "int64",
         "type": "integer"
        },
        {
         "name": "decent",
         "rawType": "int64",
         "type": "integer"
        },
        {
         "name": "decid",
         "rawType": "int64",
         "type": "integer"
        },
        {
         "name": "decis",
         "rawType": "int64",
         "type": "integer"
        },
        {
         "name": "definit",
         "rawType": "int64",
         "type": "integer"
        },
        {
         "name": "depend",
         "rawType": "int64",
         "type": "integer"
        },
        {
         "name": "descript",
         "rawType": "int64",
         "type": "integer"
        },
        {
         "name": "design",
         "rawType": "int64",
         "type": "integer"
        },
        {
         "name": "despit",
         "rawType": "int64",
         "type": "integer"
        },
        {
         "name": "detail",
         "rawType": "int64",
         "type": "integer"
        },
        {
         "name": "devic",
         "rawType": "int64",
         "type": "integer"
        },
        {
         "name": "diagon",
         "rawType": "int64",
         "type": "integer"
        },
        {
         "name": "differ",
         "rawType": "int64",
         "type": "integer"
        },
        {
         "name": "difficult",
         "rawType": "int64",
         "type": "integer"
        },
        {
         "name": "digit",
         "rawType": "int64",
         "type": "integer"
        },
        {
         "name": "ding",
         "rawType": "int64",
         "type": "integer"
        },
        {
         "name": "direct",
         "rawType": "int64",
         "type": "integer"
        },
        {
         "name": "directli",
         "rawType": "int64",
         "type": "integer"
        },
        {
         "name": "disappoint",
         "rawType": "int64",
         "type": "integer"
        },
        {
         "name": "disconnect",
         "rawType": "int64",
         "type": "integer"
        },
        {
         "name": "display",
         "rawType": "int64",
         "type": "integer"
        },
        {
         "name": "display resolut",
         "rawType": "int64",
         "type": "integer"
        },
        {
         "name": "dock",
         "rawType": "int64",
         "type": "integer"
        },
        {
         "name": "done",
         "rawType": "int64",
         "type": "integer"
        },
        {
         "name": "dot",
         "rawType": "int64",
         "type": "integer"
        },
        {
         "name": "download",
         "rawType": "int64",
         "type": "integer"
        },
        {
         "name": "drain",
         "rawType": "int64",
         "type": "integer"
        },
        {
         "name": "drive",
         "rawType": "int64",
         "type": "integer"
        },
        {
         "name": "drop",
         "rawType": "int64",
         "type": "integer"
        },
        {
         "name": "dual",
         "rawType": "int64",
         "type": "integer"
        },
        {
         "name": "due",
         "rawType": "int64",
         "type": "integer"
        },
        {
         "name": "durabl",
         "rawType": "int64",
         "type": "integer"
        },
        {
         "name": "ear",
         "rawType": "int64",
         "type": "integer"
        },
        {
         "name": "earbud",
         "rawType": "int64",
         "type": "integer"
        },
        {
         "name": "earli",
         "rawType": "int64",
         "type": "integer"
        },
        {
         "name": "earlier",
         "rawType": "int64",
         "type": "integer"
        },
        {
         "name": "eas",
         "rawType": "int64",
         "type": "integer"
        },
        {
         "name": "easi",
         "rawType": "int64",
         "type": "integer"
        },
        {
         "name": "easi set",
         "rawType": "int64",
         "type": "integer"
        },
        {
         "name": "easi use",
         "rawType": "int64",
         "type": "integer"
        },
        {
         "name": "easier",
         "rawType": "int64",
         "type": "integer"
        },
        {
         "name": "easili",
         "rawType": "int64",
         "type": "integer"
        },
        {
         "name": "ebook",
         "rawType": "int64",
         "type": "integer"
        },
        {
         "name": "echo",
         "rawType": "int64",
         "type": "integer"
        },
        {
         "name": "echo dot",
         "rawType": "int64",
         "type": "integer"
        },
        {
         "name": "edg",
         "rawType": "int64",
         "type": "integer"
        },
        {
         "name": "edit",
         "rawType": "int64",
         "type": "integer"
        },
        {
         "name": "effect",
         "rawType": "int64",
         "type": "integer"
        },
        {
         "name": "either",
         "rawType": "int64",
         "type": "integer"
        },
        {
         "name": "els",
         "rawType": "int64",
         "type": "integer"
        },
        {
         "name": "email",
         "rawType": "int64",
         "type": "integer"
        },
        {
         "name": "enabl",
         "rawType": "int64",
         "type": "integer"
        },
        {
         "name": "end",
         "rawType": "int64",
         "type": "integer"
        },
        {
         "name": "enhanc",
         "rawType": "int64",
         "type": "integer"
        },
        {
         "name": "enjoy",
         "rawType": "int64",
         "type": "integer"
        },
        {
         "name": "enough",
         "rawType": "int64",
         "type": "integer"
        },
        {
         "name": "entir",
         "rawType": "int64",
         "type": "integer"
        },
        {
         "name": "episod",
         "rawType": "int64",
         "type": "integer"
        },
        {
         "name": "especi",
         "rawType": "int64",
         "type": "integer"
        },
        {
         "name": "essenti",
         "rawType": "int64",
         "type": "integer"
        },
        {
         "name": "etc",
         "rawType": "int64",
         "type": "integer"
        },
        {
         "name": "even",
         "rawType": "int64",
         "type": "integer"
        },
        {
         "name": "even better",
         "rawType": "int64",
         "type": "integer"
        },
        {
         "name": "even though",
         "rawType": "int64",
         "type": "integer"
        },
        {
         "name": "ever",
         "rawType": "int64",
         "type": "integer"
        },
        {
         "name": "everi",
         "rawType": "int64",
         "type": "integer"
        },
        {
         "name": "everyon",
         "rawType": "int64",
         "type": "integer"
        },
        {
         "name": "everyth",
         "rawType": "int64",
         "type": "integer"
        },
        {
         "name": "exactli",
         "rawType": "int64",
         "type": "integer"
        },
        {
         "name": "exampl",
         "rawType": "int64",
         "type": "integer"
        },
        {
         "name": "excel",
         "rawType": "int64",
         "type": "integer"
        },
        {
         "name": "except",
         "rawType": "int64",
         "type": "integer"
        },
        {
         "name": "exist",
         "rawType": "int64",
         "type": "integer"
        },
        {
         "name": "expect",
         "rawType": "int64",
         "type": "integer"
        },
        {
         "name": "expens",
         "rawType": "int64",
         "type": "integer"
        },
        {
         "name": "experi",
         "rawType": "int64",
         "type": "integer"
        },
        {
         "name": "extra",
         "rawType": "int64",
         "type": "integer"
        },
        {
         "name": "eye",
         "rawType": "int64",
         "type": "integer"
        },
        {
         "name": "fabric",
         "rawType": "int64",
         "type": "integer"
        },
        {
         "name": "face",
         "rawType": "int64",
         "type": "integer"
        },
        {
         "name": "fact",
         "rawType": "int64",
         "type": "integer"
        },
        {
         "name": "factor",
         "rawType": "int64",
         "type": "integer"
        },
        {
         "name": "fade",
         "rawType": "int64",
         "type": "integer"
        },
        {
         "name": "fairli",
         "rawType": "int64",
         "type": "integer"
        },
        {
         "name": "fall",
         "rawType": "int64",
         "type": "integer"
        },
        {
         "name": "famili",
         "rawType": "int64",
         "type": "integer"
        },
        {
         "name": "fan",
         "rawType": "int64",
         "type": "integer"
        },
        {
         "name": "fantast",
         "rawType": "int64",
         "type": "integer"
        },
        {
         "name": "far",
         "rawType": "int64",
         "type": "integer"
        },
        {
         "name": "fast",
         "rawType": "int64",
         "type": "integer"
        },
        {
         "name": "faster",
         "rawType": "int64",
         "type": "integer"
        },
        {
         "name": "favorit",
         "rawType": "int64",
         "type": "integer"
        },
        {
         "name": "featur",
         "rawType": "int64",
         "type": "integer"
        },
        {
         "name": "feel",
         "rawType": "int64",
         "type": "integer"
        },
        {
         "name": "feel like",
         "rawType": "int64",
         "type": "integer"
        },
        {
         "name": "felt",
         "rawType": "int64",
         "type": "integer"
        },
        {
         "name": "fi",
         "rawType": "int64",
         "type": "integer"
        },
        {
         "name": "fi version",
         "rawType": "int64",
         "type": "integer"
        },
        {
         "name": "figur",
         "rawType": "int64",
         "type": "integer"
        },
        {
         "name": "file",
         "rawType": "int64",
         "type": "integer"
        },
        {
         "name": "final",
         "rawType": "int64",
         "type": "integer"
        },
        {
         "name": "find",
         "rawType": "int64",
         "type": "integer"
        },
        {
         "name": "fine",
         "rawType": "int64",
         "type": "integer"
        },
        {
         "name": "finish",
         "rawType": "int64",
         "type": "integer"
        },
        {
         "name": "fire",
         "rawType": "int64",
         "type": "integer"
        },
        {
         "name": "fire hd",
         "rawType": "int64",
         "type": "integer"
        },
        {
         "name": "fire hdx",
         "rawType": "int64",
         "type": "integer"
        },
        {
         "name": "fire stick",
         "rawType": "int64",
         "type": "integer"
        },
        {
         "name": "fire tablet",
         "rawType": "int64",
         "type": "integer"
        },
        {
         "name": "fire tv",
         "rawType": "int64",
         "type": "integer"
        },
        {
         "name": "firetv",
         "rawType": "int64",
         "type": "integer"
        },
        {
         "name": "first",
         "rawType": "int64",
         "type": "integer"
        },
        {
         "name": "first gener",
         "rawType": "int64",
         "type": "integer"
        },
        {
         "name": "first one",
         "rawType": "int64",
         "type": "integer"
        },
        {
         "name": "first time",
         "rawType": "int64",
         "type": "integer"
        },
        {
         "name": "fit",
         "rawType": "int64",
         "type": "integer"
        },
        {
         "name": "fix",
         "rawType": "int64",
         "type": "integer"
        },
        {
         "name": "fold",
         "rawType": "int64",
         "type": "integer"
        },
        {
         "name": "follow",
         "rawType": "int64",
         "type": "integer"
        },
        {
         "name": "font",
         "rawType": "int64",
         "type": "integer"
        },
        {
         "name": "found",
         "rawType": "int64",
         "type": "integer"
        },
        {
         "name": "free",
         "rawType": "int64",
         "type": "integer"
        },
        {
         "name": "freetim",
         "rawType": "int64",
         "type": "integer"
        },
        {
         "name": "friend",
         "rawType": "int64",
         "type": "integer"
        },
        {
         "name": "front",
         "rawType": "int64",
         "type": "integer"
        },
        {
         "name": "frustrat",
         "rawType": "int64",
         "type": "integer"
        },
        {
         "name": "full",
         "rawType": "int64",
         "type": "integer"
        },
        {
         "name": "fulli",
         "rawType": "int64",
         "type": "integer"
        },
        {
         "name": "fun",
         "rawType": "int64",
         "type": "integer"
        },
        {
         "name": "function",
         "rawType": "int64",
         "type": "integer"
        },
        {
         "name": "game",
         "rawType": "int64",
         "type": "integer"
        },
        {
         "name": "gave",
         "rawType": "int64",
         "type": "integer"
        },
        {
         "name": "gb",
         "rawType": "int64",
         "type": "integer"
        },
        {
         "name": "gener",
         "rawType": "int64",
         "type": "integer"
        },
        {
         "name": "gener kindl",
         "rawType": "int64",
         "type": "integer"
        },
        {
         "name": "gener paperwhit",
         "rawType": "int64",
         "type": "integer"
        },
        {
         "name": "get",
         "rawType": "int64",
         "type": "integer"
        },
        {
         "name": "get kindl",
         "rawType": "int64",
         "type": "integer"
        },
        {
         "name": "get use",
         "rawType": "int64",
         "type": "integer"
        },
        {
         "name": "gift",
         "rawType": "int64",
         "type": "integer"
        },
        {
         "name": "give",
         "rawType": "int64",
         "type": "integer"
        },
        {
         "name": "given",
         "rawType": "int64",
         "type": "integer"
        },
        {
         "name": "glad",
         "rawType": "int64",
         "type": "integer"
        },
        {
         "name": "glossi",
         "rawType": "int64",
         "type": "integer"
        },
        {
         "name": "go",
         "rawType": "int64",
         "type": "integer"
        },
        {
         "name": "goe",
         "rawType": "int64",
         "type": "integer"
        },
        {
         "name": "gone",
         "rawType": "int64",
         "type": "integer"
        },
        {
         "name": "good",
         "rawType": "int64",
         "type": "integer"
        },
        {
         "name": "good sound",
         "rawType": "int64",
         "type": "integer"
        },
        {
         "name": "googl",
         "rawType": "int64",
         "type": "integer"
        },
        {
         "name": "googl play",
         "rawType": "int64",
         "type": "integer"
        },
        {
         "name": "got",
         "rawType": "int64",
         "type": "integer"
        },
        {
         "name": "gotten",
         "rawType": "int64",
         "type": "integer"
        },
        {
         "name": "grab",
         "rawType": "int64",
         "type": "integer"
        },
        {
         "name": "great",
         "rawType": "int64",
         "type": "integer"
        },
        {
         "name": "great product",
         "rawType": "int64",
         "type": "integer"
        },
        {
         "name": "great sound",
         "rawType": "int64",
         "type": "integer"
        },
        {
         "name": "great speaker",
         "rawType": "int64",
         "type": "integer"
        },
        {
         "name": "grey",
         "rawType": "int64",
         "type": "integer"
        },
        {
         "name": "guess",
         "rawType": "int64",
         "type": "integer"
        },
        {
         "name": "guy",
         "rawType": "int64",
         "type": "integer"
        },
        {
         "name": "half",
         "rawType": "int64",
         "type": "integer"
        },
        {
         "name": "hand",
         "rawType": "int64",
         "type": "integer"
        },
        {
         "name": "hand free",
         "rawType": "int64",
         "type": "integer"
        },
        {
         "name": "hang",
         "rawType": "int64",
         "type": "integer"
        },
        {
         "name": "happen",
         "rawType": "int64",
         "type": "integer"
        },
        {
         "name": "happi",
         "rawType": "int64",
         "type": "integer"
        },
        {
         "name": "hard",
         "rawType": "int64",
         "type": "integer"
        },
        {
         "name": "hardwar",
         "rawType": "int64",
         "type": "integer"
        },
        {
         "name": "hbo",
         "rawType": "int64",
         "type": "integer"
        },
        {
         "name": "hd",
         "rawType": "int64",
         "type": "integer"
        },
        {
         "name": "hdmi",
         "rawType": "int64",
         "type": "integer"
        },
        {
         "name": "hdx",
         "rawType": "int64",
         "type": "integer"
        },
        {
         "name": "hdx nexu",
         "rawType": "int64",
         "type": "integer"
        },
        {
         "name": "headphon",
         "rawType": "int64",
         "type": "integer"
        },
        {
         "name": "hear",
         "rawType": "int64",
         "type": "integer"
        },
        {
         "name": "heavi",
         "rawType": "int64",
         "type": "integer"
        },
        {
         "name": "help",
         "rawType": "int64",
         "type": "integer"
        },
        {
         "name": "hesit",
         "rawType": "int64",
         "type": "integer"
        },
        {
         "name": "high",
         "rawType": "int64",
         "type": "integer"
        },
        {
         "name": "higher",
         "rawType": "int64",
         "type": "integer"
        },
        {
         "name": "highli",
         "rawType": "int64",
         "type": "integer"
        },
        {
         "name": "highli recommend",
         "rawType": "int64",
         "type": "integer"
        },
        {
         "name": "hit",
         "rawType": "int64",
         "type": "integer"
        },
        {
         "name": "hold",
         "rawType": "int64",
         "type": "integer"
        },
        {
         "name": "home",
         "rawType": "int64",
         "type": "integer"
        },
        {
         "name": "home screen",
         "rawType": "int64",
         "type": "integer"
        },
        {
         "name": "honestli",
         "rawType": "int64",
         "type": "integer"
        },
        {
         "name": "hope",
         "rawType": "int64",
         "type": "integer"
        },
        {
         "name": "hour",
         "rawType": "int64",
         "type": "integer"
        },
        {
         "name": "hous",
         "rawType": "int64",
         "type": "integer"
        },
        {
         "name": "howev",
         "rawType": "int64",
         "type": "integer"
        },
        {
         "name": "hue",
         "rawType": "int64",
         "type": "integer"
        },
        {
         "name": "huge",
         "rawType": "int64",
         "type": "integer"
        },
        {
         "name": "huge fan",
         "rawType": "int64",
         "type": "integer"
        },
        {
         "name": "husband",
         "rawType": "int64",
         "type": "integer"
        },
        {
         "name": "im",
         "rawType": "int64",
         "type": "integer"
        },
        {
         "name": "imag",
         "rawType": "int64",
         "type": "integer"
        },
        {
         "name": "imagin",
         "rawType": "int64",
         "type": "integer"
        },
        {
         "name": "immedi",
         "rawType": "int64",
         "type": "integer"
        },
        {
         "name": "import",
         "rawType": "int64",
         "type": "integer"
        },
        {
         "name": "impress",
         "rawType": "int64",
         "type": "integer"
        },
        {
         "name": "improv",
         "rawType": "int64",
         "type": "integer"
        },
        {
         "name": "inch",
         "rawType": "int64",
         "type": "integer"
        },
        {
         "name": "includ",
         "rawType": "int64",
         "type": "integer"
        },
        {
         "name": "increas",
         "rawType": "int64",
         "type": "integer"
        },
        {
         "name": "incred",
         "rawType": "int64",
         "type": "integer"
        },
        {
         "name": "inform",
         "rawType": "int64",
         "type": "integer"
        },
        {
         "name": "initi",
         "rawType": "int64",
         "type": "integer"
        },
        {
         "name": "ink",
         "rawType": "int64",
         "type": "integer"
        },
        {
         "name": "ink reader",
         "rawType": "int64",
         "type": "integer"
        },
        {
         "name": "instal",
         "rawType": "int64",
         "type": "integer"
        },
        {
         "name": "instant",
         "rawType": "int64",
         "type": "integer"
        },
        {
         "name": "instant video",
         "rawType": "int64",
         "type": "integer"
        },
        {
         "name": "instead",
         "rawType": "int64",
         "type": "integer"
        },
        {
         "name": "instruct",
         "rawType": "int64",
         "type": "integer"
        },
        {
         "name": "integr",
         "rawType": "int64",
         "type": "integer"
        },
        {
         "name": "interest",
         "rawType": "int64",
         "type": "integer"
        },
        {
         "name": "interfac",
         "rawType": "int64",
         "type": "integer"
        },
        {
         "name": "internet",
         "rawType": "int64",
         "type": "integer"
        },
        {
         "name": "invest",
         "rawType": "int64",
         "type": "integer"
        },
        {
         "name": "ipad",
         "rawType": "int64",
         "type": "integer"
        },
        {
         "name": "ipad mini",
         "rawType": "int64",
         "type": "integer"
        },
        {
         "name": "iphon",
         "rawType": "int64",
         "type": "integer"
        },
        {
         "name": "issu",
         "rawType": "int64",
         "type": "integer"
        },
        {
         "name": "item",
         "rawType": "int64",
         "type": "integer"
        },
        {
         "name": "ive",
         "rawType": "int64",
         "type": "integer"
        },
        {
         "name": "jack",
         "rawType": "int64",
         "type": "integer"
        },
        {
         "name": "job",
         "rawType": "int64",
         "type": "integer"
        },
        {
         "name": "jump",
         "rawType": "int64",
         "type": "integer"
        },
        {
         "name": "keep",
         "rawType": "int64",
         "type": "integer"
        },
        {
         "name": "kept",
         "rawType": "int64",
         "type": "integer"
        },
        {
         "name": "key",
         "rawType": "int64",
         "type": "integer"
        },
        {
         "name": "keyboard",
         "rawType": "int64",
         "type": "integer"
        },
        {
         "name": "kid",
         "rawType": "int64",
         "type": "integer"
        },
        {
         "name": "kind",
         "rawType": "int64",
         "type": "integer"
        },
        {
         "name": "kindl",
         "rawType": "int64",
         "type": "integer"
        },
        {
         "name": "kindl fire",
         "rawType": "int64",
         "type": "integer"
        },
        {
         "name": "kindl keyboard",
         "rawType": "int64",
         "type": "integer"
        },
        {
         "name": "kindl paperwhit",
         "rawType": "int64",
         "type": "integer"
        },
        {
         "name": "kitchen",
         "rawType": "int64",
         "type": "integer"
        },
        {
         "name": "know",
         "rawType": "int64",
         "type": "integer"
        },
        {
         "name": "lack",
         "rawType": "int64",
         "type": "integer"
        },
        {
         "name": "lag",
         "rawType": "int64",
         "type": "integer"
        },
        {
         "name": "landscap",
         "rawType": "int64",
         "type": "integer"
        },
        {
         "name": "laptop",
         "rawType": "int64",
         "type": "integer"
        },
        {
         "name": "larg",
         "rawType": "int64",
         "type": "integer"
        },
        {
         "name": "larger",
         "rawType": "int64",
         "type": "integer"
        },
        {
         "name": "last",
         "rawType": "int64",
         "type": "integer"
        },
        {
         "name": "last year",
         "rawType": "int64",
         "type": "integer"
        },
        {
         "name": "later",
         "rawType": "int64",
         "type": "integer"
        },
        {
         "name": "latest",
         "rawType": "int64",
         "type": "integer"
        },
        {
         "name": "lay",
         "rawType": "int64",
         "type": "integer"
        },
        {
         "name": "learn",
         "rawType": "int64",
         "type": "integer"
        },
        {
         "name": "least",
         "rawType": "int64",
         "type": "integer"
        },
        {
         "name": "leather",
         "rawType": "int64",
         "type": "integer"
        },
        {
         "name": "leav",
         "rawType": "int64",
         "type": "integer"
        },
        {
         "name": "led",
         "rawType": "int64",
         "type": "integer"
        },
        {
         "name": "left",
         "rawType": "int64",
         "type": "integer"
        },
        {
         "name": "less",
         "rawType": "int64",
         "type": "integer"
        },
        {
         "name": "let",
         "rawType": "int64",
         "type": "integer"
        },
        {
         "name": "level",
         "rawType": "int64",
         "type": "integer"
        },
        {
         "name": "librari",
         "rawType": "int64",
         "type": "integer"
        },
        {
         "name": "life",
         "rawType": "int64",
         "type": "integer"
        },
        {
         "name": "life love",
         "rawType": "int64",
         "type": "integer"
        },
        {
         "name": "light",
         "rawType": "int64",
         "type": "integer"
        },
        {
         "name": "lighter",
         "rawType": "int64",
         "type": "integer"
        },
        {
         "name": "like",
         "rawType": "int64",
         "type": "integer"
        },
        {
         "name": "like amazon",
         "rawType": "int64",
         "type": "integer"
        },
        {
         "name": "like echo",
         "rawType": "int64",
         "type": "integer"
        },
        {
         "name": "limit",
         "rawType": "int64",
         "type": "integer"
        },
        {
         "name": "line",
         "rawType": "int64",
         "type": "integer"
        },
        {
         "name": "link",
         "rawType": "int64",
         "type": "integer"
        },
        {
         "name": "list",
         "rawType": "int64",
         "type": "integer"
        },
        {
         "name": "listen",
         "rawType": "int64",
         "type": "integer"
        },
        {
         "name": "listen music",
         "rawType": "int64",
         "type": "integer"
        },
        {
         "name": "littl",
         "rawType": "int64",
         "type": "integer"
        },
        {
         "name": "live",
         "rawType": "int64",
         "type": "integer"
        },
        {
         "name": "live room",
         "rawType": "int64",
         "type": "integer"
        },
        {
         "name": "load",
         "rawType": "int64",
         "type": "integer"
        },
        {
         "name": "local",
         "rawType": "int64",
         "type": "integer"
        },
        {
         "name": "locat",
         "rawType": "int64",
         "type": "integer"
        },
        {
         "name": "lock",
         "rawType": "int64",
         "type": "integer"
        },
        {
         "name": "long",
         "rawType": "int64",
         "type": "integer"
        },
        {
         "name": "long time",
         "rawType": "int64",
         "type": "integer"
        },
        {
         "name": "longer",
         "rawType": "int64",
         "type": "integer"
        },
        {
         "name": "look",
         "rawType": "int64",
         "type": "integer"
        },
        {
         "name": "look feel",
         "rawType": "int64",
         "type": "integer"
        },
        {
         "name": "look good",
         "rawType": "int64",
         "type": "integer"
        },
        {
         "name": "look great",
         "rawType": "int64",
         "type": "integer"
        },
        {
         "name": "look like",
         "rawType": "int64",
         "type": "integer"
        },
        {
         "name": "loos",
         "rawType": "int64",
         "type": "integer"
        },
        {
         "name": "lose",
         "rawType": "int64",
         "type": "integer"
        },
        {
         "name": "lost",
         "rawType": "int64",
         "type": "integer"
        },
        {
         "name": "lot",
         "rawType": "int64",
         "type": "integer"
        },
        {
         "name": "loud",
         "rawType": "int64",
         "type": "integer"
        },
        {
         "name": "love",
         "rawType": "int64",
         "type": "integer"
        },
        {
         "name": "love play",
         "rawType": "int64",
         "type": "integer"
        },
        {
         "name": "love tap",
         "rawType": "int64",
         "type": "integer"
        },
        {
         "name": "low",
         "rawType": "int64",
         "type": "integer"
        },
        {
         "name": "lower",
         "rawType": "int64",
         "type": "integer"
        },
        {
         "name": "made",
         "rawType": "int64",
         "type": "integer"
        },
        {
         "name": "magnet",
         "rawType": "int64",
         "type": "integer"
        },
        {
         "name": "main",
         "rawType": "int64",
         "type": "integer"
        },
        {
         "name": "major",
         "rawType": "int64",
         "type": "integer"
        },
        {
         "name": "make",
         "rawType": "int64",
         "type": "integer"
        },
        {
         "name": "make sure",
         "rawType": "int64",
         "type": "integer"
        },
        {
         "name": "mani",
         "rawType": "int64",
         "type": "integer"
        },
        {
         "name": "manual",
         "rawType": "int64",
         "type": "integer"
        },
        {
         "name": "market",
         "rawType": "int64",
         "type": "integer"
        },
        {
         "name": "materi",
         "rawType": "int64",
         "type": "integer"
        },
        {
         "name": "matter",
         "rawType": "int64",
         "type": "integer"
        },
        {
         "name": "may",
         "rawType": "int64",
         "type": "integer"
        },
        {
         "name": "mayb",
         "rawType": "int64",
         "type": "integer"
        },
        {
         "name": "mayday",
         "rawType": "int64",
         "type": "integer"
        },
        {
         "name": "mean",
         "rawType": "int64",
         "type": "integer"
        },
        {
         "name": "meant",
         "rawType": "int64",
         "type": "integer"
        },
        {
         "name": "media",
         "rawType": "int64",
         "type": "integer"
        },
        {
         "name": "member",
         "rawType": "int64",
         "type": "integer"
        },
        {
         "name": "memori",
         "rawType": "int64",
         "type": "integer"
        },
        {
         "name": "mention",
         "rawType": "int64",
         "type": "integer"
        },
        {
         "name": "micro",
         "rawType": "int64",
         "type": "integer"
        },
        {
         "name": "microphon",
         "rawType": "int64",
         "type": "integer"
        },
        {
         "name": "middl",
         "rawType": "int64",
         "type": "integer"
        },
        {
         "name": "might",
         "rawType": "int64",
         "type": "integer"
        },
        {
         "name": "mind",
         "rawType": "int64",
         "type": "integer"
        },
        {
         "name": "mine",
         "rawType": "int64",
         "type": "integer"
        },
        {
         "name": "mini",
         "rawType": "int64",
         "type": "integer"
        },
        {
         "name": "minim",
         "rawType": "int64",
         "type": "integer"
        },
        {
         "name": "minut",
         "rawType": "int64",
         "type": "integer"
        },
        {
         "name": "miss",
         "rawType": "int64",
         "type": "integer"
        },
        {
         "name": "mobil",
         "rawType": "int64",
         "type": "integer"
        },
        {
         "name": "mode",
         "rawType": "int64",
         "type": "integer"
        },
        {
         "name": "model",
         "rawType": "int64",
         "type": "integer"
        },
        {
         "name": "model fire",
         "rawType": "int64",
         "type": "integer"
        },
        {
         "name": "model kindl",
         "rawType": "int64",
         "type": "integer"
        },
        {
         "name": "mom",
         "rawType": "int64",
         "type": "integer"
        },
        {
         "name": "money",
         "rawType": "int64",
         "type": "integer"
        },
        {
         "name": "month",
         "rawType": "int64",
         "type": "integer"
        },
        {
         "name": "mostli",
         "rawType": "int64",
         "type": "integer"
        },
        {
         "name": "move",
         "rawType": "int64",
         "type": "integer"
        },
        {
         "name": "movi",
         "rawType": "int64",
         "type": "integer"
        },
        {
         "name": "much",
         "rawType": "int64",
         "type": "integer"
        },
        {
         "name": "much better",
         "rawType": "int64",
         "type": "integer"
        },
        {
         "name": "multipl",
         "rawType": "int64",
         "type": "integer"
        },
        {
         "name": "music",
         "rawType": "int64",
         "type": "integer"
        },
        {
         "name": "must",
         "rawType": "int64",
         "type": "integer"
        },
        {
         "name": "name",
         "rawType": "int64",
         "type": "integer"
        },
        {
         "name": "navig",
         "rawType": "int64",
         "type": "integer"
        },
        {
         "name": "near",
         "rawType": "int64",
         "type": "integer"
        },
        {
         "name": "nearli",
         "rawType": "int64",
         "type": "integer"
        },
        {
         "name": "need",
         "rawType": "int64",
         "type": "integer"
        },
        {
         "name": "netflix",
         "rawType": "int64",
         "type": "integer"
        },
        {
         "name": "network",
         "rawType": "int64",
         "type": "integer"
        },
        {
         "name": "never",
         "rawType": "int64",
         "type": "integer"
        },
        {
         "name": "new",
         "rawType": "int64",
         "type": "integer"
        },
        {
         "name": "new fire",
         "rawType": "int64",
         "type": "integer"
        },
        {
         "name": "new kindl",
         "rawType": "int64",
         "type": "integer"
        },
        {
         "name": "new one",
         "rawType": "int64",
         "type": "integer"
        },
        {
         "name": "new paperwhit",
         "rawType": "int64",
         "type": "integer"
        },
        {
         "name": "newer",
         "rawType": "int64",
         "type": "integer"
        },
        {
         "name": "news",
         "rawType": "int64",
         "type": "integer"
        },
        {
         "name": "next",
         "rawType": "int64",
         "type": "integer"
        },
        {
         "name": "nexu",
         "rawType": "int64",
         "type": "integer"
        },
        {
         "name": "nice",
         "rawType": "int64",
         "type": "integer"
        },
        {
         "name": "night",
         "rawType": "int64",
         "type": "integer"
        },
        {
         "name": "non",
         "rawType": "int64",
         "type": "integer"
        },
        {
         "name": "normal",
         "rawType": "int64",
         "type": "integer"
        },
        {
         "name": "note",
         "rawType": "int64",
         "type": "integer"
        },
        {
         "name": "noth",
         "rawType": "int64",
         "type": "integer"
        },
        {
         "name": "notic",
         "rawType": "int64",
         "type": "integer"
        },
        {
         "name": "number",
         "rawType": "int64",
         "type": "integer"
        },
        {
         "name": "oasi",
         "rawType": "int64",
         "type": "integer"
        },
        {
         "name": "occasion",
         "rawType": "int64",
         "type": "integer"
        },
        {
         "name": "offer",
         "rawType": "int64",
         "type": "integer"
        },
        {
         "name": "offic",
         "rawType": "int64",
         "type": "integer"
        },
        {
         "name": "offlin",
         "rawType": "int64",
         "type": "integer"
        },
        {
         "name": "often",
         "rawType": "int64",
         "type": "integer"
        },
        {
         "name": "ok",
         "rawType": "int64",
         "type": "integer"
        },
        {
         "name": "old",
         "rawType": "int64",
         "type": "integer"
        },
        {
         "name": "older",
         "rawType": "int64",
         "type": "integer"
        },
        {
         "name": "older paperwhit",
         "rawType": "int64",
         "type": "integer"
        },
        {
         "name": "one",
         "rawType": "int64",
         "type": "integer"
        },
        {
         "name": "one hand",
         "rawType": "int64",
         "type": "integer"
        },
        {
         "name": "onlin",
         "rawType": "int64",
         "type": "integer"
        },
        {
         "name": "onto",
         "rawType": "int64",
         "type": "integer"
        },
        {
         "name": "open",
         "rawType": "int64",
         "type": "integer"
        },
        {
         "name": "oper",
         "rawType": "int64",
         "type": "integer"
        },
        {
         "name": "opinion",
         "rawType": "int64",
         "type": "integer"
        },
        {
         "name": "option",
         "rawType": "int64",
         "type": "integer"
        },
        {
         "name": "order",
         "rawType": "int64",
         "type": "integer"
        },
        {
         "name": "origami",
         "rawType": "int64",
         "type": "integer"
        },
        {
         "name": "origin",
         "rawType": "int64",
         "type": "integer"
        },
        {
         "name": "origin echo",
         "rawType": "int64",
         "type": "integer"
        },
        {
         "name": "os",
         "rawType": "int64",
         "type": "integer"
        },
        {
         "name": "other",
         "rawType": "int64",
         "type": "integer"
        },
        {
         "name": "otherwis",
         "rawType": "int64",
         "type": "integer"
        },
        {
         "name": "ounc",
         "rawType": "int64",
         "type": "integer"
        },
        {
         "name": "outsid",
         "rawType": "int64",
         "type": "integer"
        },
        {
         "name": "overal",
         "rawType": "int64",
         "type": "integer"
        },
        {
         "name": "own",
         "rawType": "int64",
         "type": "integer"
        },
        {
         "name": "page",
         "rawType": "int64",
         "type": "integer"
        },
        {
         "name": "page turn",
         "rawType": "int64",
         "type": "integer"
        },
        {
         "name": "paid",
         "rawType": "int64",
         "type": "integer"
        },
        {
         "name": "pair",
         "rawType": "int64",
         "type": "integer"
        },
        {
         "name": "pandora",
         "rawType": "int64",
         "type": "integer"
        },
        {
         "name": "paper",
         "rawType": "int64",
         "type": "integer"
        },
        {
         "name": "paperwhit",
         "rawType": "int64",
         "type": "integer"
        },
        {
         "name": "parent",
         "rawType": "int64",
         "type": "integer"
        },
        {
         "name": "parent control",
         "rawType": "int64",
         "type": "integer"
        },
        {
         "name": "part",
         "rawType": "int64",
         "type": "integer"
        },
        {
         "name": "parti",
         "rawType": "int64",
         "type": "integer"
        },
        {
         "name": "particularli",
         "rawType": "int64",
         "type": "integer"
        },
        {
         "name": "past",
         "rawType": "int64",
         "type": "integer"
        },
        {
         "name": "pay",
         "rawType": "int64",
         "type": "integer"
        },
        {
         "name": "peopl",
         "rawType": "int64",
         "type": "integer"
        },
        {
         "name": "per",
         "rawType": "int64",
         "type": "integer"
        },
        {
         "name": "per inch",
         "rawType": "int64",
         "type": "integer"
        },
        {
         "name": "perfect",
         "rawType": "int64",
         "type": "integer"
        },
        {
         "name": "perfectli",
         "rawType": "int64",
         "type": "integer"
        },
        {
         "name": "perform",
         "rawType": "int64",
         "type": "integer"
        },
        {
         "name": "period",
         "rawType": "int64",
         "type": "integer"
        },
        {
         "name": "person",
         "rawType": "int64",
         "type": "integer"
        },
        {
         "name": "phone",
         "rawType": "int64",
         "type": "integer"
        },
        {
         "name": "photo",
         "rawType": "int64",
         "type": "integer"
        },
        {
         "name": "physic",
         "rawType": "int64",
         "type": "integer"
        },
        {
         "name": "pick",
         "rawType": "int64",
         "type": "integer"
        },
        {
         "name": "pictur",
         "rawType": "int64",
         "type": "integer"
        },
        {
         "name": "piec",
         "rawType": "int64",
         "type": "integer"
        },
        {
         "name": "pixel",
         "rawType": "int64",
         "type": "integer"
        },
        {
         "name": "pixel per",
         "rawType": "int64",
         "type": "integer"
        },
        {
         "name": "place",
         "rawType": "int64",
         "type": "integer"
        },
        {
         "name": "plan",
         "rawType": "int64",
         "type": "integer"
        },
        {
         "name": "plastic",
         "rawType": "int64",
         "type": "integer"
        },
        {
         "name": "play",
         "rawType": "int64",
         "type": "integer"
        },
        {
         "name": "play music",
         "rawType": "int64",
         "type": "integer"
        },
        {
         "name": "play store",
         "rawType": "int64",
         "type": "integer"
        },
        {
         "name": "playback",
         "rawType": "int64",
         "type": "integer"
        },
        {
         "name": "pleas",
         "rawType": "int64",
         "type": "integer"
        },
        {
         "name": "plenti",
         "rawType": "int64",
         "type": "integer"
        },
        {
         "name": "plex",
         "rawType": "int64",
         "type": "integer"
        },
        {
         "name": "plu",
         "rawType": "int64",
         "type": "integer"
        },
        {
         "name": "plug",
         "rawType": "int64",
         "type": "integer"
        },
        {
         "name": "point",
         "rawType": "int64",
         "type": "integer"
        },
        {
         "name": "pop",
         "rawType": "int64",
         "type": "integer"
        },
        {
         "name": "port",
         "rawType": "int64",
         "type": "integer"
        },
        {
         "name": "portabl",
         "rawType": "int64",
         "type": "integer"
        },
        {
         "name": "portabl speaker",
         "rawType": "int64",
         "type": "integer"
        },
        {
         "name": "posit",
         "rawType": "int64",
         "type": "integer"
        },
        {
         "name": "possibl",
         "rawType": "int64",
         "type": "integer"
        },
        {
         "name": "post",
         "rawType": "int64",
         "type": "integer"
        },
        {
         "name": "power",
         "rawType": "int64",
         "type": "integer"
        },
        {
         "name": "power adapt",
         "rawType": "int64",
         "type": "integer"
        },
        {
         "name": "ppi",
         "rawType": "int64",
         "type": "integer"
        },
        {
         "name": "prefer",
         "rawType": "int64",
         "type": "integer"
        },
        {
         "name": "press",
         "rawType": "int64",
         "type": "integer"
        },
        {
         "name": "press button",
         "rawType": "int64",
         "type": "integer"
        },
        {
         "name": "pretti",
         "rawType": "int64",
         "type": "integer"
        },
        {
         "name": "previou",
         "rawType": "int64",
         "type": "integer"
        },
        {
         "name": "price",
         "rawType": "int64",
         "type": "integer"
        },
        {
         "name": "price point",
         "rawType": "int64",
         "type": "integer"
        },
        {
         "name": "primarili",
         "rawType": "int64",
         "type": "integer"
        },
        {
         "name": "prime",
         "rawType": "int64",
         "type": "integer"
        },
        {
         "name": "prime content",
         "rawType": "int64",
         "type": "integer"
        },
        {
         "name": "prime instant",
         "rawType": "int64",
         "type": "integer"
        },
        {
         "name": "prime member",
         "rawType": "int64",
         "type": "integer"
        },
        {
         "name": "prime movi",
         "rawType": "int64",
         "type": "integer"
        },
        {
         "name": "prime music",
         "rawType": "int64",
         "type": "integer"
        },
        {
         "name": "print",
         "rawType": "int64",
         "type": "integer"
        },
        {
         "name": "pro",
         "rawType": "int64",
         "type": "integer"
        },
        {
         "name": "probabl",
         "rawType": "int64",
         "type": "integer"
        },
        {
         "name": "problem",
         "rawType": "int64",
         "type": "integer"
        },
        {
         "name": "process",
         "rawType": "int64",
         "type": "integer"
        },
        {
         "name": "processor",
         "rawType": "int64",
         "type": "integer"
        },
        {
         "name": "product",
         "rawType": "int64",
         "type": "integer"
        },
        {
         "name": "protect",
         "rawType": "int64",
         "type": "integer"
        },
        {
         "name": "protect tap",
         "rawType": "int64",
         "type": "integer"
        },
        {
         "name": "protector",
         "rawType": "int64",
         "type": "integer"
        },
        {
         "name": "provid",
         "rawType": "int64",
         "type": "integer"
        },
        {
         "name": "pull",
         "rawType": "int64",
         "type": "integer"
        },
        {
         "name": "purchas",
         "rawType": "int64",
         "type": "integer"
        },
        {
         "name": "purpos",
         "rawType": "int64",
         "type": "integer"
        },
        {
         "name": "push",
         "rawType": "int64",
         "type": "integer"
        },
        {
         "name": "push button",
         "rawType": "int64",
         "type": "integer"
        },
        {
         "name": "put",
         "rawType": "int64",
         "type": "integer"
        },
        {
         "name": "quad",
         "rawType": "int64",
         "type": "integer"
        },
        {
         "name": "quad core",
         "rawType": "int64",
         "type": "integer"
        },
        {
         "name": "qualiti",
         "rawType": "int64",
         "type": "integer"
        },
        {
         "name": "qualiti good",
         "rawType": "int64",
         "type": "integer"
        },
        {
         "name": "question",
         "rawType": "int64",
         "type": "integer"
        },
        {
         "name": "quick",
         "rawType": "int64",
         "type": "integer"
        },
        {
         "name": "quickli",
         "rawType": "int64",
         "type": "integer"
        },
        {
         "name": "quit",
         "rawType": "int64",
         "type": "integer"
        },
        {
         "name": "radio",
         "rawType": "int64",
         "type": "integer"
        },
        {
         "name": "rang",
         "rawType": "int64",
         "type": "integer"
        },
        {
         "name": "rate",
         "rawType": "int64",
         "type": "integer"
        },
        {
         "name": "rather",
         "rawType": "int64",
         "type": "integer"
        },
        {
         "name": "read",
         "rawType": "int64",
         "type": "integer"
        },
        {
         "name": "read book",
         "rawType": "int64",
         "type": "integer"
        },
        {
         "name": "read review",
         "rawType": "int64",
         "type": "integer"
        },
        {
         "name": "reader",
         "rawType": "int64",
         "type": "integer"
        },
        {
         "name": "readi",
         "rawType": "int64",
         "type": "integer"
        },
        {
         "name": "real",
         "rawType": "int64",
         "type": "integer"
        },
        {
         "name": "realli",
         "rawType": "int64",
         "type": "integer"
        },
        {
         "name": "realli like",
         "rawType": "int64",
         "type": "integer"
        },
        {
         "name": "rear",
         "rawType": "int64",
         "type": "integer"
        },
        {
         "name": "reason",
         "rawType": "int64",
         "type": "integer"
        },
        {
         "name": "reboot",
         "rawType": "int64",
         "type": "integer"
        },
        {
         "name": "receiv",
         "rawType": "int64",
         "type": "integer"
        },
        {
         "name": "recent",
         "rawType": "int64",
         "type": "integer"
        },
        {
         "name": "recharg",
         "rawType": "int64",
         "type": "integer"
        },
        {
         "name": "recognit",
         "rawType": "int64",
         "type": "integer"
        },
        {
         "name": "recommend",
         "rawType": "int64",
         "type": "integer"
        },
        {
         "name": "reduc",
         "rawType": "int64",
         "type": "integer"
        },
        {
         "name": "refurbish",
         "rawType": "int64",
         "type": "integer"
        },
        {
         "name": "regular",
         "rawType": "int64",
         "type": "integer"
        },
        {
         "name": "releas",
         "rawType": "int64",
         "type": "integer"
        },
        {
         "name": "rememb",
         "rawType": "int64",
         "type": "integer"
        },
        {
         "name": "remot",
         "rawType": "int64",
         "type": "integer"
        },
        {
         "name": "remot work",
         "rawType": "int64",
         "type": "integer"
        },
        {
         "name": "remov",
         "rawType": "int64",
         "type": "integer"
        },
        {
         "name": "rent",
         "rawType": "int64",
         "type": "integer"
        },
        {
         "name": "replac",
         "rawType": "int64",
         "type": "integer"
        },
        {
         "name": "request",
         "rawType": "int64",
         "type": "integer"
        },
        {
         "name": "requir",
         "rawType": "int64",
         "type": "integer"
        },
        {
         "name": "resolut",
         "rawType": "int64",
         "type": "integer"
        },
        {
         "name": "respond",
         "rawType": "int64",
         "type": "integer"
        },
        {
         "name": "respons",
         "rawType": "int64",
         "type": "integer"
        },
        {
         "name": "result",
         "rawType": "int64",
         "type": "integer"
        },
        {
         "name": "return",
         "rawType": "int64",
         "type": "integer"
        },
        {
         "name": "review",
         "rawType": "int64",
         "type": "integer"
        },
        {
         "name": "review say",
         "rawType": "int64",
         "type": "integer"
        },
        {
         "name": "right",
         "rawType": "int64",
         "type": "integer"
        },
        {
         "name": "ring",
         "rawType": "int64",
         "type": "integer"
        },
        {
         "name": "roku",
         "rawType": "int64",
         "type": "integer"
        },
        {
         "name": "roku box",
         "rawType": "int64",
         "type": "integer"
        },
        {
         "name": "room",
         "rawType": "int64",
         "type": "integer"
        },
        {
         "name": "rubber",
         "rawType": "int64",
         "type": "integer"
        },
        {
         "name": "run",
         "rawType": "int64",
         "type": "integer"
        },
        {
         "name": "safe",
         "rawType": "int64",
         "type": "integer"
        },
        {
         "name": "said",
         "rawType": "int64",
         "type": "integer"
        },
        {
         "name": "sale",
         "rawType": "int64",
         "type": "integer"
        },
        {
         "name": "samsung",
         "rawType": "int64",
         "type": "integer"
        },
        {
         "name": "save",
         "rawType": "int64",
         "type": "integer"
        },
        {
         "name": "say",
         "rawType": "int64",
         "type": "integer"
        },
        {
         "name": "scratch",
         "rawType": "int64",
         "type": "integer"
        },
        {
         "name": "screen",
         "rawType": "int64",
         "type": "integer"
        },
        {
         "name": "screen protector",
         "rawType": "int64",
         "type": "integer"
        },
        {
         "name": "scroll",
         "rawType": "int64",
         "type": "integer"
        },
        {
         "name": "sd",
         "rawType": "int64",
         "type": "integer"
        },
        {
         "name": "sd card",
         "rawType": "int64",
         "type": "integer"
        },
        {
         "name": "search",
         "rawType": "int64",
         "type": "integer"
        },
        {
         "name": "second",
         "rawType": "int64",
         "type": "integer"
        },
        {
         "name": "second gener",
         "rawType": "int64",
         "type": "integer"
        },
        {
         "name": "section",
         "rawType": "int64",
         "type": "integer"
        },
        {
         "name": "see",
         "rawType": "int64",
         "type": "integer"
        },
        {
         "name": "seem",
         "rawType": "int64",
         "type": "integer"
        },
        {
         "name": "seen",
         "rawType": "int64",
         "type": "integer"
        },
        {
         "name": "select",
         "rawType": "int64",
         "type": "integer"
        },
        {
         "name": "send",
         "rawType": "int64",
         "type": "integer"
        },
        {
         "name": "sensor",
         "rawType": "int64",
         "type": "integer"
        },
        {
         "name": "separ",
         "rawType": "int64",
         "type": "integer"
        },
        {
         "name": "seri",
         "rawType": "int64",
         "type": "integer"
        },
        {
         "name": "servic",
         "rawType": "int64",
         "type": "integer"
        },
        {
         "name": "set",
         "rawType": "int64",
         "type": "integer"
        },
        {
         "name": "setup",
         "rawType": "int64",
         "type": "integer"
        },
        {
         "name": "sever",
         "rawType": "int64",
         "type": "integer"
        },
        {
         "name": "share",
         "rawType": "int64",
         "type": "integer"
        },
        {
         "name": "sharp",
         "rawType": "int64",
         "type": "integer"
        },
        {
         "name": "shell",
         "rawType": "int64",
         "type": "integer"
        },
        {
         "name": "shield",
         "rawType": "int64",
         "type": "integer"
        },
        {
         "name": "shift",
         "rawType": "int64",
         "type": "integer"
        },
        {
         "name": "ship",
         "rawType": "int64",
         "type": "integer"
        },
        {
         "name": "shop",
         "rawType": "int64",
         "type": "integer"
        },
        {
         "name": "short",
         "rawType": "int64",
         "type": "integer"
        },
        {
         "name": "show",
         "rawType": "int64",
         "type": "integer"
        },
        {
         "name": "side",
         "rawType": "int64",
         "type": "integer"
        },
        {
         "name": "side load",
         "rawType": "int64",
         "type": "integer"
        },
        {
         "name": "similar",
         "rawType": "int64",
         "type": "integer"
        },
        {
         "name": "simpl",
         "rawType": "int64",
         "type": "integer"
        },
        {
         "name": "simpli",
         "rawType": "int64",
         "type": "integer"
        },
        {
         "name": "sinc",
         "rawType": "int64",
         "type": "integer"
        },
        {
         "name": "singl",
         "rawType": "int64",
         "type": "integer"
        },
        {
         "name": "sit",
         "rawType": "int64",
         "type": "integer"
        },
        {
         "name": "size",
         "rawType": "int64",
         "type": "integer"
        },
        {
         "name": "size weight",
         "rawType": "int64",
         "type": "integer"
        },
        {
         "name": "skill",
         "rawType": "int64",
         "type": "integer"
        },
        {
         "name": "skin",
         "rawType": "int64",
         "type": "integer"
        },
        {
         "name": "sleep",
         "rawType": "int64",
         "type": "integer"
        },
        {
         "name": "slightli",
         "rawType": "int64",
         "type": "integer"
        },
        {
         "name": "sling",
         "rawType": "int64",
         "type": "integer"
        },
        {
         "name": "slow",
         "rawType": "int64",
         "type": "integer"
        },
        {
         "name": "small",
         "rawType": "int64",
         "type": "integer"
        },
        {
         "name": "smaller",
         "rawType": "int64",
         "type": "integer"
        },
        {
         "name": "smart",
         "rawType": "int64",
         "type": "integer"
        },
        {
         "name": "smartphon",
         "rawType": "int64",
         "type": "integer"
        },
        {
         "name": "snug",
         "rawType": "int64",
         "type": "integer"
        },
        {
         "name": "softwar",
         "rawType": "int64",
         "type": "integer"
        },
        {
         "name": "softwar updat",
         "rawType": "int64",
         "type": "integer"
        },
        {
         "name": "solid",
         "rawType": "int64",
         "type": "integer"
        },
        {
         "name": "solut",
         "rawType": "int64",
         "type": "integer"
        },
        {
         "name": "someon",
         "rawType": "int64",
         "type": "integer"
        },
        {
         "name": "someth",
         "rawType": "int64",
         "type": "integer"
        },
        {
         "name": "sometim",
         "rawType": "int64",
         "type": "integer"
        },
        {
         "name": "somewher",
         "rawType": "int64",
         "type": "integer"
        },
        {
         "name": "son",
         "rawType": "int64",
         "type": "integer"
        },
        {
         "name": "song",
         "rawType": "int64",
         "type": "integer"
        },
        {
         "name": "soon",
         "rawType": "int64",
         "type": "integer"
        },
        {
         "name": "sort",
         "rawType": "int64",
         "type": "integer"
        },
        {
         "name": "sound",
         "rawType": "int64",
         "type": "integer"
        },
        {
         "name": "sound good",
         "rawType": "int64",
         "type": "integer"
        },
        {
         "name": "sound great",
         "rawType": "int64",
         "type": "integer"
        },
        {
         "name": "sound qualiti",
         "rawType": "int64",
         "type": "integer"
        },
        {
         "name": "speak",
         "rawType": "int64",
         "type": "integer"
        },
        {
         "name": "speaker",
         "rawType": "int64",
         "type": "integer"
        },
        {
         "name": "speaker great",
         "rawType": "int64",
         "type": "integer"
        },
        {
         "name": "speaker sound",
         "rawType": "int64",
         "type": "integer"
        },
        {
         "name": "speaker take",
         "rawType": "int64",
         "type": "integer"
        },
        {
         "name": "spec",
         "rawType": "int64",
         "type": "integer"
        },
        {
         "name": "special",
         "rawType": "int64",
         "type": "integer"
        },
        {
         "name": "specif",
         "rawType": "int64",
         "type": "integer"
        },
        {
         "name": "speed",
         "rawType": "int64",
         "type": "integer"
        },
        {
         "name": "spend",
         "rawType": "int64",
         "type": "integer"
        },
        {
         "name": "spotifi",
         "rawType": "int64",
         "type": "integer"
        },
        {
         "name": "stand",
         "rawType": "int64",
         "type": "integer"
        },
        {
         "name": "star",
         "rawType": "int64",
         "type": "integer"
        },
        {
         "name": "start",
         "rawType": "int64",
         "type": "integer"
        },
        {
         "name": "station",
         "rawType": "int64",
         "type": "integer"
        },
        {
         "name": "stationari",
         "rawType": "int64",
         "type": "integer"
        },
        {
         "name": "stay",
         "rawType": "int64",
         "type": "integer"
        },
        {
         "name": "step",
         "rawType": "int64",
         "type": "integer"
        },
        {
         "name": "stereo",
         "rawType": "int64",
         "type": "integer"
        },
        {
         "name": "stick",
         "rawType": "int64",
         "type": "integer"
        },
        {
         "name": "still",
         "rawType": "int64",
         "type": "integer"
        },
        {
         "name": "stop",
         "rawType": "int64",
         "type": "integer"
        },
        {
         "name": "stop work",
         "rawType": "int64",
         "type": "integer"
        },
        {
         "name": "storag",
         "rawType": "int64",
         "type": "integer"
        },
        {
         "name": "store",
         "rawType": "int64",
         "type": "integer"
        },
        {
         "name": "stream",
         "rawType": "int64",
         "type": "integer"
        },
        {
         "name": "streamer",
         "rawType": "int64",
         "type": "integer"
        },
        {
         "name": "strong",
         "rawType": "int64",
         "type": "integer"
        },
        {
         "name": "stuff",
         "rawType": "int64",
         "type": "integer"
        },
        {
         "name": "style",
         "rawType": "int64",
         "type": "integer"
        },
        {
         "name": "subscript",
         "rawType": "int64",
         "type": "integer"
        },
        {
         "name": "summari",
         "rawType": "int64",
         "type": "integer"
        },
        {
         "name": "sunlight",
         "rawType": "int64",
         "type": "integer"
        },
        {
         "name": "super",
         "rawType": "int64",
         "type": "integer"
        },
        {
         "name": "support",
         "rawType": "int64",
         "type": "integer"
        },
        {
         "name": "suppos",
         "rawType": "int64",
         "type": "integer"
        },
        {
         "name": "sure",
         "rawType": "int64",
         "type": "integer"
        },
        {
         "name": "surpris",
         "rawType": "int64",
         "type": "integer"
        },
        {
         "name": "surround",
         "rawType": "int64",
         "type": "integer"
        },
        {
         "name": "swipe",
         "rawType": "int64",
         "type": "integer"
        },
        {
         "name": "switch",
         "rawType": "int64",
         "type": "integer"
        },
        {
         "name": "sync",
         "rawType": "int64",
         "type": "integer"
        },
        {
         "name": "system",
         "rawType": "int64",
         "type": "integer"
        },
        {
         "name": "tab",
         "rawType": "int64",
         "type": "integer"
        },
        {
         "name": "tabl",
         "rawType": "int64",
         "type": "integer"
        },
        {
         "name": "tablet",
         "rawType": "int64",
         "type": "integer"
        },
        {
         "name": "take",
         "rawType": "int64",
         "type": "integer"
        },
        {
         "name": "talk",
         "rawType": "int64",
         "type": "integer"
        },
        {
         "name": "tap",
         "rawType": "int64",
         "type": "integer"
        },
        {
         "name": "tap great",
         "rawType": "int64",
         "type": "integer"
        },
        {
         "name": "tap sling",
         "rawType": "int64",
         "type": "integer"
        },
        {
         "name": "tech",
         "rawType": "int64",
         "type": "integer"
        },
        {
         "name": "technic",
         "rawType": "int64",
         "type": "integer"
        },
        {
         "name": "technolog",
         "rawType": "int64",
         "type": "integer"
        },
        {
         "name": "tell",
         "rawType": "int64",
         "type": "integer"
        },
        {
         "name": "test",
         "rawType": "int64",
         "type": "integer"
        },
        {
         "name": "text",
         "rawType": "int64",
         "type": "integer"
        },
        {
         "name": "thank",
         "rawType": "int64",
         "type": "integer"
        },
        {
         "name": "thin",
         "rawType": "int64",
         "type": "integer"
        },
        {
         "name": "thing",
         "rawType": "int64",
         "type": "integer"
        },
        {
         "name": "thing like",
         "rawType": "int64",
         "type": "integer"
        },
        {
         "name": "think",
         "rawType": "int64",
         "type": "integer"
        },
        {
         "name": "third",
         "rawType": "int64",
         "type": "integer"
        },
        {
         "name": "though",
         "rawType": "int64",
         "type": "integer"
        },
        {
         "name": "thought",
         "rawType": "int64",
         "type": "integer"
        },
        {
         "name": "thought would",
         "rawType": "int64",
         "type": "integer"
        },
        {
         "name": "three",
         "rawType": "int64",
         "type": "integer"
        },
        {
         "name": "throughout",
         "rawType": "int64",
         "type": "integer"
        },
        {
         "name": "throw",
         "rawType": "int64",
         "type": "integer"
        },
        {
         "name": "tight",
         "rawType": "int64",
         "type": "integer"
        },
        {
         "name": "time",
         "rawType": "int64",
         "type": "integer"
        },
        {
         "name": "tip",
         "rawType": "int64",
         "type": "integer"
        },
        {
         "name": "titl",
         "rawType": "int64",
         "type": "integer"
        },
        {
         "name": "today",
         "rawType": "int64",
         "type": "integer"
        },
        {
         "name": "ton",
         "rawType": "int64",
         "type": "integer"
        },
        {
         "name": "took",
         "rawType": "int64",
         "type": "integer"
        },
        {
         "name": "tool",
         "rawType": "int64",
         "type": "integer"
        },
        {
         "name": "top",
         "rawType": "int64",
         "type": "integer"
        },
        {
         "name": "touch",
         "rawType": "int64",
         "type": "integer"
        },
        {
         "name": "touch screen",
         "rawType": "int64",
         "type": "integer"
        },
        {
         "name": "travel",
         "rawType": "int64",
         "type": "integer"
        },
        {
         "name": "tri",
         "rawType": "int64",
         "type": "integer"
        },
        {
         "name": "turn",
         "rawType": "int64",
         "type": "integer"
        },
        {
         "name": "turn page",
         "rawType": "int64",
         "type": "integer"
        },
        {
         "name": "tv",
         "rawType": "int64",
         "type": "integer"
        },
        {
         "name": "tv remot",
         "rawType": "int64",
         "type": "integer"
        },
        {
         "name": "tv show",
         "rawType": "int64",
         "type": "integer"
        },
        {
         "name": "two",
         "rawType": "int64",
         "type": "integer"
        },
        {
         "name": "type",
         "rawType": "int64",
         "type": "integer"
        },
        {
         "name": "typic",
         "rawType": "int64",
         "type": "integer"
        },
        {
         "name": "understand",
         "rawType": "int64",
         "type": "integer"
        },
        {
         "name": "unfortun",
         "rawType": "int64",
         "type": "integer"
        },
        {
         "name": "unit",
         "rawType": "int64",
         "type": "integer"
        },
        {
         "name": "unless",
         "rawType": "int64",
         "type": "integer"
        },
        {
         "name": "unlik",
         "rawType": "int64",
         "type": "integer"
        },
        {
         "name": "unlimit",
         "rawType": "int64",
         "type": "integer"
        },
        {
         "name": "updat",
         "rawType": "int64",
         "type": "integer"
        },
        {
         "name": "upgrad",
         "rawType": "int64",
         "type": "integer"
        },
        {
         "name": "us",
         "rawType": "int64",
         "type": "integer"
        },
        {
         "name": "usb",
         "rawType": "int64",
         "type": "integer"
        },
        {
         "name": "use",
         "rawType": "int64",
         "type": "integer"
        },
        {
         "name": "use alexa",
         "rawType": "int64",
         "type": "integer"
        },
        {
         "name": "use amazon",
         "rawType": "int64",
         "type": "integer"
        },
        {
         "name": "use devic",
         "rawType": "int64",
         "type": "integer"
        },
        {
         "name": "use kindl",
         "rawType": "int64",
         "type": "integer"
        },
        {
         "name": "use tap",
         "rawType": "int64",
         "type": "integer"
        },
        {
         "name": "use voic",
         "rawType": "int64",
         "type": "integer"
        },
        {
         "name": "user",
         "rawType": "int64",
         "type": "integer"
        },
        {
         "name": "usual",
         "rawType": "int64",
         "type": "integer"
        },
        {
         "name": "valu",
         "rawType": "int64",
         "type": "integer"
        },
        {
         "name": "variou",
         "rawType": "int64",
         "type": "integer"
        },
        {
         "name": "version",
         "rawType": "int64",
         "type": "integer"
        },
        {
         "name": "version fire",
         "rawType": "int64",
         "type": "integer"
        },
        {
         "name": "via",
         "rawType": "int64",
         "type": "integer"
        },
        {
         "name": "video",
         "rawType": "int64",
         "type": "integer"
        },
        {
         "name": "view",
         "rawType": "int64",
         "type": "integer"
        },
        {
         "name": "voic",
         "rawType": "int64",
         "type": "integer"
        },
        {
         "name": "voic activ",
         "rawType": "int64",
         "type": "integer"
        },
        {
         "name": "voic command",
         "rawType": "int64",
         "type": "integer"
        },
        {
         "name": "voic recognit",
         "rawType": "int64",
         "type": "integer"
        },
        {
         "name": "voic search",
         "rawType": "int64",
         "type": "integer"
        },
        {
         "name": "volum",
         "rawType": "int64",
         "type": "integer"
        },
        {
         "name": "voyag",
         "rawType": "int64",
         "type": "integer"
        },
        {
         "name": "vs",
         "rawType": "int64",
         "type": "integer"
        },
        {
         "name": "wait",
         "rawType": "int64",
         "type": "integer"
        },
        {
         "name": "wake",
         "rawType": "int64",
         "type": "integer"
        },
        {
         "name": "want",
         "rawType": "int64",
         "type": "integer"
        },
        {
         "name": "want read",
         "rawType": "int64",
         "type": "integer"
        },
        {
         "name": "want use",
         "rawType": "int64",
         "type": "integer"
        },
        {
         "name": "watch",
         "rawType": "int64",
         "type": "integer"
        },
        {
         "name": "watch movi",
         "rawType": "int64",
         "type": "integer"
        },
        {
         "name": "watch video",
         "rawType": "int64",
         "type": "integer"
        },
        {
         "name": "way",
         "rawType": "int64",
         "type": "integer"
        },
        {
         "name": "wear",
         "rawType": "int64",
         "type": "integer"
        },
        {
         "name": "weather",
         "rawType": "int64",
         "type": "integer"
        },
        {
         "name": "web",
         "rawType": "int64",
         "type": "integer"
        },
        {
         "name": "week",
         "rawType": "int64",
         "type": "integer"
        },
        {
         "name": "weight",
         "rawType": "int64",
         "type": "integer"
        },
        {
         "name": "well",
         "rawType": "int64",
         "type": "integer"
        },
        {
         "name": "went",
         "rawType": "int64",
         "type": "integer"
        },
        {
         "name": "whatev",
         "rawType": "int64",
         "type": "integer"
        },
        {
         "name": "whether",
         "rawType": "int64",
         "type": "integer"
        },
        {
         "name": "white",
         "rawType": "int64",
         "type": "integer"
        },
        {
         "name": "whole",
         "rawType": "int64",
         "type": "integer"
        },
        {
         "name": "wi",
         "rawType": "int64",
         "type": "integer"
        },
        {
         "name": "wi fi",
         "rawType": "int64",
         "type": "integer"
        },
        {
         "name": "wife",
         "rawType": "int64",
         "type": "integer"
        },
        {
         "name": "wifi",
         "rawType": "int64",
         "type": "integer"
        },
        {
         "name": "win",
         "rawType": "int64",
         "type": "integer"
        },
        {
         "name": "wireless",
         "rawType": "int64",
         "type": "integer"
        },
        {
         "name": "wish",
         "rawType": "int64",
         "type": "integer"
        },
        {
         "name": "within",
         "rawType": "int64",
         "type": "integer"
        },
        {
         "name": "without",
         "rawType": "int64",
         "type": "integer"
        },
        {
         "name": "wonder",
         "rawType": "int64",
         "type": "integer"
        },
        {
         "name": "word",
         "rawType": "int64",
         "type": "integer"
        },
        {
         "name": "work",
         "rawType": "int64",
         "type": "integer"
        },
        {
         "name": "work fine",
         "rawType": "int64",
         "type": "integer"
        },
        {
         "name": "work great",
         "rawType": "int64",
         "type": "integer"
        },
        {
         "name": "work well",
         "rawType": "int64",
         "type": "integer"
        },
        {
         "name": "world",
         "rawType": "int64",
         "type": "integer"
        },
        {
         "name": "worri",
         "rawType": "int64",
         "type": "integer"
        },
        {
         "name": "worth",
         "rawType": "int64",
         "type": "integer"
        },
        {
         "name": "would",
         "rawType": "int64",
         "type": "integer"
        },
        {
         "name": "would like",
         "rawType": "int64",
         "type": "integer"
        },
        {
         "name": "would recommend",
         "rawType": "int64",
         "type": "integer"
        },
        {
         "name": "would want",
         "rawType": "int64",
         "type": "integer"
        },
        {
         "name": "write",
         "rawType": "int64",
         "type": "integer"
        },
        {
         "name": "write review",
         "rawType": "int64",
         "type": "integer"
        },
        {
         "name": "wrong",
         "rawType": "int64",
         "type": "integer"
        },
        {
         "name": "ye",
         "rawType": "int64",
         "type": "integer"
        },
        {
         "name": "year",
         "rawType": "int64",
         "type": "integer"
        },
        {
         "name": "year kindl",
         "rawType": "int64",
         "type": "integer"
        },
        {
         "name": "year model",
         "rawType": "int64",
         "type": "integer"
        },
        {
         "name": "year old",
         "rawType": "int64",
         "type": "integer"
        },
        {
         "name": "yet",
         "rawType": "int64",
         "type": "integer"
        },
        {
         "name": "youtub",
         "rawType": "int64",
         "type": "integer"
        }
       ],
       "ref": "3fbde265-34e3-42f2-aa79-d3ff8d2d09f7",
       "rows": [
        [
         "0",
         "0",
         "0",
         "0",
         "0",
         "0",
         "0",
         "0",
         "0",
         "0",
         "0",
         "0",
         "0",
         "0",
         "0",
         "1",
         "0",
         "0",
         "0",
         "0",
         "0",
         "0",
         "0",
         "0",
         "0",
         "0",
         "0",
         "0",
         "0",
         "0",
         "0",
         "0",
         "0",
         "0",
         "0",
         "1",
         "0",
         "0",
         "0",
         "0",
         "0",
         "0",
         "0",
         "0",
         "0",
         "1",
         "0",
         "1",
         "0",
         "0",
         "1",
         "0",
         "0",
         "0",
         "0",
         "0",
         "0",
         "0",
         "0",
         "0",
         "0",
         "0",
         "0",
         "0",
         "0",
         "0",
         "0",
         "0",
         "0",
         "0",
         "0",
         "0",
         "0",
         "0",
         "0",
         "0",
         "0",
         "0",
         "0",
         "0",
         "0",
         "0",
         "0",
         "0",
         "0",
         "0",
         "0",
         "0",
         "0",
         "0",
         "0",
         "0",
         "0",
         "0",
         "0",
         "0",
         "0",
         "0",
         "0",
         "0",
         "0",
         "0",
         "0",
         "0",
         "0",
         "0",
         "0",
         "0",
         "0",
         "0",
         "0",
         "0",
         "0",
         "0",
         "0",
         "0",
         "0",
         "0",
         "0",
         "0",
         "0",
         "0",
         "0",
         "0",
         "0",
         "0",
         "0",
         "0",
         "0",
         "0",
         "0",
         "0",
         "0",
         "1",
         "0",
         "0",
         "0",
         "0",
         "0",
         "0",
         "0",
         "0",
         "0",
         "0",
         "1",
         "0",
         "0",
         "2",
         "0",
         "0",
         "0",
         "0",
         "0",
         "0",
         "0",
         "0",
         "0",
         "0",
         "0",
         "0",
         "0",
         "0",
         "0",
         "0",
         "0",
         "0",
         "0",
         "0",
         "0",
         "0",
         "0",
         "0",
         "0",
         "0",
         "0",
         "0",
         "0",
         "0",
         "0",
         "0",
         "0",
         "0",
         "0",
         "0",
         "0",
         "0",
         "0",
         "0",
         "0",
         "0",
         "0",
         "0",
         "0",
         "0",
         "0",
         "0",
         "0",
         "0",
         "0",
         "0",
         "0",
         "0",
         "0",
         "0",
         "1",
         "0",
         "0",
         "0",
         "0",
         "0",
         "0",
         "2",
         "0",
         "0",
         "1",
         "0",
         "0",
         "0",
         "0",
         "0",
         "0",
         "0",
         "0",
         "0",
         "0",
         "0",
         "0",
         "0",
         "0",
         "0",
         "0",
         "0",
         "0",
         "0",
         "0",
         "0",
         "0",
         "0",
         "0",
         "0",
         "0",
         "0",
         "0",
         "0",
         "0",
         "0",
         "0",
         "0",
         "0",
         "1",
         "0",
         "1",
         "0",
         "0",
         "0",
         "0",
         "0",
         "0",
         "0",
         "0",
         "1",
         "0",
         "0",
         "0",
         "1",
         "0",
         "0",
         "0",
         "0",
         "0",
         "0",
         "0",
         "0",
         "0",
         "0",
         "0",
         "0",
         "1",
         "0",
         "0",
         "0",
         "0",
         "0",
         "0",
         "0",
         "0",
         "1",
         "0",
         "1",
         "0",
         "0",
         "0",
         "0",
         "0",
         "0",
         "0",
         "0",
         "0",
         "0",
         "0",
         "0",
         "0",
         "0",
         "0",
         "0",
         "0",
         "0",
         "0",
         "0",
         "0",
         "0",
         "0",
         "0",
         "0",
         "1",
         "0",
         "0",
         "0",
         "0",
         "0",
         "0",
         "0",
         "0",
         "0",
         "0",
         "0",
         "0",
         "0",
         "0",
         "0",
         "0",
         "0",
         "0",
         "0",
         "0",
         "1",
         "0",
         "0",
         "0",
         "0",
         "0",
         "0",
         "0",
         "0",
         "0",
         "0",
         "0",
         "0",
         "0",
         "0",
         "0",
         "0",
         "0",
         "0",
         "1",
         "0",
         "1",
         "0",
         "0",
         "0",
         "0",
         "0",
         "0",
         "0",
         "0",
         "0",
         "1",
         "0",
         "0",
         "0",
         "0",
         "0",
         "0",
         "0",
         "0",
         "0",
         "0",
         "0",
         "0",
         "1",
         "0",
         "0",
         "0",
         "0",
         "0",
         "0",
         "0",
         "0",
         "0",
         "0",
         "0",
         "0",
         "0",
         "0",
         "0",
         "0",
         "0",
         "0",
         "0",
         "0",
         "0",
         "0",
         "0",
         "0",
         "0",
         "0",
         "0",
         "0",
         "0",
         "0",
         "0",
         "0",
         "0",
         "0",
         "0",
         "0",
         "0",
         "0",
         "0",
         "0",
         "1",
         "0",
         "0",
         "0",
         "0",
         "0",
         "0",
         "0",
         "0",
         "0",
         "0",
         "0",
         "0",
         "0",
         "0",
         "0",
         "0",
         "0",
         "0",
         "0",
         "0",
         "1",
         "1",
         "0",
         "0",
         "0",
         "0",
         "0",
         "0",
         "0",
         "0",
         "0",
         "0",
         "0",
         "0",
         "0",
         "0",
         "0",
         "0",
         "0",
         "0",
         "0",
         "0",
         "0",
         "0",
         "0",
         "0",
         "0",
         "0",
         "0",
         "0",
         "1",
         "0",
         "1",
         "0",
         "0",
         "0",
         "3",
         "0",
         "0",
         "0",
         "0",
         "0",
         "0",
         "0",
         "0",
         "0",
         "0",
         "0",
         "0",
         "0",
         "0",
         "0",
         "0",
         "0",
         "0",
         "0",
         "0",
         "0",
         "0",
         "0",
         "0",
         "0",
         "0",
         "0",
         "0",
         "0",
         "0",
         "1",
         "0",
         "0",
         "0",
         "0",
         "0",
         "0",
         "0",
         "0",
         "0",
         "0",
         "0",
         "0",
         "0",
         "0",
         "0",
         "1",
         "0",
         "0",
         "0",
         "0",
         "0",
         "0",
         "0",
         "0",
         "0",
         "0",
         "0",
         "0",
         "0",
         "0",
         "0",
         "0",
         "0",
         "0",
         "0",
         "0",
         "1",
         "0",
         "0",
         "0",
         "1",
         "0",
         "0",
         "0",
         "0",
         "0",
         "0",
         "0",
         "0",
         "0",
         "0",
         "0",
         "0",
         "0",
         "2",
         "0",
         "0",
         "0",
         "0",
         "0",
         "0",
         "0",
         "0",
         "0",
         "0",
         "0",
         "0",
         "0",
         "0",
         "0",
         "0",
         "0",
         "0",
         "0",
         "0",
         "0",
         "0",
         "0",
         "0",
         "0",
         "0",
         "0",
         "0",
         "0",
         "0",
         "0",
         "0",
         "0",
         "0",
         "0",
         "0",
         "0",
         "1",
         "0",
         "0",
         "0",
         "0",
         "0",
         "0",
         "0",
         "0",
         "0",
         "0",
         "1",
         "1",
         "0",
         "0",
         "0",
         "0",
         "0",
         "4",
         "0",
         "0",
         "0",
         "1",
         "0",
         "0",
         "0",
         "0",
         "0",
         "0",
         "0",
         "0",
         "0",
         "0",
         "0",
         "0",
         "0",
         "0",
         "0",
         "0",
         "0",
         "0",
         "0",
         "0",
         "0",
         "0",
         "0",
         "0",
         "0",
         "0",
         "0",
         "0",
         "0",
         "0",
         "0",
         "0",
         "0",
         "0",
         "0",
         "0",
         "0",
         "0",
         "0",
         "0",
         "0",
         "1",
         "0",
         "1",
         "0",
         "0",
         "0",
         "0",
         "0",
         "0",
         "0",
         "0",
         "0",
         "0",
         "0",
         "0",
         "0",
         "0",
         "0",
         "0",
         "0",
         "0",
         "0",
         "0",
         "0",
         "0",
         "0",
         "0",
         "0",
         "0",
         "0",
         "0",
         "0",
         "0",
         "0",
         "0",
         "0",
         "0",
         "0",
         "0",
         "0",
         "0",
         "0",
         "0",
         "0",
         "1",
         "0",
         "0",
         "0",
         "0",
         "0",
         "0",
         "0",
         "0",
         "0",
         "0",
         "0",
         "0",
         "0",
         "0",
         "0",
         "0",
         "0",
         "0",
         "0",
         "0",
         "0",
         "0",
         "0",
         "0",
         "0",
         "0",
         "0",
         "0",
         "0",
         "0",
         "0",
         "0",
         "1",
         "0",
         "0",
         "0",
         "0",
         "0",
         "0",
         "0",
         "0",
         "0",
         "1",
         "0",
         "0",
         "0",
         "0",
         "0",
         "1",
         "0",
         "0",
         "0",
         "0",
         "0",
         "0",
         "0",
         "0",
         "0",
         "0",
         "0",
         "0",
         "0",
         "0",
         "0",
         "0",
         "1",
         "3",
         "0",
         "0",
         "0",
         "0",
         "0",
         "0",
         "0",
         "2",
         "0",
         "0",
         "0",
         "0",
         "0",
         "0",
         "0",
         "0",
         "0",
         "0",
         "0",
         "0",
         "0",
         "0",
         "0",
         "0",
         "0",
         "0",
         "0",
         "0",
         "0",
         "0",
         "0",
         "0",
         "0",
         "0",
         "0",
         "0",
         "0",
         "0",
         "0",
         "0",
         "0",
         "0",
         "0",
         "0",
         "0",
         "0",
         "0",
         "0",
         "0",
         "0",
         "0",
         "0",
         "0",
         "0",
         "0",
         "2",
         "0",
         "1",
         "0",
         "0",
         "0",
         "0",
         "0",
         "0",
         "0",
         "0",
         "0",
         "0",
         "0",
         "0",
         "0",
         "0",
         "0",
         "0",
         "0",
         "0",
         "0",
         "0",
         "0",
         "0",
         "0",
         "0",
         "0",
         "0",
         "0",
         "0",
         "0",
         "0",
         "0",
         "0",
         "0",
         "0",
         "0",
         "0",
         "0",
         "0",
         "0",
         "0",
         "0",
         "0",
         "0",
         "0",
         "0",
         "0",
         "0",
         "0",
         "0",
         "1",
         "0",
         "0",
         "1",
         "0",
         "0",
         "0",
         "0",
         "0",
         "0",
         "0",
         "3",
         "0",
         "0",
         "0",
         "0",
         "0",
         "0",
         "0",
         "1",
         "1",
         "0",
         "0",
         "1",
         "0",
         "0",
         "0",
         "0",
         "0",
         "0",
         "0",
         "0",
         "0",
         "0",
         "0",
         "0",
         "0",
         "0",
         "0",
         "0",
         "0",
         "2",
         "0",
         "0",
         "0",
         "0",
         "0",
         "0",
         "0",
         "0",
         "0",
         "0",
         "0",
         "0",
         "0",
         "0",
         "0",
         "0",
         "0",
         "0",
         "0",
         "0",
         "0",
         "3",
         "0",
         "0",
         "0",
         "0",
         "0",
         "0",
         "0",
         "0",
         "0",
         "0",
         "0",
         "0",
         "0",
         "1",
         "0",
         "0",
         "1",
         "0",
         "0",
         "0",
         "0",
         "0",
         "0",
         "0",
         "0",
         "0",
         "0",
         "0",
         "0",
         "0",
         "0",
         "0",
         "0",
         "0",
         "0",
         "0",
         "0",
         "1",
         "0",
         "0",
         "0",
         "0",
         "0",
         "0",
         "0",
         "0",
         "0",
         "0",
         "0",
         "0",
         "0",
         "0",
         "0"
        ],
        [
         "1",
         "0",
         "0",
         "0",
         "0",
         "0",
         "0",
         "0",
         "0",
         "0",
         "0",
         "0",
         "0",
         "0",
         "0",
         "0",
         "0",
         "0",
         "0",
         "0",
         "0",
         "0",
         "0",
         "0",
         "0",
         "0",
         "0",
         "0",
         "0",
         "0",
         "0",
         "0",
         "0",
         "0",
         "0",
         "0",
         "0",
         "0",
         "0",
         "0",
         "0",
         "1",
         "0",
         "0",
         "0",
         "0",
         "0",
         "0",
         "0",
         "0",
         "1",
         "0",
         "0",
         "0",
         "0",
         "0",
         "0",
         "0",
         "0",
         "0",
         "0",
         "0",
         "0",
         "0",
         "0",
         "0",
         "0",
         "0",
         "0",
         "0",
         "0",
         "0",
         "0",
         "0",
         "0",
         "0",
         "0",
         "0",
         "0",
         "0",
         "0",
         "0",
         "0",
         "0",
         "0",
         "0",
         "0",
         "0",
         "0",
         "1",
         "2",
         "0",
         "0",
         "0",
         "0",
         "0",
         "0",
         "0",
         "1",
         "0",
         "0",
         "0",
         "0",
         "0",
         "0",
         "0",
         "0",
         "0",
         "0",
         "0",
         "0",
         "0",
         "0",
         "0",
         "0",
         "0",
         "0",
         "0",
         "1",
         "0",
         "0",
         "0",
         "0",
         "0",
         "0",
         "0",
         "0",
         "0",
         "0",
         "0",
         "0",
         "0",
         "0",
         "2",
         "0",
         "0",
         "0",
         "0",
         "0",
         "0",
         "0",
         "0",
         "0",
         "0",
         "0",
         "0",
         "0",
         "0",
         "0",
         "0",
         "0",
         "0",
         "0",
         "0",
         "0",
         "0",
         "0",
         "0",
         "0",
         "0",
         "0",
         "0",
         "0",
         "0",
         "0",
         "0",
         "0",
         "0",
         "0",
         "0",
         "0",
         "0",
         "0",
         "0",
         "0",
         "0",
         "0",
         "0",
         "0",
         "0",
         "0",
         "0",
         "1",
         "0",
         "0",
         "0",
         "0",
         "0",
         "0",
         "0",
         "0",
         "0",
         "0",
         "0",
         "0",
         "0",
         "0",
         "0",
         "0",
         "0",
         "0",
         "0",
         "0",
         "0",
         "0",
         "0",
         "0",
         "0",
         "0",
         "0",
         "0",
         "0",
         "0",
         "0",
         "0",
         "0",
         "0",
         "0",
         "0",
         "0",
         "0",
         "0",
         "0",
         "0",
         "0",
         "0",
         "0",
         "0",
         "0",
         "0",
         "0",
         "0",
         "0",
         "0",
         "0",
         "0",
         "0",
         "1",
         "0",
         "0",
         "0",
         "0",
         "0",
         "0",
         "0",
         "0",
         "0",
         "0",
         "0",
         "0",
         "0",
         "0",
         "0",
         "0",
         "0",
         "0",
         "0",
         "0",
         "0",
         "0",
         "0",
         "0",
         "0",
         "0",
         "0",
         "0",
         "0",
         "0",
         "1",
         "0",
         "0",
         "0",
         "0",
         "0",
         "0",
         "0",
         "0",
         "0",
         "0",
         "0",
         "0",
         "0",
         "0",
         "0",
         "0",
         "0",
         "0",
         "2",
         "0",
         "0",
         "0",
         "0",
         "0",
         "0",
         "0",
         "0",
         "0",
         "0",
         "0",
         "0",
         "0",
         "1",
         "0",
         "0",
         "0",
         "2",
         "0",
         "0",
         "0",
         "0",
         "0",
         "0",
         "0",
         "0",
         "0",
         "0",
         "0",
         "0",
         "0",
         "0",
         "0",
         "0",
         "0",
         "0",
         "0",
         "0",
         "0",
         "0",
         "0",
         "0",
         "0",
         "0",
         "0",
         "0",
         "0",
         "0",
         "0",
         "0",
         "2",
         "0",
         "0",
         "0",
         "1",
         "0",
         "0",
         "0",
         "0",
         "0",
         "2",
         "0",
         "0",
         "0",
         "0",
         "0",
         "0",
         "0",
         "1",
         "0",
         "0",
         "0",
         "0",
         "0",
         "0",
         "0",
         "1",
         "0",
         "0",
         "0",
         "0",
         "0",
         "0",
         "0",
         "0",
         "1",
         "1",
         "0",
         "0",
         "0",
         "1",
         "0",
         "0",
         "0",
         "0",
         "0",
         "0",
         "0",
         "0",
         "0",
         "0",
         "0",
         "0",
         "0",
         "0",
         "0",
         "0",
         "0",
         "0",
         "0",
         "0",
         "0",
         "0",
         "0",
         "0",
         "1",
         "0",
         "0",
         "0",
         "0",
         "0",
         "0",
         "0",
         "0",
         "0",
         "0",
         "0",
         "0",
         "1",
         "0",
         "0",
         "0",
         "0",
         "0",
         "0",
         "0",
         "0",
         "0",
         "0",
         "0",
         "0",
         "0",
         "0",
         "0",
         "1",
         "0",
         "0",
         "0",
         "0",
         "0",
         "0",
         "0",
         "0",
         "0",
         "0",
         "0",
         "1",
         "0",
         "0",
         "0",
         "5",
         "0",
         "0",
         "1",
         "0",
         "0",
         "0",
         "0",
         "0",
         "0",
         "0",
         "0",
         "0",
         "0",
         "0",
         "0",
         "0",
         "0",
         "0",
         "0",
         "0",
         "0",
         "1",
         "0",
         "1",
         "0",
         "0",
         "0",
         "0",
         "0",
         "0",
         "0",
         "0",
         "0",
         "0",
         "0",
         "0",
         "0",
         "0",
         "0",
         "1",
         "0",
         "0",
         "0",
         "0",
         "0",
         "0",
         "0",
         "0",
         "0",
         "0",
         "0",
         "0",
         "0",
         "0",
         "0",
         "0",
         "0",
         "0",
         "0",
         "2",
         "0",
         "0",
         "0",
         "0",
         "0",
         "0",
         "0",
         "0",
         "1",
         "0",
         "1",
         "0",
         "0",
         "0",
         "0",
         "1",
         "0",
         "0",
         "0",
         "0",
         "0",
         "0",
         "0",
         "0",
         "0",
         "0",
         "0",
         "0",
         "0",
         "0",
         "0",
         "0",
         "0",
         "0",
         "0",
         "0",
         "0",
         "0",
         "0",
         "0",
         "0",
         "0",
         "0",
         "1",
         "0",
         "1",
         "0",
         "0",
         "0",
         "0",
         "0",
         "0",
         "0",
         "0",
         "0",
         "0",
         "0",
         "2",
         "2",
         "0",
         "1",
         "0",
         "0",
         "0",
         "0",
         "0",
         "0",
         "0",
         "0",
         "0",
         "0",
         "0",
         "0",
         "0",
         "0",
         "0",
         "0",
         "0",
         "0",
         "0",
         "0",
         "0",
         "0",
         "0",
         "0",
         "1",
         "0",
         "0",
         "1",
         "0",
         "0",
         "0",
         "0",
         "0",
         "0",
         "0",
         "0",
         "0",
         "1",
         "0",
         "0",
         "0",
         "0",
         "1",
         "0",
         "0",
         "0",
         "0",
         "0",
         "0",
         "2",
         "0",
         "0",
         "0",
         "0",
         "0",
         "1",
         "1",
         "0",
         "0",
         "0",
         "0",
         "0",
         "0",
         "0",
         "0",
         "0",
         "0",
         "0",
         "1",
         "0",
         "0",
         "0",
         "0",
         "0",
         "0",
         "0",
         "0",
         "0",
         "0",
         "0",
         "0",
         "0",
         "0",
         "0",
         "0",
         "0",
         "0",
         "0",
         "0",
         "0",
         "0",
         "0",
         "0",
         "0",
         "0",
         "0",
         "0",
         "0",
         "0",
         "0",
         "0",
         "0",
         "0",
         "0",
         "0",
         "0",
         "0",
         "0",
         "0",
         "0",
         "0",
         "0",
         "0",
         "0",
         "0",
         "0",
         "0",
         "0",
         "0",
         "0",
         "0",
         "0",
         "1",
         "0",
         "0",
         "0",
         "0",
         "0",
         "0",
         "0",
         "0",
         "0",
         "0",
         "0",
         "0",
         "0",
         "0",
         "0",
         "0",
         "6",
         "0",
         "0",
         "2",
         "0",
         "0",
         "0",
         "0",
         "0",
         "0",
         "0",
         "1",
         "0",
         "0",
         "0",
         "0",
         "0",
         "0",
         "0",
         "0",
         "0",
         "0",
         "0",
         "0",
         "0",
         "0",
         "0",
         "0",
         "0",
         "0",
         "0",
         "0",
         "0",
         "1",
         "0",
         "0",
         "0",
         "0",
         "0",
         "0",
         "0",
         "0",
         "0",
         "0",
         "0",
         "0",
         "0",
         "1",
         "0",
         "1",
         "0",
         "0",
         "0",
         "0",
         "0",
         "0",
         "0",
         "0",
         "0",
         "0",
         "0",
         "0",
         "0",
         "0",
         "0",
         "3",
         "0",
         "0",
         "0",
         "0",
         "0",
         "0",
         "0",
         "0",
         "0",
         "0",
         "0",
         "0",
         "0",
         "0",
         "0",
         "0",
         "1",
         "3",
         "0",
         "0",
         "0",
         "0",
         "0",
         "0",
         "0",
         "0",
         "0",
         "0",
         "0",
         "0",
         "0",
         "0",
         "0",
         "0",
         "0",
         "0",
         "0",
         "0",
         "0",
         "0",
         "0",
         "0",
         "0",
         "0",
         "1",
         "0",
         "0",
         "0",
         "0",
         "0",
         "0",
         "0",
         "0",
         "0",
         "0",
         "0",
         "0",
         "0",
         "0",
         "0",
         "0",
         "0",
         "0",
         "0",
         "0",
         "0",
         "0",
         "0",
         "0",
         "0",
         "1",
         "1",
         "0",
         "0",
         "0",
         "0",
         "0",
         "0",
         "0",
         "0",
         "0",
         "0",
         "0",
         "0",
         "0",
         "0",
         "0",
         "0",
         "0",
         "0",
         "0",
         "0",
         "0",
         "0",
         "0",
         "0",
         "0",
         "0",
         "0",
         "0",
         "0",
         "0",
         "0",
         "0",
         "0",
         "0",
         "0",
         "0",
         "0",
         "2",
         "0",
         "1",
         "0",
         "0",
         "0",
         "0",
         "0",
         "0",
         "0",
         "0",
         "0",
         "0",
         "1",
         "1",
         "1",
         "0",
         "0",
         "0",
         "1",
         "0",
         "0",
         "0",
         "0",
         "0",
         "0",
         "0",
         "0",
         "0",
         "0",
         "0",
         "0",
         "0",
         "0",
         "0",
         "0",
         "0",
         "0",
         "0",
         "0",
         "0",
         "1",
         "0",
         "0",
         "0",
         "0",
         "0",
         "0",
         "0",
         "0",
         "0",
         "0",
         "0",
         "0",
         "0",
         "0",
         "0",
         "0",
         "0",
         "0",
         "0",
         "0",
         "0",
         "0",
         "0",
         "0",
         "0",
         "0",
         "0",
         "0",
         "0",
         "0",
         "0",
         "0",
         "0",
         "0",
         "0",
         "2",
         "0",
         "1",
         "0",
         "0",
         "0",
         "0",
         "0",
         "0",
         "0",
         "0",
         "0",
         "0",
         "0",
         "0",
         "0",
         "0",
         "0",
         "0",
         "0",
         "0",
         "0",
         "0",
         "1",
         "0",
         "0",
         "0",
         "0",
         "0",
         "0",
         "0",
         "0",
         "0",
         "0",
         "1",
         "0",
         "0",
         "0",
         "0",
         "0"
        ],
        [
         "2",
         "0",
         "0",
         "0",
         "0",
         "0",
         "0",
         "0",
         "0",
         "0",
         "0",
         "0",
         "0",
         "0",
         "0",
         "0",
         "0",
         "0",
         "0",
         "0",
         "0",
         "0",
         "0",
         "0",
         "0",
         "0",
         "0",
         "0",
         "0",
         "0",
         "0",
         "0",
         "0",
         "0",
         "0",
         "0",
         "0",
         "0",
         "0",
         "0",
         "0",
         "0",
         "0",
         "0",
         "0",
         "0",
         "0",
         "0",
         "0",
         "0",
         "0",
         "0",
         "0",
         "0",
         "0",
         "0",
         "0",
         "0",
         "0",
         "0",
         "0",
         "0",
         "0",
         "0",
         "0",
         "0",
         "0",
         "0",
         "0",
         "0",
         "0",
         "0",
         "0",
         "0",
         "0",
         "0",
         "0",
         "0",
         "0",
         "0",
         "0",
         "0",
         "0",
         "0",
         "0",
         "0",
         "0",
         "0",
         "0",
         "0",
         "0",
         "0",
         "0",
         "0",
         "0",
         "0",
         "0",
         "0",
         "0",
         "0",
         "0",
         "0",
         "0",
         "0",
         "0",
         "0",
         "0",
         "0",
         "0",
         "0",
         "0",
         "0",
         "0",
         "0",
         "0",
         "0",
         "0",
         "0",
         "0",
         "0",
         "0",
         "0",
         "0",
         "0",
         "0",
         "0",
         "0",
         "0",
         "0",
         "0",
         "0",
         "0",
         "0",
         "0",
         "0",
         "0",
         "0",
         "0",
         "0",
         "0",
         "0",
         "0",
         "0",
         "0",
         "0",
         "0",
         "0",
         "0",
         "0",
         "0",
         "0",
         "0",
         "0",
         "0",
         "0",
         "0",
         "0",
         "0",
         "0",
         "0",
         "0",
         "0",
         "0",
         "0",
         "0",
         "0",
         "0",
         "0",
         "0",
         "0",
         "0",
         "0",
         "0",
         "0",
         "0",
         "0",
         "0",
         "0",
         "0",
         "0",
         "0",
         "0",
         "0",
         "0",
         "0",
         "0",
         "0",
         "0",
         "0",
         "0",
         "0",
         "0",
         "0",
         "0",
         "0",
         "0",
         "0",
         "0",
         "0",
         "0",
         "0",
         "0",
         "0",
         "0",
         "0",
         "0",
         "0",
         "0",
         "0",
         "0",
         "0",
         "0",
         "0",
         "0",
         "0",
         "0",
         "0",
         "0",
         "0",
         "0",
         "0",
         "0",
         "0",
         "0",
         "0",
         "0",
         "0",
         "0",
         "0",
         "0",
         "0",
         "0",
         "0",
         "0",
         "0",
         "0",
         "0",
         "0",
         "0",
         "0",
         "0",
         "0",
         "0",
         "0",
         "0",
         "0",
         "0",
         "0",
         "0",
         "0",
         "0",
         "0",
         "0",
         "0",
         "0",
         "0",
         "0",
         "0",
         "0",
         "0",
         "0",
         "0",
         "0",
         "0",
         "0",
         "0",
         "1",
         "0",
         "0",
         "0",
         "0",
         "0",
         "0",
         "0",
         "0",
         "0",
         "0",
         "0",
         "0",
         "0",
         "0",
         "0",
         "0",
         "0",
         "0",
         "0",
         "0",
         "0",
         "0",
         "1",
         "0",
         "0",
         "0",
         "0",
         "0",
         "0",
         "0",
         "0",
         "0",
         "0",
         "1",
         "0",
         "0",
         "0",
         "0",
         "0",
         "0",
         "0",
         "0",
         "0",
         "0",
         "0",
         "0",
         "0",
         "0",
         "0",
         "2",
         "0",
         "0",
         "0",
         "0",
         "0",
         "0",
         "0",
         "0",
         "0",
         "0",
         "0",
         "0",
         "0",
         "0",
         "0",
         "0",
         "0",
         "0",
         "0",
         "0",
         "0",
         "0",
         "0",
         "0",
         "0",
         "0",
         "0",
         "0",
         "0",
         "0",
         "0",
         "0",
         "0",
         "0",
         "0",
         "0",
         "0",
         "0",
         "0",
         "0",
         "0",
         "0",
         "0",
         "0",
         "0",
         "0",
         "0",
         "0",
         "0",
         "1",
         "0",
         "0",
         "0",
         "0",
         "0",
         "0",
         "0",
         "0",
         "0",
         "0",
         "0",
         "0",
         "0",
         "0",
         "0",
         "0",
         "0",
         "0",
         "0",
         "0",
         "0",
         "0",
         "0",
         "0",
         "0",
         "0",
         "0",
         "0",
         "0",
         "0",
         "0",
         "0",
         "0",
         "0",
         "0",
         "0",
         "0",
         "0",
         "0",
         "0",
         "0",
         "0",
         "0",
         "0",
         "0",
         "0",
         "0",
         "0",
         "0",
         "0",
         "0",
         "0",
         "0",
         "0",
         "0",
         "0",
         "0",
         "0",
         "0",
         "0",
         "0",
         "0",
         "0",
         "0",
         "0",
         "0",
         "0",
         "0",
         "0",
         "0",
         "0",
         "0",
         "0",
         "0",
         "0",
         "0",
         "0",
         "0",
         "0",
         "0",
         "0",
         "0",
         "0",
         "0",
         "0",
         "0",
         "0",
         "0",
         "0",
         "0",
         "0",
         "0",
         "0",
         "0",
         "0",
         "0",
         "0",
         "0",
         "0",
         "0",
         "0",
         "0",
         "0",
         "0",
         "0",
         "0",
         "0",
         "0",
         "0",
         "0",
         "0",
         "0",
         "0",
         "0",
         "0",
         "0",
         "0",
         "0",
         "0",
         "0",
         "0",
         "0",
         "0",
         "0",
         "0",
         "0",
         "0",
         "0",
         "1",
         "0",
         "0",
         "0",
         "0",
         "0",
         "0",
         "0",
         "0",
         "0",
         "0",
         "0",
         "0",
         "0",
         "0",
         "0",
         "0",
         "0",
         "0",
         "0",
         "0",
         "0",
         "1",
         "0",
         "0",
         "0",
         "0",
         "0",
         "0",
         "0",
         "0",
         "0",
         "0",
         "0",
         "0",
         "0",
         "0",
         "0",
         "0",
         "0",
         "0",
         "0",
         "0",
         "0",
         "0",
         "0",
         "0",
         "0",
         "0",
         "0",
         "0",
         "0",
         "0",
         "0",
         "0",
         "0",
         "0",
         "0",
         "0",
         "0",
         "0",
         "0",
         "0",
         "0",
         "0",
         "0",
         "0",
         "0",
         "0",
         "0",
         "0",
         "0",
         "0",
         "0",
         "0",
         "0",
         "0",
         "0",
         "0",
         "0",
         "0",
         "0",
         "0",
         "0",
         "0",
         "0",
         "0",
         "0",
         "0",
         "0",
         "0",
         "0",
         "0",
         "0",
         "0",
         "0",
         "0",
         "0",
         "0",
         "0",
         "0",
         "0",
         "0",
         "0",
         "0",
         "0",
         "0",
         "0",
         "0",
         "1",
         "0",
         "0",
         "0",
         "0",
         "0",
         "0",
         "0",
         "0",
         "0",
         "0",
         "0",
         "0",
         "0",
         "0",
         "1",
         "0",
         "0",
         "0",
         "0",
         "0",
         "0",
         "0",
         "0",
         "0",
         "0",
         "0",
         "0",
         "0",
         "0",
         "0",
         "0",
         "0",
         "0",
         "0",
         "0",
         "0",
         "0",
         "0",
         "0",
         "0",
         "0",
         "0",
         "0",
         "0",
         "0",
         "0",
         "0",
         "0",
         "0",
         "0",
         "0",
         "0",
         "0",
         "0",
         "0",
         "0",
         "0",
         "0",
         "0",
         "0",
         "0",
         "0",
         "0",
         "0",
         "0",
         "0",
         "0",
         "0",
         "0",
         "0",
         "0",
         "0",
         "0",
         "0",
         "0",
         "0",
         "0",
         "0",
         "0",
         "0",
         "0",
         "0",
         "0",
         "0",
         "0",
         "0",
         "0",
         "0",
         "0",
         "0",
         "0",
         "0",
         "0",
         "0",
         "0",
         "0",
         "0",
         "0",
         "0",
         "0",
         "0",
         "0",
         "0",
         "0",
         "2",
         "0",
         "0",
         "0",
         "0",
         "0",
         "0",
         "0",
         "0",
         "0",
         "0",
         "0",
         "0",
         "0",
         "0",
         "0",
         "0",
         "0",
         "0",
         "0",
         "0",
         "0",
         "0",
         "0",
         "0",
         "0",
         "0",
         "0",
         "0",
         "0",
         "0",
         "0",
         "0",
         "0",
         "0",
         "0",
         "0",
         "0",
         "0",
         "0",
         "0",
         "0",
         "0",
         "0",
         "0",
         "0",
         "0",
         "0",
         "0",
         "0",
         "0",
         "0",
         "0",
         "0",
         "0",
         "0",
         "0",
         "0",
         "0",
         "0",
         "0",
         "0",
         "0",
         "0",
         "0",
         "0",
         "0",
         "0",
         "0",
         "0",
         "0",
         "0",
         "0",
         "0",
         "0",
         "0",
         "0",
         "0",
         "0",
         "0",
         "0",
         "0",
         "0",
         "0",
         "1",
         "0",
         "0",
         "0",
         "0",
         "0",
         "0",
         "0",
         "0",
         "0",
         "0",
         "0",
         "0",
         "0",
         "0",
         "0",
         "0",
         "0",
         "0",
         "0",
         "0",
         "0",
         "0",
         "0",
         "0",
         "0",
         "0",
         "0",
         "0",
         "0",
         "0",
         "0",
         "0",
         "0",
         "0",
         "0",
         "0",
         "0",
         "0",
         "0",
         "0",
         "0",
         "0",
         "0",
         "0",
         "0",
         "0",
         "0",
         "0",
         "0",
         "0",
         "0",
         "0",
         "0",
         "0",
         "0",
         "0",
         "0",
         "0",
         "0",
         "0",
         "0",
         "0",
         "0",
         "0",
         "0",
         "0",
         "0",
         "0",
         "0",
         "0",
         "0",
         "0",
         "0",
         "0",
         "0",
         "0",
         "0",
         "0",
         "0",
         "0",
         "0",
         "0",
         "0",
         "0",
         "0",
         "0",
         "0",
         "0",
         "0",
         "0",
         "0",
         "0",
         "0",
         "0",
         "0",
         "0",
         "0",
         "0",
         "0",
         "0",
         "0",
         "0",
         "0",
         "0",
         "0",
         "0",
         "0",
         "0",
         "0",
         "0",
         "0",
         "0",
         "0",
         "0",
         "0",
         "0",
         "0",
         "0",
         "0",
         "0",
         "0",
         "0",
         "0",
         "0",
         "0",
         "0",
         "0",
         "0",
         "0",
         "0",
         "0",
         "1",
         "0",
         "0",
         "0",
         "0",
         "0",
         "0",
         "0",
         "0",
         "0",
         "0",
         "0",
         "0",
         "0",
         "0",
         "0",
         "0",
         "0",
         "0",
         "0",
         "0",
         "0",
         "0",
         "0",
         "0",
         "0",
         "0",
         "0",
         "0",
         "0",
         "0",
         "0",
         "0",
         "0",
         "0",
         "0",
         "0",
         "0",
         "0",
         "0",
         "0",
         "0",
         "0",
         "0",
         "0",
         "0",
         "0",
         "0",
         "0",
         "0",
         "0",
         "0",
         "0",
         "0",
         "0",
         "0",
         "0",
         "0",
         "0",
         "0",
         "0",
         "0",
         "0",
         "0",
         "0",
         "0",
         "0",
         "0",
         "0",
         "0",
         "0",
         "0",
         "0",
         "0",
         "1",
         "0"
        ],
        [
         "3",
         "0",
         "0",
         "0",
         "0",
         "0",
         "0",
         "0",
         "0",
         "0",
         "0",
         "0",
         "0",
         "0",
         "0",
         "0",
         "0",
         "0",
         "0",
         "0",
         "0",
         "0",
         "0",
         "0",
         "0",
         "0",
         "0",
         "0",
         "0",
         "0",
         "1",
         "0",
         "0",
         "0",
         "0",
         "0",
         "0",
         "0",
         "0",
         "0",
         "0",
         "0",
         "0",
         "0",
         "0",
         "1",
         "0",
         "0",
         "0",
         "0",
         "2",
         "0",
         "0",
         "0",
         "0",
         "0",
         "0",
         "0",
         "0",
         "0",
         "0",
         "0",
         "0",
         "0",
         "0",
         "0",
         "0",
         "0",
         "1",
         "0",
         "1",
         "0",
         "0",
         "0",
         "0",
         "0",
         "0",
         "0",
         "0",
         "1",
         "0",
         "0",
         "0",
         "1",
         "0",
         "0",
         "0",
         "0",
         "0",
         "0",
         "0",
         "0",
         "0",
         "0",
         "0",
         "0",
         "0",
         "0",
         "0",
         "0",
         "0",
         "0",
         "0",
         "1",
         "0",
         "0",
         "1",
         "1",
         "0",
         "0",
         "0",
         "0",
         "0",
         "0",
         "0",
         "0",
         "0",
         "0",
         "6",
         "1",
         "0",
         "2",
         "0",
         "0",
         "0",
         "0",
         "0",
         "0",
         "0",
         "0",
         "0",
         "0",
         "0",
         "0",
         "0",
         "0",
         "0",
         "0",
         "0",
         "0",
         "0",
         "0",
         "0",
         "0",
         "0",
         "0",
         "0",
         "0",
         "0",
         "0",
         "0",
         "0",
         "0",
         "0",
         "0",
         "0",
         "0",
         "0",
         "0",
         "0",
         "0",
         "0",
         "0",
         "0",
         "0",
         "0",
         "0",
         "0",
         "0",
         "1",
         "0",
         "0",
         "0",
         "0",
         "0",
         "0",
         "0",
         "1",
         "0",
         "0",
         "0",
         "0",
         "0",
         "0",
         "0",
         "0",
         "0",
         "0",
         "0",
         "0",
         "0",
         "0",
         "1",
         "0",
         "0",
         "0",
         "0",
         "0",
         "0",
         "1",
         "0",
         "0",
         "0",
         "0",
         "0",
         "0",
         "0",
         "1",
         "0",
         "0",
         "0",
         "2",
         "1",
         "0",
         "0",
         "0",
         "0",
         "0",
         "0",
         "0",
         "0",
         "0",
         "0",
         "0",
         "0",
         "0",
         "0",
         "0",
         "0",
         "0",
         "0",
         "0",
         "0",
         "0",
         "0",
         "0",
         "0",
         "1",
         "0",
         "1",
         "0",
         "0",
         "0",
         "0",
         "0",
         "0",
         "0",
         "0",
         "0",
         "0",
         "0",
         "0",
         "0",
         "0",
         "0",
         "0",
         "0",
         "0",
         "0",
         "1",
         "0",
         "0",
         "0",
         "0",
         "0",
         "0",
         "0",
         "0",
         "0",
         "0",
         "0",
         "0",
         "0",
         "1",
         "0",
         "0",
         "1",
         "3",
         "0",
         "0",
         "1",
         "0",
         "0",
         "0",
         "0",
         "1",
         "0",
         "0",
         "0",
         "0",
         "0",
         "0",
         "0",
         "0",
         "0",
         "0",
         "0",
         "0",
         "0",
         "0",
         "0",
         "0",
         "0",
         "0",
         "0",
         "0",
         "0",
         "0",
         "0",
         "0",
         "1",
         "0",
         "0",
         "0",
         "0",
         "0",
         "0",
         "0",
         "0",
         "0",
         "0",
         "0",
         "0",
         "2",
         "0",
         "1",
         "0",
         "0",
         "0",
         "0",
         "0",
         "0",
         "1",
         "0",
         "0",
         "0",
         "0",
         "0",
         "0",
         "0",
         "0",
         "0",
         "0",
         "0",
         "0",
         "1",
         "0",
         "0",
         "1",
         "0",
         "0",
         "0",
         "1",
         "0",
         "0",
         "0",
         "0",
         "0",
         "0",
         "2",
         "0",
         "0",
         "0",
         "0",
         "0",
         "0",
         "0",
         "0",
         "0",
         "0",
         "0",
         "0",
         "0",
         "0",
         "0",
         "0",
         "0",
         "0",
         "0",
         "0",
         "0",
         "0",
         "0",
         "0",
         "0",
         "0",
         "0",
         "0",
         "0",
         "0",
         "0",
         "0",
         "0",
         "0",
         "0",
         "0",
         "1",
         "0",
         "0",
         "0",
         "0",
         "0",
         "0",
         "2",
         "0",
         "0",
         "0",
         "0",
         "1",
         "0",
         "0",
         "0",
         "0",
         "0",
         "0",
         "0",
         "0",
         "0",
         "0",
         "0",
         "0",
         "0",
         "0",
         "0",
         "0",
         "0",
         "0",
         "0",
         "0",
         "0",
         "0",
         "0",
         "0",
         "0",
         "0",
         "1",
         "0",
         "0",
         "5",
         "0",
         "0",
         "0",
         "1",
         "0",
         "0",
         "0",
         "0",
         "0",
         "4",
         "0",
         "0",
         "0",
         "0",
         "0",
         "0",
         "0",
         "0",
         "0",
         "0",
         "0",
         "0",
         "0",
         "0",
         "0",
         "0",
         "0",
         "0",
         "0",
         "0",
         "0",
         "0",
         "0",
         "0",
         "0",
         "0",
         "0",
         "0",
         "0",
         "0",
         "1",
         "0",
         "0",
         "0",
         "0",
         "0",
         "1",
         "0",
         "0",
         "0",
         "0",
         "0",
         "0",
         "0",
         "0",
         "0",
         "0",
         "0",
         "0",
         "0",
         "0",
         "0",
         "0",
         "0",
         "0",
         "0",
         "0",
         "0",
         "0",
         "0",
         "0",
         "0",
         "0",
         "0",
         "1",
         "0",
         "0",
         "0",
         "0",
         "0",
         "3",
         "0",
         "0",
         "0",
         "0",
         "0",
         "0",
         "0",
         "0",
         "0",
         "0",
         "1",
         "0",
         "0",
         "0",
         "0",
         "0",
         "0",
         "1",
         "0",
         "0",
         "0",
         "0",
         "0",
         "0",
         "0",
         "0",
         "0",
         "0",
         "0",
         "0",
         "0",
         "0",
         "0",
         "0",
         "1",
         "0",
         "0",
         "0",
         "0",
         "0",
         "0",
         "0",
         "0",
         "1",
         "0",
         "0",
         "0",
         "0",
         "0",
         "0",
         "0",
         "0",
         "0",
         "0",
         "0",
         "0",
         "0",
         "0",
         "0",
         "0",
         "0",
         "0",
         "1",
         "1",
         "0",
         "0",
         "0",
         "0",
         "0",
         "0",
         "0",
         "0",
         "0",
         "0",
         "3",
         "0",
         "0",
         "1",
         "0",
         "0",
         "0",
         "0",
         "0",
         "0",
         "0",
         "0",
         "0",
         "0",
         "0",
         "0",
         "0",
         "0",
         "0",
         "1",
         "1",
         "0",
         "0",
         "0",
         "0",
         "5",
         "0",
         "0",
         "0",
         "0",
         "0",
         "1",
         "0",
         "0",
         "0",
         "0",
         "0",
         "0",
         "0",
         "0",
         "0",
         "0",
         "0",
         "0",
         "0",
         "0",
         "0",
         "0",
         "0",
         "0",
         "0",
         "0",
         "0",
         "0",
         "0",
         "0",
         "1",
         "0",
         "0",
         "0",
         "0",
         "0",
         "0",
         "0",
         "0",
         "0",
         "1",
         "0",
         "0",
         "0",
         "0",
         "0",
         "0",
         "0",
         "0",
         "0",
         "0",
         "0",
         "0",
         "0",
         "0",
         "0",
         "0",
         "0",
         "0",
         "0",
         "0",
         "0",
         "0",
         "0",
         "0",
         "0",
         "0",
         "0",
         "0",
         "0",
         "0",
         "0",
         "0",
         "0",
         "0",
         "0",
         "0",
         "0",
         "0",
         "0",
         "0",
         "0",
         "0",
         "0",
         "0",
         "0",
         "0",
         "0",
         "0",
         "4",
         "0",
         "0",
         "0",
         "0",
         "0",
         "0",
         "0",
         "0",
         "1",
         "0",
         "0",
         "0",
         "0",
         "0",
         "0",
         "0",
         "0",
         "0",
         "0",
         "0",
         "0",
         "0",
         "0",
         "0",
         "0",
         "0",
         "0",
         "0",
         "0",
         "0",
         "0",
         "0",
         "0",
         "0",
         "0",
         "0",
         "0",
         "0",
         "0",
         "0",
         "0",
         "0",
         "0",
         "0",
         "0",
         "0",
         "0",
         "0",
         "1",
         "0",
         "0",
         "0",
         "0",
         "0",
         "1",
         "0",
         "0",
         "0",
         "1",
         "0",
         "0",
         "0",
         "0",
         "0",
         "0",
         "0",
         "0",
         "0",
         "0",
         "0",
         "0",
         "0",
         "0",
         "0",
         "0",
         "0",
         "0",
         "0",
         "0",
         "0",
         "0",
         "0",
         "0",
         "0",
         "0",
         "0",
         "0",
         "0",
         "0",
         "0",
         "0",
         "0",
         "0",
         "2",
         "0",
         "0",
         "0",
         "0",
         "0",
         "0",
         "0",
         "0",
         "0",
         "0",
         "0",
         "0",
         "1",
         "0",
         "0",
         "0",
         "0",
         "0",
         "0",
         "0",
         "0",
         "0",
         "0",
         "0",
         "0",
         "0",
         "0",
         "0",
         "0",
         "0",
         "0",
         "0",
         "0",
         "0",
         "0",
         "0",
         "0",
         "0",
         "0",
         "0",
         "0",
         "0",
         "0",
         "0",
         "0",
         "0",
         "0",
         "0",
         "0",
         "1",
         "0",
         "0",
         "0",
         "0",
         "0",
         "0",
         "1",
         "0",
         "0",
         "0",
         "0",
         "0",
         "0",
         "0",
         "0",
         "0",
         "0",
         "1",
         "0",
         "0",
         "0",
         "0",
         "0",
         "0",
         "0",
         "0",
         "0",
         "0",
         "0",
         "0",
         "0",
         "0",
         "1",
         "0",
         "0",
         "0",
         "0",
         "1",
         "0",
         "0",
         "0",
         "1",
         "0",
         "0",
         "0",
         "0",
         "0",
         "0",
         "0",
         "0",
         "0",
         "0",
         "0",
         "1",
         "0",
         "0",
         "0",
         "0",
         "1",
         "0",
         "0",
         "0",
         "0",
         "0",
         "0",
         "0",
         "0",
         "0",
         "0",
         "0",
         "0",
         "1",
         "0",
         "1",
         "0",
         "0",
         "0",
         "0",
         "0",
         "0",
         "0",
         "0",
         "0",
         "0",
         "0",
         "0",
         "0",
         "0",
         "0",
         "0",
         "0",
         "0",
         "0",
         "0",
         "0",
         "1",
         "0",
         "0",
         "0",
         "0",
         "0",
         "0",
         "0",
         "0",
         "0",
         "0",
         "0",
         "0",
         "0",
         "1",
         "0",
         "0",
         "0",
         "0",
         "0",
         "0",
         "0",
         "0",
         "0",
         "0",
         "0",
         "0",
         "0",
         "0",
         "0",
         "0",
         "1",
         "0",
         "0",
         "1",
         "1",
         "0",
         "0",
         "2",
         "1",
         "0",
         "0",
         "0",
         "0",
         "0",
         "0",
         "1",
         "0",
         "0",
         "0",
         "0",
         "0"
        ],
        [
         "4",
         "0",
         "0",
         "0",
         "0",
         "0",
         "0",
         "0",
         "0",
         "0",
         "0",
         "0",
         "0",
         "0",
         "0",
         "1",
         "0",
         "0",
         "0",
         "0",
         "0",
         "0",
         "0",
         "0",
         "0",
         "0",
         "1",
         "0",
         "0",
         "0",
         "3",
         "0",
         "0",
         "0",
         "0",
         "0",
         "0",
         "0",
         "0",
         "0",
         "0",
         "0",
         "1",
         "0",
         "0",
         "0",
         "0",
         "0",
         "0",
         "0",
         "5",
         "0",
         "0",
         "0",
         "0",
         "0",
         "0",
         "0",
         "0",
         "0",
         "0",
         "0",
         "0",
         "0",
         "0",
         "2",
         "0",
         "0",
         "0",
         "0",
         "0",
         "1",
         "0",
         "0",
         "0",
         "0",
         "0",
         "0",
         "0",
         "0",
         "0",
         "0",
         "0",
         "0",
         "0",
         "0",
         "0",
         "0",
         "0",
         "0",
         "0",
         "0",
         "0",
         "0",
         "0",
         "0",
         "0",
         "0",
         "1",
         "0",
         "1",
         "0",
         "0",
         "0",
         "0",
         "0",
         "0",
         "1",
         "0",
         "0",
         "0",
         "0",
         "0",
         "2",
         "0",
         "0",
         "0",
         "0",
         "4",
         "0",
         "1",
         "1",
         "0",
         "0",
         "0",
         "0",
         "0",
         "0",
         "0",
         "0",
         "0",
         "0",
         "0",
         "2",
         "0",
         "0",
         "0",
         "0",
         "0",
         "0",
         "1",
         "0",
         "0",
         "0",
         "2",
         "0",
         "0",
         "0",
         "0",
         "0",
         "0",
         "0",
         "0",
         "0",
         "0",
         "0",
         "0",
         "0",
         "0",
         "0",
         "0",
         "0",
         "0",
         "1",
         "0",
         "0",
         "0",
         "0",
         "0",
         "0",
         "0",
         "0",
         "0",
         "0",
         "0",
         "0",
         "0",
         "0",
         "0",
         "0",
         "0",
         "0",
         "0",
         "0",
         "0",
         "0",
         "0",
         "0",
         "0",
         "0",
         "0",
         "0",
         "0",
         "0",
         "0",
         "0",
         "0",
         "0",
         "0",
         "0",
         "0",
         "0",
         "0",
         "0",
         "1",
         "0",
         "0",
         "0",
         "1",
         "0",
         "0",
         "1",
         "0",
         "0",
         "0",
         "0",
         "1",
         "0",
         "0",
         "0",
         "0",
         "0",
         "3",
         "0",
         "0",
         "0",
         "0",
         "0",
         "0",
         "1",
         "0",
         "0",
         "0",
         "0",
         "0",
         "0",
         "0",
         "0",
         "0",
         "0",
         "0",
         "0",
         "0",
         "0",
         "0",
         "0",
         "0",
         "0",
         "0",
         "0",
         "0",
         "0",
         "0",
         "0",
         "0",
         "0",
         "0",
         "0",
         "0",
         "0",
         "0",
         "0",
         "0",
         "1",
         "0",
         "0",
         "0",
         "0",
         "0",
         "0",
         "0",
         "0",
         "0",
         "0",
         "0",
         "0",
         "0",
         "0",
         "0",
         "0",
         "0",
         "0",
         "0",
         "3",
         "0",
         "0",
         "0",
         "0",
         "0",
         "1",
         "0",
         "0",
         "0",
         "0",
         "0",
         "1",
         "0",
         "0",
         "0",
         "0",
         "1",
         "0",
         "0",
         "0",
         "0",
         "0",
         "0",
         "0",
         "0",
         "0",
         "0",
         "0",
         "0",
         "0",
         "4",
         "0",
         "0",
         "0",
         "0",
         "0",
         "0",
         "0",
         "0",
         "0",
         "0",
         "0",
         "0",
         "0",
         "0",
         "0",
         "0",
         "0",
         "0",
         "0",
         "0",
         "1",
         "0",
         "0",
         "0",
         "1",
         "0",
         "1",
         "0",
         "0",
         "0",
         "0",
         "0",
         "0",
         "1",
         "0",
         "0",
         "0",
         "0",
         "0",
         "0",
         "0",
         "0",
         "0",
         "0",
         "0",
         "0",
         "0",
         "0",
         "0",
         "0",
         "0",
         "0",
         "0",
         "0",
         "0",
         "0",
         "0",
         "1",
         "0",
         "1",
         "0",
         "1",
         "0",
         "3",
         "0",
         "0",
         "0",
         "0",
         "0",
         "0",
         "0",
         "0",
         "0",
         "0",
         "0",
         "0",
         "0",
         "0",
         "0",
         "0",
         "0",
         "0",
         "0",
         "0",
         "0",
         "0",
         "0",
         "0",
         "0",
         "0",
         "0",
         "0",
         "0",
         "0",
         "0",
         "0",
         "0",
         "0",
         "0",
         "0",
         "0",
         "0",
         "0",
         "0",
         "0",
         "0",
         "0",
         "0",
         "0",
         "0",
         "0",
         "0",
         "0",
         "0",
         "0",
         "0",
         "0",
         "0",
         "0",
         "0",
         "0",
         "0",
         "0",
         "0",
         "0",
         "0",
         "0",
         "0",
         "0",
         "0",
         "0",
         "0",
         "0",
         "3",
         "0",
         "0",
         "0",
         "0",
         "0",
         "0",
         "0",
         "0",
         "0",
         "0",
         "0",
         "0",
         "0",
         "0",
         "0",
         "0",
         "0",
         "1",
         "0",
         "0",
         "0",
         "0",
         "0",
         "0",
         "0",
         "0",
         "1",
         "0",
         "6",
         "0",
         "7",
         "1",
         "0",
         "0",
         "0",
         "0",
         "0",
         "0",
         "0",
         "0",
         "1",
         "0",
         "0",
         "0",
         "0",
         "0",
         "0",
         "0",
         "0",
         "0",
         "0",
         "0",
         "0",
         "0",
         "0",
         "0",
         "1",
         "0",
         "0",
         "0",
         "0",
         "0",
         "0",
         "0",
         "0",
         "0",
         "0",
         "0",
         "2",
         "0",
         "1",
         "0",
         "0",
         "0",
         "0",
         "0",
         "1",
         "0",
         "0",
         "0",
         "0",
         "0",
         "0",
         "0",
         "0",
         "0",
         "0",
         "0",
         "0",
         "1",
         "0",
         "0",
         "0",
         "0",
         "0",
         "0",
         "0",
         "0",
         "0",
         "0",
         "0",
         "0",
         "0",
         "0",
         "0",
         "0",
         "0",
         "0",
         "0",
         "0",
         "0",
         "0",
         "0",
         "0",
         "0",
         "0",
         "0",
         "0",
         "0",
         "0",
         "0",
         "0",
         "0",
         "0",
         "0",
         "0",
         "0",
         "0",
         "0",
         "0",
         "0",
         "0",
         "0",
         "0",
         "0",
         "0",
         "0",
         "0",
         "0",
         "0",
         "0",
         "0",
         "0",
         "0",
         "0",
         "3",
         "0",
         "1",
         "0",
         "0",
         "0",
         "0",
         "0",
         "0",
         "0",
         "0",
         "0",
         "0",
         "0",
         "0",
         "0",
         "0",
         "0",
         "0",
         "0",
         "0",
         "0",
         "0",
         "0",
         "0",
         "2",
         "0",
         "0",
         "0",
         "0",
         "0",
         "0",
         "0",
         "0",
         "0",
         "0",
         "1",
         "0",
         "0",
         "0",
         "0",
         "0",
         "0",
         "0",
         "0",
         "2",
         "0",
         "0",
         "0",
         "0",
         "0",
         "1",
         "0",
         "0",
         "0",
         "0",
         "0",
         "0",
         "0",
         "0",
         "0",
         "0",
         "0",
         "0",
         "0",
         "0",
         "0",
         "0",
         "0",
         "0",
         "0",
         "1",
         "0",
         "0",
         "0",
         "0",
         "0",
         "0",
         "0",
         "0",
         "0",
         "0",
         "0",
         "0",
         "0",
         "0",
         "0",
         "0",
         "0",
         "2",
         "0",
         "0",
         "0",
         "0",
         "0",
         "0",
         "0",
         "0",
         "0",
         "0",
         "0",
         "0",
         "1",
         "0",
         "0",
         "0",
         "0",
         "0",
         "0",
         "0",
         "0",
         "0",
         "0",
         "0",
         "0",
         "1",
         "0",
         "0",
         "0",
         "0",
         "0",
         "1",
         "0",
         "0",
         "0",
         "0",
         "0",
         "0",
         "0",
         "0",
         "1",
         "0",
         "0",
         "0",
         "0",
         "0",
         "0",
         "0",
         "0",
         "0",
         "0",
         "0",
         "0",
         "0",
         "0",
         "0",
         "0",
         "0",
         "1",
         "0",
         "0",
         "0",
         "0",
         "0",
         "0",
         "0",
         "0",
         "0",
         "0",
         "0",
         "0",
         "0",
         "1",
         "0",
         "3",
         "0",
         "0",
         "0",
         "0",
         "0",
         "0",
         "0",
         "0",
         "3",
         "0",
         "1",
         "0",
         "0",
         "0",
         "0",
         "0",
         "0",
         "0",
         "0",
         "1",
         "1",
         "0",
         "0",
         "0",
         "0",
         "1",
         "0",
         "0",
         "0",
         "0",
         "0",
         "1",
         "0",
         "0",
         "7",
         "0",
         "1",
         "1",
         "0",
         "0",
         "0",
         "0",
         "0",
         "0",
         "0",
         "0",
         "0",
         "0",
         "0",
         "0",
         "0",
         "0",
         "0",
         "0",
         "0",
         "0",
         "0",
         "0",
         "0",
         "0",
         "0",
         "0",
         "0",
         "0",
         "0",
         "0",
         "0",
         "0",
         "0",
         "0",
         "0",
         "0",
         "0",
         "0",
         "0",
         "0",
         "0",
         "0",
         "0",
         "0",
         "0",
         "0",
         "0",
         "0",
         "0",
         "0",
         "0",
         "0",
         "0",
         "0",
         "1",
         "0",
         "0",
         "0",
         "1",
         "0",
         "0",
         "0",
         "0",
         "0",
         "0",
         "0",
         "0",
         "0",
         "0",
         "0",
         "0",
         "0",
         "0",
         "1",
         "0",
         "0",
         "0",
         "0",
         "0",
         "0",
         "0",
         "0",
         "0",
         "1",
         "0",
         "0",
         "0",
         "0",
         "0",
         "1",
         "1",
         "0",
         "0",
         "0",
         "0",
         "0",
         "0",
         "0",
         "0",
         "0",
         "0",
         "0",
         "0",
         "0",
         "0",
         "0",
         "0",
         "0",
         "1",
         "0",
         "0",
         "0",
         "0",
         "0",
         "0",
         "0",
         "0",
         "1",
         "0",
         "0",
         "0",
         "0",
         "0",
         "0",
         "0",
         "0",
         "0",
         "1",
         "0",
         "0",
         "5",
         "0",
         "0",
         "0",
         "0",
         "0",
         "0",
         "1",
         "0",
         "0",
         "0",
         "0",
         "0",
         "0",
         "0",
         "0",
         "0",
         "0",
         "0",
         "0",
         "0",
         "0",
         "0",
         "0",
         "0",
         "0",
         "1",
         "0",
         "1",
         "0",
         "0",
         "0",
         "0",
         "0",
         "0",
         "0",
         "0",
         "0",
         "1",
         "0",
         "0",
         "0",
         "0",
         "0",
         "0",
         "0",
         "0",
         "0",
         "0",
         "0",
         "0",
         "0",
         "1",
         "0",
         "0",
         "2",
         "1",
         "0",
         "0",
         "0",
         "0",
         "0",
         "0",
         "0",
         "0",
         "0",
         "0",
         "0",
         "0",
         "0",
         "1",
         "0",
         "0",
         "0",
         "0",
         "0"
        ]
       ],
       "shape": {
        "columns": 1000,
        "rows": 5
       }
      },
      "text/html": [
       "<div>\n",
       "<style scoped>\n",
       "    .dataframe tbody tr th:only-of-type {\n",
       "        vertical-align: middle;\n",
       "    }\n",
       "\n",
       "    .dataframe tbody tr th {\n",
       "        vertical-align: top;\n",
       "    }\n",
       "\n",
       "    .dataframe thead th {\n",
       "        text-align: right;\n",
       "    }\n",
       "</style>\n",
       "<table border=\"1\" class=\"dataframe\">\n",
       "  <thead>\n",
       "    <tr style=\"text-align: right;\">\n",
       "      <th></th>\n",
       "      <th>10</th>\n",
       "      <th>100</th>\n",
       "      <th>11</th>\n",
       "      <th>15</th>\n",
       "      <th>16</th>\n",
       "      <th>17</th>\n",
       "      <th>20</th>\n",
       "      <th>2013</th>\n",
       "      <th>2014</th>\n",
       "      <th>2015</th>\n",
       "      <th>...</th>\n",
       "      <th>write</th>\n",
       "      <th>write review</th>\n",
       "      <th>wrong</th>\n",
       "      <th>ye</th>\n",
       "      <th>year</th>\n",
       "      <th>year kindl</th>\n",
       "      <th>year model</th>\n",
       "      <th>year old</th>\n",
       "      <th>yet</th>\n",
       "      <th>youtub</th>\n",
       "    </tr>\n",
       "  </thead>\n",
       "  <tbody>\n",
       "    <tr>\n",
       "      <th>0</th>\n",
       "      <td>0</td>\n",
       "      <td>0</td>\n",
       "      <td>0</td>\n",
       "      <td>0</td>\n",
       "      <td>0</td>\n",
       "      <td>0</td>\n",
       "      <td>0</td>\n",
       "      <td>0</td>\n",
       "      <td>0</td>\n",
       "      <td>0</td>\n",
       "      <td>...</td>\n",
       "      <td>0</td>\n",
       "      <td>0</td>\n",
       "      <td>0</td>\n",
       "      <td>0</td>\n",
       "      <td>0</td>\n",
       "      <td>0</td>\n",
       "      <td>0</td>\n",
       "      <td>0</td>\n",
       "      <td>0</td>\n",
       "      <td>0</td>\n",
       "    </tr>\n",
       "    <tr>\n",
       "      <th>1</th>\n",
       "      <td>0</td>\n",
       "      <td>0</td>\n",
       "      <td>0</td>\n",
       "      <td>0</td>\n",
       "      <td>0</td>\n",
       "      <td>0</td>\n",
       "      <td>0</td>\n",
       "      <td>0</td>\n",
       "      <td>0</td>\n",
       "      <td>0</td>\n",
       "      <td>...</td>\n",
       "      <td>0</td>\n",
       "      <td>0</td>\n",
       "      <td>0</td>\n",
       "      <td>0</td>\n",
       "      <td>1</td>\n",
       "      <td>0</td>\n",
       "      <td>0</td>\n",
       "      <td>0</td>\n",
       "      <td>0</td>\n",
       "      <td>0</td>\n",
       "    </tr>\n",
       "    <tr>\n",
       "      <th>2</th>\n",
       "      <td>0</td>\n",
       "      <td>0</td>\n",
       "      <td>0</td>\n",
       "      <td>0</td>\n",
       "      <td>0</td>\n",
       "      <td>0</td>\n",
       "      <td>0</td>\n",
       "      <td>0</td>\n",
       "      <td>0</td>\n",
       "      <td>0</td>\n",
       "      <td>...</td>\n",
       "      <td>0</td>\n",
       "      <td>0</td>\n",
       "      <td>0</td>\n",
       "      <td>0</td>\n",
       "      <td>0</td>\n",
       "      <td>0</td>\n",
       "      <td>0</td>\n",
       "      <td>0</td>\n",
       "      <td>1</td>\n",
       "      <td>0</td>\n",
       "    </tr>\n",
       "    <tr>\n",
       "      <th>3</th>\n",
       "      <td>0</td>\n",
       "      <td>0</td>\n",
       "      <td>0</td>\n",
       "      <td>0</td>\n",
       "      <td>0</td>\n",
       "      <td>0</td>\n",
       "      <td>0</td>\n",
       "      <td>0</td>\n",
       "      <td>0</td>\n",
       "      <td>0</td>\n",
       "      <td>...</td>\n",
       "      <td>0</td>\n",
       "      <td>0</td>\n",
       "      <td>0</td>\n",
       "      <td>0</td>\n",
       "      <td>1</td>\n",
       "      <td>0</td>\n",
       "      <td>0</td>\n",
       "      <td>0</td>\n",
       "      <td>0</td>\n",
       "      <td>0</td>\n",
       "    </tr>\n",
       "    <tr>\n",
       "      <th>4</th>\n",
       "      <td>0</td>\n",
       "      <td>0</td>\n",
       "      <td>0</td>\n",
       "      <td>0</td>\n",
       "      <td>0</td>\n",
       "      <td>0</td>\n",
       "      <td>0</td>\n",
       "      <td>0</td>\n",
       "      <td>0</td>\n",
       "      <td>0</td>\n",
       "      <td>...</td>\n",
       "      <td>0</td>\n",
       "      <td>0</td>\n",
       "      <td>0</td>\n",
       "      <td>0</td>\n",
       "      <td>1</td>\n",
       "      <td>0</td>\n",
       "      <td>0</td>\n",
       "      <td>0</td>\n",
       "      <td>0</td>\n",
       "      <td>0</td>\n",
       "    </tr>\n",
       "  </tbody>\n",
       "</table>\n",
       "<p>5 rows × 1000 columns</p>\n",
       "</div>"
      ],
      "text/plain": [
       "   10  100  11  15  16  17  20  2013  2014  2015  ...  write  write review  \\\n",
       "0   0    0   0   0   0   0   0     0     0     0  ...      0             0   \n",
       "1   0    0   0   0   0   0   0     0     0     0  ...      0             0   \n",
       "2   0    0   0   0   0   0   0     0     0     0  ...      0             0   \n",
       "3   0    0   0   0   0   0   0     0     0     0  ...      0             0   \n",
       "4   0    0   0   0   0   0   0     0     0     0  ...      0             0   \n",
       "\n",
       "   wrong  ye  year  year kindl  year model  year old  yet  youtub  \n",
       "0      0   0     0           0           0         0    0       0  \n",
       "1      0   0     1           0           0         0    0       0  \n",
       "2      0   0     0           0           0         0    1       0  \n",
       "3      0   0     1           0           0         0    0       0  \n",
       "4      0   0     1           0           0         0    0       0  \n",
       "\n",
       "[5 rows x 1000 columns]"
      ]
     },
     "execution_count": 31,
     "metadata": {},
     "output_type": "execute_result"
    }
   ],
   "source": [
    "# Initializing CountVectorizer with top 1000 words\n",
    "ngram = CountVectorizer(max_features = 1000,ngram_range=(1, 2))\n",
    "\n",
    "# Applying CountVectorizer on data\n",
    "data_features_ngram = ngram.fit_transform(data['final_cleaned_text'])\n",
    "\n",
    "# Convert the data features to array\n",
    "data_features_ngram = data_features_ngram.toarray()\n",
    "\n",
    "# Shape of the feature vector\n",
    "print(\"Shape of the feature vector\",data_features_ngram.shape)\n",
    "\n",
    "# Getting the 1000 words considered by the BoW model\n",
    "words = ngram.get_feature_names_out()\n",
    "\n",
    "print(\"first 10 words\",words[:10])\n",
    "print(\"last 10 words\",words[-10:])\n",
    "\n",
    "# Creating a DataFrame from the data features\n",
    "df_ngram = pd.DataFrame(data_features_ngram, columns=ngram.get_feature_names_out())\n",
    "df_ngram.head()"
   ]
  },
  {
   "cell_type": "markdown",
   "metadata": {
    "id": "f4lwYN5bYmHp"
   },
   "source": [
    "## Model Building"
   ]
  },
  {
   "cell_type": "code",
   "execution_count": 32,
   "metadata": {
    "id": "1MJsXAQNErE3"
   },
   "outputs": [
    {
     "name": "stdout",
     "output_type": "stream",
     "text": [
      "\n",
      "📊 Model Performance (Macro F1-scores):\n",
      "\n",
      "NaiveBayes - BoW              : Macro F1 = 0.5663\n",
      "NaiveBayes - N-gram           : Macro F1 = 0.5162\n",
      "RandomForest - N-gram         : Macro F1 = 0.5096\n",
      "RandomForest - TF-IDF         : Macro F1 = 0.4724\n",
      "RandomForest - BoW            : Macro F1 = 0.4707\n",
      "NaiveBayes - TF-IDF           : Macro F1 = 0.3414\n"
     ]
    }
   ],
   "source": [
    "import pandas as pd\n",
    "from sklearn.ensemble import RandomForestClassifier\n",
    "from sklearn.naive_bayes import MultinomialNB\n",
    "from sklearn.model_selection import train_test_split\n",
    "from sklearn.metrics import classification_report, confusion_matrix, f1_score\n",
    "import matplotlib.pyplot as plt\n",
    "import seaborn as sns\n",
    "# Create a list of datasets and their labels\n",
    "vectorized_datasets = [\n",
    "    (\"BoW\", df_BOW),\n",
    "    (\"TF-IDF\", df_tfidf),\n",
    "    (\"N-gram\", df_ngram)\n",
    "]\n",
    "\n",
    "# Your target variable\n",
    "y = data['Sentiment']\n",
    "\n",
    "# Store results\n",
    "results = []\n",
    "\n",
    "# Loop over each dataset and train both classifiers\n",
    "for name, X in vectorized_datasets:\n",
    "    # Split data (80/20)\n",
    "    X_train, X_test, y_train, y_test = train_test_split(X, y, test_size=0.2, random_state=100)\n",
    "\n",
    "    # Random Forest\n",
    "    rf_model = RandomForestClassifier(random_state=100)\n",
    "    rf_model.fit(X_train, y_train)\n",
    "    rf_preds = rf_model.predict(X_test)\n",
    "    rf_f1 = f1_score(y_test, rf_preds, average='macro')\n",
    "    results.append((f\"RandomForest - {name}\", rf_f1, rf_model, X_test, y_test, rf_preds))\n",
    "\n",
    "    # Multinomial Naive Bayes\n",
    "    nb_model = MultinomialNB()\n",
    "    nb_model.fit(X_train, y_train)\n",
    "    nb_preds = nb_model.predict(X_test)\n",
    "    nb_f1 = f1_score(y_test, nb_preds, average='macro')\n",
    "    results.append((f\"NaiveBayes - {name}\", nb_f1, nb_model, X_test, y_test, nb_preds))\n",
    "\n",
    "# Sort results by F1 score (descending)\n",
    "results.sort(key=lambda x: x[1], reverse=True)\n",
    "\n",
    "# Print all F1 scores\n",
    "print(\"\\n📊 Model Performance (Macro F1-scores):\\n\")\n",
    "for label, f1_score_val, _, _, _, _ in results:\n",
    "    print(f\"{label:30s}: Macro F1 = {f1_score_val:.4f}\")\n",
    "\n",
    "\n"
   ]
  },
  {
   "cell_type": "code",
   "execution_count": 33,
   "metadata": {
    "id": "jxHB8BboE2vA"
   },
   "outputs": [
    {
     "name": "stdout",
     "output_type": "stream",
     "text": [
      "\n",
      "✅ Best Model: NaiveBayes - BoW (Macro F1 = 0.5663)\n",
      "\n",
      "Classification Report:\n",
      "\n",
      "              precision    recall  f1-score   support\n",
      "\n",
      "    NEGATIVE       0.50      0.50      0.50        16\n",
      "     NEUTRAL       0.29      0.29      0.29        17\n",
      "    POSITIVE       0.90      0.90      0.90       168\n",
      "\n",
      "    accuracy                           0.82       201\n",
      "   macro avg       0.57      0.57      0.57       201\n",
      "weighted avg       0.82      0.82      0.82       201\n",
      "\n"
     ]
    },
    {
     "data": {
      "image/png": "[encoded data removed]",
      "text/plain": [
       "<Figure size 600x500 with 2 Axes>"
      ]
     },
     "metadata": {},
     "output_type": "display_data"
    }
   ],
   "source": [
    "# Best model\n",
    "best_model_label, best_f1, best_model, X_test_best, y_test_best, y_pred_best = results[0]\n",
    "\n",
    "print(f\"\\n✅ Best Model: {best_model_label} (Macro F1 = {best_f1:.4f})\\n\")\n",
    "print(\"Classification Report:\\n\")\n",
    "print(classification_report(y_test_best, y_pred_best))\n",
    "\n",
    "# Plot Confusion Matrix\n",
    "cm = confusion_matrix(y_test_best, y_pred_best, labels=best_model.classes_)\n",
    "plt.figure(figsize=(6, 5))\n",
    "sns.heatmap(cm, annot=True, fmt='d', cmap='Blues', xticklabels=best_model.classes_, yticklabels=best_model.classes_)\n",
    "plt.title(f\"Confusion Matrix: {best_model_label}\")\n",
    "plt.xlabel(\"Predicted\")\n",
    "plt.ylabel(\"Actual\")\n",
    "plt.tight_layout()\n",
    "plt.show()"
   ]
  },
  {
   "cell_type": "code",
   "execution_count": 34,
   "metadata": {
    "id": "i4cByLTXv6H3"
   },
   "outputs": [
    {
     "name": "stdout",
     "output_type": "stream",
     "text": [
      "Columns in data:\n",
      "['Product ID', 'Product Review', 'Sentiment', 'cleaned_text', 'cleaned_text_without_stopwords', 'final_cleaned_text']\n",
      "\n",
      "First few rows of final_cleaned_text:\n",
      "0                                                                                                                                                                                                                                                                                                                                                                                                                                                                                                               initi troubl decid paperwhit voyag review less said thing paperwhit great spend money go voyag fortun friend own end buy paperwhit basi model 300 ppi 80 dollar jump turn pricey voyag page press alway sensit fine specif set need auto light adjust week love paperwhit regret touch screen recept easi use keep light specif set regardless time day case hard chang set either chang light level certain time day everi read also glad went intern ship option amazon extra expens deliveri time track didnt need worri custom may use third parti ship servic\n",
      "1                                                                                                                                                                                                                                                                                                                         allow prefac littl histori casual reader own nook simpl touch 2011 read harri potter seri girl dragon tattoo seri 1984 brave new world key titl fair say nook get much use mani other may gotten fast forward today full week new kindl paperwhit admit love kindl read let relat review love read back kindl invest 139 00 experi receiv buy kindl simpli pay screen entir experi includ buy amazon read hunger game trilog shall move onto diverg seri soon thing nook hinder past 4 year never inspir pick get hand dive never feel oh man read thing awesom howev paperwhit feel desir back simpli ador kindl consid purchas one stop think simpli go full week 3 download book ton read still half batteri left well make happi inspir reader insid\n",
      "2                                                                                                                                                                                                                                                                                                                                                                                                                                                                                                                                                                                                                                                                                                                                                                                                                                                                                                                                                                              enjoy far great read origin fire sinc 2012 fire use make eye hurt read long experienc paperwhit yet\n",
      "3                                                                                                                 bought one first paperwhit pleas constant companion suppos ive read averag book everi three day past howev mani year wouldnt give youd pri cold dead finger sundri logist reason ive also made good use amazon kindl app iphon paperwhit screen natur cool usabl deliv work well attract companion kindl cours aspect paperwhit would like critiqu ah knew come somewher didnt member bookbub get daili list alert book deal chosen genr take mani howev ive found even best world cant keep day seem everi book read ive bought two there much good stuff accumul effect number book actual paperwhit creep ever upward time 400 mind ive notic page turn remain exactli everi action kindl becom posit glacial slow slow think malfunct gener consensu appear expect one mani book download onto kindl begin behav flakey manner drive mad amazon state hold thousand book believ figur would need second paperwhit read im wait action complet first one read\n",
      "4    say upfront like coropor hermet close stuff like anyth appl case amazon like devic put anyth want use fairli happi user nook touch sever year use function sinc live serbia lost nook sinc devic actual fulli use serbia buy book use onlin capabl except kindl sinc one except amazon ship serbia sinc actual happi amazon custom sinc 2005 friend account sinc 2007 sinc kindl definit best technolog buy itso read mani review screen light paperwhit similar devic problem mine light dispers fine except black blotch mayb see pictur bottom screen actual shadow black plastic case thu realli avoid see pictur without light blotch light paperwhit screen marvel 300 ppi touchscreen work fine store work serbia two day use happi guy get hang make sideload book behav least almost like amazon book fine one thing like see amazon futur upgrad make kindl treat sideload book like one bought directli share funcion quot goodread enabl size perfect sit well hand light hurt eye dark like light tab packag fine problem remain seen batteri life far recommend\n",
      "Name: final_cleaned_text, dtype: object\n"
     ]
    }
   ],
   "source": [
    "# Check what columns are available in the data\n",
    "print(\"Columns in data:\")\n",
    "print(data.columns.tolist())\n",
    "print(\"\\nFirst few rows of final_cleaned_text:\")\n",
    "print(data['final_cleaned_text'].head())"
   ]
  },
  {
   "cell_type": "markdown",
   "metadata": {
    "id": "wH77U4ukBiCe"
   },
   "source": [
    "# Conclusion"
   ]
  },
  {
   "cell_type": "markdown",
   "metadata": {
    "id": "-aetabA3poIq"
   },
   "source": [
    " * Analyzed the distribution of customer sentiments.\n",
    "\n",
    " * Applied text preprocessing techniques to clean raw review data.\n",
    "\n",
    " * Vectorized the text using 3 different techniques and trained a Random Forest model & Naive Baye's Model\n",
    "\n",
    " * Achieved an macro F1 score of 0.57 on the test dataset.\n",
    "\n",
    " * Future improvements include hyperparameter tuning or trying alternative models for better performance."
   ]
  },
  {
   "cell_type": "markdown",
   "metadata": {
    "id": "kEXtBjG_oYwj"
   },
   "source": [
    "### Recommendations:\n",
    "\n",
    "*   Use model predictions to identify customer concerns and take timely,\n",
    "targeted actions—reducing revenue loss and improving satisfaction.\n",
    "*   Leverage sentiment insights to refine marketing strategies:\n",
    "\n",
    "\n",
    "*   Showcase positive feedback in promotions to strengthen brand image.\n",
    "\n",
    "* Use neutral/negative feedback to guide inventory and operational\n",
    "\n",
    "decisions.\n",
    "\n",
    "\n",
    "\n"
   ]
  },
  {
   "cell_type": "markdown",
   "metadata": {
    "id": "G2Lw8akCLT9c"
   },
   "source": [
    "<font size=6 color='blue'>Thanks...</font>\n",
    "___"
   ]
  },
  {
   "cell_type": "code",
   "execution_count": 35,
   "metadata": {},
   "outputs": [],
   "source": [
    "# Download spaCy's en_core_web_sm model if not already installed\n",
    "import spacy\n",
    "try:\n",
    "    spacy.load('en_core_web_sm')\n",
    "except OSError:\n",
    "    from spacy.cli import download\n",
    "    download('en_core_web_sm')"
   ]
  }
 ],
 "metadata": {
  "colab": {
   "collapsed_sections": [
    "NJDPhhmvvxJ1",
    "2DftSZK9yQ74",
    "hLoWwpxzylZH"
   ],
   "provenance": []
  },
  "kernelspec": {
   "display_name": "pytorch",
   "language": "python",
   "name": "python3"
  },
  "language_info": {
   "codemirror_mode": {
    "name": "ipython",
    "version": 3
   },
   "file_extension": ".py",
   "mimetype": "text/x-python",
   "name": "python",
   "nbconvert_exporter": "python",
   "pygments_lexer": "ipython3",
   "version": "3.11.11"
  }
 },
 "nbformat": 4,
 "nbformat_minor": 0
}
